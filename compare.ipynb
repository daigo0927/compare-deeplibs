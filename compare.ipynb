{
  "nbformat": 4,
  "nbformat_minor": 0,
  "metadata": {
    "colab": {
      "name": "compare.ipynb",
      "version": "0.3.2",
      "provenance": [],
      "include_colab_link": true
    },
    "kernelspec": {
      "name": "python3",
      "display_name": "Python 3"
    },
    "accelerator": "GPU"
  },
  "cells": [
    {
      "cell_type": "markdown",
      "metadata": {
        "id": "view-in-github",
        "colab_type": "text"
      },
      "source": [
        "<a href=\"https://colab.research.google.com/github/daigo0927/compare-deeplibs/blob/master/compare.ipynb\" target=\"_parent\"><img src=\"https://colab.research.google.com/assets/colab-badge.svg\" alt=\"Open In Colab\"/></a>"
      ]
    },
    {
      "cell_type": "code",
      "metadata": {
        "id": "bsLBAaWaUqw4",
        "colab_type": "code",
        "outputId": "e095abf6-c630-4085-9a02-6dacdbfba211",
        "colab": {
          "base_uri": "https://localhost:8080/",
          "height": 374
        }
      },
      "source": [
        "! nvcc -V\n",
        "! nvidia-smi"
      ],
      "execution_count": 1,
      "outputs": [
        {
          "output_type": "stream",
          "text": [
            "nvcc: NVIDIA (R) Cuda compiler driver\n",
            "Copyright (c) 2005-2018 NVIDIA Corporation\n",
            "Built on Sat_Aug_25_21:08:01_CDT_2018\n",
            "Cuda compilation tools, release 10.0, V10.0.130\n",
            "Thu Sep  5 07:17:40 2019       \n",
            "+-----------------------------------------------------------------------------+\n",
            "| NVIDIA-SMI 430.40       Driver Version: 418.67       CUDA Version: 10.1     |\n",
            "|-------------------------------+----------------------+----------------------+\n",
            "| GPU  Name        Persistence-M| Bus-Id        Disp.A | Volatile Uncorr. ECC |\n",
            "| Fan  Temp  Perf  Pwr:Usage/Cap|         Memory-Usage | GPU-Util  Compute M. |\n",
            "|===============================+======================+======================|\n",
            "|   0  Tesla K80           Off  | 00000000:00:04.0 Off |                    0 |\n",
            "| N/A   36C    P8    30W / 149W |      0MiB / 11441MiB |      0%      Default |\n",
            "+-------------------------------+----------------------+----------------------+\n",
            "                                                                               \n",
            "+-----------------------------------------------------------------------------+\n",
            "| Processes:                                                       GPU Memory |\n",
            "|  GPU       PID   Type   Process name                             Usage      |\n",
            "|=============================================================================|\n",
            "|  No running processes found                                                 |\n",
            "+-----------------------------------------------------------------------------+\n"
          ],
          "name": "stdout"
        }
      ]
    },
    {
      "cell_type": "code",
      "metadata": {
        "id": "rWy0jsD1Uzte",
        "colab_type": "code",
        "outputId": "33b0626b-260e-4628-c73e-22ee413e1622",
        "colab": {
          "base_uri": "https://localhost:8080/",
          "height": 136
        }
      },
      "source": [
        "! git clone https://github.com/daigo0927/compare-deeplibs.git"
      ],
      "execution_count": 2,
      "outputs": [
        {
          "output_type": "stream",
          "text": [
            "Cloning into 'compare-deeplibs'...\n",
            "remote: Enumerating objects: 93, done.\u001b[K\n",
            "remote: Counting objects: 100% (93/93), done.\u001b[K\n",
            "remote: Compressing objects: 100% (65/65), done.\u001b[K\n",
            "remote: Total 209 (delta 50), reused 60 (delta 24), pack-reused 116\u001b[K\n",
            "Receiving objects: 100% (209/209), 161.75 KiB | 458.00 KiB/s, done.\n",
            "Resolving deltas: 100% (112/112), done.\n"
          ],
          "name": "stdout"
        }
      ]
    },
    {
      "cell_type": "code",
      "metadata": {
        "id": "TspFY5urVPzt",
        "colab_type": "code",
        "colab": {}
      },
      "source": [
        "! mv compare-deeplibs/* ."
      ],
      "execution_count": 0,
      "outputs": []
    },
    {
      "cell_type": "code",
      "metadata": {
        "id": "9zBYm8N4VYE7",
        "colab_type": "code",
        "outputId": "faeeb7ea-7fb1-446b-e124-0c57b6ce5f4d",
        "colab": {
          "base_uri": "https://localhost:8080/",
          "height": 391
        }
      },
      "source": [
        "! sh prepare_cifar10.sh"
      ],
      "execution_count": 4,
      "outputs": [
        {
          "output_type": "stream",
          "text": [
            "  % Total    % Received % Xferd  Average Speed   Time    Time     Time  Current\n",
            "                                 Dload  Upload   Total   Spent    Left  Speed\n",
            "100  162M  100  162M    0     0  13.2M      0  0:00:12  0:00:12 --:--:-- 16.1M\n",
            "cifar-10-batches-py/\n",
            "cifar-10-batches-py/data_batch_4\n",
            "cifar-10-batches-py/readme.html\n",
            "cifar-10-batches-py/test_batch\n",
            "cifar-10-batches-py/data_batch_3\n",
            "cifar-10-batches-py/batches.meta\n",
            "cifar-10-batches-py/data_batch_2\n",
            "cifar-10-batches-py/data_batch_5\n",
            "cifar-10-batches-py/data_batch_1\n",
            "Requirement already satisfied: numpy in /usr/local/lib/python3.6/dist-packages (1.16.4)\n",
            "Requirement already satisfied: pillow in /usr/local/lib/python3.6/dist-packages (4.3.0)\n",
            "Requirement already satisfied: olefile in /usr/local/lib/python3.6/dist-packages (from pillow) (0.46)\n",
            "--------- Extracting data_batch_1 -----------\n",
            "--------- Extracting data_batch_2 -----------\n",
            "--------- Extracting data_batch_3 -----------\n",
            "--------- Extracting data_batch_4 -----------\n",
            "--------- Extracting data_batch_5 -----------\n",
            "--------- Extracting test_batch -----------\n",
            "--------- Completed ------------\n"
          ],
          "name": "stdout"
        }
      ]
    },
    {
      "cell_type": "code",
      "metadata": {
        "id": "dj4sGJsNVepV",
        "colab_type": "code",
        "outputId": "f564bcdf-75cf-416b-ede0-e5710eac225f",
        "colab": {
          "base_uri": "https://localhost:8080/",
          "height": 170
        }
      },
      "source": [
        "! pip list | grep tensor"
      ],
      "execution_count": 5,
      "outputs": [
        {
          "output_type": "stream",
          "text": [
            "mesh-tensorflow          0.0.5                \n",
            "tensor2tensor            1.11.0               \n",
            "tensorboard              1.14.0               \n",
            "tensorboardcolab         0.0.22               \n",
            "tensorflow               1.14.0               \n",
            "tensorflow-estimator     1.14.0               \n",
            "tensorflow-hub           0.5.0                \n",
            "tensorflow-metadata      0.14.0               \n",
            "tensorflow-probability   0.7.0                \n"
          ],
          "name": "stdout"
        }
      ]
    },
    {
      "cell_type": "code",
      "metadata": {
        "id": "0sCYEk_tVvdX",
        "colab_type": "code",
        "outputId": "f27463d9-2749-4626-d4da-9b086bf6496c",
        "colab": {
          "base_uri": "https://localhost:8080/",
          "height": 119
        }
      },
      "source": [
        "! pip install torch torchvision"
      ],
      "execution_count": 6,
      "outputs": [
        {
          "output_type": "stream",
          "text": [
            "Requirement already satisfied: torch in /usr/local/lib/python3.6/dist-packages (1.1.0)\n",
            "Requirement already satisfied: torchvision in /usr/local/lib/python3.6/dist-packages (0.3.0)\n",
            "Requirement already satisfied: numpy in /usr/local/lib/python3.6/dist-packages (from torch) (1.16.4)\n",
            "Requirement already satisfied: pillow>=4.1.1 in /usr/local/lib/python3.6/dist-packages (from torchvision) (4.3.0)\n",
            "Requirement already satisfied: six in /usr/local/lib/python3.6/dist-packages (from torchvision) (1.12.0)\n",
            "Requirement already satisfied: olefile in /usr/local/lib/python3.6/dist-packages (from pillow>=4.1.1->torchvision) (0.46)\n"
          ],
          "name": "stdout"
        }
      ]
    },
    {
      "cell_type": "code",
      "metadata": {
        "id": "-MSYRP1lWT-4",
        "colab_type": "code",
        "outputId": "759dd1d8-949e-4aea-e13f-abe73e8ab651",
        "colab": {
          "base_uri": "https://localhost:8080/",
          "height": 530
        }
      },
      "source": [
        "! pip install tensorflow-gpu==2.0.0rc"
      ],
      "execution_count": 7,
      "outputs": [
        {
          "output_type": "stream",
          "text": [
            "Collecting tensorflow-gpu==2.0.0rc\n",
            "\u001b[?25l  Downloading https://files.pythonhosted.org/packages/6a/12/8c64cc62149cc21c70c55018502831bbf4d42bd62bed196df7de6830d21b/tensorflow_gpu-2.0.0rc0-cp36-cp36m-manylinux2010_x86_64.whl (380.5MB)\n",
            "\u001b[K     |████████████████████████████████| 380.5MB 32kB/s \n",
            "\u001b[?25hRequirement already satisfied: keras-applications>=1.0.8 in /usr/local/lib/python3.6/dist-packages (from tensorflow-gpu==2.0.0rc) (1.0.8)\n",
            "Requirement already satisfied: wrapt>=1.11.1 in /usr/local/lib/python3.6/dist-packages (from tensorflow-gpu==2.0.0rc) (1.11.2)\n",
            "Requirement already satisfied: opt-einsum>=2.3.2 in /usr/local/lib/python3.6/dist-packages (from tensorflow-gpu==2.0.0rc) (3.0.1)\n",
            "Collecting tf-estimator-nightly<1.14.0.dev2019080602,>=1.14.0.dev2019080601 (from tensorflow-gpu==2.0.0rc)\n",
            "\u001b[?25l  Downloading https://files.pythonhosted.org/packages/21/28/f2a27a62943d5f041e4a6fd404b2d21cb7c59b2242a4e73b03d9ba166552/tf_estimator_nightly-1.14.0.dev2019080601-py2.py3-none-any.whl (501kB)\n",
            "\u001b[K     |████████████████████████████████| 501kB 42.2MB/s \n",
            "\u001b[?25hRequirement already satisfied: wheel>=0.26 in /usr/local/lib/python3.6/dist-packages (from tensorflow-gpu==2.0.0rc) (0.33.6)\n",
            "Requirement already satisfied: grpcio>=1.8.6 in /usr/local/lib/python3.6/dist-packages (from tensorflow-gpu==2.0.0rc) (1.15.0)\n",
            "Requirement already satisfied: astor>=0.6.0 in /usr/local/lib/python3.6/dist-packages (from tensorflow-gpu==2.0.0rc) (0.8.0)\n",
            "Requirement already satisfied: numpy<2.0,>=1.16.0 in /usr/local/lib/python3.6/dist-packages (from tensorflow-gpu==2.0.0rc) (1.16.4)\n",
            "Collecting tb-nightly<1.15.0a20190807,>=1.15.0a20190806 (from tensorflow-gpu==2.0.0rc)\n",
            "\u001b[?25l  Downloading https://files.pythonhosted.org/packages/bc/88/24b5fb7280e74c7cf65bde47c171547fd02afb3840cff41bcbe9270650f5/tb_nightly-1.15.0a20190806-py3-none-any.whl (4.3MB)\n",
            "\u001b[K     |████████████████████████████████| 4.3MB 23.7MB/s \n",
            "\u001b[?25hRequirement already satisfied: six>=1.10.0 in /usr/local/lib/python3.6/dist-packages (from tensorflow-gpu==2.0.0rc) (1.12.0)\n",
            "Requirement already satisfied: keras-preprocessing>=1.0.5 in /usr/local/lib/python3.6/dist-packages (from tensorflow-gpu==2.0.0rc) (1.1.0)\n",
            "Requirement already satisfied: absl-py>=0.7.0 in /usr/local/lib/python3.6/dist-packages (from tensorflow-gpu==2.0.0rc) (0.7.1)\n",
            "Requirement already satisfied: gast>=0.2.0 in /usr/local/lib/python3.6/dist-packages (from tensorflow-gpu==2.0.0rc) (0.2.2)\n",
            "Requirement already satisfied: termcolor>=1.1.0 in /usr/local/lib/python3.6/dist-packages (from tensorflow-gpu==2.0.0rc) (1.1.0)\n",
            "Requirement already satisfied: protobuf>=3.6.1 in /usr/local/lib/python3.6/dist-packages (from tensorflow-gpu==2.0.0rc) (3.7.1)\n",
            "Requirement already satisfied: google-pasta>=0.1.6 in /usr/local/lib/python3.6/dist-packages (from tensorflow-gpu==2.0.0rc) (0.1.7)\n",
            "Requirement already satisfied: h5py in /usr/local/lib/python3.6/dist-packages (from keras-applications>=1.0.8->tensorflow-gpu==2.0.0rc) (2.8.0)\n",
            "Requirement already satisfied: markdown>=2.6.8 in /usr/local/lib/python3.6/dist-packages (from tb-nightly<1.15.0a20190807,>=1.15.0a20190806->tensorflow-gpu==2.0.0rc) (3.1.1)\n",
            "Requirement already satisfied: werkzeug>=0.11.15 in /usr/local/lib/python3.6/dist-packages (from tb-nightly<1.15.0a20190807,>=1.15.0a20190806->tensorflow-gpu==2.0.0rc) (0.15.5)\n",
            "Requirement already satisfied: setuptools>=41.0.0 in /usr/local/lib/python3.6/dist-packages (from tb-nightly<1.15.0a20190807,>=1.15.0a20190806->tensorflow-gpu==2.0.0rc) (41.2.0)\n",
            "Installing collected packages: tf-estimator-nightly, tb-nightly, tensorflow-gpu\n",
            "Successfully installed tb-nightly-1.15.0a20190806 tensorflow-gpu-2.0.0rc0 tf-estimator-nightly-1.14.0.dev2019080601\n"
          ],
          "name": "stdout"
        }
      ]
    },
    {
      "cell_type": "code",
      "metadata": {
        "id": "AMMaPHcbkj1i",
        "colab_type": "code",
        "colab": {}
      },
      "source": [
        "! cp utils.py tf/\n",
        "! cp utils.py torch/"
      ],
      "execution_count": 0,
      "outputs": []
    },
    {
      "cell_type": "code",
      "metadata": {
        "id": "vREbO0cWVygG",
        "colab_type": "code",
        "outputId": "b25f1d0f-a507-4d2a-897c-0e4aa6360eea",
        "colab": {
          "base_uri": "https://localhost:8080/",
          "height": 1000
        }
      },
      "source": [
        "! python tf/train_keras.py -d Cifar10 -dd cifar-10 -e 10"
      ],
      "execution_count": 9,
      "outputs": [
        {
          "output_type": "stream",
          "text": [
            "dataset: Cifar10\n",
            "dataset_dir: cifar-10\n",
            "epochs: 10\n",
            "batch_size: 64\n",
            "validation_split: 0.1\n",
            "resize_shape: [32, 32]\n",
            "crop_shape: None\n",
            "rotate: False\n",
            "flip_left_right: False\n",
            "flip_up_down: False\n",
            "filters: 64\n",
            "learning_rate: 0.001\n",
            "Building a dataset pipeline ...\n",
            "Found 50000 images.\n",
            "2019-09-05 07:19:38.024302: I tensorflow/stream_executor/platform/default/dso_loader.cc:44] Successfully opened dynamic library libcuda.so.1\n",
            "2019-09-05 07:19:38.080605: I tensorflow/stream_executor/cuda/cuda_gpu_executor.cc:1006] successful NUMA node read from SysFS had negative value (-1), but there must be at least one NUMA node, so returning NUMA node zero\n",
            "2019-09-05 07:19:38.081371: I tensorflow/core/common_runtime/gpu/gpu_device.cc:1618] Found device 0 with properties: \n",
            "name: Tesla K80 major: 3 minor: 7 memoryClockRate(GHz): 0.8235\n",
            "pciBusID: 0000:00:04.0\n",
            "2019-09-05 07:19:38.093194: I tensorflow/stream_executor/platform/default/dso_loader.cc:44] Successfully opened dynamic library libcudart.so.10.0\n",
            "2019-09-05 07:19:38.271573: I tensorflow/stream_executor/platform/default/dso_loader.cc:44] Successfully opened dynamic library libcublas.so.10.0\n",
            "2019-09-05 07:19:38.358830: I tensorflow/stream_executor/platform/default/dso_loader.cc:44] Successfully opened dynamic library libcufft.so.10.0\n",
            "2019-09-05 07:19:38.381809: I tensorflow/stream_executor/platform/default/dso_loader.cc:44] Successfully opened dynamic library libcurand.so.10.0\n",
            "2019-09-05 07:19:38.575776: I tensorflow/stream_executor/platform/default/dso_loader.cc:44] Successfully opened dynamic library libcusolver.so.10.0\n",
            "2019-09-05 07:19:38.681294: I tensorflow/stream_executor/platform/default/dso_loader.cc:44] Successfully opened dynamic library libcusparse.so.10.0\n",
            "2019-09-05 07:19:39.073817: I tensorflow/stream_executor/platform/default/dso_loader.cc:44] Successfully opened dynamic library libcudnn.so.7\n",
            "2019-09-05 07:19:39.074050: I tensorflow/stream_executor/cuda/cuda_gpu_executor.cc:1006] successful NUMA node read from SysFS had negative value (-1), but there must be at least one NUMA node, so returning NUMA node zero\n",
            "2019-09-05 07:19:39.075120: I tensorflow/stream_executor/cuda/cuda_gpu_executor.cc:1006] successful NUMA node read from SysFS had negative value (-1), but there must be at least one NUMA node, so returning NUMA node zero\n",
            "2019-09-05 07:19:39.076010: I tensorflow/core/common_runtime/gpu/gpu_device.cc:1746] Adding visible gpu devices: 0\n",
            "2019-09-05 07:19:39.076696: I tensorflow/core/platform/cpu_feature_guard.cc:142] Your CPU supports instructions that this TensorFlow binary was not compiled to use: AVX2 FMA\n",
            "2019-09-05 07:19:39.085446: I tensorflow/core/platform/profile_utils/cpu_utils.cc:94] CPU Frequency: 2200000000 Hz\n",
            "2019-09-05 07:19:39.085669: I tensorflow/compiler/xla/service/service.cc:168] XLA service 0x2ef5480 executing computations on platform Host. Devices:\n",
            "2019-09-05 07:19:39.085702: I tensorflow/compiler/xla/service/service.cc:175]   StreamExecutor device (0): Host, Default Version\n",
            "2019-09-05 07:19:39.170108: I tensorflow/stream_executor/cuda/cuda_gpu_executor.cc:1006] successful NUMA node read from SysFS had negative value (-1), but there must be at least one NUMA node, so returning NUMA node zero\n",
            "2019-09-05 07:19:39.170909: I tensorflow/compiler/xla/service/service.cc:168] XLA service 0x2ef5d40 executing computations on platform CUDA. Devices:\n",
            "2019-09-05 07:19:39.170938: I tensorflow/compiler/xla/service/service.cc:175]   StreamExecutor device (0): Tesla K80, Compute Capability 3.7\n",
            "2019-09-05 07:19:39.172439: I tensorflow/stream_executor/cuda/cuda_gpu_executor.cc:1006] successful NUMA node read from SysFS had negative value (-1), but there must be at least one NUMA node, so returning NUMA node zero\n",
            "2019-09-05 07:19:39.173167: I tensorflow/core/common_runtime/gpu/gpu_device.cc:1618] Found device 0 with properties: \n",
            "name: Tesla K80 major: 3 minor: 7 memoryClockRate(GHz): 0.8235\n",
            "pciBusID: 0000:00:04.0\n",
            "2019-09-05 07:19:39.173221: I tensorflow/stream_executor/platform/default/dso_loader.cc:44] Successfully opened dynamic library libcudart.so.10.0\n",
            "2019-09-05 07:19:39.173243: I tensorflow/stream_executor/platform/default/dso_loader.cc:44] Successfully opened dynamic library libcublas.so.10.0\n",
            "2019-09-05 07:19:39.173262: I tensorflow/stream_executor/platform/default/dso_loader.cc:44] Successfully opened dynamic library libcufft.so.10.0\n",
            "2019-09-05 07:19:39.173280: I tensorflow/stream_executor/platform/default/dso_loader.cc:44] Successfully opened dynamic library libcurand.so.10.0\n",
            "2019-09-05 07:19:39.173302: I tensorflow/stream_executor/platform/default/dso_loader.cc:44] Successfully opened dynamic library libcusolver.so.10.0\n",
            "2019-09-05 07:19:39.173320: I tensorflow/stream_executor/platform/default/dso_loader.cc:44] Successfully opened dynamic library libcusparse.so.10.0\n",
            "2019-09-05 07:19:39.173339: I tensorflow/stream_executor/platform/default/dso_loader.cc:44] Successfully opened dynamic library libcudnn.so.7\n",
            "2019-09-05 07:19:39.173391: I tensorflow/stream_executor/cuda/cuda_gpu_executor.cc:1006] successful NUMA node read from SysFS had negative value (-1), but there must be at least one NUMA node, so returning NUMA node zero\n",
            "2019-09-05 07:19:39.174079: I tensorflow/stream_executor/cuda/cuda_gpu_executor.cc:1006] successful NUMA node read from SysFS had negative value (-1), but there must be at least one NUMA node, so returning NUMA node zero\n",
            "2019-09-05 07:19:39.174724: I tensorflow/core/common_runtime/gpu/gpu_device.cc:1746] Adding visible gpu devices: 0\n",
            "2019-09-05 07:19:39.174790: I tensorflow/stream_executor/platform/default/dso_loader.cc:44] Successfully opened dynamic library libcudart.so.10.0\n",
            "2019-09-05 07:19:39.176221: I tensorflow/core/common_runtime/gpu/gpu_device.cc:1159] Device interconnect StreamExecutor with strength 1 edge matrix:\n",
            "2019-09-05 07:19:39.176251: I tensorflow/core/common_runtime/gpu/gpu_device.cc:1165]      0 \n",
            "2019-09-05 07:19:39.176264: I tensorflow/core/common_runtime/gpu/gpu_device.cc:1178] 0:   N \n",
            "2019-09-05 07:19:39.176363: I tensorflow/stream_executor/cuda/cuda_gpu_executor.cc:1006] successful NUMA node read from SysFS had negative value (-1), but there must be at least one NUMA node, so returning NUMA node zero\n",
            "2019-09-05 07:19:39.177106: I tensorflow/stream_executor/cuda/cuda_gpu_executor.cc:1006] successful NUMA node read from SysFS had negative value (-1), but there must be at least one NUMA node, so returning NUMA node zero\n",
            "2019-09-05 07:19:39.177750: W tensorflow/core/common_runtime/gpu/gpu_bfc_allocator.cc:39] Overriding allow_growth setting because the TF_FORCE_GPU_ALLOW_GROWTH environment variable is set. Original config value was 0.\n",
            "2019-09-05 07:19:39.177805: I tensorflow/core/common_runtime/gpu/gpu_device.cc:1304] Created TensorFlow device (/job:localhost/replica:0/task:0/device:GPU:0 with 10805 MB memory) -> physical GPU (device: 0, name: Tesla K80, pci bus id: 0000:00:04.0, compute capability: 3.7)\n",
            "Done.\n",
            "Epoch 1/10\n",
            "2019-09-05 07:19:41.591987: I tensorflow/stream_executor/platform/default/dso_loader.cc:44] Successfully opened dynamic library libcudnn.so.7\n",
            "2019-09-05 07:19:43.745841: I tensorflow/stream_executor/platform/default/dso_loader.cc:44] Successfully opened dynamic library libcublas.so.10.0\n",
            "WARNING: Logging before flag parsing goes to stderr.\n",
            "W0905 07:19:44.356303 140272562087808 deprecation.py:323] From /usr/local/lib/python3.6/dist-packages/tensorflow_core/python/ops/math_grad.py:1394: where (from tensorflow.python.ops.array_ops) is deprecated and will be removed in a future version.\n",
            "Instructions for updating:\n",
            "Use tf.where in 2.0, which has the same broadcast rule as np.where\n",
            "704/704 [==============================] - 80s 114ms/step - loss: 1.4811 - categorical_accuracy: 0.3926 - val_loss: 2.7725 - val_categorical_accuracy: 0.3022\n",
            "Epoch 2/10\n",
            "704/704 [==============================] - 77s 110ms/step - loss: 1.0304 - categorical_accuracy: 0.6113 - val_loss: 1.5162 - val_categorical_accuracy: 0.4818\n",
            "Epoch 3/10\n",
            "704/704 [==============================] - 76s 108ms/step - loss: 0.8518 - categorical_accuracy: 0.6893 - val_loss: 1.7462 - val_categorical_accuracy: 0.4524\n",
            "Epoch 4/10\n",
            "704/704 [==============================] - 76s 108ms/step - loss: 0.7406 - categorical_accuracy: 0.7402 - val_loss: 1.5800 - val_categorical_accuracy: 0.5160\n",
            "Epoch 5/10\n",
            "704/704 [==============================] - 77s 110ms/step - loss: 0.6466 - categorical_accuracy: 0.7688 - val_loss: 1.2658 - val_categorical_accuracy: 0.5920\n",
            "Epoch 6/10\n",
            "704/704 [==============================] - 77s 109ms/step - loss: 0.5829 - categorical_accuracy: 0.7918 - val_loss: 0.8774 - val_categorical_accuracy: 0.7188\n",
            "Epoch 7/10\n",
            "704/704 [==============================] - 77s 109ms/step - loss: 0.5165 - categorical_accuracy: 0.8268 - val_loss: 0.5956 - val_categorical_accuracy: 0.7976\n",
            "Epoch 8/10\n",
            "704/704 [==============================] - 77s 109ms/step - loss: 0.4652 - categorical_accuracy: 0.8397 - val_loss: 0.6934 - val_categorical_accuracy: 0.7614\n",
            "Epoch 9/10\n",
            "704/704 [==============================] - 76s 109ms/step - loss: 0.4146 - categorical_accuracy: 0.8560 - val_loss: 0.4055 - val_categorical_accuracy: 0.8550\n",
            "Epoch 10/10\n",
            "704/704 [==============================] - 76s 108ms/step - loss: 0.3644 - categorical_accuracy: 0.8764 - val_loss: 0.6654 - val_categorical_accuracy: 0.7860\n"
          ],
          "name": "stdout"
        }
      ]
    },
    {
      "cell_type": "code",
      "metadata": {
        "id": "19OM5UIKcGJV",
        "colab_type": "code",
        "outputId": "df7271b7-66a3-4714-ee89-8b55b07a76e8",
        "colab": {
          "base_uri": "https://localhost:8080/",
          "height": 1000
        }
      },
      "source": [
        "! python tf/train_tfv2.py -d Cifar10 -dd cifar-10 -e 10"
      ],
      "execution_count": 10,
      "outputs": [
        {
          "output_type": "stream",
          "text": [
            "dataset: Cifar10\n",
            "dataset_dir: cifar-10\n",
            "epochs: 10\n",
            "batch_size: 64\n",
            "validation_split: 0.1\n",
            "resize_shape: [32, 32]\n",
            "crop_shape: None\n",
            "rotate: False\n",
            "flip_left_right: False\n",
            "flip_up_down: False\n",
            "filters: 64\n",
            "learning_rate: 0.001\n",
            "Building a dataset pipeline ...\n",
            "Found 50000 images.\n",
            "2019-09-05 07:32:35.024452: I tensorflow/stream_executor/platform/default/dso_loader.cc:44] Successfully opened dynamic library libcuda.so.1\n",
            "2019-09-05 07:32:35.040205: I tensorflow/stream_executor/cuda/cuda_gpu_executor.cc:1006] successful NUMA node read from SysFS had negative value (-1), but there must be at least one NUMA node, so returning NUMA node zero\n",
            "2019-09-05 07:32:35.040962: I tensorflow/core/common_runtime/gpu/gpu_device.cc:1618] Found device 0 with properties: \n",
            "name: Tesla K80 major: 3 minor: 7 memoryClockRate(GHz): 0.8235\n",
            "pciBusID: 0000:00:04.0\n",
            "2019-09-05 07:32:35.041193: I tensorflow/stream_executor/platform/default/dso_loader.cc:44] Successfully opened dynamic library libcudart.so.10.0\n",
            "2019-09-05 07:32:35.042633: I tensorflow/stream_executor/platform/default/dso_loader.cc:44] Successfully opened dynamic library libcublas.so.10.0\n",
            "2019-09-05 07:32:35.043774: I tensorflow/stream_executor/platform/default/dso_loader.cc:44] Successfully opened dynamic library libcufft.so.10.0\n",
            "2019-09-05 07:32:35.044085: I tensorflow/stream_executor/platform/default/dso_loader.cc:44] Successfully opened dynamic library libcurand.so.10.0\n",
            "2019-09-05 07:32:35.045660: I tensorflow/stream_executor/platform/default/dso_loader.cc:44] Successfully opened dynamic library libcusolver.so.10.0\n",
            "2019-09-05 07:32:35.046626: I tensorflow/stream_executor/platform/default/dso_loader.cc:44] Successfully opened dynamic library libcusparse.so.10.0\n",
            "2019-09-05 07:32:35.050174: I tensorflow/stream_executor/platform/default/dso_loader.cc:44] Successfully opened dynamic library libcudnn.so.7\n",
            "2019-09-05 07:32:35.050264: I tensorflow/stream_executor/cuda/cuda_gpu_executor.cc:1006] successful NUMA node read from SysFS had negative value (-1), but there must be at least one NUMA node, so returning NUMA node zero\n",
            "2019-09-05 07:32:35.050942: I tensorflow/stream_executor/cuda/cuda_gpu_executor.cc:1006] successful NUMA node read from SysFS had negative value (-1), but there must be at least one NUMA node, so returning NUMA node zero\n",
            "2019-09-05 07:32:35.051577: I tensorflow/core/common_runtime/gpu/gpu_device.cc:1746] Adding visible gpu devices: 0\n",
            "2019-09-05 07:32:35.051950: I tensorflow/core/platform/cpu_feature_guard.cc:142] Your CPU supports instructions that this TensorFlow binary was not compiled to use: AVX2 FMA\n",
            "2019-09-05 07:32:35.057234: I tensorflow/core/platform/profile_utils/cpu_utils.cc:94] CPU Frequency: 2200000000 Hz\n",
            "2019-09-05 07:32:35.057429: I tensorflow/compiler/xla/service/service.cc:168] XLA service 0x160b480 executing computations on platform Host. Devices:\n",
            "2019-09-05 07:32:35.057462: I tensorflow/compiler/xla/service/service.cc:175]   StreamExecutor device (0): Host, Default Version\n",
            "2019-09-05 07:32:35.108746: I tensorflow/stream_executor/cuda/cuda_gpu_executor.cc:1006] successful NUMA node read from SysFS had negative value (-1), but there must be at least one NUMA node, so returning NUMA node zero\n",
            "2019-09-05 07:32:35.109574: I tensorflow/compiler/xla/service/service.cc:168] XLA service 0x160bd40 executing computations on platform CUDA. Devices:\n",
            "2019-09-05 07:32:35.109609: I tensorflow/compiler/xla/service/service.cc:175]   StreamExecutor device (0): Tesla K80, Compute Capability 3.7\n",
            "2019-09-05 07:32:35.109775: I tensorflow/stream_executor/cuda/cuda_gpu_executor.cc:1006] successful NUMA node read from SysFS had negative value (-1), but there must be at least one NUMA node, so returning NUMA node zero\n",
            "2019-09-05 07:32:35.110466: I tensorflow/core/common_runtime/gpu/gpu_device.cc:1618] Found device 0 with properties: \n",
            "name: Tesla K80 major: 3 minor: 7 memoryClockRate(GHz): 0.8235\n",
            "pciBusID: 0000:00:04.0\n",
            "2019-09-05 07:32:35.110524: I tensorflow/stream_executor/platform/default/dso_loader.cc:44] Successfully opened dynamic library libcudart.so.10.0\n",
            "2019-09-05 07:32:35.110572: I tensorflow/stream_executor/platform/default/dso_loader.cc:44] Successfully opened dynamic library libcublas.so.10.0\n",
            "2019-09-05 07:32:35.110607: I tensorflow/stream_executor/platform/default/dso_loader.cc:44] Successfully opened dynamic library libcufft.so.10.0\n",
            "2019-09-05 07:32:35.110638: I tensorflow/stream_executor/platform/default/dso_loader.cc:44] Successfully opened dynamic library libcurand.so.10.0\n",
            "2019-09-05 07:32:35.110676: I tensorflow/stream_executor/platform/default/dso_loader.cc:44] Successfully opened dynamic library libcusolver.so.10.0\n",
            "2019-09-05 07:32:35.110705: I tensorflow/stream_executor/platform/default/dso_loader.cc:44] Successfully opened dynamic library libcusparse.so.10.0\n",
            "2019-09-05 07:32:35.110734: I tensorflow/stream_executor/platform/default/dso_loader.cc:44] Successfully opened dynamic library libcudnn.so.7\n",
            "2019-09-05 07:32:35.110807: I tensorflow/stream_executor/cuda/cuda_gpu_executor.cc:1006] successful NUMA node read from SysFS had negative value (-1), but there must be at least one NUMA node, so returning NUMA node zero\n",
            "2019-09-05 07:32:35.111480: I tensorflow/stream_executor/cuda/cuda_gpu_executor.cc:1006] successful NUMA node read from SysFS had negative value (-1), but there must be at least one NUMA node, so returning NUMA node zero\n",
            "2019-09-05 07:32:35.112101: I tensorflow/core/common_runtime/gpu/gpu_device.cc:1746] Adding visible gpu devices: 0\n",
            "2019-09-05 07:32:35.112157: I tensorflow/stream_executor/platform/default/dso_loader.cc:44] Successfully opened dynamic library libcudart.so.10.0\n",
            "2019-09-05 07:32:35.113356: I tensorflow/core/common_runtime/gpu/gpu_device.cc:1159] Device interconnect StreamExecutor with strength 1 edge matrix:\n",
            "2019-09-05 07:32:35.113388: I tensorflow/core/common_runtime/gpu/gpu_device.cc:1165]      0 \n",
            "2019-09-05 07:32:35.113403: I tensorflow/core/common_runtime/gpu/gpu_device.cc:1178] 0:   N \n",
            "2019-09-05 07:32:35.113521: I tensorflow/stream_executor/cuda/cuda_gpu_executor.cc:1006] successful NUMA node read from SysFS had negative value (-1), but there must be at least one NUMA node, so returning NUMA node zero\n",
            "2019-09-05 07:32:35.114181: I tensorflow/stream_executor/cuda/cuda_gpu_executor.cc:1006] successful NUMA node read from SysFS had negative value (-1), but there must be at least one NUMA node, so returning NUMA node zero\n",
            "2019-09-05 07:32:35.114799: W tensorflow/core/common_runtime/gpu/gpu_bfc_allocator.cc:39] Overriding allow_growth setting because the TF_FORCE_GPU_ALLOW_GROWTH environment variable is set. Original config value was 0.\n",
            "2019-09-05 07:32:35.114843: I tensorflow/core/common_runtime/gpu/gpu_device.cc:1304] Created TensorFlow device (/job:localhost/replica:0/task:0/device:GPU:0 with 10805 MB memory) -> physical GPU (device: 0, name: Tesla K80, pci bus id: 0000:00:04.0, compute capability: 3.7)\n",
            "Done.\n",
            "2019-09-05 07:32:38.864176: I tensorflow/stream_executor/platform/default/dso_loader.cc:44] Successfully opened dynamic library libcublas.so.10.0\n",
            "2019-09-05 07:32:39.023138: I tensorflow/stream_executor/platform/default/dso_loader.cc:44] Successfully opened dynamic library libcudnn.so.7\n",
            "1 epoch: [701/704, loss:0.9587820768356323, accuracy:0.6875, step_time:0.011815786361694336]\n",
            "Validation score: loss: 1.239166021347046, accuracy: 0.5563686490058899\n",
            "2 epoch: [701/704, loss:0.7934426069259644, accuracy:0.71875, step_time:0.012578964233398438]\n",
            "Validation score: loss: 1.785378336906433, accuracy: 0.4626186788082123\n",
            "3 epoch: [701/704, loss:0.8358160257339478, accuracy:0.6875, step_time:0.013291597366333008]\n",
            "Validation score: loss: 1.451379418373108, accuracy: 0.5541930198669434\n",
            "4 epoch: [701/704, loss:0.6205873489379883, accuracy:0.796875, step_time:0.014398813247680664]\n",
            "Validation score: loss: 1.0045214891433716, accuracy: 0.6384493708610535\n",
            "5 epoch: [701/704, loss:0.6528333425521851, accuracy:0.734375, step_time:0.011468887329101562]\n",
            "Validation score: loss: 1.0299148559570312, accuracy: 0.6503164768218994\n",
            "6 epoch: [701/704, loss:0.6309587955474854, accuracy:0.828125, step_time:0.012326478958129883]\n",
            "Validation score: loss: 0.783300518989563, accuracy: 0.7310126423835754\n",
            "7 epoch: [701/704, loss:0.5520152449607849, accuracy:0.78125, step_time:0.010879993438720703]\n",
            "Validation score: loss: 0.5507221221923828, accuracy: 0.8016218543052673\n",
            "8 epoch: [701/704, loss:0.22713491320610046, accuracy:0.921875, step_time:0.013291597366333008]\n",
            "Validation score: loss: 1.103186845779419, accuracy: 0.6499208807945251\n",
            "9 epoch: [701/704, loss:0.3946255147457123, accuracy:0.78125, step_time:0.013711929321289062]\n",
            "Validation score: loss: 0.6116902828216553, accuracy: 0.7879746556282043\n",
            "10 epoch: [701/704, loss:0.3186057209968567, accuracy:0.84375, step_time:0.013500690460205078]\n",
            "Validation score: loss: 0.5050499439239502, accuracy: 0.8303006291389465\n"
          ],
          "name": "stdout"
        }
      ]
    },
    {
      "cell_type": "code",
      "metadata": {
        "id": "-BUCytKUWEMG",
        "colab_type": "code",
        "outputId": "326f3a76-0dcf-4d94-ecd4-a0381302c016",
        "colab": {
          "base_uri": "https://localhost:8080/",
          "height": 612
        }
      },
      "source": [
        "! python torch/train.py -d Cifar -dd cifar-10 -e 10"
      ],
      "execution_count": 11,
      "outputs": [
        {
          "output_type": "stream",
          "text": [
            "dataset: Cifar\n",
            "dataset_dir: cifar-10\n",
            "epochs: 10\n",
            "batch_size: 64\n",
            "validation_split: 0.1\n",
            "resize_shape: [32, 32]\n",
            "crop_shape: None\n",
            "rotate: False\n",
            "flip_left_right: False\n",
            "flip_up_down: False\n",
            "filters: 64\n",
            "learning_rate: 0.001\n",
            "Building a dataset pipeline ...\n",
            "Found 50000 images.\n",
            "Done.\n",
            "1 epoch: [701/704, loss:1.258967399597168, accuracy:0.5625, step_time:0.02479696273803711]\n",
            "Validation score: loss: 1.6977811131296279, accuracy: 0.40901898734177217.\n",
            "2 epoch: [701/704, loss:0.6612133383750916, accuracy:0.734375, step_time:0.026329517364501953]\n",
            "Validation score: loss: 1.5503300986712492, accuracy: 0.513251582278481.\n",
            "3 epoch: [701/704, loss:0.7483235597610474, accuracy:0.765625, step_time:0.025780677795410156]\n",
            "Validation score: loss: 0.9019387975523744, accuracy: 0.6849287974683544.\n",
            "4 epoch: [701/704, loss:0.6592046618461609, accuracy:0.75, step_time:0.029369592666625977]\n",
            "Validation score: loss: 0.9298371468918233, accuracy: 0.6863132911392406.\n",
            "5 epoch: [701/704, loss:0.8806931972503662, accuracy:0.59375, step_time:0.028771400451660156]\n",
            "Validation score: loss: 0.8677457725699944, accuracy: 0.7114319620253164.\n",
            "6 epoch: [701/704, loss:0.6394810676574707, accuracy:0.75, step_time:0.03760123252868652]\n",
            "Validation score: loss: 1.2310645663285558, accuracy: 0.6036392405063291.\n",
            "7 epoch: [701/704, loss:0.3166689872741699, accuracy:0.90625, step_time:0.029052257537841797]\n",
            "Validation score: loss: 0.8624664322484897, accuracy: 0.723496835443038.\n",
            "8 epoch: [701/704, loss:0.5467033982276917, accuracy:0.8125, step_time:0.02957606315612793]\n",
            "Validation score: loss: 0.8570695391184167, accuracy: 0.7240901898734177.\n",
            "9 epoch: [701/704, loss:0.3587145209312439, accuracy:0.890625, step_time:0.030059337615966797]\n",
            "Validation score: loss: 0.7369145539742482, accuracy: 0.7598892405063291.\n",
            "10 epoch: [701/704, loss:0.36386969685554504, accuracy:0.859375, step_time:0.029372453689575195]\n",
            "Validation score: loss: 0.7243154301673551, accuracy: 0.7699762658227848.\n"
          ],
          "name": "stdout"
        }
      ]
    },
    {
      "cell_type": "code",
      "metadata": {
        "id": "PCmUFqUzWMUf",
        "colab_type": "code",
        "colab": {}
      },
      "source": [
        ""
      ],
      "execution_count": 0,
      "outputs": []
    }
  ]
}