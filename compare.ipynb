{
  "nbformat": 4,
  "nbformat_minor": 0,
  "metadata": {
    "colab": {
      "name": "compare.ipynb",
      "provenance": [],
      "collapsed_sections": [],
      "include_colab_link": true
    },
    "kernelspec": {
      "name": "python3",
      "display_name": "Python 3"
    },
    "accelerator": "GPU"
  },
  "cells": [
    {
      "cell_type": "markdown",
      "metadata": {
        "id": "view-in-github",
        "colab_type": "text"
      },
      "source": [
        "<a href=\"https://colab.research.google.com/github/daigo0927/compare-deeplibs/blob/master/compare.ipynb\" target=\"_parent\"><img src=\"https://colab.research.google.com/assets/colab-badge.svg\" alt=\"Open In Colab\"/></a>"
      ]
    },
    {
      "cell_type": "code",
      "metadata": {
        "id": "bsLBAaWaUqw4",
        "colab_type": "code",
        "outputId": "7973669e-024a-4171-955e-a066a50c0d1d",
        "colab": {
          "base_uri": "https://localhost:8080/",
          "height": 425
        }
      },
      "source": [
        "! nvcc -V\n",
        "! nvidia-smi"
      ],
      "execution_count": 1,
      "outputs": [
        {
          "output_type": "stream",
          "text": [
            "nvcc: NVIDIA (R) Cuda compiler driver\n",
            "Copyright (c) 2005-2019 NVIDIA Corporation\n",
            "Built on Sun_Jul_28_19:07:16_PDT_2019\n",
            "Cuda compilation tools, release 10.1, V10.1.243\n",
            "Tue Jun 16 13:40:29 2020       \n",
            "+-----------------------------------------------------------------------------+\n",
            "| NVIDIA-SMI 450.36.06    Driver Version: 418.67       CUDA Version: 10.1     |\n",
            "|-------------------------------+----------------------+----------------------+\n",
            "| GPU  Name        Persistence-M| Bus-Id        Disp.A | Volatile Uncorr. ECC |\n",
            "| Fan  Temp  Perf  Pwr:Usage/Cap|         Memory-Usage | GPU-Util  Compute M. |\n",
            "|                               |                      |               MIG M. |\n",
            "|===============================+======================+======================|\n",
            "|   0  Tesla P4            Off  | 00000000:00:04.0 Off |                    0 |\n",
            "| N/A   39C    P8     7W /  75W |      0MiB /  7611MiB |      0%      Default |\n",
            "|                               |                      |                 ERR! |\n",
            "+-------------------------------+----------------------+----------------------+\n",
            "                                                                               \n",
            "+-----------------------------------------------------------------------------+\n",
            "| Processes:                                                                  |\n",
            "|  GPU   GI   CI        PID   Type   Process name                  GPU Memory |\n",
            "|        ID   ID                                                   Usage      |\n",
            "|=============================================================================|\n",
            "|  No running processes found                                                 |\n",
            "+-----------------------------------------------------------------------------+\n"
          ],
          "name": "stdout"
        }
      ]
    },
    {
      "cell_type": "code",
      "metadata": {
        "id": "rWy0jsD1Uzte",
        "colab_type": "code",
        "outputId": "1a46ec09-6090-45bd-f5b8-0a86ba2b4dcc",
        "colab": {
          "base_uri": "https://localhost:8080/",
          "height": 136
        }
      },
      "source": [
        "! git clone https://github.com/daigo0927/compare-deeplibs.git"
      ],
      "execution_count": 2,
      "outputs": [
        {
          "output_type": "stream",
          "text": [
            "Cloning into 'compare-deeplibs'...\n",
            "remote: Enumerating objects: 257, done.\u001b[K\n",
            "remote: Counting objects:   0% (1/257)\u001b[K\rremote: Counting objects:   1% (3/257)\u001b[K\rremote: Counting objects:   2% (6/257)\u001b[K\rremote: Counting objects:   3% (8/257)\u001b[K\rremote: Counting objects:   4% (11/257)\u001b[K\rremote: Counting objects:   5% (13/257)\u001b[K\rremote: Counting objects:   6% (16/257)\u001b[K\rremote: Counting objects:   7% (18/257)\u001b[K\rremote: Counting objects:   8% (21/257)\u001b[K\rremote: Counting objects:   9% (24/257)\u001b[K\rremote: Counting objects:  10% (26/257)\u001b[K\rremote: Counting objects:  11% (29/257)\u001b[K\rremote: Counting objects:  12% (31/257)\u001b[K\rremote: Counting objects:  13% (34/257)\u001b[K\rremote: Counting objects:  14% (36/257)\u001b[K\rremote: Counting objects:  15% (39/257)\u001b[K\rremote: Counting objects:  16% (42/257)\u001b[K\rremote: Counting objects:  17% (44/257)\u001b[K\rremote: Counting objects:  18% (47/257)\u001b[K\rremote: Counting objects:  19% (49/257)\u001b[K\rremote: Counting objects:  20% (52/257)\u001b[K\rremote: Counting objects:  21% (54/257)\u001b[K\rremote: Counting objects:  22% (57/257)\u001b[K\rremote: Counting objects:  23% (60/257)\u001b[K\rremote: Counting objects:  24% (62/257)\u001b[K\rremote: Counting objects:  25% (65/257)\u001b[K\rremote: Counting objects:  26% (67/257)\u001b[K\rremote: Counting objects:  27% (70/257)\u001b[K\rremote: Counting objects:  28% (72/257)\u001b[K\rremote: Counting objects:  29% (75/257)\u001b[K\rremote: Counting objects:  30% (78/257)\u001b[K\rremote: Counting objects:  31% (80/257)\u001b[K\rremote: Counting objects:  32% (83/257)\u001b[K\rremote: Counting objects:  33% (85/257)\u001b[K\rremote: Counting objects:  34% (88/257)\u001b[K\rremote: Counting objects:  35% (90/257)\u001b[K\rremote: Counting objects:  36% (93/257)\u001b[K\rremote: Counting objects:  37% (96/257)\u001b[K\rremote: Counting objects:  38% (98/257)\u001b[K\rremote: Counting objects:  39% (101/257)\u001b[K\rremote: Counting objects:  40% (103/257)\u001b[K\rremote: Counting objects:  41% (106/257)\u001b[K\rremote: Counting objects:  42% (108/257)\u001b[K\rremote: Counting objects:  43% (111/257)\u001b[K\rremote: Counting objects:  44% (114/257)\u001b[K\rremote: Counting objects:  45% (116/257)\u001b[K\rremote: Counting objects:  46% (119/257)\u001b[K\rremote: Counting objects:  47% (121/257)\u001b[K\rremote: Counting objects:  48% (124/257)\u001b[K\rremote: Counting objects:  49% (126/257)\u001b[K\rremote: Counting objects:  50% (129/257)\u001b[K\rremote: Counting objects:  51% (132/257)\u001b[K\rremote: Counting objects:  52% (134/257)\u001b[K\rremote: Counting objects:  53% (137/257)\u001b[K\rremote: Counting objects:  54% (139/257)\u001b[K\rremote: Counting objects:  55% (142/257)\u001b[K\rremote: Counting objects:  56% (144/257)\u001b[K\rremote: Counting objects:  57% (147/257)\u001b[K\rremote: Counting objects:  58% (150/257)\u001b[K\rremote: Counting objects:  59% (152/257)\u001b[K\rremote: Counting objects:  60% (155/257)\u001b[K\rremote: Counting objects:  61% (157/257)\u001b[K\rremote: Counting objects:  62% (160/257)\u001b[K\rremote: Counting objects:  63% (162/257)\u001b[K\rremote: Counting objects:  64% (165/257)\u001b[K\rremote: Counting objects:  65% (168/257)\u001b[K\rremote: Counting objects:  66% (170/257)\u001b[K\rremote: Counting objects:  67% (173/257)\u001b[K\rremote: Counting objects:  68% (175/257)\u001b[K\rremote: Counting objects:  69% (178/257)\u001b[K\rremote: Counting objects:  70% (180/257)\u001b[K\rremote: Counting objects:  71% (183/257)\u001b[K\rremote: Counting objects:  72% (186/257)\u001b[K\rremote: Counting objects:  73% (188/257)\u001b[K\rremote: Counting objects:  74% (191/257)\u001b[K\rremote: Counting objects:  75% (193/257)\u001b[K\rremote: Counting objects:  76% (196/257)\u001b[K\rremote: Counting objects:  77% (198/257)\u001b[K\rremote: Counting objects:  78% (201/257)\u001b[K\rremote: Counting objects:  79% (204/257)\u001b[K\rremote: Counting objects:  80% (206/257)\u001b[K\rremote: Counting objects:  81% (209/257)\u001b[K\rremote: Counting objects:  82% (211/257)\u001b[K\rremote: Counting objects:  83% (214/257)\u001b[K\rremote: Counting objects:  84% (216/257)\u001b[K\rremote: Counting objects:  85% (219/257)\u001b[K\rremote: Counting objects:  86% (222/257)\u001b[K\rremote: Counting objects:  87% (224/257)\u001b[K\rremote: Counting objects:  88% (227/257)\u001b[K\rremote: Counting objects:  89% (229/257)\u001b[K\rremote: Counting objects:  90% (232/257)\u001b[K\rremote: Counting objects:  91% (234/257)\u001b[K\rremote: Counting objects:  92% (237/257)\u001b[K\rremote: Counting objects:  93% (240/257)\u001b[K\rremote: Counting objects:  94% (242/257)\u001b[K\rremote: Counting objects:  95% (245/257)\u001b[K\rremote: Counting objects:  96% (247/257)\u001b[K\rremote: Counting objects:  97% (250/257)\u001b[K\rremote: Counting objects:  98% (252/257)\u001b[K\rremote: Counting objects:  99% (255/257)\u001b[K\rremote: Counting objects: 100% (257/257)\u001b[K\rremote: Counting objects: 100% (257/257), done.\u001b[K\n",
            "remote: Compressing objects:   0% (1/179)\u001b[K\rremote: Compressing objects:   1% (2/179)\u001b[K\rremote: Compressing objects:   2% (4/179)\u001b[K\rremote: Compressing objects:   3% (6/179)\u001b[K\rremote: Compressing objects:   4% (8/179)\u001b[K\rremote: Compressing objects:   5% (9/179)\u001b[K\rremote: Compressing objects:   6% (11/179)\u001b[K\rremote: Compressing objects:   7% (13/179)\u001b[K\rremote: Compressing objects:   8% (15/179)\u001b[K\rremote: Compressing objects:   9% (17/179)\u001b[K\rremote: Compressing objects:  10% (18/179)\u001b[K\rremote: Compressing objects:  11% (20/179)\u001b[K\rremote: Compressing objects:  12% (22/179)\u001b[K\rremote: Compressing objects:  13% (24/179)\u001b[K\rremote: Compressing objects:  14% (26/179)\u001b[K\rremote: Compressing objects:  15% (27/179)\u001b[K\rremote: Compressing objects:  16% (29/179)\u001b[K\rremote: Compressing objects:  17% (31/179)\u001b[K\rremote: Compressing objects:  18% (33/179)\u001b[K\rremote: Compressing objects:  19% (35/179)\u001b[K\rremote: Compressing objects:  20% (36/179)\u001b[K\rremote: Compressing objects:  21% (38/179)\u001b[K\rremote: Compressing objects:  22% (40/179)\u001b[K\rremote: Compressing objects:  23% (42/179)\u001b[K\rremote: Compressing objects:  24% (43/179)\u001b[K\rremote: Compressing objects:  25% (45/179)\u001b[K\rremote: Compressing objects:  26% (47/179)\u001b[K\rremote: Compressing objects:  27% (49/179)\u001b[K\rremote: Compressing objects:  28% (51/179)\u001b[K\rremote: Compressing objects:  29% (52/179)\u001b[K\rremote: Compressing objects:  30% (54/179)\u001b[K\rremote: Compressing objects:  31% (56/179)\u001b[K\rremote: Compressing objects:  32% (58/179)\u001b[K\rremote: Compressing objects:  33% (60/179)\u001b[K\rremote: Compressing objects:  34% (61/179)\u001b[K\rremote: Compressing objects:  35% (63/179)\u001b[K\rremote: Compressing objects:  36% (65/179)\u001b[K\rremote: Compressing objects:  37% (67/179)\u001b[K\rremote: Compressing objects:  38% (69/179)\u001b[K\rremote: Compressing objects:  39% (70/179)\u001b[K\rremote: Compressing objects:  40% (72/179)\u001b[K\rremote: Compressing objects:  41% (74/179)\u001b[K\rremote: Compressing objects:  42% (76/179)\u001b[K\rremote: Compressing objects:  43% (77/179)\u001b[K\rremote: Compressing objects:  44% (79/179)\u001b[K\rremote: Compressing objects:  45% (81/179)\u001b[K\rremote: Compressing objects:  46% (83/179)\u001b[K\rremote: Compressing objects:  47% (85/179)\u001b[K\rremote: Compressing objects:  48% (86/179)\u001b[K\rremote: Compressing objects:  49% (88/179)\u001b[K\rremote: Compressing objects:  50% (90/179)\u001b[K\rremote: Compressing objects:  51% (92/179)\u001b[K\rremote: Compressing objects:  52% (94/179)\u001b[K\rremote: Compressing objects:  53% (95/179)\u001b[K\rremote: Compressing objects:  54% (97/179)\u001b[K\rremote: Compressing objects:  55% (99/179)\u001b[K\rremote: Compressing objects:  56% (101/179)\u001b[K\rremote: Compressing objects:  57% (103/179)\u001b[K\rremote: Compressing objects:  58% (104/179)\u001b[K\rremote: Compressing objects:  59% (106/179)\u001b[K\rremote: Compressing objects:  60% (108/179)\u001b[K\rremote: Compressing objects:  61% (110/179)\u001b[K\rremote: Compressing objects:  62% (111/179)\u001b[K\rremote: Compressing objects:  63% (113/179)\u001b[K\rremote: Compressing objects:  64% (115/179)\u001b[K\rremote: Compressing objects:  65% (117/179)\u001b[K\rremote: Compressing objects:  66% (119/179)\u001b[K\rremote: Compressing objects:  67% (120/179)\u001b[K\rremote: Compressing objects:  68% (122/179)\u001b[K\rremote: Compressing objects:  69% (124/179)\u001b[K\rremote: Compressing objects:  70% (126/179)\u001b[K\rremote: Compressing objects:  71% (128/179)\u001b[K\rremote: Compressing objects:  72% (129/179)\u001b[K\rremote: Compressing objects:  73% (131/179)\u001b[K\rremote: Compressing objects:  74% (133/179)\u001b[K\rremote: Compressing objects:  75% (135/179)\u001b[K\rremote: Compressing objects:  76% (137/179)\u001b[K\rremote: Compressing objects:  77% (138/179)\u001b[K\rremote: Compressing objects:  78% (140/179)\u001b[K\rremote: Compressing objects:  79% (142/179)\u001b[K\rremote: Compressing objects:  80% (144/179)\u001b[K\rremote: Compressing objects:  81% (145/179)\u001b[K\rremote: Compressing objects:  82% (147/179)\u001b[K\rremote: Compressing objects:  83% (149/179)\u001b[K\rremote: Compressing objects:  84% (151/179)\u001b[K\rremote: Compressing objects:  85% (153/179)\u001b[K\rremote: Compressing objects:  86% (154/179)\u001b[K\rremote: Compressing objects:  87% (156/179)\u001b[K\rremote: Compressing objects:  88% (158/179)\u001b[K\rremote: Compressing objects:  89% (160/179)\u001b[K\rremote: Compressing objects:  90% (162/179)\u001b[K\rremote: Compressing objects:  91% (163/179)\u001b[K\rremote: Compressing objects:  92% (165/179)\u001b[K\rremote: Compressing objects:  93% (167/179)\u001b[K\rremote: Compressing objects:  94% (169/179)\u001b[K\rremote: Compressing objects:  95% (171/179)\u001b[K\rremote: Compressing objects:  96% (172/179)\u001b[K\rremote: Compressing objects:  97% (174/179)\u001b[K\rremote: Compressing objects:  98% (176/179)\u001b[K\rremote: Compressing objects:  99% (178/179)\u001b[K\rremote: Compressing objects: 100% (179/179)\u001b[K\rremote: Compressing objects: 100% (179/179), done.\u001b[K\n",
            "Receiving objects:   0% (1/373)   \rReceiving objects:   1% (4/373)   \rReceiving objects:   2% (8/373)   \rReceiving objects:   3% (12/373)   \rReceiving objects:   4% (15/373)   \rReceiving objects:   5% (19/373)   \rReceiving objects:   6% (23/373)   \rReceiving objects:   7% (27/373)   \rReceiving objects:   8% (30/373)   \rReceiving objects:   9% (34/373)   \rReceiving objects:  10% (38/373)   \rReceiving objects:  11% (42/373)   \rReceiving objects:  12% (45/373)   \rReceiving objects:  13% (49/373)   \rReceiving objects:  14% (53/373)   \rReceiving objects:  15% (56/373)   \rReceiving objects:  16% (60/373)   \rReceiving objects:  17% (64/373)   \rReceiving objects:  18% (68/373)   \rReceiving objects:  19% (71/373)   \rReceiving objects:  20% (75/373)   \rReceiving objects:  21% (79/373)   \rReceiving objects:  22% (83/373)   \rReceiving objects:  23% (86/373)   \rReceiving objects:  24% (90/373)   \rReceiving objects:  25% (94/373)   \rReceiving objects:  26% (97/373)   \rReceiving objects:  27% (101/373)   \rReceiving objects:  28% (105/373)   \rReceiving objects:  29% (109/373)   \rReceiving objects:  30% (112/373)   \rReceiving objects:  31% (116/373)   \rReceiving objects:  32% (120/373)   \rReceiving objects:  33% (124/373)   \rReceiving objects:  34% (127/373)   \rReceiving objects:  35% (131/373)   \rReceiving objects:  36% (135/373)   \rReceiving objects:  37% (139/373)   \rReceiving objects:  38% (142/373)   \rReceiving objects:  39% (146/373)   \rReceiving objects:  40% (150/373)   \rReceiving objects:  41% (153/373)   \rReceiving objects:  42% (157/373)   \rReceiving objects:  43% (161/373)   \rReceiving objects:  44% (165/373)   \rReceiving objects:  45% (168/373)   \rReceiving objects:  46% (172/373)   \rReceiving objects:  47% (176/373)   \rReceiving objects:  48% (180/373)   \rReceiving objects:  49% (183/373)   \rReceiving objects:  50% (187/373)   \rReceiving objects:  51% (191/373)   \rReceiving objects:  52% (194/373)   \rReceiving objects:  53% (198/373)   \rReceiving objects:  54% (202/373)   \rReceiving objects:  55% (206/373)   \rReceiving objects:  56% (209/373)   \rReceiving objects:  57% (213/373)   \rReceiving objects:  58% (217/373)   \rReceiving objects:  59% (221/373)   \rReceiving objects:  60% (224/373)   \rReceiving objects:  61% (228/373)   \rReceiving objects:  62% (232/373)   \rReceiving objects:  63% (235/373)   \rReceiving objects:  64% (239/373)   \rReceiving objects:  65% (243/373)   \rremote: Total 373 (delta 159), reused 159 (delta 74), pack-reused 116\u001b[K\n",
            "Receiving objects:  66% (247/373)   \rReceiving objects:  67% (250/373)   \rReceiving objects:  68% (254/373)   \rReceiving objects:  69% (258/373)   \rReceiving objects:  70% (262/373)   \rReceiving objects:  71% (265/373)   \rReceiving objects:  72% (269/373)   \rReceiving objects:  73% (273/373)   \rReceiving objects:  74% (277/373)   \rReceiving objects:  75% (280/373)   \rReceiving objects:  76% (284/373)   \rReceiving objects:  77% (288/373)   \rReceiving objects:  78% (291/373)   \rReceiving objects:  79% (295/373)   \rReceiving objects:  80% (299/373)   \rReceiving objects:  81% (303/373)   \rReceiving objects:  82% (306/373)   \rReceiving objects:  83% (310/373)   \rReceiving objects:  84% (314/373)   \rReceiving objects:  85% (318/373)   \rReceiving objects:  86% (321/373)   \rReceiving objects:  87% (325/373)   \rReceiving objects:  88% (329/373)   \rReceiving objects:  89% (332/373)   \rReceiving objects:  90% (336/373)   \rReceiving objects:  91% (340/373)   \rReceiving objects:  92% (344/373)   \rReceiving objects:  93% (347/373)   \rReceiving objects:  94% (351/373)   \rReceiving objects:  95% (355/373)   \rReceiving objects:  96% (359/373)   \rReceiving objects:  97% (362/373)   \rReceiving objects:  98% (366/373)   \rReceiving objects:  99% (370/373)   \rReceiving objects: 100% (373/373)   \rReceiving objects: 100% (373/373), 217.25 KiB | 21.72 MiB/s, done.\n",
            "Resolving deltas:   0% (0/221)   \rResolving deltas:   1% (3/221)   \rResolving deltas:   2% (5/221)   \rResolving deltas:   3% (7/221)   \rResolving deltas:   4% (10/221)   \rResolving deltas:  10% (24/221)   \rResolving deltas:  14% (31/221)   \rResolving deltas:  17% (39/221)   \rResolving deltas:  19% (42/221)   \rResolving deltas:  20% (46/221)   \rResolving deltas:  23% (53/221)   \rResolving deltas:  24% (54/221)   \rResolving deltas:  26% (58/221)   \rResolving deltas:  28% (63/221)   \rResolving deltas:  29% (65/221)   \rResolving deltas:  30% (67/221)   \rResolving deltas:  32% (71/221)   \rResolving deltas:  33% (73/221)   \rResolving deltas:  34% (76/221)   \rResolving deltas:  37% (82/221)   \rResolving deltas:  54% (120/221)   \rResolving deltas:  56% (124/221)   \rResolving deltas:  58% (129/221)   \rResolving deltas:  61% (135/221)   \rResolving deltas:  63% (140/221)   \rResolving deltas:  66% (148/221)   \rResolving deltas:  67% (150/221)   \rResolving deltas:  71% (158/221)   \rResolving deltas:  76% (170/221)   \rResolving deltas:  78% (173/221)   \rResolving deltas:  81% (180/221)   \rResolving deltas:  82% (182/221)   \rResolving deltas:  84% (187/221)   \rResolving deltas:  88% (195/221)   \rResolving deltas:  89% (198/221)   \rResolving deltas:  91% (202/221)   \rResolving deltas:  92% (204/221)   \rResolving deltas:  94% (209/221)   \rResolving deltas:  95% (211/221)   \rResolving deltas:  98% (218/221)   \rResolving deltas:  99% (220/221)   \rResolving deltas: 100% (221/221)   \rResolving deltas: 100% (221/221), done.\n"
          ],
          "name": "stdout"
        }
      ]
    },
    {
      "cell_type": "code",
      "metadata": {
        "id": "TspFY5urVPzt",
        "colab_type": "code",
        "outputId": "c2ca7d6a-4294-44a1-c36a-188b3c2e63f8",
        "colab": {
          "base_uri": "https://localhost:8080/",
          "height": 34
        }
      },
      "source": [
        "%cd compare-deeplibs/"
      ],
      "execution_count": 3,
      "outputs": [
        {
          "output_type": "stream",
          "text": [
            "/content/compare-deeplibs\n"
          ],
          "name": "stdout"
        }
      ]
    },
    {
      "cell_type": "code",
      "metadata": {
        "id": "9zBYm8N4VYE7",
        "colab_type": "code",
        "outputId": "52b272ed-f84b-4b58-9816-4c2c654ca89d",
        "colab": {
          "base_uri": "https://localhost:8080/",
          "height": 374
        }
      },
      "source": [
        "! sh prepare_cifar10.sh"
      ],
      "execution_count": 4,
      "outputs": [
        {
          "output_type": "stream",
          "text": [
            "  % Total    % Received % Xferd  Average Speed   Time    Time     Time  Current\n",
            "                                 Dload  Upload   Total   Spent    Left  Speed\n",
            "100  162M  100  162M    0     0  89.2M      0  0:00:01  0:00:01 --:--:-- 89.2M\n",
            "cifar-10-batches-py/\n",
            "cifar-10-batches-py/data_batch_4\n",
            "cifar-10-batches-py/readme.html\n",
            "cifar-10-batches-py/test_batch\n",
            "cifar-10-batches-py/data_batch_3\n",
            "cifar-10-batches-py/batches.meta\n",
            "cifar-10-batches-py/data_batch_2\n",
            "cifar-10-batches-py/data_batch_5\n",
            "cifar-10-batches-py/data_batch_1\n",
            "Requirement already satisfied: numpy in /usr/local/lib/python3.6/dist-packages (1.18.5)\n",
            "Requirement already satisfied: pillow in /usr/local/lib/python3.6/dist-packages (7.0.0)\n",
            "--------- Extracting data_batch_1 -----------\n",
            "--------- Extracting data_batch_2 -----------\n",
            "--------- Extracting data_batch_3 -----------\n",
            "--------- Extracting data_batch_4 -----------\n",
            "--------- Extracting data_batch_5 -----------\n",
            "--------- Extracting test_batch -----------\n",
            "--------- Completed ------------\n"
          ],
          "name": "stdout"
        }
      ]
    },
    {
      "cell_type": "code",
      "metadata": {
        "id": "dj4sGJsNVepV",
        "colab_type": "code",
        "colab": {
          "base_uri": "https://localhost:8080/",
          "height": 221
        },
        "outputId": "e144a7a9-a0aa-4368-8f77-09805e30937e"
      },
      "source": [
        "! pip list | grep tensor"
      ],
      "execution_count": 5,
      "outputs": [
        {
          "output_type": "stream",
          "text": [
            "tensorboard              2.2.2          \n",
            "tensorboard-plugin-wit   1.6.0.post3    \n",
            "tensorboardcolab         0.0.22         \n",
            "tensorflow               2.2.0          \n",
            "tensorflow-addons        0.8.3          \n",
            "tensorflow-datasets      2.1.0          \n",
            "tensorflow-estimator     2.2.0          \n",
            "tensorflow-gcs-config    2.1.8          \n",
            "tensorflow-hub           0.8.0          \n",
            "tensorflow-metadata      0.22.1         \n",
            "tensorflow-privacy       0.2.2          \n",
            "tensorflow-probability   0.10.0         \n"
          ],
          "name": "stdout"
        }
      ]
    },
    {
      "cell_type": "code",
      "metadata": {
        "id": "0sCYEk_tVvdX",
        "colab_type": "code",
        "colab": {
          "base_uri": "https://localhost:8080/",
          "height": 561
        },
        "outputId": "0652ed92-6135-42ed-f079-866c5c005ecc"
      },
      "source": [
        "! pip install torch torchvision albumentations"
      ],
      "execution_count": 6,
      "outputs": [
        {
          "output_type": "stream",
          "text": [
            "Requirement already satisfied: torch in /usr/local/lib/python3.6/dist-packages (1.5.0+cu101)\n",
            "Requirement already satisfied: torchvision in /usr/local/lib/python3.6/dist-packages (0.6.0+cu101)\n",
            "Requirement already satisfied: albumentations in /usr/local/lib/python3.6/dist-packages (0.1.12)\n",
            "Requirement already satisfied: numpy in /usr/local/lib/python3.6/dist-packages (from torch) (1.18.5)\n",
            "Requirement already satisfied: future in /usr/local/lib/python3.6/dist-packages (from torch) (0.16.0)\n",
            "Requirement already satisfied: pillow>=4.1.1 in /usr/local/lib/python3.6/dist-packages (from torchvision) (7.0.0)\n",
            "Requirement already satisfied: scipy in /usr/local/lib/python3.6/dist-packages (from albumentations) (1.4.1)\n",
            "Collecting imgaug<0.2.7,>=0.2.5\n",
            "\u001b[?25l  Downloading https://files.pythonhosted.org/packages/ad/2e/748dbb7bb52ec8667098bae9b585f448569ae520031932687761165419a2/imgaug-0.2.6.tar.gz (631kB)\n",
            "\r\u001b[K     |▌                               | 10kB 23.5MB/s eta 0:00:01\r\u001b[K     |█                               | 20kB 31.6MB/s eta 0:00:01\r\u001b[K     |█▋                              | 30kB 36.0MB/s eta 0:00:01\r\u001b[K     |██                              | 40kB 36.5MB/s eta 0:00:01\r\u001b[K     |██▋                             | 51kB 12.8MB/s eta 0:00:01\r\u001b[K     |███▏                            | 61kB 14.3MB/s eta 0:00:01\r\u001b[K     |███▋                            | 71kB 14.3MB/s eta 0:00:01\r\u001b[K     |████▏                           | 81kB 15.4MB/s eta 0:00:01\r\u001b[K     |████▊                           | 92kB 14.3MB/s eta 0:00:01\r\u001b[K     |█████▏                          | 102kB 14.0MB/s eta 0:00:01\r\u001b[K     |█████▊                          | 112kB 14.0MB/s eta 0:00:01\r\u001b[K     |██████▎                         | 122kB 14.0MB/s eta 0:00:01\r\u001b[K     |██████▊                         | 133kB 14.0MB/s eta 0:00:01\r\u001b[K     |███████▎                        | 143kB 14.0MB/s eta 0:00:01\r\u001b[K     |███████▉                        | 153kB 14.0MB/s eta 0:00:01\r\u001b[K     |████████▎                       | 163kB 14.0MB/s eta 0:00:01\r\u001b[K     |████████▉                       | 174kB 14.0MB/s eta 0:00:01\r\u001b[K     |█████████▍                      | 184kB 14.0MB/s eta 0:00:01\r\u001b[K     |█████████▉                      | 194kB 14.0MB/s eta 0:00:01\r\u001b[K     |██████████▍                     | 204kB 14.0MB/s eta 0:00:01\r\u001b[K     |███████████                     | 215kB 14.0MB/s eta 0:00:01\r\u001b[K     |███████████▍                    | 225kB 14.0MB/s eta 0:00:01\r\u001b[K     |████████████                    | 235kB 14.0MB/s eta 0:00:01\r\u001b[K     |████████████▌                   | 245kB 14.0MB/s eta 0:00:01\r\u001b[K     |█████████████                   | 256kB 14.0MB/s eta 0:00:01\r\u001b[K     |█████████████▌                  | 266kB 14.0MB/s eta 0:00:01\r\u001b[K     |██████████████                  | 276kB 14.0MB/s eta 0:00:01\r\u001b[K     |██████████████▌                 | 286kB 14.0MB/s eta 0:00:01\r\u001b[K     |███████████████                 | 296kB 14.0MB/s eta 0:00:01\r\u001b[K     |███████████████▋                | 307kB 14.0MB/s eta 0:00:01\r\u001b[K     |████████████████                | 317kB 14.0MB/s eta 0:00:01\r\u001b[K     |████████████████▋               | 327kB 14.0MB/s eta 0:00:01\r\u001b[K     |█████████████████▏              | 337kB 14.0MB/s eta 0:00:01\r\u001b[K     |█████████████████▋              | 348kB 14.0MB/s eta 0:00:01\r\u001b[K     |██████████████████▏             | 358kB 14.0MB/s eta 0:00:01\r\u001b[K     |██████████████████▊             | 368kB 14.0MB/s eta 0:00:01\r\u001b[K     |███████████████████▏            | 378kB 14.0MB/s eta 0:00:01\r\u001b[K     |███████████████████▊            | 389kB 14.0MB/s eta 0:00:01\r\u001b[K     |████████████████████▎           | 399kB 14.0MB/s eta 0:00:01\r\u001b[K     |████████████████████▊           | 409kB 14.0MB/s eta 0:00:01\r\u001b[K     |█████████████████████▎          | 419kB 14.0MB/s eta 0:00:01\r\u001b[K     |█████████████████████▉          | 430kB 14.0MB/s eta 0:00:01\r\u001b[K     |██████████████████████▎         | 440kB 14.0MB/s eta 0:00:01\r\u001b[K     |██████████████████████▉         | 450kB 14.0MB/s eta 0:00:01\r\u001b[K     |███████████████████████▍        | 460kB 14.0MB/s eta 0:00:01\r\u001b[K     |███████████████████████▉        | 471kB 14.0MB/s eta 0:00:01\r\u001b[K     |████████████████████████▍       | 481kB 14.0MB/s eta 0:00:01\r\u001b[K     |█████████████████████████       | 491kB 14.0MB/s eta 0:00:01\r\u001b[K     |█████████████████████████▍      | 501kB 14.0MB/s eta 0:00:01\r\u001b[K     |██████████████████████████      | 512kB 14.0MB/s eta 0:00:01\r\u001b[K     |██████████████████████████▌     | 522kB 14.0MB/s eta 0:00:01\r\u001b[K     |███████████████████████████     | 532kB 14.0MB/s eta 0:00:01\r\u001b[K     |███████████████████████████▌    | 542kB 14.0MB/s eta 0:00:01\r\u001b[K     |████████████████████████████    | 552kB 14.0MB/s eta 0:00:01\r\u001b[K     |████████████████████████████▌   | 563kB 14.0MB/s eta 0:00:01\r\u001b[K     |█████████████████████████████   | 573kB 14.0MB/s eta 0:00:01\r\u001b[K     |█████████████████████████████▋  | 583kB 14.0MB/s eta 0:00:01\r\u001b[K     |██████████████████████████████  | 593kB 14.0MB/s eta 0:00:01\r\u001b[K     |██████████████████████████████▋ | 604kB 14.0MB/s eta 0:00:01\r\u001b[K     |███████████████████████████████▏| 614kB 14.0MB/s eta 0:00:01\r\u001b[K     |███████████████████████████████▋| 624kB 14.0MB/s eta 0:00:01\r\u001b[K     |████████████████████████████████| 634kB 14.0MB/s \n",
            "\u001b[?25hRequirement already satisfied: opencv-python in /usr/local/lib/python3.6/dist-packages (from albumentations) (4.1.2.30)\n",
            "Requirement already satisfied: scikit-image>=0.11.0 in /usr/local/lib/python3.6/dist-packages (from imgaug<0.2.7,>=0.2.5->albumentations) (0.16.2)\n",
            "Requirement already satisfied: six in /usr/local/lib/python3.6/dist-packages (from imgaug<0.2.7,>=0.2.5->albumentations) (1.12.0)\n",
            "Requirement already satisfied: matplotlib!=3.0.0,>=2.0.0 in /usr/local/lib/python3.6/dist-packages (from scikit-image>=0.11.0->imgaug<0.2.7,>=0.2.5->albumentations) (3.2.1)\n",
            "Requirement already satisfied: imageio>=2.3.0 in /usr/local/lib/python3.6/dist-packages (from scikit-image>=0.11.0->imgaug<0.2.7,>=0.2.5->albumentations) (2.4.1)\n",
            "Requirement already satisfied: PyWavelets>=0.4.0 in /usr/local/lib/python3.6/dist-packages (from scikit-image>=0.11.0->imgaug<0.2.7,>=0.2.5->albumentations) (1.1.1)\n",
            "Requirement already satisfied: networkx>=2.0 in /usr/local/lib/python3.6/dist-packages (from scikit-image>=0.11.0->imgaug<0.2.7,>=0.2.5->albumentations) (2.4)\n",
            "Requirement already satisfied: cycler>=0.10 in /usr/local/lib/python3.6/dist-packages (from matplotlib!=3.0.0,>=2.0.0->scikit-image>=0.11.0->imgaug<0.2.7,>=0.2.5->albumentations) (0.10.0)\n",
            "Requirement already satisfied: python-dateutil>=2.1 in /usr/local/lib/python3.6/dist-packages (from matplotlib!=3.0.0,>=2.0.0->scikit-image>=0.11.0->imgaug<0.2.7,>=0.2.5->albumentations) (2.8.1)\n",
            "Requirement already satisfied: kiwisolver>=1.0.1 in /usr/local/lib/python3.6/dist-packages (from matplotlib!=3.0.0,>=2.0.0->scikit-image>=0.11.0->imgaug<0.2.7,>=0.2.5->albumentations) (1.2.0)\n",
            "Requirement already satisfied: pyparsing!=2.0.4,!=2.1.2,!=2.1.6,>=2.0.1 in /usr/local/lib/python3.6/dist-packages (from matplotlib!=3.0.0,>=2.0.0->scikit-image>=0.11.0->imgaug<0.2.7,>=0.2.5->albumentations) (2.4.7)\n",
            "Requirement already satisfied: decorator>=4.3.0 in /usr/local/lib/python3.6/dist-packages (from networkx>=2.0->scikit-image>=0.11.0->imgaug<0.2.7,>=0.2.5->albumentations) (4.4.2)\n",
            "Building wheels for collected packages: imgaug\n",
            "  Building wheel for imgaug (setup.py) ... \u001b[?25l\u001b[?25hdone\n",
            "  Created wheel for imgaug: filename=imgaug-0.2.6-cp36-none-any.whl size=654020 sha256=ba46d1d2e25f245246a2e5908f80122002ef94db18a9af36fb19b56eafd197e3\n",
            "  Stored in directory: /root/.cache/pip/wheels/97/ec/48/0d25896c417b715af6236dbcef8f0bed136a1a5e52972fc6d0\n",
            "Successfully built imgaug\n",
            "Installing collected packages: imgaug\n",
            "  Found existing installation: imgaug 0.2.9\n",
            "    Uninstalling imgaug-0.2.9:\n",
            "      Successfully uninstalled imgaug-0.2.9\n",
            "Successfully installed imgaug-0.2.6\n"
          ],
          "name": "stdout"
        }
      ]
    },
    {
      "cell_type": "code",
      "metadata": {
        "id": "GOCa7Y68Glp6",
        "colab_type": "code",
        "colab": {}
      },
      "source": [
        "import gc"
      ],
      "execution_count": 0,
      "outputs": []
    },
    {
      "cell_type": "code",
      "metadata": {
        "id": "1GRiujeKS-uw",
        "colab_type": "code",
        "colab": {
          "base_uri": "https://localhost:8080/",
          "height": 1000
        },
        "outputId": "83d699f9-bd58-4c4c-8064-b4cd0fdc2061"
      },
      "source": [
        "gc.collect()\n",
        "% cd /content/compare-deeplibs/keras\n",
        "! python train.py"
      ],
      "execution_count": 8,
      "outputs": [
        {
          "output_type": "stream",
          "text": [
            "/content/compare-deeplibs/keras\n",
            "2020-06-16 13:41:09.896309: I tensorflow/stream_executor/platform/default/dso_loader.cc:44] Successfully opened dynamic library libcudart.so.10.1\n",
            "2020-06-16 13:41:12.342878: I tensorflow/stream_executor/platform/default/dso_loader.cc:44] Successfully opened dynamic library libcuda.so.1\n",
            "2020-06-16 13:41:12.391668: I tensorflow/stream_executor/cuda/cuda_gpu_executor.cc:981] successful NUMA node read from SysFS had negative value (-1), but there must be at least one NUMA node, so returning NUMA node zero\n",
            "2020-06-16 13:41:12.392313: I tensorflow/core/common_runtime/gpu/gpu_device.cc:1561] Found device 0 with properties: \n",
            "pciBusID: 0000:00:04.0 name: Tesla P4 computeCapability: 6.1\n",
            "coreClock: 1.1135GHz coreCount: 20 deviceMemorySize: 7.43GiB deviceMemoryBandwidth: 178.99GiB/s\n",
            "2020-06-16 13:41:12.392357: I tensorflow/stream_executor/platform/default/dso_loader.cc:44] Successfully opened dynamic library libcudart.so.10.1\n",
            "2020-06-16 13:41:12.638164: I tensorflow/stream_executor/platform/default/dso_loader.cc:44] Successfully opened dynamic library libcublas.so.10\n",
            "2020-06-16 13:41:12.776169: I tensorflow/stream_executor/platform/default/dso_loader.cc:44] Successfully opened dynamic library libcufft.so.10\n",
            "2020-06-16 13:41:12.795068: I tensorflow/stream_executor/platform/default/dso_loader.cc:44] Successfully opened dynamic library libcurand.so.10\n",
            "2020-06-16 13:41:13.074685: I tensorflow/stream_executor/platform/default/dso_loader.cc:44] Successfully opened dynamic library libcusolver.so.10\n",
            "2020-06-16 13:41:13.121027: I tensorflow/stream_executor/platform/default/dso_loader.cc:44] Successfully opened dynamic library libcusparse.so.10\n",
            "2020-06-16 13:41:13.652195: I tensorflow/stream_executor/platform/default/dso_loader.cc:44] Successfully opened dynamic library libcudnn.so.7\n",
            "2020-06-16 13:41:13.652428: I tensorflow/stream_executor/cuda/cuda_gpu_executor.cc:981] successful NUMA node read from SysFS had negative value (-1), but there must be at least one NUMA node, so returning NUMA node zero\n",
            "2020-06-16 13:41:13.653154: I tensorflow/stream_executor/cuda/cuda_gpu_executor.cc:981] successful NUMA node read from SysFS had negative value (-1), but there must be at least one NUMA node, so returning NUMA node zero\n",
            "2020-06-16 13:41:13.653702: I tensorflow/core/common_runtime/gpu/gpu_device.cc:1703] Adding visible gpu devices: 0\n",
            "2020-06-16 13:41:13.687227: I tensorflow/core/platform/profile_utils/cpu_utils.cc:102] CPU Frequency: 2200000000 Hz\n",
            "2020-06-16 13:41:13.687436: I tensorflow/compiler/xla/service/service.cc:168] XLA service 0x1b5f100 initialized for platform Host (this does not guarantee that XLA will be used). Devices:\n",
            "2020-06-16 13:41:13.687471: I tensorflow/compiler/xla/service/service.cc:176]   StreamExecutor device (0): Host, Default Version\n",
            "2020-06-16 13:41:13.838873: I tensorflow/stream_executor/cuda/cuda_gpu_executor.cc:981] successful NUMA node read from SysFS had negative value (-1), but there must be at least one NUMA node, so returning NUMA node zero\n",
            "2020-06-16 13:41:13.839486: I tensorflow/compiler/xla/service/service.cc:168] XLA service 0x1b5ef40 initialized for platform CUDA (this does not guarantee that XLA will be used). Devices:\n",
            "2020-06-16 13:41:13.839518: I tensorflow/compiler/xla/service/service.cc:176]   StreamExecutor device (0): Tesla P4, Compute Capability 6.1\n",
            "2020-06-16 13:41:13.840460: I tensorflow/stream_executor/cuda/cuda_gpu_executor.cc:981] successful NUMA node read from SysFS had negative value (-1), but there must be at least one NUMA node, so returning NUMA node zero\n",
            "2020-06-16 13:41:13.840962: I tensorflow/core/common_runtime/gpu/gpu_device.cc:1561] Found device 0 with properties: \n",
            "pciBusID: 0000:00:04.0 name: Tesla P4 computeCapability: 6.1\n",
            "coreClock: 1.1135GHz coreCount: 20 deviceMemorySize: 7.43GiB deviceMemoryBandwidth: 178.99GiB/s\n",
            "2020-06-16 13:41:13.841011: I tensorflow/stream_executor/platform/default/dso_loader.cc:44] Successfully opened dynamic library libcudart.so.10.1\n",
            "2020-06-16 13:41:13.841083: I tensorflow/stream_executor/platform/default/dso_loader.cc:44] Successfully opened dynamic library libcublas.so.10\n",
            "2020-06-16 13:41:13.841118: I tensorflow/stream_executor/platform/default/dso_loader.cc:44] Successfully opened dynamic library libcufft.so.10\n",
            "2020-06-16 13:41:13.841147: I tensorflow/stream_executor/platform/default/dso_loader.cc:44] Successfully opened dynamic library libcurand.so.10\n",
            "2020-06-16 13:41:13.841182: I tensorflow/stream_executor/platform/default/dso_loader.cc:44] Successfully opened dynamic library libcusolver.so.10\n",
            "2020-06-16 13:41:13.841206: I tensorflow/stream_executor/platform/default/dso_loader.cc:44] Successfully opened dynamic library libcusparse.so.10\n",
            "2020-06-16 13:41:13.841232: I tensorflow/stream_executor/platform/default/dso_loader.cc:44] Successfully opened dynamic library libcudnn.so.7\n",
            "2020-06-16 13:41:13.841323: I tensorflow/stream_executor/cuda/cuda_gpu_executor.cc:981] successful NUMA node read from SysFS had negative value (-1), but there must be at least one NUMA node, so returning NUMA node zero\n",
            "2020-06-16 13:41:13.841783: I tensorflow/stream_executor/cuda/cuda_gpu_executor.cc:981] successful NUMA node read from SysFS had negative value (-1), but there must be at least one NUMA node, so returning NUMA node zero\n",
            "2020-06-16 13:41:13.842114: I tensorflow/core/common_runtime/gpu/gpu_device.cc:1703] Adding visible gpu devices: 0\n",
            "2020-06-16 13:41:13.845307: I tensorflow/stream_executor/platform/default/dso_loader.cc:44] Successfully opened dynamic library libcudart.so.10.1\n",
            "2020-06-16 13:41:20.311298: I tensorflow/core/common_runtime/gpu/gpu_device.cc:1102] Device interconnect StreamExecutor with strength 1 edge matrix:\n",
            "2020-06-16 13:41:20.311356: I tensorflow/core/common_runtime/gpu/gpu_device.cc:1108]      0 \n",
            "2020-06-16 13:41:20.311368: I tensorflow/core/common_runtime/gpu/gpu_device.cc:1121] 0:   N \n",
            "2020-06-16 13:41:20.320540: I tensorflow/stream_executor/cuda/cuda_gpu_executor.cc:981] successful NUMA node read from SysFS had negative value (-1), but there must be at least one NUMA node, so returning NUMA node zero\n",
            "2020-06-16 13:41:20.321093: I tensorflow/stream_executor/cuda/cuda_gpu_executor.cc:981] successful NUMA node read from SysFS had negative value (-1), but there must be at least one NUMA node, so returning NUMA node zero\n",
            "2020-06-16 13:41:20.321447: W tensorflow/core/common_runtime/gpu/gpu_bfc_allocator.cc:39] Overriding allow_growth setting because the TF_FORCE_GPU_ALLOW_GROWTH environment variable is set. Original config value was 0.\n",
            "2020-06-16 13:41:20.321491: I tensorflow/core/common_runtime/gpu/gpu_device.cc:1247] Created TensorFlow device (/job:localhost/replica:0/task:0/device:GPU:0 with 6966 MB memory) -> physical GPU (device: 0, name: Tesla P4, pci bus id: 0000:00:04.0, compute capability: 6.1)\n",
            "Model: \"sequential\"\n",
            "_________________________________________________________________\n",
            "Layer (type)                 Output Shape              Param #   \n",
            "=================================================================\n",
            "conv2d (Conv2D)              (None, 16, 16, 64)        9472      \n",
            "_________________________________________________________________\n",
            "batch_normalization (BatchNo (None, 16, 16, 64)        256       \n",
            "_________________________________________________________________\n",
            "activation (Activation)      (None, 16, 16, 64)        0         \n",
            "_________________________________________________________________\n",
            "max_pooling2d (MaxPooling2D) (None, 8, 8, 64)          0         \n",
            "_________________________________________________________________\n",
            "res_block (ResBlock)         (None, 8, 8, 64)          74368     \n",
            "_________________________________________________________________\n",
            "res_block_1 (ResBlock)       (None, 8, 8, 64)          74368     \n",
            "_________________________________________________________________\n",
            "res_block_2 (ResBlock)       (None, 4, 4, 128)         231296    \n",
            "_________________________________________________________________\n",
            "res_block_3 (ResBlock)       (None, 4, 4, 128)         296192    \n",
            "_________________________________________________________________\n",
            "global_average_pooling2d (Gl (None, 128)               0         \n",
            "_________________________________________________________________\n",
            "dense (Dense)                (None, 10)                1290      \n",
            "=================================================================\n",
            "Total params: 687,242\n",
            "Trainable params: 685,322\n",
            "Non-trainable params: 1,920\n",
            "_________________________________________________________________\n",
            "Epoch 1/10\n",
            "2020-06-16 13:41:22.394938: I tensorflow/stream_executor/platform/default/dso_loader.cc:44] Successfully opened dynamic library libcublas.so.10\n",
            "2020-06-16 13:41:23.903575: I tensorflow/stream_executor/platform/default/dso_loader.cc:44] Successfully opened dynamic library libcudnn.so.7\n",
            "1562/1562 [==============================] - 14s 9ms/step - loss: 1.2510 - sparse_categorical_accuracy: 0.5493\n",
            "Epoch 2/10\n",
            "1562/1562 [==============================] - 14s 9ms/step - loss: 0.8727 - sparse_categorical_accuracy: 0.6919\n",
            "Epoch 3/10\n",
            "1562/1562 [==============================] - 14s 9ms/step - loss: 0.7219 - sparse_categorical_accuracy: 0.7480\n",
            "Epoch 4/10\n",
            "1562/1562 [==============================] - 14s 9ms/step - loss: 0.6138 - sparse_categorical_accuracy: 0.7872\n",
            "Epoch 5/10\n",
            "1562/1562 [==============================] - 14s 9ms/step - loss: 0.5233 - sparse_categorical_accuracy: 0.8167\n",
            "Epoch 6/10\n",
            "1562/1562 [==============================] - 13s 9ms/step - loss: 0.4438 - sparse_categorical_accuracy: 0.8446\n",
            "Epoch 7/10\n",
            "1562/1562 [==============================] - 14s 9ms/step - loss: 0.3695 - sparse_categorical_accuracy: 0.8717\n",
            "Epoch 8/10\n",
            "1562/1562 [==============================] - 14s 9ms/step - loss: 0.2972 - sparse_categorical_accuracy: 0.8953\n",
            "Epoch 9/10\n",
            "1562/1562 [==============================] - 14s 9ms/step - loss: 0.2437 - sparse_categorical_accuracy: 0.9139\n",
            "Epoch 10/10\n",
            "1562/1562 [==============================] - 14s 9ms/step - loss: 0.1964 - sparse_categorical_accuracy: 0.9320\n"
          ],
          "name": "stdout"
        }
      ]
    },
    {
      "cell_type": "code",
      "metadata": {
        "id": "vREbO0cWVygG",
        "colab_type": "code",
        "colab": {
          "base_uri": "https://localhost:8080/",
          "height": 1000
        },
        "outputId": "a18b0ee9-b395-4631-e5f4-9c5f6658bb4b"
      },
      "source": [
        "gc.collect()\n",
        "% cd /content/compare-deeplibs/keras\n",
        "! python train_tf.py"
      ],
      "execution_count": 9,
      "outputs": [
        {
          "output_type": "stream",
          "text": [
            "/content/compare-deeplibs/keras\n",
            "2020-06-16 13:43:49.223169: I tensorflow/stream_executor/platform/default/dso_loader.cc:44] Successfully opened dynamic library libcudart.so.10.1\n",
            "2020-06-16 13:43:51.186219: I tensorflow/stream_executor/platform/default/dso_loader.cc:44] Successfully opened dynamic library libcuda.so.1\n",
            "2020-06-16 13:43:51.203758: I tensorflow/stream_executor/cuda/cuda_gpu_executor.cc:981] successful NUMA node read from SysFS had negative value (-1), but there must be at least one NUMA node, so returning NUMA node zero\n",
            "2020-06-16 13:43:51.204135: I tensorflow/core/common_runtime/gpu/gpu_device.cc:1561] Found device 0 with properties: \n",
            "pciBusID: 0000:00:04.0 name: Tesla P4 computeCapability: 6.1\n",
            "coreClock: 1.1135GHz coreCount: 20 deviceMemorySize: 7.43GiB deviceMemoryBandwidth: 178.99GiB/s\n",
            "2020-06-16 13:43:51.204172: I tensorflow/stream_executor/platform/default/dso_loader.cc:44] Successfully opened dynamic library libcudart.so.10.1\n",
            "2020-06-16 13:43:51.205566: I tensorflow/stream_executor/platform/default/dso_loader.cc:44] Successfully opened dynamic library libcublas.so.10\n",
            "2020-06-16 13:43:51.212615: I tensorflow/stream_executor/platform/default/dso_loader.cc:44] Successfully opened dynamic library libcufft.so.10\n",
            "2020-06-16 13:43:51.212967: I tensorflow/stream_executor/platform/default/dso_loader.cc:44] Successfully opened dynamic library libcurand.so.10\n",
            "2020-06-16 13:43:51.214628: I tensorflow/stream_executor/platform/default/dso_loader.cc:44] Successfully opened dynamic library libcusolver.so.10\n",
            "2020-06-16 13:43:51.217268: I tensorflow/stream_executor/platform/default/dso_loader.cc:44] Successfully opened dynamic library libcusparse.so.10\n",
            "2020-06-16 13:43:51.223378: I tensorflow/stream_executor/platform/default/dso_loader.cc:44] Successfully opened dynamic library libcudnn.so.7\n",
            "2020-06-16 13:43:51.223505: I tensorflow/stream_executor/cuda/cuda_gpu_executor.cc:981] successful NUMA node read from SysFS had negative value (-1), but there must be at least one NUMA node, so returning NUMA node zero\n",
            "2020-06-16 13:43:51.223952: I tensorflow/stream_executor/cuda/cuda_gpu_executor.cc:981] successful NUMA node read from SysFS had negative value (-1), but there must be at least one NUMA node, so returning NUMA node zero\n",
            "2020-06-16 13:43:51.224394: I tensorflow/core/common_runtime/gpu/gpu_device.cc:1703] Adding visible gpu devices: 0\n",
            "2020-06-16 13:43:51.232911: I tensorflow/core/platform/profile_utils/cpu_utils.cc:102] CPU Frequency: 2200000000 Hz\n",
            "2020-06-16 13:43:51.233144: I tensorflow/compiler/xla/service/service.cc:168] XLA service 0x2b25100 initialized for platform Host (this does not guarantee that XLA will be used). Devices:\n",
            "2020-06-16 13:43:51.233184: I tensorflow/compiler/xla/service/service.cc:176]   StreamExecutor device (0): Host, Default Version\n",
            "2020-06-16 13:43:51.310898: I tensorflow/stream_executor/cuda/cuda_gpu_executor.cc:981] successful NUMA node read from SysFS had negative value (-1), but there must be at least one NUMA node, so returning NUMA node zero\n",
            "2020-06-16 13:43:51.311469: I tensorflow/compiler/xla/service/service.cc:168] XLA service 0x2b24f40 initialized for platform CUDA (this does not guarantee that XLA will be used). Devices:\n",
            "2020-06-16 13:43:51.311503: I tensorflow/compiler/xla/service/service.cc:176]   StreamExecutor device (0): Tesla P4, Compute Capability 6.1\n",
            "2020-06-16 13:43:51.311775: I tensorflow/stream_executor/cuda/cuda_gpu_executor.cc:981] successful NUMA node read from SysFS had negative value (-1), but there must be at least one NUMA node, so returning NUMA node zero\n",
            "2020-06-16 13:43:51.312150: I tensorflow/core/common_runtime/gpu/gpu_device.cc:1561] Found device 0 with properties: \n",
            "pciBusID: 0000:00:04.0 name: Tesla P4 computeCapability: 6.1\n",
            "coreClock: 1.1135GHz coreCount: 20 deviceMemorySize: 7.43GiB deviceMemoryBandwidth: 178.99GiB/s\n",
            "2020-06-16 13:43:51.312191: I tensorflow/stream_executor/platform/default/dso_loader.cc:44] Successfully opened dynamic library libcudart.so.10.1\n",
            "2020-06-16 13:43:51.312251: I tensorflow/stream_executor/platform/default/dso_loader.cc:44] Successfully opened dynamic library libcublas.so.10\n",
            "2020-06-16 13:43:51.312278: I tensorflow/stream_executor/platform/default/dso_loader.cc:44] Successfully opened dynamic library libcufft.so.10\n",
            "2020-06-16 13:43:51.312303: I tensorflow/stream_executor/platform/default/dso_loader.cc:44] Successfully opened dynamic library libcurand.so.10\n",
            "2020-06-16 13:43:51.312323: I tensorflow/stream_executor/platform/default/dso_loader.cc:44] Successfully opened dynamic library libcusolver.so.10\n",
            "2020-06-16 13:43:51.312346: I tensorflow/stream_executor/platform/default/dso_loader.cc:44] Successfully opened dynamic library libcusparse.so.10\n",
            "2020-06-16 13:43:51.312370: I tensorflow/stream_executor/platform/default/dso_loader.cc:44] Successfully opened dynamic library libcudnn.so.7\n",
            "2020-06-16 13:43:51.312443: I tensorflow/stream_executor/cuda/cuda_gpu_executor.cc:981] successful NUMA node read from SysFS had negative value (-1), but there must be at least one NUMA node, so returning NUMA node zero\n",
            "2020-06-16 13:43:51.312864: I tensorflow/stream_executor/cuda/cuda_gpu_executor.cc:981] successful NUMA node read from SysFS had negative value (-1), but there must be at least one NUMA node, so returning NUMA node zero\n",
            "2020-06-16 13:43:51.313184: I tensorflow/core/common_runtime/gpu/gpu_device.cc:1703] Adding visible gpu devices: 0\n",
            "2020-06-16 13:43:51.313228: I tensorflow/stream_executor/platform/default/dso_loader.cc:44] Successfully opened dynamic library libcudart.so.10.1\n",
            "2020-06-16 13:43:51.811246: I tensorflow/core/common_runtime/gpu/gpu_device.cc:1102] Device interconnect StreamExecutor with strength 1 edge matrix:\n",
            "2020-06-16 13:43:51.811303: I tensorflow/core/common_runtime/gpu/gpu_device.cc:1108]      0 \n",
            "2020-06-16 13:43:51.811315: I tensorflow/core/common_runtime/gpu/gpu_device.cc:1121] 0:   N \n",
            "2020-06-16 13:43:51.811550: I tensorflow/stream_executor/cuda/cuda_gpu_executor.cc:981] successful NUMA node read from SysFS had negative value (-1), but there must be at least one NUMA node, so returning NUMA node zero\n",
            "2020-06-16 13:43:51.812039: I tensorflow/stream_executor/cuda/cuda_gpu_executor.cc:981] successful NUMA node read from SysFS had negative value (-1), but there must be at least one NUMA node, so returning NUMA node zero\n",
            "2020-06-16 13:43:51.812373: W tensorflow/core/common_runtime/gpu/gpu_bfc_allocator.cc:39] Overriding allow_growth setting because the TF_FORCE_GPU_ALLOW_GROWTH environment variable is set. Original config value was 0.\n",
            "2020-06-16 13:43:51.812415: I tensorflow/core/common_runtime/gpu/gpu_device.cc:1247] Created TensorFlow device (/job:localhost/replica:0/task:0/device:GPU:0 with 6966 MB memory) -> physical GPU (device: 0, name: Tesla P4, pci bus id: 0000:00:04.0, compute capability: 6.1)\n",
            "Model: \"sequential\"\n",
            "_________________________________________________________________\n",
            "Layer (type)                 Output Shape              Param #   \n",
            "=================================================================\n",
            "conv2d (Conv2D)              (None, 16, 16, 64)        9472      \n",
            "_________________________________________________________________\n",
            "batch_normalization (BatchNo (None, 16, 16, 64)        256       \n",
            "_________________________________________________________________\n",
            "activation (Activation)      (None, 16, 16, 64)        0         \n",
            "_________________________________________________________________\n",
            "max_pooling2d (MaxPooling2D) (None, 8, 8, 64)          0         \n",
            "_________________________________________________________________\n",
            "res_block (ResBlock)         (None, 8, 8, 64)          74368     \n",
            "_________________________________________________________________\n",
            "res_block_1 (ResBlock)       (None, 8, 8, 64)          74368     \n",
            "_________________________________________________________________\n",
            "res_block_2 (ResBlock)       (None, 4, 4, 128)         231296    \n",
            "_________________________________________________________________\n",
            "res_block_3 (ResBlock)       (None, 4, 4, 128)         296192    \n",
            "_________________________________________________________________\n",
            "global_average_pooling2d (Gl (None, 128)               0         \n",
            "_________________________________________________________________\n",
            "dense (Dense)                (None, 10)                1290      \n",
            "=================================================================\n",
            "Total params: 687,242\n",
            "Trainable params: 685,322\n",
            "Non-trainable params: 1,920\n",
            "_________________________________________________________________\n",
            "  0% 0/1562 [00:00<?, ?it/s]2020-06-16 13:43:53.395182: I tensorflow/stream_executor/platform/default/dso_loader.cc:44] Successfully opened dynamic library libcublas.so.10\n",
            "2020-06-16 13:43:53.647900: I tensorflow/stream_executor/platform/default/dso_loader.cc:44] Successfully opened dynamic library libcudnn.so.7\n",
            "100% 1562/1562 [00:14<00:00, 105.10it/s]\n",
            "Epoch: 1/10, accuracy: 0.5423135161399841\n",
            "100% 1562/1562 [00:12<00:00, 127.93it/s]\n",
            "Epoch: 2/10, accuracy: 0.6834186911582947\n",
            "100% 1562/1562 [00:11<00:00, 130.32it/s]\n",
            "Epoch: 3/10, accuracy: 0.7433978915214539\n",
            "100% 1562/1562 [00:12<00:00, 128.46it/s]\n",
            "Epoch: 4/10, accuracy: 0.7919334173202515\n",
            "100% 1562/1562 [00:12<00:00, 128.92it/s]\n",
            "Epoch: 5/10, accuracy: 0.832166314125061\n",
            "100% 1562/1562 [00:12<00:00, 130.03it/s]\n",
            "Epoch: 6/10, accuracy: 0.8697783350944519\n",
            "100% 1562/1562 [00:12<00:00, 129.81it/s]\n",
            "Epoch: 7/10, accuracy: 0.8974671959877014\n",
            "100% 1562/1562 [00:12<00:00, 126.01it/s]\n",
            "Epoch: 8/10, accuracy: 0.9205746054649353\n",
            "100% 1562/1562 [00:12<00:00, 124.15it/s]\n",
            "Epoch: 9/10, accuracy: 0.9374600052833557\n",
            "100% 1562/1562 [00:12<00:00, 127.76it/s]\n",
            "Epoch: 10/10, accuracy: 0.9466029405593872\n"
          ],
          "name": "stdout"
        }
      ]
    },
    {
      "cell_type": "code",
      "metadata": {
        "id": "-BUCytKUWEMG",
        "colab_type": "code",
        "colab": {
          "base_uri": "https://localhost:8080/",
          "height": 374
        },
        "outputId": "fae04572-c4de-4971-e0f8-723afcbc2424"
      },
      "source": [
        "gc.collect()\n",
        "% cd /content/compare-deeplibs/torch\n",
        "! python train.py"
      ],
      "execution_count": 10,
      "outputs": [
        {
          "output_type": "stream",
          "text": [
            "/content/compare-deeplibs/torch\n",
            "100% 1563/1563 [00:23<00:00, 67.33it/s]\n",
            "Epoch: 1/10, accuracy: 0.5317298464491362\n",
            "100% 1563/1563 [00:22<00:00, 68.77it/s]\n",
            "Epoch: 2/10, accuracy: 0.6765634996801023\n",
            "100% 1563/1563 [00:22<00:00, 69.70it/s]\n",
            "Epoch: 3/10, accuracy: 0.7339251439539347\n",
            "100% 1563/1563 [00:22<00:00, 68.51it/s]\n",
            "Epoch: 4/10, accuracy: 0.7727127319257837\n",
            "100% 1563/1563 [00:22<00:00, 68.71it/s]\n",
            "Epoch: 5/10, accuracy: 0.802763115802943\n",
            "100% 1563/1563 [00:22<00:00, 69.06it/s]\n",
            "Epoch: 6/10, accuracy: 0.8331134037108126\n",
            "100% 1563/1563 [00:22<00:00, 69.46it/s]\n",
            "Epoch: 7/10, accuracy: 0.8593250159948816\n",
            "100% 1563/1563 [00:22<00:00, 68.29it/s]\n",
            "Epoch: 8/10, accuracy: 0.8820177543186181\n",
            "100% 1563/1563 [00:22<00:00, 70.25it/s]\n",
            "Epoch: 9/10, accuracy: 0.902131317978247\n",
            "100% 1563/1563 [00:22<00:00, 70.05it/s]\n",
            "Epoch: 10/10, accuracy: 0.9186060460652591\n"
          ],
          "name": "stdout"
        }
      ]
    }
  ]
}