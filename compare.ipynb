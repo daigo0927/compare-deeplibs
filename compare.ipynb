{
  "nbformat": 4,
  "nbformat_minor": 0,
  "metadata": {
    "colab": {
      "name": "compare.ipynb",
      "provenance": [],
      "collapsed_sections": [],
      "include_colab_link": true
    },
    "kernelspec": {
      "name": "python3",
      "display_name": "Python 3"
    },
    "accelerator": "GPU"
  },
  "cells": [
    {
      "cell_type": "markdown",
      "metadata": {
        "id": "view-in-github",
        "colab_type": "text"
      },
      "source": [
        "<a href=\"https://colab.research.google.com/github/daigo0927/compare-deeplibs/blob/update/compare.ipynb\" target=\"_parent\"><img src=\"https://colab.research.google.com/assets/colab-badge.svg\" alt=\"Open In Colab\"/></a>"
      ]
    },
    {
      "cell_type": "code",
      "metadata": {
        "id": "bsLBAaWaUqw4",
        "colab_type": "code",
        "outputId": "4fcdbf15-86a9-4b4f-917d-ea102524a040",
        "colab": {
          "base_uri": "https://localhost:8080/",
          "height": 374
        }
      },
      "source": [
        "! nvcc -V\n",
        "! nvidia-smi"
      ],
      "execution_count": 1,
      "outputs": [
        {
          "output_type": "stream",
          "text": [
            "nvcc: NVIDIA (R) Cuda compiler driver\n",
            "Copyright (c) 2005-2019 NVIDIA Corporation\n",
            "Built on Sun_Jul_28_19:07:16_PDT_2019\n",
            "Cuda compilation tools, release 10.1, V10.1.243\n",
            "Thu Jun 11 15:42:50 2020       \n",
            "+-----------------------------------------------------------------------------+\n",
            "| NVIDIA-SMI 440.82       Driver Version: 418.67       CUDA Version: 10.1     |\n",
            "|-------------------------------+----------------------+----------------------+\n",
            "| GPU  Name        Persistence-M| Bus-Id        Disp.A | Volatile Uncorr. ECC |\n",
            "| Fan  Temp  Perf  Pwr:Usage/Cap|         Memory-Usage | GPU-Util  Compute M. |\n",
            "|===============================+======================+======================|\n",
            "|   0  Tesla P4            Off  | 00000000:00:04.0 Off |                    0 |\n",
            "| N/A   41C    P8     7W /  75W |      0MiB /  7611MiB |      0%      Default |\n",
            "+-------------------------------+----------------------+----------------------+\n",
            "                                                                               \n",
            "+-----------------------------------------------------------------------------+\n",
            "| Processes:                                                       GPU Memory |\n",
            "|  GPU       PID   Type   Process name                             Usage      |\n",
            "|=============================================================================|\n",
            "|  No running processes found                                                 |\n",
            "+-----------------------------------------------------------------------------+\n"
          ],
          "name": "stdout"
        }
      ]
    },
    {
      "cell_type": "code",
      "metadata": {
        "id": "rWy0jsD1Uzte",
        "colab_type": "code",
        "outputId": "d8fa78fb-e79b-4846-bdc0-2280436d0074",
        "colab": {
          "base_uri": "https://localhost:8080/",
          "height": 136
        }
      },
      "source": [
        "! git clone -b update https://github.com/daigo0927/compare-deeplibs.git"
      ],
      "execution_count": 2,
      "outputs": [
        {
          "output_type": "stream",
          "text": [
            "Cloning into 'compare-deeplibs'...\n",
            "remote: Enumerating objects: 247, done.\u001b[K\n",
            "remote: Counting objects: 100% (247/247), done.\u001b[K\n",
            "remote: Compressing objects: 100% (171/171), done.\u001b[K\n",
            "remote: Total 363 (delta 155), reused 153 (delta 72), pack-reused 116\u001b[K\n",
            "Receiving objects: 100% (363/363), 211.02 KiB | 332.00 KiB/s, done.\n",
            "Resolving deltas: 100% (217/217), done.\n"
          ],
          "name": "stdout"
        }
      ]
    },
    {
      "cell_type": "code",
      "metadata": {
        "id": "TspFY5urVPzt",
        "colab_type": "code",
        "outputId": "b24a3bbd-45eb-47aa-b636-5875e7212d8d",
        "colab": {
          "base_uri": "https://localhost:8080/",
          "height": 34
        }
      },
      "source": [
        "%cd compare-deeplibs/"
      ],
      "execution_count": 3,
      "outputs": [
        {
          "output_type": "stream",
          "text": [
            "/content/compare-deeplibs\n"
          ],
          "name": "stdout"
        }
      ]
    },
    {
      "cell_type": "code",
      "metadata": {
        "id": "9zBYm8N4VYE7",
        "colab_type": "code",
        "outputId": "b35a1cba-69a4-4de9-e4c7-b284fbd28695",
        "colab": {
          "base_uri": "https://localhost:8080/",
          "height": 374
        }
      },
      "source": [
        "! sh prepare_cifar10.sh"
      ],
      "execution_count": 4,
      "outputs": [
        {
          "output_type": "stream",
          "text": [
            "  % Total    % Received % Xferd  Average Speed   Time    Time     Time  Current\n",
            "                                 Dload  Upload   Total   Spent    Left  Speed\n",
            "100  162M  100  162M    0     0  11.6M      0  0:00:14  0:00:14 --:--:-- 13.8M\n",
            "cifar-10-batches-py/\n",
            "cifar-10-batches-py/data_batch_4\n",
            "cifar-10-batches-py/readme.html\n",
            "cifar-10-batches-py/test_batch\n",
            "cifar-10-batches-py/data_batch_3\n",
            "cifar-10-batches-py/batches.meta\n",
            "cifar-10-batches-py/data_batch_2\n",
            "cifar-10-batches-py/data_batch_5\n",
            "cifar-10-batches-py/data_batch_1\n",
            "Requirement already satisfied: numpy in /usr/local/lib/python3.6/dist-packages (1.18.5)\n",
            "Requirement already satisfied: pillow in /usr/local/lib/python3.6/dist-packages (7.0.0)\n",
            "--------- Extracting data_batch_1 -----------\n",
            "--------- Extracting data_batch_2 -----------\n",
            "--------- Extracting data_batch_3 -----------\n",
            "--------- Extracting data_batch_4 -----------\n",
            "--------- Extracting data_batch_5 -----------\n",
            "--------- Extracting test_batch -----------\n",
            "--------- Completed ------------\n"
          ],
          "name": "stdout"
        }
      ]
    },
    {
      "cell_type": "code",
      "metadata": {
        "id": "dj4sGJsNVepV",
        "colab_type": "code",
        "outputId": "2245c30f-f1cd-4359-a1ce-324aa7119655",
        "colab": {
          "base_uri": "https://localhost:8080/",
          "height": 221
        }
      },
      "source": [
        "! pip list | grep tensor"
      ],
      "execution_count": 5,
      "outputs": [
        {
          "output_type": "stream",
          "text": [
            "tensorboard              2.2.2          \n",
            "tensorboard-plugin-wit   1.6.0.post3    \n",
            "tensorboardcolab         0.0.22         \n",
            "tensorflow               2.2.0          \n",
            "tensorflow-addons        0.8.3          \n",
            "tensorflow-datasets      2.1.0          \n",
            "tensorflow-estimator     2.2.0          \n",
            "tensorflow-gcs-config    2.1.8          \n",
            "tensorflow-hub           0.8.0          \n",
            "tensorflow-metadata      0.22.1         \n",
            "tensorflow-privacy       0.2.2          \n",
            "tensorflow-probability   0.10.0         \n"
          ],
          "name": "stdout"
        }
      ]
    },
    {
      "cell_type": "code",
      "metadata": {
        "id": "0sCYEk_tVvdX",
        "colab_type": "code",
        "outputId": "5d97e8b2-b6ca-4a0f-a677-29fa98c06566",
        "colab": {
          "base_uri": "https://localhost:8080/",
          "height": 581
        }
      },
      "source": [
        "! pip install torch torchvision albumentations"
      ],
      "execution_count": 6,
      "outputs": [
        {
          "output_type": "stream",
          "text": [
            "Requirement already satisfied: torch in /usr/local/lib/python3.6/dist-packages (1.5.0+cu101)\n",
            "Requirement already satisfied: torchvision in /usr/local/lib/python3.6/dist-packages (0.6.0+cu101)\n",
            "Requirement already satisfied: albumentations in /usr/local/lib/python3.6/dist-packages (0.1.12)\n",
            "Requirement already satisfied: numpy in /usr/local/lib/python3.6/dist-packages (from torch) (1.18.5)\n",
            "Requirement already satisfied: future in /usr/local/lib/python3.6/dist-packages (from torch) (0.16.0)\n",
            "Requirement already satisfied: pillow>=4.1.1 in /usr/local/lib/python3.6/dist-packages (from torchvision) (7.0.0)\n",
            "Requirement already satisfied: scipy in /usr/local/lib/python3.6/dist-packages (from albumentations) (1.4.1)\n",
            "Collecting imgaug<0.2.7,>=0.2.5\n",
            "\u001b[?25l  Downloading https://files.pythonhosted.org/packages/ad/2e/748dbb7bb52ec8667098bae9b585f448569ae520031932687761165419a2/imgaug-0.2.6.tar.gz (631kB)\n",
            "\r\u001b[K     |▌                               | 10kB 6.1MB/s eta 0:00:01\r\u001b[K     |█                               | 20kB 8.9MB/s eta 0:00:01\r\u001b[K     |█▋                              | 30kB 12.2MB/s eta 0:00:01\r\u001b[K     |██                              | 40kB 11.4MB/s eta 0:00:01\r\u001b[K     |██▋                             | 51kB 13.4MB/s eta 0:00:01\r\u001b[K     |███▏                            | 61kB 13.4MB/s eta 0:00:01\r\u001b[K     |███▋                            | 71kB 14.9MB/s eta 0:00:01\r\u001b[K     |████▏                           | 81kB 14.2MB/s eta 0:00:01\r\u001b[K     |████▊                           | 92kB 14.7MB/s eta 0:00:01\r\u001b[K     |█████▏                          | 102kB 15.9MB/s eta 0:00:01\r\u001b[K     |█████▊                          | 112kB 15.9MB/s eta 0:00:01\r\u001b[K     |██████▎                         | 122kB 15.9MB/s eta 0:00:01\r\u001b[K     |██████▊                         | 133kB 15.9MB/s eta 0:00:01\r\u001b[K     |███████▎                        | 143kB 15.9MB/s eta 0:00:01\r\u001b[K     |███████▉                        | 153kB 15.9MB/s eta 0:00:01\r\u001b[K     |████████▎                       | 163kB 15.9MB/s eta 0:00:01\r\u001b[K     |████████▉                       | 174kB 15.9MB/s eta 0:00:01\r\u001b[K     |█████████▍                      | 184kB 15.9MB/s eta 0:00:01\r\u001b[K     |█████████▉                      | 194kB 15.9MB/s eta 0:00:01\r\u001b[K     |██████████▍                     | 204kB 15.9MB/s eta 0:00:01\r\u001b[K     |███████████                     | 215kB 15.9MB/s eta 0:00:01\r\u001b[K     |███████████▍                    | 225kB 15.9MB/s eta 0:00:01\r\u001b[K     |████████████                    | 235kB 15.9MB/s eta 0:00:01\r\u001b[K     |████████████▌                   | 245kB 15.9MB/s eta 0:00:01\r\u001b[K     |█████████████                   | 256kB 15.9MB/s eta 0:00:01\r\u001b[K     |█████████████▌                  | 266kB 15.9MB/s eta 0:00:01\r\u001b[K     |██████████████                  | 276kB 15.9MB/s eta 0:00:01\r\u001b[K     |██████████████▌                 | 286kB 15.9MB/s eta 0:00:01\r\u001b[K     |███████████████                 | 296kB 15.9MB/s eta 0:00:01\r\u001b[K     |███████████████▋                | 307kB 15.9MB/s eta 0:00:01\r\u001b[K     |████████████████                | 317kB 15.9MB/s eta 0:00:01\r\u001b[K     |████████████████▋               | 327kB 15.9MB/s eta 0:00:01\r\u001b[K     |█████████████████▏              | 337kB 15.9MB/s eta 0:00:01\r\u001b[K     |█████████████████▋              | 348kB 15.9MB/s eta 0:00:01\r\u001b[K     |██████████████████▏             | 358kB 15.9MB/s eta 0:00:01\r\u001b[K     |██████████████████▊             | 368kB 15.9MB/s eta 0:00:01\r\u001b[K     |███████████████████▏            | 378kB 15.9MB/s eta 0:00:01\r\u001b[K     |███████████████████▊            | 389kB 15.9MB/s eta 0:00:01\r\u001b[K     |████████████████████▎           | 399kB 15.9MB/s eta 0:00:01\r\u001b[K     |████████████████████▊           | 409kB 15.9MB/s eta 0:00:01\r\u001b[K     |█████████████████████▎          | 419kB 15.9MB/s eta 0:00:01\r\u001b[K     |█████████████████████▉          | 430kB 15.9MB/s eta 0:00:01\r\u001b[K     |██████████████████████▎         | 440kB 15.9MB/s eta 0:00:01\r\u001b[K     |██████████████████████▉         | 450kB 15.9MB/s eta 0:00:01\r\u001b[K     |███████████████████████▍        | 460kB 15.9MB/s eta 0:00:01\r\u001b[K     |███████████████████████▉        | 471kB 15.9MB/s eta 0:00:01\r\u001b[K     |████████████████████████▍       | 481kB 15.9MB/s eta 0:00:01\r\u001b[K     |█████████████████████████       | 491kB 15.9MB/s eta 0:00:01\r\u001b[K     |█████████████████████████▍      | 501kB 15.9MB/s eta 0:00:01\r\u001b[K     |██████████████████████████      | 512kB 15.9MB/s eta 0:00:01\r\u001b[K     |██████████████████████████▌     | 522kB 15.9MB/s eta 0:00:01\r\u001b[K     |███████████████████████████     | 532kB 15.9MB/s eta 0:00:01\r\u001b[K     |███████████████████████████▌    | 542kB 15.9MB/s eta 0:00:01\r\u001b[K     |████████████████████████████    | 552kB 15.9MB/s eta 0:00:01\r\u001b[K     |████████████████████████████▌   | 563kB 15.9MB/s eta 0:00:01\r\u001b[K     |█████████████████████████████   | 573kB 15.9MB/s eta 0:00:01\r\u001b[K     |█████████████████████████████▋  | 583kB 15.9MB/s eta 0:00:01\r\u001b[K     |██████████████████████████████  | 593kB 15.9MB/s eta 0:00:01\r\u001b[K     |██████████████████████████████▋ | 604kB 15.9MB/s eta 0:00:01\r\u001b[K     |███████████████████████████████▏| 614kB 15.9MB/s eta 0:00:01\r\u001b[K     |███████████████████████████████▋| 624kB 15.9MB/s eta 0:00:01\r\u001b[K     |████████████████████████████████| 634kB 15.9MB/s \n",
            "\u001b[?25hRequirement already satisfied: opencv-python in /usr/local/lib/python3.6/dist-packages (from albumentations) (4.1.2.30)\n",
            "Requirement already satisfied: scikit-image>=0.11.0 in /usr/local/lib/python3.6/dist-packages (from imgaug<0.2.7,>=0.2.5->albumentations) (0.16.2)\n",
            "Requirement already satisfied: six in /usr/local/lib/python3.6/dist-packages (from imgaug<0.2.7,>=0.2.5->albumentations) (1.12.0)\n",
            "Requirement already satisfied: PyWavelets>=0.4.0 in /usr/local/lib/python3.6/dist-packages (from scikit-image>=0.11.0->imgaug<0.2.7,>=0.2.5->albumentations) (1.1.1)\n",
            "Requirement already satisfied: matplotlib!=3.0.0,>=2.0.0 in /usr/local/lib/python3.6/dist-packages (from scikit-image>=0.11.0->imgaug<0.2.7,>=0.2.5->albumentations) (3.2.1)\n",
            "Requirement already satisfied: networkx>=2.0 in /usr/local/lib/python3.6/dist-packages (from scikit-image>=0.11.0->imgaug<0.2.7,>=0.2.5->albumentations) (2.4)\n",
            "Requirement already satisfied: imageio>=2.3.0 in /usr/local/lib/python3.6/dist-packages (from scikit-image>=0.11.0->imgaug<0.2.7,>=0.2.5->albumentations) (2.4.1)\n",
            "Requirement already satisfied: cycler>=0.10 in /usr/local/lib/python3.6/dist-packages (from matplotlib!=3.0.0,>=2.0.0->scikit-image>=0.11.0->imgaug<0.2.7,>=0.2.5->albumentations) (0.10.0)\n",
            "Requirement already satisfied: kiwisolver>=1.0.1 in /usr/local/lib/python3.6/dist-packages (from matplotlib!=3.0.0,>=2.0.0->scikit-image>=0.11.0->imgaug<0.2.7,>=0.2.5->albumentations) (1.2.0)\n",
            "Requirement already satisfied: pyparsing!=2.0.4,!=2.1.2,!=2.1.6,>=2.0.1 in /usr/local/lib/python3.6/dist-packages (from matplotlib!=3.0.0,>=2.0.0->scikit-image>=0.11.0->imgaug<0.2.7,>=0.2.5->albumentations) (2.4.7)\n",
            "Requirement already satisfied: python-dateutil>=2.1 in /usr/local/lib/python3.6/dist-packages (from matplotlib!=3.0.0,>=2.0.0->scikit-image>=0.11.0->imgaug<0.2.7,>=0.2.5->albumentations) (2.8.1)\n",
            "Requirement already satisfied: decorator>=4.3.0 in /usr/local/lib/python3.6/dist-packages (from networkx>=2.0->scikit-image>=0.11.0->imgaug<0.2.7,>=0.2.5->albumentations) (4.4.2)\n",
            "Building wheels for collected packages: imgaug\n",
            "  Building wheel for imgaug (setup.py) ... \u001b[?25l\u001b[?25hdone\n",
            "  Created wheel for imgaug: filename=imgaug-0.2.6-cp36-none-any.whl size=654020 sha256=e3a949245e9a7a5d7015026abb8ab2954fe6b3cdfdebf25c3c8edce38a4cd637\n",
            "  Stored in directory: /root/.cache/pip/wheels/97/ec/48/0d25896c417b715af6236dbcef8f0bed136a1a5e52972fc6d0\n",
            "Successfully built imgaug\n",
            "Installing collected packages: imgaug\n",
            "  Found existing installation: imgaug 0.2.9\n",
            "    Uninstalling imgaug-0.2.9:\n",
            "      Successfully uninstalled imgaug-0.2.9\n",
            "Successfully installed imgaug-0.2.6\n"
          ],
          "name": "stdout"
        }
      ]
    },
    {
      "cell_type": "code",
      "metadata": {
        "id": "GOCa7Y68Glp6",
        "colab_type": "code",
        "colab": {}
      },
      "source": [
        "import gc"
      ],
      "execution_count": 0,
      "outputs": []
    },
    {
      "cell_type": "code",
      "metadata": {
        "id": "1GRiujeKS-uw",
        "colab_type": "code",
        "outputId": "42617c12-a529-47f6-8e53-76f5faa56c64",
        "colab": {
          "base_uri": "https://localhost:8080/",
          "height": 1000
        }
      },
      "source": [
        "gc.collect()\n",
        "% cd /content/compare-deeplibs/keras\n",
        "! python train.py"
      ],
      "execution_count": 9,
      "outputs": [
        {
          "output_type": "stream",
          "text": [
            "/content/compare-deeplibs/keras\n",
            "2020-06-11 15:58:29.628781: I tensorflow/stream_executor/platform/default/dso_loader.cc:44] Successfully opened dynamic library libcudart.so.10.1\n",
            "2020-06-11 15:58:31.743758: I tensorflow/stream_executor/platform/default/dso_loader.cc:44] Successfully opened dynamic library libcuda.so.1\n",
            "2020-06-11 15:58:31.767198: I tensorflow/stream_executor/cuda/cuda_gpu_executor.cc:981] successful NUMA node read from SysFS had negative value (-1), but there must be at least one NUMA node, so returning NUMA node zero\n",
            "2020-06-11 15:58:31.767825: I tensorflow/core/common_runtime/gpu/gpu_device.cc:1561] Found device 0 with properties: \n",
            "pciBusID: 0000:00:04.0 name: Tesla P4 computeCapability: 6.1\n",
            "coreClock: 1.1135GHz coreCount: 20 deviceMemorySize: 7.43GiB deviceMemoryBandwidth: 178.99GiB/s\n",
            "2020-06-11 15:58:31.767871: I tensorflow/stream_executor/platform/default/dso_loader.cc:44] Successfully opened dynamic library libcudart.so.10.1\n",
            "2020-06-11 15:58:32.047592: I tensorflow/stream_executor/platform/default/dso_loader.cc:44] Successfully opened dynamic library libcublas.so.10\n",
            "2020-06-11 15:58:32.195870: I tensorflow/stream_executor/platform/default/dso_loader.cc:44] Successfully opened dynamic library libcufft.so.10\n",
            "2020-06-11 15:58:32.228359: I tensorflow/stream_executor/platform/default/dso_loader.cc:44] Successfully opened dynamic library libcurand.so.10\n",
            "2020-06-11 15:58:32.517682: I tensorflow/stream_executor/platform/default/dso_loader.cc:44] Successfully opened dynamic library libcusolver.so.10\n",
            "2020-06-11 15:58:32.557536: I tensorflow/stream_executor/platform/default/dso_loader.cc:44] Successfully opened dynamic library libcusparse.so.10\n",
            "2020-06-11 15:58:33.107470: I tensorflow/stream_executor/platform/default/dso_loader.cc:44] Successfully opened dynamic library libcudnn.so.7\n",
            "2020-06-11 15:58:33.107692: I tensorflow/stream_executor/cuda/cuda_gpu_executor.cc:981] successful NUMA node read from SysFS had negative value (-1), but there must be at least one NUMA node, so returning NUMA node zero\n",
            "2020-06-11 15:58:33.108469: I tensorflow/stream_executor/cuda/cuda_gpu_executor.cc:981] successful NUMA node read from SysFS had negative value (-1), but there must be at least one NUMA node, so returning NUMA node zero\n",
            "2020-06-11 15:58:33.109253: I tensorflow/core/common_runtime/gpu/gpu_device.cc:1703] Adding visible gpu devices: 0\n",
            "2020-06-11 15:58:33.109610: I tensorflow/core/platform/cpu_feature_guard.cc:143] Your CPU supports instructions that this TensorFlow binary was not compiled to use: AVX512F\n",
            "2020-06-11 15:58:33.133163: I tensorflow/core/platform/profile_utils/cpu_utils.cc:102] CPU Frequency: 2000120000 Hz\n",
            "2020-06-11 15:58:33.133390: I tensorflow/compiler/xla/service/service.cc:168] XLA service 0x1e51100 initialized for platform Host (this does not guarantee that XLA will be used). Devices:\n",
            "2020-06-11 15:58:33.133421: I tensorflow/compiler/xla/service/service.cc:176]   StreamExecutor device (0): Host, Default Version\n",
            "2020-06-11 15:58:33.272334: I tensorflow/stream_executor/cuda/cuda_gpu_executor.cc:981] successful NUMA node read from SysFS had negative value (-1), but there must be at least one NUMA node, so returning NUMA node zero\n",
            "2020-06-11 15:58:33.272926: I tensorflow/compiler/xla/service/service.cc:168] XLA service 0x1e50f40 initialized for platform CUDA (this does not guarantee that XLA will be used). Devices:\n",
            "2020-06-11 15:58:33.272979: I tensorflow/compiler/xla/service/service.cc:176]   StreamExecutor device (0): Tesla P4, Compute Capability 6.1\n",
            "2020-06-11 15:58:33.273277: I tensorflow/stream_executor/cuda/cuda_gpu_executor.cc:981] successful NUMA node read from SysFS had negative value (-1), but there must be at least one NUMA node, so returning NUMA node zero\n",
            "2020-06-11 15:58:33.273677: I tensorflow/core/common_runtime/gpu/gpu_device.cc:1561] Found device 0 with properties: \n",
            "pciBusID: 0000:00:04.0 name: Tesla P4 computeCapability: 6.1\n",
            "coreClock: 1.1135GHz coreCount: 20 deviceMemorySize: 7.43GiB deviceMemoryBandwidth: 178.99GiB/s\n",
            "2020-06-11 15:58:33.273723: I tensorflow/stream_executor/platform/default/dso_loader.cc:44] Successfully opened dynamic library libcudart.so.10.1\n",
            "2020-06-11 15:58:33.273795: I tensorflow/stream_executor/platform/default/dso_loader.cc:44] Successfully opened dynamic library libcublas.so.10\n",
            "2020-06-11 15:58:33.273829: I tensorflow/stream_executor/platform/default/dso_loader.cc:44] Successfully opened dynamic library libcufft.so.10\n",
            "2020-06-11 15:58:33.273857: I tensorflow/stream_executor/platform/default/dso_loader.cc:44] Successfully opened dynamic library libcurand.so.10\n",
            "2020-06-11 15:58:33.273888: I tensorflow/stream_executor/platform/default/dso_loader.cc:44] Successfully opened dynamic library libcusolver.so.10\n",
            "2020-06-11 15:58:33.273913: I tensorflow/stream_executor/platform/default/dso_loader.cc:44] Successfully opened dynamic library libcusparse.so.10\n",
            "2020-06-11 15:58:33.273938: I tensorflow/stream_executor/platform/default/dso_loader.cc:44] Successfully opened dynamic library libcudnn.so.7\n",
            "2020-06-11 15:58:33.274019: I tensorflow/stream_executor/cuda/cuda_gpu_executor.cc:981] successful NUMA node read from SysFS had negative value (-1), but there must be at least one NUMA node, so returning NUMA node zero\n",
            "2020-06-11 15:58:33.274456: I tensorflow/stream_executor/cuda/cuda_gpu_executor.cc:981] successful NUMA node read from SysFS had negative value (-1), but there must be at least one NUMA node, so returning NUMA node zero\n",
            "2020-06-11 15:58:33.274784: I tensorflow/core/common_runtime/gpu/gpu_device.cc:1703] Adding visible gpu devices: 0\n",
            "2020-06-11 15:58:33.280035: I tensorflow/stream_executor/platform/default/dso_loader.cc:44] Successfully opened dynamic library libcudart.so.10.1\n",
            "2020-06-11 15:58:39.698599: I tensorflow/core/common_runtime/gpu/gpu_device.cc:1102] Device interconnect StreamExecutor with strength 1 edge matrix:\n",
            "2020-06-11 15:58:39.698668: I tensorflow/core/common_runtime/gpu/gpu_device.cc:1108]      0 \n",
            "2020-06-11 15:58:39.698683: I tensorflow/core/common_runtime/gpu/gpu_device.cc:1121] 0:   N \n",
            "2020-06-11 15:58:39.704627: I tensorflow/stream_executor/cuda/cuda_gpu_executor.cc:981] successful NUMA node read from SysFS had negative value (-1), but there must be at least one NUMA node, so returning NUMA node zero\n",
            "2020-06-11 15:58:39.705201: I tensorflow/stream_executor/cuda/cuda_gpu_executor.cc:981] successful NUMA node read from SysFS had negative value (-1), but there must be at least one NUMA node, so returning NUMA node zero\n",
            "2020-06-11 15:58:39.705591: W tensorflow/core/common_runtime/gpu/gpu_bfc_allocator.cc:39] Overriding allow_growth setting because the TF_FORCE_GPU_ALLOW_GROWTH environment variable is set. Original config value was 0.\n",
            "2020-06-11 15:58:39.705642: I tensorflow/core/common_runtime/gpu/gpu_device.cc:1247] Created TensorFlow device (/job:localhost/replica:0/task:0/device:GPU:0 with 6966 MB memory) -> physical GPU (device: 0, name: Tesla P4, pci bus id: 0000:00:04.0, compute capability: 6.1)\n",
            "Model: \"sequential\"\n",
            "_________________________________________________________________\n",
            "Layer (type)                 Output Shape              Param #   \n",
            "=================================================================\n",
            "conv2d (Conv2D)              (None, 16, 16, 64)        9472      \n",
            "_________________________________________________________________\n",
            "batch_normalization (BatchNo (None, 16, 16, 64)        256       \n",
            "_________________________________________________________________\n",
            "activation (Activation)      (None, 16, 16, 64)        0         \n",
            "_________________________________________________________________\n",
            "max_pooling2d (MaxPooling2D) (None, 8, 8, 64)          0         \n",
            "_________________________________________________________________\n",
            "res_block (ResBlock)         (None, 8, 8, 64)          74368     \n",
            "_________________________________________________________________\n",
            "res_block_1 (ResBlock)       (None, 8, 8, 64)          74368     \n",
            "_________________________________________________________________\n",
            "res_block_2 (ResBlock)       (None, 4, 4, 128)         231296    \n",
            "_________________________________________________________________\n",
            "res_block_3 (ResBlock)       (None, 4, 4, 128)         296192    \n",
            "_________________________________________________________________\n",
            "global_average_pooling2d (Gl (None, 128)               0         \n",
            "_________________________________________________________________\n",
            "dense (Dense)                (None, 10)                1290      \n",
            "=================================================================\n",
            "Total params: 687,242\n",
            "Trainable params: 685,322\n",
            "Non-trainable params: 1,920\n",
            "_________________________________________________________________\n",
            "Epoch 1/10\n",
            "2020-06-11 15:58:41.804498: I tensorflow/stream_executor/platform/default/dso_loader.cc:44] Successfully opened dynamic library libcublas.so.10\n",
            "2020-06-11 15:58:43.327491: I tensorflow/stream_executor/platform/default/dso_loader.cc:44] Successfully opened dynamic library libcudnn.so.7\n",
            "1562/1562 [==============================] - 14s 9ms/step - loss: 1.2670 - sparse_categorical_accuracy: 0.5445\n",
            "Epoch 2/10\n",
            "1562/1562 [==============================] - 14s 9ms/step - loss: 0.8955 - sparse_categorical_accuracy: 0.6834\n",
            "Epoch 3/10\n",
            "1562/1562 [==============================] - 14s 9ms/step - loss: 0.7349 - sparse_categorical_accuracy: 0.7434\n",
            "Epoch 4/10\n",
            "1562/1562 [==============================] - 14s 9ms/step - loss: 0.6262 - sparse_categorical_accuracy: 0.7813\n",
            "Epoch 5/10\n",
            "1562/1562 [==============================] - 14s 9ms/step - loss: 0.5354 - sparse_categorical_accuracy: 0.8134\n",
            "Epoch 6/10\n",
            "1562/1562 [==============================] - 14s 9ms/step - loss: 0.4512 - sparse_categorical_accuracy: 0.8410\n",
            "Epoch 7/10\n",
            "1562/1562 [==============================] - 14s 9ms/step - loss: 0.3717 - sparse_categorical_accuracy: 0.8698\n",
            "Epoch 8/10\n",
            "1562/1562 [==============================] - 14s 9ms/step - loss: 0.3065 - sparse_categorical_accuracy: 0.8910\n",
            "Epoch 9/10\n",
            "1562/1562 [==============================] - 14s 9ms/step - loss: 0.2471 - sparse_categorical_accuracy: 0.9142\n",
            "Epoch 10/10\n",
            "1562/1562 [==============================] - 14s 9ms/step - loss: 0.2016 - sparse_categorical_accuracy: 0.9287\n"
          ],
          "name": "stdout"
        }
      ]
    },
    {
      "cell_type": "code",
      "metadata": {
        "id": "vREbO0cWVygG",
        "colab_type": "code",
        "outputId": "90d44928-7308-43c1-f497-1a666fe5a074",
        "colab": {
          "base_uri": "https://localhost:8080/",
          "height": 1000
        }
      },
      "source": [
        "gc.collect()\n",
        "% cd /content/compare-deeplibs/keras\n",
        "! python train_tf.py"
      ],
      "execution_count": 10,
      "outputs": [
        {
          "output_type": "stream",
          "text": [
            "/content/compare-deeplibs/keras\n",
            "2020-06-11 16:01:17.969449: I tensorflow/stream_executor/platform/default/dso_loader.cc:44] Successfully opened dynamic library libcudart.so.10.1\n",
            "2020-06-11 16:01:20.043842: I tensorflow/stream_executor/platform/default/dso_loader.cc:44] Successfully opened dynamic library libcuda.so.1\n",
            "2020-06-11 16:01:20.066107: I tensorflow/stream_executor/cuda/cuda_gpu_executor.cc:981] successful NUMA node read from SysFS had negative value (-1), but there must be at least one NUMA node, so returning NUMA node zero\n",
            "2020-06-11 16:01:20.066795: I tensorflow/core/common_runtime/gpu/gpu_device.cc:1561] Found device 0 with properties: \n",
            "pciBusID: 0000:00:04.0 name: Tesla P4 computeCapability: 6.1\n",
            "coreClock: 1.1135GHz coreCount: 20 deviceMemorySize: 7.43GiB deviceMemoryBandwidth: 178.99GiB/s\n",
            "2020-06-11 16:01:20.066849: I tensorflow/stream_executor/platform/default/dso_loader.cc:44] Successfully opened dynamic library libcudart.so.10.1\n",
            "2020-06-11 16:01:20.068507: I tensorflow/stream_executor/platform/default/dso_loader.cc:44] Successfully opened dynamic library libcublas.so.10\n",
            "2020-06-11 16:01:20.076249: I tensorflow/stream_executor/platform/default/dso_loader.cc:44] Successfully opened dynamic library libcufft.so.10\n",
            "2020-06-11 16:01:20.076632: I tensorflow/stream_executor/platform/default/dso_loader.cc:44] Successfully opened dynamic library libcurand.so.10\n",
            "2020-06-11 16:01:20.078425: I tensorflow/stream_executor/platform/default/dso_loader.cc:44] Successfully opened dynamic library libcusolver.so.10\n",
            "2020-06-11 16:01:20.081917: I tensorflow/stream_executor/platform/default/dso_loader.cc:44] Successfully opened dynamic library libcusparse.so.10\n",
            "2020-06-11 16:01:20.088249: I tensorflow/stream_executor/platform/default/dso_loader.cc:44] Successfully opened dynamic library libcudnn.so.7\n",
            "2020-06-11 16:01:20.088385: I tensorflow/stream_executor/cuda/cuda_gpu_executor.cc:981] successful NUMA node read from SysFS had negative value (-1), but there must be at least one NUMA node, so returning NUMA node zero\n",
            "2020-06-11 16:01:20.089018: I tensorflow/stream_executor/cuda/cuda_gpu_executor.cc:981] successful NUMA node read from SysFS had negative value (-1), but there must be at least one NUMA node, so returning NUMA node zero\n",
            "2020-06-11 16:01:20.089634: I tensorflow/core/common_runtime/gpu/gpu_device.cc:1703] Adding visible gpu devices: 0\n",
            "2020-06-11 16:01:20.089940: I tensorflow/core/platform/cpu_feature_guard.cc:143] Your CPU supports instructions that this TensorFlow binary was not compiled to use: AVX512F\n",
            "2020-06-11 16:01:20.095730: I tensorflow/core/platform/profile_utils/cpu_utils.cc:102] CPU Frequency: 2000120000 Hz\n",
            "2020-06-11 16:01:20.095925: I tensorflow/compiler/xla/service/service.cc:168] XLA service 0x17d5100 initialized for platform Host (this does not guarantee that XLA will be used). Devices:\n",
            "2020-06-11 16:01:20.095957: I tensorflow/compiler/xla/service/service.cc:176]   StreamExecutor device (0): Host, Default Version\n",
            "2020-06-11 16:01:20.188479: I tensorflow/stream_executor/cuda/cuda_gpu_executor.cc:981] successful NUMA node read from SysFS had negative value (-1), but there must be at least one NUMA node, so returning NUMA node zero\n",
            "2020-06-11 16:01:20.189063: I tensorflow/compiler/xla/service/service.cc:168] XLA service 0x17d4f40 initialized for platform CUDA (this does not guarantee that XLA will be used). Devices:\n",
            "2020-06-11 16:01:20.189098: I tensorflow/compiler/xla/service/service.cc:176]   StreamExecutor device (0): Tesla P4, Compute Capability 6.1\n",
            "2020-06-11 16:01:20.189326: I tensorflow/stream_executor/cuda/cuda_gpu_executor.cc:981] successful NUMA node read from SysFS had negative value (-1), but there must be at least one NUMA node, so returning NUMA node zero\n",
            "2020-06-11 16:01:20.189693: I tensorflow/core/common_runtime/gpu/gpu_device.cc:1561] Found device 0 with properties: \n",
            "pciBusID: 0000:00:04.0 name: Tesla P4 computeCapability: 6.1\n",
            "coreClock: 1.1135GHz coreCount: 20 deviceMemorySize: 7.43GiB deviceMemoryBandwidth: 178.99GiB/s\n",
            "2020-06-11 16:01:20.189739: I tensorflow/stream_executor/platform/default/dso_loader.cc:44] Successfully opened dynamic library libcudart.so.10.1\n",
            "2020-06-11 16:01:20.189801: I tensorflow/stream_executor/platform/default/dso_loader.cc:44] Successfully opened dynamic library libcublas.so.10\n",
            "2020-06-11 16:01:20.189832: I tensorflow/stream_executor/platform/default/dso_loader.cc:44] Successfully opened dynamic library libcufft.so.10\n",
            "2020-06-11 16:01:20.189861: I tensorflow/stream_executor/platform/default/dso_loader.cc:44] Successfully opened dynamic library libcurand.so.10\n",
            "2020-06-11 16:01:20.189888: I tensorflow/stream_executor/platform/default/dso_loader.cc:44] Successfully opened dynamic library libcusolver.so.10\n",
            "2020-06-11 16:01:20.189916: I tensorflow/stream_executor/platform/default/dso_loader.cc:44] Successfully opened dynamic library libcusparse.so.10\n",
            "2020-06-11 16:01:20.189944: I tensorflow/stream_executor/platform/default/dso_loader.cc:44] Successfully opened dynamic library libcudnn.so.7\n",
            "2020-06-11 16:01:20.190031: I tensorflow/stream_executor/cuda/cuda_gpu_executor.cc:981] successful NUMA node read from SysFS had negative value (-1), but there must be at least one NUMA node, so returning NUMA node zero\n",
            "2020-06-11 16:01:20.190481: I tensorflow/stream_executor/cuda/cuda_gpu_executor.cc:981] successful NUMA node read from SysFS had negative value (-1), but there must be at least one NUMA node, so returning NUMA node zero\n",
            "2020-06-11 16:01:20.190811: I tensorflow/core/common_runtime/gpu/gpu_device.cc:1703] Adding visible gpu devices: 0\n",
            "2020-06-11 16:01:20.190878: I tensorflow/stream_executor/platform/default/dso_loader.cc:44] Successfully opened dynamic library libcudart.so.10.1\n",
            "2020-06-11 16:01:20.708196: I tensorflow/core/common_runtime/gpu/gpu_device.cc:1102] Device interconnect StreamExecutor with strength 1 edge matrix:\n",
            "2020-06-11 16:01:20.708255: I tensorflow/core/common_runtime/gpu/gpu_device.cc:1108]      0 \n",
            "2020-06-11 16:01:20.708268: I tensorflow/core/common_runtime/gpu/gpu_device.cc:1121] 0:   N \n",
            "2020-06-11 16:01:20.708492: I tensorflow/stream_executor/cuda/cuda_gpu_executor.cc:981] successful NUMA node read from SysFS had negative value (-1), but there must be at least one NUMA node, so returning NUMA node zero\n",
            "2020-06-11 16:01:20.708935: I tensorflow/stream_executor/cuda/cuda_gpu_executor.cc:981] successful NUMA node read from SysFS had negative value (-1), but there must be at least one NUMA node, so returning NUMA node zero\n",
            "2020-06-11 16:01:20.709306: W tensorflow/core/common_runtime/gpu/gpu_bfc_allocator.cc:39] Overriding allow_growth setting because the TF_FORCE_GPU_ALLOW_GROWTH environment variable is set. Original config value was 0.\n",
            "2020-06-11 16:01:20.709352: I tensorflow/core/common_runtime/gpu/gpu_device.cc:1247] Created TensorFlow device (/job:localhost/replica:0/task:0/device:GPU:0 with 6966 MB memory) -> physical GPU (device: 0, name: Tesla P4, pci bus id: 0000:00:04.0, compute capability: 6.1)\n",
            "Model: \"sequential\"\n",
            "_________________________________________________________________\n",
            "Layer (type)                 Output Shape              Param #   \n",
            "=================================================================\n",
            "conv2d (Conv2D)              (None, 16, 16, 64)        9472      \n",
            "_________________________________________________________________\n",
            "batch_normalization (BatchNo (None, 16, 16, 64)        256       \n",
            "_________________________________________________________________\n",
            "activation (Activation)      (None, 16, 16, 64)        0         \n",
            "_________________________________________________________________\n",
            "max_pooling2d (MaxPooling2D) (None, 8, 8, 64)          0         \n",
            "_________________________________________________________________\n",
            "res_block (ResBlock)         (None, 8, 8, 64)          74368     \n",
            "_________________________________________________________________\n",
            "res_block_1 (ResBlock)       (None, 8, 8, 64)          74368     \n",
            "_________________________________________________________________\n",
            "res_block_2 (ResBlock)       (None, 4, 4, 128)         231296    \n",
            "_________________________________________________________________\n",
            "res_block_3 (ResBlock)       (None, 4, 4, 128)         296192    \n",
            "_________________________________________________________________\n",
            "global_average_pooling2d (Gl (None, 128)               0         \n",
            "_________________________________________________________________\n",
            "dense (Dense)                (None, 10)                1290      \n",
            "=================================================================\n",
            "Total params: 687,242\n",
            "Trainable params: 685,322\n",
            "Non-trainable params: 1,920\n",
            "_________________________________________________________________\n",
            "  0% 0/1562 [00:00<?, ?it/s]2020-06-11 16:01:22.386152: I tensorflow/stream_executor/platform/default/dso_loader.cc:44] Successfully opened dynamic library libcublas.so.10\n",
            "2020-06-11 16:01:22.653746: I tensorflow/stream_executor/platform/default/dso_loader.cc:44] Successfully opened dynamic library libcudnn.so.7\n",
            "100% 1562/1562 [00:15<00:00, 103.39it/s]\n",
            "Epoch: 1/10, accuracy: 0.5499159693717957\n",
            "100% 1562/1562 [00:12<00:00, 125.50it/s]\n",
            "Epoch: 2/10, accuracy: 0.687299907207489\n",
            "100% 1562/1562 [00:12<00:00, 123.63it/s]\n",
            "Epoch: 3/10, accuracy: 0.7476392388343811\n",
            "100% 1562/1562 [00:12<00:00, 126.38it/s]\n",
            "Epoch: 4/10, accuracy: 0.7959946990013123\n",
            "100% 1562/1562 [00:12<00:00, 123.38it/s]\n",
            "Epoch: 5/10, accuracy: 0.8373079299926758\n",
            "100% 1562/1562 [00:12<00:00, 122.03it/s]\n",
            "Epoch: 6/10, accuracy: 0.8716589212417603\n",
            "100% 1562/1562 [00:12<00:00, 124.80it/s]\n",
            "Epoch: 7/10, accuracy: 0.8986275792121887\n",
            "100% 1562/1562 [00:12<00:00, 124.47it/s]\n",
            "Epoch: 8/10, accuracy: 0.9169734120368958\n",
            "100% 1562/1562 [00:12<00:00, 123.21it/s]\n",
            "Epoch: 9/10, accuracy: 0.9349191784858704\n",
            "100% 1562/1562 [00:12<00:00, 124.99it/s]\n",
            "Epoch: 10/10, accuracy: 0.9439020752906799\n"
          ],
          "name": "stdout"
        }
      ]
    },
    {
      "cell_type": "code",
      "metadata": {
        "id": "-BUCytKUWEMG",
        "colab_type": "code",
        "outputId": "f9135e94-d90a-4ae5-9a38-2dd1a23b5d64",
        "colab": {
          "base_uri": "https://localhost:8080/",
          "height": 374
        }
      },
      "source": [
        "gc.collect()\n",
        "% cd /content/compare-deeplibs/torch\n",
        "! python train.py"
      ],
      "execution_count": 11,
      "outputs": [
        {
          "output_type": "stream",
          "text": [
            "/content/compare-deeplibs/torch\n",
            "100% 1563/1563 [00:23<00:00, 66.30it/s]\n",
            "Epoch: 1/10, accuracy: 0.5288907549584133\n",
            "100% 1563/1563 [00:23<00:00, 67.32it/s]\n",
            "Epoch: 2/10, accuracy: 0.6729046705054382\n",
            "100% 1563/1563 [00:23<00:00, 66.62it/s]\n",
            "Epoch: 3/10, accuracy: 0.7318658029430583\n",
            "100% 1563/1563 [00:23<00:00, 65.91it/s]\n",
            "Epoch: 4/10, accuracy: 0.7724328214971209\n",
            "100% 1563/1563 [00:23<00:00, 66.84it/s]\n",
            "Epoch: 5/10, accuracy: 0.8050423864363404\n",
            "100% 1563/1563 [00:23<00:00, 66.66it/s]\n",
            "Epoch: 6/10, accuracy: 0.8319937619961613\n",
            "100% 1563/1563 [00:23<00:00, 66.14it/s]\n",
            "Epoch: 7/10, accuracy: 0.8551463531669866\n",
            "100% 1563/1563 [00:23<00:00, 65.53it/s]\n",
            "Epoch: 8/10, accuracy: 0.8805982085732565\n",
            "100% 1563/1563 [00:23<00:00, 66.84it/s]\n",
            "Epoch: 9/10, accuracy: 0.902891074856046\n",
            "100% 1563/1563 [00:23<00:00, 66.94it/s]\n",
            "Epoch: 10/10, accuracy: 0.9182061740243123\n"
          ],
          "name": "stdout"
        }
      ]
    }
  ]
}