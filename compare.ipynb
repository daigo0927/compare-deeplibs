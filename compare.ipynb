{
  "nbformat": 4,
  "nbformat_minor": 0,
  "metadata": {
    "colab": {
      "name": "compare.ipynb",
      "provenance": [],
      "include_colab_link": true
    },
    "kernelspec": {
      "name": "python3",
      "display_name": "Python 3"
    },
    "accelerator": "GPU"
  },
  "cells": [
    {
      "cell_type": "markdown",
      "metadata": {
        "id": "view-in-github",
        "colab_type": "text"
      },
      "source": [
        "<a href=\"https://colab.research.google.com/github/daigo0927/compare-deeplibs/blob/master/compare.ipynb\" target=\"_parent\"><img src=\"https://colab.research.google.com/assets/colab-badge.svg\" alt=\"Open In Colab\"/></a>"
      ]
    },
    {
      "cell_type": "code",
      "metadata": {
        "id": "bsLBAaWaUqw4",
        "colab_type": "code",
        "outputId": "d9b872a6-f232-409c-c67b-4bbec5a60c90",
        "colab": {
          "base_uri": "https://localhost:8080/",
          "height": 374
        }
      },
      "source": [
        "! nvcc -V\n",
        "! nvidia-smi"
      ],
      "execution_count": 4,
      "outputs": [
        {
          "output_type": "stream",
          "text": [
            "nvcc: NVIDIA (R) Cuda compiler driver\n",
            "Copyright (c) 2005-2018 NVIDIA Corporation\n",
            "Built on Sat_Aug_25_21:08:01_CDT_2018\n",
            "Cuda compilation tools, release 10.0, V10.0.130\n",
            "Sat Sep 28 14:52:43 2019       \n",
            "+-----------------------------------------------------------------------------+\n",
            "| NVIDIA-SMI 430.40       Driver Version: 418.67       CUDA Version: 10.1     |\n",
            "|-------------------------------+----------------------+----------------------+\n",
            "| GPU  Name        Persistence-M| Bus-Id        Disp.A | Volatile Uncorr. ECC |\n",
            "| Fan  Temp  Perf  Pwr:Usage/Cap|         Memory-Usage | GPU-Util  Compute M. |\n",
            "|===============================+======================+======================|\n",
            "|   0  Tesla T4            Off  | 00000000:00:04.0 Off |                    0 |\n",
            "| N/A   60C    P8    10W /  70W |      0MiB / 15079MiB |      0%      Default |\n",
            "+-------------------------------+----------------------+----------------------+\n",
            "                                                                               \n",
            "+-----------------------------------------------------------------------------+\n",
            "| Processes:                                                       GPU Memory |\n",
            "|  GPU       PID   Type   Process name                             Usage      |\n",
            "|=============================================================================|\n",
            "|  No running processes found                                                 |\n",
            "+-----------------------------------------------------------------------------+\n"
          ],
          "name": "stdout"
        }
      ]
    },
    {
      "cell_type": "code",
      "metadata": {
        "id": "rWy0jsD1Uzte",
        "colab_type": "code",
        "outputId": "2c6df8d3-848e-4fd4-a03d-cc0758870724",
        "colab": {
          "base_uri": "https://localhost:8080/",
          "height": 136
        }
      },
      "source": [
        "! git clone https://github.com/daigo0927/compare-deeplibs.git"
      ],
      "execution_count": 5,
      "outputs": [
        {
          "output_type": "stream",
          "text": [
            "Cloning into 'compare-deeplibs'...\n",
            "remote: Enumerating objects: 220, done.\u001b[K\n",
            "remote: Counting objects:   0% (1/220)\u001b[K\rremote: Counting objects:   1% (3/220)\u001b[K\rremote: Counting objects:   2% (5/220)\u001b[K\rremote: Counting objects:   3% (7/220)\u001b[K\rremote: Counting objects:   4% (9/220)\u001b[K\rremote: Counting objects:   5% (11/220)\u001b[K\rremote: Counting objects:   6% (14/220)\u001b[K\rremote: Counting objects:   7% (16/220)\u001b[K\rremote: Counting objects:   8% (18/220)\u001b[K\rremote: Counting objects:   9% (20/220)\u001b[K\rremote: Counting objects:  10% (22/220)\u001b[K\rremote: Counting objects:  11% (25/220)\u001b[K\rremote: Counting objects:  12% (27/220)\u001b[K\rremote: Counting objects:  13% (29/220)\u001b[K\rremote: Counting objects:  14% (31/220)\u001b[K\rremote: Counting objects:  15% (33/220)\u001b[K\rremote: Counting objects:  16% (36/220)\u001b[K\rremote: Counting objects:  17% (38/220)\u001b[K\rremote: Counting objects:  18% (40/220)\u001b[K\rremote: Counting objects:  19% (42/220)\u001b[K\rremote: Counting objects:  20% (44/220)\u001b[K\rremote: Counting objects:  21% (47/220)\u001b[K\rremote: Counting objects:  22% (49/220)\u001b[K\rremote: Counting objects:  23% (51/220)\u001b[K\rremote: Counting objects:  24% (53/220)\u001b[K\rremote: Counting objects:  25% (55/220)\u001b[K\rremote: Counting objects:  26% (58/220)\u001b[K\rremote: Counting objects:  27% (60/220)\u001b[K\rremote: Counting objects:  28% (62/220)\u001b[K\rremote: Counting objects:  29% (64/220)\u001b[K\rremote: Counting objects:  30% (66/220)\u001b[K\rremote: Counting objects:  31% (69/220)\u001b[K\rremote: Counting objects:  32% (71/220)\u001b[K\rremote: Counting objects:  33% (73/220)\u001b[K\rremote: Counting objects:  34% (75/220)\u001b[K\rremote: Counting objects:  35% (77/220)\u001b[K\rremote: Counting objects:  36% (80/220)\u001b[K\rremote: Counting objects:  37% (82/220)\u001b[K\rremote: Counting objects:  38% (84/220)\u001b[K\rremote: Counting objects:  39% (86/220)\u001b[K\rremote: Counting objects:  40% (88/220)\u001b[K\rremote: Counting objects:  41% (91/220)\u001b[K\rremote: Counting objects:  42% (93/220)\u001b[K\rremote: Counting objects:  43% (95/220)\u001b[K\rremote: Counting objects:  44% (97/220)\u001b[K\rremote: Counting objects:  45% (99/220)\u001b[K\rremote: Counting objects:  46% (102/220)\u001b[K\rremote: Counting objects:  47% (104/220)\u001b[K\rremote: Counting objects:  48% (106/220)\u001b[K\rremote: Counting objects:  49% (108/220)\u001b[K\rremote: Counting objects:  50% (110/220)\u001b[K\rremote: Counting objects:  51% (113/220)\u001b[K\rremote: Counting objects:  52% (115/220)\u001b[K\rremote: Counting objects:  53% (117/220)\u001b[K\rremote: Counting objects:  54% (119/220)\u001b[K\rremote: Counting objects:  55% (121/220)\u001b[K\rremote: Counting objects:  56% (124/220)\u001b[K\rremote: Counting objects:  57% (126/220)\u001b[K\rremote: Counting objects:  58% (128/220)\u001b[K\rremote: Counting objects:  59% (130/220)\u001b[K\rremote: Counting objects:  60% (132/220)\u001b[K\rremote: Counting objects:  61% (135/220)\u001b[K\rremote: Counting objects:  62% (137/220)\u001b[K\rremote: Counting objects:  63% (139/220)\u001b[K\rremote: Counting objects:  64% (141/220)\u001b[K\rremote: Counting objects:  65% (143/220)\u001b[K\rremote: Counting objects:  66% (146/220)\u001b[K\rremote: Counting objects:  67% (148/220)\u001b[K\rremote: Counting objects:  68% (150/220)\u001b[K\rremote: Counting objects:  69% (152/220)\u001b[K\rremote: Counting objects:  70% (154/220)\u001b[K\rremote: Counting objects:  71% (157/220)\u001b[K\rremote: Counting objects:  72% (159/220)\u001b[K\rremote: Counting objects:  73% (161/220)\u001b[K\rremote: Counting objects:  74% (163/220)\u001b[K\rremote: Counting objects:  75% (165/220)\u001b[K\rremote: Counting objects:  76% (168/220)\u001b[K\rremote: Counting objects:  77% (170/220)\u001b[K\rremote: Counting objects:  78% (172/220)\u001b[K\rremote: Counting objects:  79% (174/220)\u001b[K\rremote: Counting objects:  80% (176/220)\u001b[K\rremote: Counting objects:  81% (179/220)\u001b[K\rremote: Counting objects:  82% (181/220)\u001b[K\rremote: Counting objects:  83% (183/220)\u001b[K\rremote: Counting objects:  84% (185/220)\u001b[K\rremote: Counting objects:  85% (187/220)\u001b[K\rremote: Counting objects:  86% (190/220)\u001b[K\rremote: Counting objects:  87% (192/220)\u001b[K\rremote: Counting objects:  88% (194/220)\u001b[K\rremote: Counting objects:  89% (196/220)\u001b[K\rremote: Counting objects:  90% (198/220)\u001b[K\rremote: Counting objects:  91% (201/220)\u001b[K\rremote: Counting objects:  92% (203/220)\u001b[K\rremote: Counting objects:  93% (205/220)\u001b[K\rremote: Counting objects:  94% (207/220)\u001b[K\rremote: Counting objects:  95% (209/220)\u001b[K\rremote: Counting objects:  96% (212/220)\u001b[K\rremote: Counting objects:  97% (214/220)\u001b[K\rremote: Counting objects:  98% (216/220)\u001b[K\rremote: Counting objects:  99% (218/220)\u001b[K\rremote: Counting objects: 100% (220/220)\u001b[K\rremote: Counting objects: 100% (220/220), done.\u001b[K\n",
            "remote: Compressing objects: 100% (154/154), done.\u001b[K\n",
            "remote: Total 336 (delta 141), reused 132 (delta 62), pack-reused 116\u001b[K\n",
            "Receiving objects: 100% (336/336), 197.33 KiB | 845.00 KiB/s, done.\n",
            "Resolving deltas: 100% (203/203), done.\n"
          ],
          "name": "stdout"
        }
      ]
    },
    {
      "cell_type": "code",
      "metadata": {
        "id": "TspFY5urVPzt",
        "colab_type": "code",
        "colab": {
          "base_uri": "https://localhost:8080/",
          "height": 34
        },
        "outputId": "e27930aa-33c4-46d9-d8c1-164e949cec6e"
      },
      "source": [
        "%cd compare-deeplibs/\n",
        "! cp utils.py chainer/\n",
        "! cp utils.py tfv1/\n",
        "! cp utils.py tfv2/\n",
        "! cp utils.py torch/"
      ],
      "execution_count": 6,
      "outputs": [
        {
          "output_type": "stream",
          "text": [
            "/content/compare-deeplibs\n"
          ],
          "name": "stdout"
        }
      ]
    },
    {
      "cell_type": "code",
      "metadata": {
        "id": "9zBYm8N4VYE7",
        "colab_type": "code",
        "outputId": "5797b854-bd83-451f-dd85-365bfabce961",
        "colab": {
          "base_uri": "https://localhost:8080/",
          "height": 391
        }
      },
      "source": [
        "! sh prepare_cifar10.sh"
      ],
      "execution_count": 7,
      "outputs": [
        {
          "output_type": "stream",
          "text": [
            "  % Total    % Received % Xferd  Average Speed   Time    Time     Time  Current\n",
            "                                 Dload  Upload   Total   Spent    Left  Speed\n",
            "100  162M  100  162M    0     0  24.4M      0  0:00:06  0:00:06 --:--:-- 30.2M\n",
            "cifar-10-batches-py/\n",
            "cifar-10-batches-py/data_batch_4\n",
            "cifar-10-batches-py/readme.html\n",
            "cifar-10-batches-py/test_batch\n",
            "cifar-10-batches-py/data_batch_3\n",
            "cifar-10-batches-py/batches.meta\n",
            "cifar-10-batches-py/data_batch_2\n",
            "cifar-10-batches-py/data_batch_5\n",
            "cifar-10-batches-py/data_batch_1\n",
            "Requirement already satisfied: numpy in /usr/local/lib/python3.6/dist-packages (1.16.5)\n",
            "Requirement already satisfied: pillow in /usr/local/lib/python3.6/dist-packages (4.3.0)\n",
            "Requirement already satisfied: olefile in /usr/local/lib/python3.6/dist-packages (from pillow) (0.46)\n",
            "--------- Extracting data_batch_1 -----------\n",
            "--------- Extracting data_batch_2 -----------\n",
            "--------- Extracting data_batch_3 -----------\n",
            "--------- Extracting data_batch_4 -----------\n",
            "--------- Extracting data_batch_5 -----------\n",
            "--------- Extracting test_batch -----------\n",
            "--------- Completed ------------\n"
          ],
          "name": "stdout"
        }
      ]
    },
    {
      "cell_type": "code",
      "metadata": {
        "id": "dj4sGJsNVepV",
        "colab_type": "code",
        "outputId": "d8ac0673-1f71-4664-c22c-50cefddec8e7",
        "colab": {
          "base_uri": "https://localhost:8080/",
          "height": 170
        }
      },
      "source": [
        "! pip list | grep tensor"
      ],
      "execution_count": 8,
      "outputs": [
        {
          "output_type": "stream",
          "text": [
            "mesh-tensorflow          0.0.5                \n",
            "tensor2tensor            1.11.0               \n",
            "tensorboard              1.14.0               \n",
            "tensorboardcolab         0.0.22               \n",
            "tensorflow               1.14.0               \n",
            "tensorflow-estimator     1.14.0               \n",
            "tensorflow-hub           0.6.0                \n",
            "tensorflow-metadata      0.14.0               \n",
            "tensorflow-probability   0.7.0                \n"
          ],
          "name": "stdout"
        }
      ]
    },
    {
      "cell_type": "code",
      "metadata": {
        "id": "0sCYEk_tVvdX",
        "colab_type": "code",
        "outputId": "7dba5ac8-6b2f-4866-ecd2-fa7c3160fe60",
        "colab": {
          "base_uri": "https://localhost:8080/",
          "height": 119
        }
      },
      "source": [
        "! pip install torch torchvision"
      ],
      "execution_count": 9,
      "outputs": [
        {
          "output_type": "stream",
          "text": [
            "Requirement already satisfied: torch in /usr/local/lib/python3.6/dist-packages (1.1.0)\n",
            "Requirement already satisfied: torchvision in /usr/local/lib/python3.6/dist-packages (0.3.0)\n",
            "Requirement already satisfied: numpy in /usr/local/lib/python3.6/dist-packages (from torch) (1.16.5)\n",
            "Requirement already satisfied: six in /usr/local/lib/python3.6/dist-packages (from torchvision) (1.12.0)\n",
            "Requirement already satisfied: pillow>=4.1.1 in /usr/local/lib/python3.6/dist-packages (from torchvision) (4.3.0)\n",
            "Requirement already satisfied: olefile in /usr/local/lib/python3.6/dist-packages (from pillow>=4.1.1->torchvision) (0.46)\n"
          ],
          "name": "stdout"
        }
      ]
    },
    {
      "cell_type": "code",
      "metadata": {
        "id": "1GRiujeKS-uw",
        "colab_type": "code",
        "outputId": "fdb5e3ab-29d8-474c-f58a-19fdff9d49b9",
        "colab": {
          "base_uri": "https://localhost:8080/",
          "height": 1000
        }
      },
      "source": [
        "! python tfv1/train_tf.py -d Cifar10 -dd cifar-10 -e 10"
      ],
      "execution_count": 10,
      "outputs": [
        {
          "output_type": "stream",
          "text": [
            "WARNING:tensorflow:From tfv1/train_tf.py:11: The name tf.losses.softmax_cross_entropy is deprecated. Please use tf.compat.v1.losses.softmax_cross_entropy instead.\n",
            "\n",
            "dataset: Cifar10\n",
            "dataset_dir: cifar-10\n",
            "epochs: 10\n",
            "batch_size: 100\n",
            "validation_split: 0.1\n",
            "check_step: 100\n",
            "resize_shape: [32, 32]\n",
            "crop_shape: None\n",
            "rotate: False\n",
            "flip_left_right: False\n",
            "flip_up_down: False\n",
            "filters: 64\n",
            "learning_rate: 0.001\n",
            "Building a dataset pipeline ...\n",
            "Found 50000 images.\n",
            "WARNING:tensorflow:From /content/compare-deeplibs/tfv1/dataset_tf.py:75: The name tf.image.resize_image_with_pad is deprecated. Please use tf.compat.v1.image.resize_image_with_pad instead.\n",
            "\n",
            "WARNING:tensorflow:From /content/compare-deeplibs/tfv1/dataset_tf.py:109: DatasetV1.make_initializable_iterator (from tensorflow.python.data.ops.dataset_ops) is deprecated and will be removed in a future version.\n",
            "Instructions for updating:\n",
            "Use `for ... in dataset:` to iterate over a dataset. If using `tf.estimator`, return the `Dataset` object directly from your input function. As a last resort, you can use `tf.compat.v1.data.make_initializable_iterator(dataset)`.\n",
            "Done.\n",
            "WARNING:tensorflow:From tfv1/train_tf.py:32: The name tf.Session is deprecated. Please use tf.compat.v1.Session instead.\n",
            "\n",
            "2019-09-28 14:53:41.849763: I tensorflow/stream_executor/platform/default/dso_loader.cc:42] Successfully opened dynamic library libcuda.so.1\n",
            "2019-09-28 14:53:41.914607: I tensorflow/stream_executor/cuda/cuda_gpu_executor.cc:1005] successful NUMA node read from SysFS had negative value (-1), but there must be at least one NUMA node, so returning NUMA node zero\n",
            "2019-09-28 14:53:41.915367: I tensorflow/core/common_runtime/gpu/gpu_device.cc:1640] Found device 0 with properties: \n",
            "name: Tesla T4 major: 7 minor: 5 memoryClockRate(GHz): 1.59\n",
            "pciBusID: 0000:00:04.0\n",
            "2019-09-28 14:53:41.927070: I tensorflow/stream_executor/platform/default/dso_loader.cc:42] Successfully opened dynamic library libcudart.so.10.0\n",
            "2019-09-28 14:53:42.121717: I tensorflow/stream_executor/platform/default/dso_loader.cc:42] Successfully opened dynamic library libcublas.so.10.0\n",
            "2019-09-28 14:53:42.202138: I tensorflow/stream_executor/platform/default/dso_loader.cc:42] Successfully opened dynamic library libcufft.so.10.0\n",
            "2019-09-28 14:53:42.226511: I tensorflow/stream_executor/platform/default/dso_loader.cc:42] Successfully opened dynamic library libcurand.so.10.0\n",
            "2019-09-28 14:53:42.426375: I tensorflow/stream_executor/platform/default/dso_loader.cc:42] Successfully opened dynamic library libcusolver.so.10.0\n",
            "2019-09-28 14:53:42.546570: I tensorflow/stream_executor/platform/default/dso_loader.cc:42] Successfully opened dynamic library libcusparse.so.10.0\n",
            "2019-09-28 14:53:42.939427: I tensorflow/stream_executor/platform/default/dso_loader.cc:42] Successfully opened dynamic library libcudnn.so.7\n",
            "2019-09-28 14:53:42.939604: I tensorflow/stream_executor/cuda/cuda_gpu_executor.cc:1005] successful NUMA node read from SysFS had negative value (-1), but there must be at least one NUMA node, so returning NUMA node zero\n",
            "2019-09-28 14:53:42.940692: I tensorflow/stream_executor/cuda/cuda_gpu_executor.cc:1005] successful NUMA node read from SysFS had negative value (-1), but there must be at least one NUMA node, so returning NUMA node zero\n",
            "2019-09-28 14:53:42.941235: I tensorflow/core/common_runtime/gpu/gpu_device.cc:1763] Adding visible gpu devices: 0\n",
            "2019-09-28 14:53:42.941760: I tensorflow/core/platform/cpu_feature_guard.cc:142] Your CPU supports instructions that this TensorFlow binary was not compiled to use: AVX512F\n",
            "2019-09-28 14:53:42.956299: I tensorflow/core/platform/profile_utils/cpu_utils.cc:94] CPU Frequency: 2000165000 Hz\n",
            "2019-09-28 14:53:42.957723: I tensorflow/compiler/xla/service/service.cc:168] XLA service 0x1493480 executing computations on platform Host. Devices:\n",
            "2019-09-28 14:53:42.957757: I tensorflow/compiler/xla/service/service.cc:175]   StreamExecutor device (0): <undefined>, <undefined>\n",
            "2019-09-28 14:53:43.099239: I tensorflow/stream_executor/cuda/cuda_gpu_executor.cc:1005] successful NUMA node read from SysFS had negative value (-1), but there must be at least one NUMA node, so returning NUMA node zero\n",
            "2019-09-28 14:53:43.099975: I tensorflow/compiler/xla/service/service.cc:168] XLA service 0x4e24540 executing computations on platform CUDA. Devices:\n",
            "2019-09-28 14:53:43.100004: I tensorflow/compiler/xla/service/service.cc:175]   StreamExecutor device (0): Tesla T4, Compute Capability 7.5\n",
            "2019-09-28 14:53:43.101034: I tensorflow/stream_executor/cuda/cuda_gpu_executor.cc:1005] successful NUMA node read from SysFS had negative value (-1), but there must be at least one NUMA node, so returning NUMA node zero\n",
            "2019-09-28 14:53:43.101541: I tensorflow/core/common_runtime/gpu/gpu_device.cc:1640] Found device 0 with properties: \n",
            "name: Tesla T4 major: 7 minor: 5 memoryClockRate(GHz): 1.59\n",
            "pciBusID: 0000:00:04.0\n",
            "2019-09-28 14:53:43.101596: I tensorflow/stream_executor/platform/default/dso_loader.cc:42] Successfully opened dynamic library libcudart.so.10.0\n",
            "2019-09-28 14:53:43.101618: I tensorflow/stream_executor/platform/default/dso_loader.cc:42] Successfully opened dynamic library libcublas.so.10.0\n",
            "2019-09-28 14:53:43.101636: I tensorflow/stream_executor/platform/default/dso_loader.cc:42] Successfully opened dynamic library libcufft.so.10.0\n",
            "2019-09-28 14:53:43.101674: I tensorflow/stream_executor/platform/default/dso_loader.cc:42] Successfully opened dynamic library libcurand.so.10.0\n",
            "2019-09-28 14:53:43.101695: I tensorflow/stream_executor/platform/default/dso_loader.cc:42] Successfully opened dynamic library libcusolver.so.10.0\n",
            "2019-09-28 14:53:43.101731: I tensorflow/stream_executor/platform/default/dso_loader.cc:42] Successfully opened dynamic library libcusparse.so.10.0\n",
            "2019-09-28 14:53:43.101753: I tensorflow/stream_executor/platform/default/dso_loader.cc:42] Successfully opened dynamic library libcudnn.so.7\n",
            "2019-09-28 14:53:43.101818: I tensorflow/stream_executor/cuda/cuda_gpu_executor.cc:1005] successful NUMA node read from SysFS had negative value (-1), but there must be at least one NUMA node, so returning NUMA node zero\n",
            "2019-09-28 14:53:43.102405: I tensorflow/stream_executor/cuda/cuda_gpu_executor.cc:1005] successful NUMA node read from SysFS had negative value (-1), but there must be at least one NUMA node, so returning NUMA node zero\n",
            "2019-09-28 14:53:43.102921: I tensorflow/core/common_runtime/gpu/gpu_device.cc:1763] Adding visible gpu devices: 0\n",
            "2019-09-28 14:53:43.104754: I tensorflow/stream_executor/platform/default/dso_loader.cc:42] Successfully opened dynamic library libcudart.so.10.0\n",
            "2019-09-28 14:53:43.105803: I tensorflow/core/common_runtime/gpu/gpu_device.cc:1181] Device interconnect StreamExecutor with strength 1 edge matrix:\n",
            "2019-09-28 14:53:43.105836: I tensorflow/core/common_runtime/gpu/gpu_device.cc:1187]      0 \n",
            "2019-09-28 14:53:43.105851: I tensorflow/core/common_runtime/gpu/gpu_device.cc:1200] 0:   N \n",
            "2019-09-28 14:53:43.107385: I tensorflow/stream_executor/cuda/cuda_gpu_executor.cc:1005] successful NUMA node read from SysFS had negative value (-1), but there must be at least one NUMA node, so returning NUMA node zero\n",
            "2019-09-28 14:53:43.107939: I tensorflow/stream_executor/cuda/cuda_gpu_executor.cc:1005] successful NUMA node read from SysFS had negative value (-1), but there must be at least one NUMA node, so returning NUMA node zero\n",
            "2019-09-28 14:53:43.108422: W tensorflow/core/common_runtime/gpu/gpu_bfc_allocator.cc:40] Overriding allow_growth setting because the TF_FORCE_GPU_ALLOW_GROWTH environment variable is set. Original config value was 0.\n",
            "2019-09-28 14:53:43.108462: I tensorflow/core/common_runtime/gpu/gpu_device.cc:1326] Created TensorFlow device (/job:localhost/replica:0/task:0/device:GPU:0 with 14221 MB memory) -> physical GPU (device: 0, name: Tesla T4, pci bus id: 0000:00:04.0, compute capability: 7.5)\n",
            "WARNING:tensorflow:From /content/compare-deeplibs/tfv1/model_tf.py:53: The name tf.layers.Conv2D is deprecated. Please use tf.compat.v1.layers.Conv2D instead.\n",
            "\n",
            "WARNING:tensorflow:From /content/compare-deeplibs/tfv1/model_tf.py:55: The name tf.layers.BatchNormalization is deprecated. Please use tf.compat.v1.layers.BatchNormalization instead.\n",
            "\n",
            "WARNING:tensorflow:From /content/compare-deeplibs/tfv1/model_tf.py:56: The name tf.layers.MaxPooling2D is deprecated. Please use tf.compat.v1.layers.MaxPooling2D instead.\n",
            "\n",
            "WARNING:tensorflow:From /content/compare-deeplibs/tfv1/model_tf.py:64: The name tf.layers.Dense is deprecated. Please use tf.compat.v1.layers.Dense instead.\n",
            "\n",
            "WARNING:tensorflow:From /content/compare-deeplibs/tfv1/model_tf.py:67: The name tf.variable_scope is deprecated. Please use tf.compat.v1.variable_scope instead.\n",
            "\n",
            "WARNING:tensorflow:From /content/compare-deeplibs/tfv1/model_tf.py:67: The name tf.AUTO_REUSE is deprecated. Please use tf.compat.v1.AUTO_REUSE instead.\n",
            "\n",
            "WARNING:tensorflow:From /usr/local/lib/python3.6/dist-packages/tensorflow/python/ops/init_ops.py:1251: calling VarianceScaling.__init__ (from tensorflow.python.ops.init_ops) with dtype is deprecated and will be removed in a future version.\n",
            "Instructions for updating:\n",
            "Call initializer instance with the dtype argument instead of passing it to the constructor\n",
            "WARNING:tensorflow:From /content/compare-deeplibs/tfv1/model_tf.py:5: max_pooling2d (from tensorflow.python.layers.pooling) is deprecated and will be removed in a future version.\n",
            "Instructions for updating:\n",
            "Use keras.layers.MaxPooling2D instead.\n",
            "WARNING:tensorflow:From /usr/local/lib/python3.6/dist-packages/tensorflow/python/ops/losses/losses_impl.py:121: add_dispatch_support.<locals>.wrapper (from tensorflow.python.ops.array_ops) is deprecated and will be removed in a future version.\n",
            "Instructions for updating:\n",
            "Use tf.where in 2.0, which has the same broadcast rule as np.where\n",
            "WARNING:tensorflow:From tfv1/train_tf.py:52: The name tf.train.AdamOptimizer is deprecated. Please use tf.compat.v1.train.AdamOptimizer instead.\n",
            "\n",
            "WARNING:tensorflow:From /content/compare-deeplibs/tfv1/model_tf.py:91: The name tf.trainable_variables is deprecated. Please use tf.compat.v1.trainable_variables instead.\n",
            "\n",
            "WARNING:tensorflow:From tfv1/train_tf.py:54: The name tf.get_collection is deprecated. Please use tf.compat.v1.get_collection instead.\n",
            "\n",
            "WARNING:tensorflow:From tfv1/train_tf.py:56: The name tf.train.Saver is deprecated. Please use tf.compat.v1.train.Saver instead.\n",
            "\n",
            "2019-09-28 14:53:47.381750: W tensorflow/compiler/jit/mark_for_compilation_pass.cc:1412] (One-time warning): Not using XLA:CPU for cluster because envvar TF_XLA_FLAGS=--tf_xla_cpu_global_jit was not set.  If you want XLA:CPU, either set that envvar, or use experimental_jit_scope to enable XLA:CPU.  To confirm that XLA is active, pass --vmodule=xla_compilation_cache=1 (as a proper command-line flag, not via TF_XLA_FLAGS) or set the envvar XLA_FLAGS=--xla_hlo_profile.\n",
            "2019-09-28 14:53:47.706493: I tensorflow/stream_executor/platform/default/dso_loader.cc:42] Successfully opened dynamic library libcublas.so.10.0\n",
            "2019-09-28 14:53:48.487561: I tensorflow/stream_executor/platform/default/dso_loader.cc:42] Successfully opened dynamic library libcudnn.so.7\n",
            "1 epoch: [450/450, loss:1.1473814249038696, accuracy:0.6100000143051147, batch_time:0.031494140625]\n",
            "Training time: 18.717090129852295.\n",
            "Validation score: loss: 1.5240331888198853, accuracy: 0.4472000002861023, time: 1.825434923171997\n",
            "Epoch time: 20.54272198677063sec\n",
            "\n",
            "2 epoch: [450/450, loss:0.8640303015708923, accuracy:0.6299999952316284, batch_time:0.035280704498291016]\n",
            "Training time: 14.463241577148438.\n",
            "Validation score: loss: 1.1947957277297974, accuracy: 0.5583999752998352, time: 1.5042827129364014\n",
            "Epoch time: 15.967735767364502sec\n",
            "\n",
            "3 epoch: [450/450, loss:0.7343772053718567, accuracy:0.7799999713897705, batch_time:0.03073287010192871]\n",
            "Training time: 14.479042768478394.\n",
            "Validation score: loss: 0.9743659496307373, accuracy: 0.6767999529838562, time: 1.5821330547332764\n",
            "Epoch time: 16.061352729797363sec\n",
            "\n",
            "4 epoch: [450/450, loss:0.5168286561965942, accuracy:0.8500000238418579, batch_time:0.03299570083618164]\n",
            "Training time: 14.56715440750122.\n",
            "Validation score: loss: 1.1579675674438477, accuracy: 0.6105999946594238, time: 1.50791597366333\n",
            "Epoch time: 16.075265645980835sec\n",
            "\n",
            "5 epoch: [450/450, loss:0.5947759747505188, accuracy:0.7799999713897705, batch_time:0.03107619285583496]\n",
            "Training time: 14.52601671218872.\n",
            "Validation score: loss: 0.8377685546875, accuracy: 0.7057999968528748, time: 1.530444860458374\n",
            "Epoch time: 16.05664038658142sec\n",
            "\n",
            "6 epoch: [450/450, loss:0.529390275478363, accuracy:0.8600000143051147, batch_time:0.03462934494018555]\n",
            "Training time: 14.321149349212646.\n",
            "Validation score: loss: 1.220477819442749, accuracy: 0.6642000675201416, time: 1.5412991046905518\n",
            "Epoch time: 15.862641334533691sec\n",
            "\n",
            "7 epoch: [450/450, loss:0.47786983847618103, accuracy:0.8100000023841858, batch_time:0.030070781707763672]\n",
            "Training time: 14.546533107757568.\n",
            "Validation score: loss: 0.9856845140457153, accuracy: 0.6874000430107117, time: 1.5339901447296143\n",
            "Epoch time: 16.080729484558105sec\n",
            "\n",
            "8 epoch: [450/450, loss:0.4861954152584076, accuracy:0.800000011920929, batch_time:0.03166770935058594]\n",
            "Training time: 14.406700611114502.\n",
            "Validation score: loss: 0.6473499536514282, accuracy: 0.7762000560760498, time: 1.5351440906524658\n",
            "Epoch time: 15.942043781280518sec\n",
            "\n",
            "9 epoch: [450/450, loss:0.4441175162792206, accuracy:0.8199999928474426, batch_time:0.0320429801940918]\n",
            "Training time: 14.500290393829346.\n",
            "Validation score: loss: 0.6903392672538757, accuracy: 0.7806000709533691, time: 1.5442392826080322\n",
            "Epoch time: 16.044684648513794sec\n",
            "\n",
            "10 epoch: [450/450, loss:0.4569423794746399, accuracy:0.8100000023841858, batch_time:0.028934955596923828]\n",
            "Training time: 14.313005685806274.\n",
            "Validation score: loss: 0.872988224029541, accuracy: 0.7448000311851501, time: 1.476841926574707\n",
            "Epoch time: 15.790021657943726sec\n",
            "\n",
            "Total time: 164.42398166656494sec.\n"
          ],
          "name": "stdout"
        }
      ]
    },
    {
      "cell_type": "code",
      "metadata": {
        "id": "vREbO0cWVygG",
        "colab_type": "code",
        "outputId": "07378da4-a91f-4f85-fc73-3bc7005367a8",
        "colab": {
          "base_uri": "https://localhost:8080/",
          "height": 1000
        }
      },
      "source": [
        "! python tfv1/train_keras_gen.py -d Cifar10 -dd cifar-10 -e 10"
      ],
      "execution_count": 11,
      "outputs": [
        {
          "output_type": "stream",
          "text": [
            "dataset: Cifar10\n",
            "dataset_dir: cifar-10\n",
            "epochs: 10\n",
            "batch_size: 100\n",
            "validation_split: 0.1\n",
            "check_step: 100\n",
            "resize_shape: [32, 32]\n",
            "crop_shape: None\n",
            "rotate: False\n",
            "flip_left_right: False\n",
            "flip_up_down: False\n",
            "filters: 64\n",
            "learning_rate: 0.001\n",
            "Found 45000 images belonging to 10 classes.\n",
            "Found 5000 images belonging to 10 classes.\n",
            "WARNING:tensorflow:From /usr/local/lib/python3.6/dist-packages/tensorflow/python/ops/init_ops.py:1251: calling VarianceScaling.__init__ (from tensorflow.python.ops.init_ops) with dtype is deprecated and will be removed in a future version.\n",
            "Instructions for updating:\n",
            "Call initializer instance with the dtype argument instead of passing it to the constructor\n",
            "2019-09-28 14:56:38.925982: I tensorflow/core/platform/cpu_feature_guard.cc:142] Your CPU supports instructions that this TensorFlow binary was not compiled to use: AVX512F\n",
            "2019-09-28 14:56:38.937777: I tensorflow/core/platform/profile_utils/cpu_utils.cc:94] CPU Frequency: 2000165000 Hz\n",
            "2019-09-28 14:56:38.938027: I tensorflow/compiler/xla/service/service.cc:168] XLA service 0x568c000 executing computations on platform Host. Devices:\n",
            "2019-09-28 14:56:38.938059: I tensorflow/compiler/xla/service/service.cc:175]   StreamExecutor device (0): <undefined>, <undefined>\n",
            "2019-09-28 14:56:38.940882: I tensorflow/stream_executor/platform/default/dso_loader.cc:42] Successfully opened dynamic library libcuda.so.1\n",
            "2019-09-28 14:56:39.130555: I tensorflow/stream_executor/cuda/cuda_gpu_executor.cc:1005] successful NUMA node read from SysFS had negative value (-1), but there must be at least one NUMA node, so returning NUMA node zero\n",
            "2019-09-28 14:56:39.131490: I tensorflow/compiler/xla/service/service.cc:168] XLA service 0x568c8c0 executing computations on platform CUDA. Devices:\n",
            "2019-09-28 14:56:39.131527: I tensorflow/compiler/xla/service/service.cc:175]   StreamExecutor device (0): Tesla T4, Compute Capability 7.5\n",
            "2019-09-28 14:56:39.131753: I tensorflow/stream_executor/cuda/cuda_gpu_executor.cc:1005] successful NUMA node read from SysFS had negative value (-1), but there must be at least one NUMA node, so returning NUMA node zero\n",
            "2019-09-28 14:56:39.132488: I tensorflow/core/common_runtime/gpu/gpu_device.cc:1640] Found device 0 with properties: \n",
            "name: Tesla T4 major: 7 minor: 5 memoryClockRate(GHz): 1.59\n",
            "pciBusID: 0000:00:04.0\n",
            "2019-09-28 14:56:39.132890: I tensorflow/stream_executor/platform/default/dso_loader.cc:42] Successfully opened dynamic library libcudart.so.10.0\n",
            "2019-09-28 14:56:39.134468: I tensorflow/stream_executor/platform/default/dso_loader.cc:42] Successfully opened dynamic library libcublas.so.10.0\n",
            "2019-09-28 14:56:39.135885: I tensorflow/stream_executor/platform/default/dso_loader.cc:42] Successfully opened dynamic library libcufft.so.10.0\n",
            "2019-09-28 14:56:39.136308: I tensorflow/stream_executor/platform/default/dso_loader.cc:42] Successfully opened dynamic library libcurand.so.10.0\n",
            "2019-09-28 14:56:39.138246: I tensorflow/stream_executor/platform/default/dso_loader.cc:42] Successfully opened dynamic library libcusolver.so.10.0\n",
            "2019-09-28 14:56:39.139611: I tensorflow/stream_executor/platform/default/dso_loader.cc:42] Successfully opened dynamic library libcusparse.so.10.0\n",
            "2019-09-28 14:56:39.143866: I tensorflow/stream_executor/platform/default/dso_loader.cc:42] Successfully opened dynamic library libcudnn.so.7\n",
            "2019-09-28 14:56:39.143969: I tensorflow/stream_executor/cuda/cuda_gpu_executor.cc:1005] successful NUMA node read from SysFS had negative value (-1), but there must be at least one NUMA node, so returning NUMA node zero\n",
            "2019-09-28 14:56:39.144768: I tensorflow/stream_executor/cuda/cuda_gpu_executor.cc:1005] successful NUMA node read from SysFS had negative value (-1), but there must be at least one NUMA node, so returning NUMA node zero\n",
            "2019-09-28 14:56:39.145508: I tensorflow/core/common_runtime/gpu/gpu_device.cc:1763] Adding visible gpu devices: 0\n",
            "2019-09-28 14:56:39.145581: I tensorflow/stream_executor/platform/default/dso_loader.cc:42] Successfully opened dynamic library libcudart.so.10.0\n",
            "2019-09-28 14:56:39.146834: I tensorflow/core/common_runtime/gpu/gpu_device.cc:1181] Device interconnect StreamExecutor with strength 1 edge matrix:\n",
            "2019-09-28 14:56:39.146865: I tensorflow/core/common_runtime/gpu/gpu_device.cc:1187]      0 \n",
            "2019-09-28 14:56:39.146879: I tensorflow/core/common_runtime/gpu/gpu_device.cc:1200] 0:   N \n",
            "2019-09-28 14:56:39.146999: I tensorflow/stream_executor/cuda/cuda_gpu_executor.cc:1005] successful NUMA node read from SysFS had negative value (-1), but there must be at least one NUMA node, so returning NUMA node zero\n",
            "2019-09-28 14:56:39.147786: I tensorflow/stream_executor/cuda/cuda_gpu_executor.cc:1005] successful NUMA node read from SysFS had negative value (-1), but there must be at least one NUMA node, so returning NUMA node zero\n",
            "2019-09-28 14:56:39.148507: W tensorflow/core/common_runtime/gpu/gpu_bfc_allocator.cc:40] Overriding allow_growth setting because the TF_FORCE_GPU_ALLOW_GROWTH environment variable is set. Original config value was 0.\n",
            "2019-09-28 14:56:39.148584: I tensorflow/core/common_runtime/gpu/gpu_device.cc:1326] Created TensorFlow device (/job:localhost/replica:0/task:0/device:GPU:0 with 14221 MB memory) -> physical GPU (device: 0, name: Tesla T4, pci bus id: 0000:00:04.0, compute capability: 7.5)\n",
            "Epoch 1/10\n",
            "2019-09-28 14:56:41.699599: I tensorflow/stream_executor/platform/default/dso_loader.cc:42] Successfully opened dynamic library libcublas.so.10.0\n",
            "2019-09-28 14:56:42.006540: I tensorflow/stream_executor/platform/default/dso_loader.cc:42] Successfully opened dynamic library libcudnn.so.7\n",
            "450/450 [==============================] - 17s 37ms/step - loss: 1.5111 - categorical_accuracy: 0.4826 - val_loss: 1.8571 - val_categorical_accuracy: 0.4092\n",
            "Epoch 2/10\n",
            "450/450 [==============================] - 13s 29ms/step - loss: 1.0328 - categorical_accuracy: 0.6334 - val_loss: 1.2763 - val_categorical_accuracy: 0.5606\n",
            "Epoch 3/10\n",
            "450/450 [==============================] - 13s 29ms/step - loss: 0.8431 - categorical_accuracy: 0.7010 - val_loss: 1.5265 - val_categorical_accuracy: 0.5246\n",
            "Epoch 4/10\n",
            "450/450 [==============================] - 13s 30ms/step - loss: 0.7173 - categorical_accuracy: 0.7466 - val_loss: 1.5431 - val_categorical_accuracy: 0.5220\n",
            "Epoch 5/10\n",
            "450/450 [==============================] - 13s 29ms/step - loss: 0.6414 - categorical_accuracy: 0.7747 - val_loss: 0.9402 - val_categorical_accuracy: 0.6904\n",
            "Epoch 6/10\n",
            "450/450 [==============================] - 13s 29ms/step - loss: 0.5655 - categorical_accuracy: 0.8000 - val_loss: 1.3330 - val_categorical_accuracy: 0.5870\n",
            "Epoch 7/10\n",
            "450/450 [==============================] - 13s 29ms/step - loss: 0.4999 - categorical_accuracy: 0.8239 - val_loss: 0.9170 - val_categorical_accuracy: 0.7006\n",
            "Epoch 8/10\n",
            "450/450 [==============================] - 13s 29ms/step - loss: 0.4481 - categorical_accuracy: 0.8412 - val_loss: 0.9935 - val_categorical_accuracy: 0.6920\n",
            "Epoch 9/10\n",
            "450/450 [==============================] - 13s 30ms/step - loss: 0.3879 - categorical_accuracy: 0.8623 - val_loss: 1.0433 - val_categorical_accuracy: 0.6754\n",
            "Epoch 10/10\n",
            "450/450 [==============================] - 13s 30ms/step - loss: 0.3375 - categorical_accuracy: 0.8807 - val_loss: 1.0493 - val_categorical_accuracy: 0.6980\n",
            "Total time: 136.65723204612732sec.\n"
          ],
          "name": "stdout"
        }
      ]
    },
    {
      "cell_type": "code",
      "metadata": {
        "id": "-MSYRP1lWT-4",
        "colab_type": "code",
        "outputId": "63642495-6204-4ace-b02a-38a725b18863",
        "colab": {
          "base_uri": "https://localhost:8080/",
          "height": 530
        }
      },
      "source": [
        "! pip install tensorflow-gpu==2.0.0rc"
      ],
      "execution_count": 12,
      "outputs": [
        {
          "output_type": "stream",
          "text": [
            "Collecting tensorflow-gpu==2.0.0rc\n",
            "\u001b[?25l  Downloading https://files.pythonhosted.org/packages/6a/12/8c64cc62149cc21c70c55018502831bbf4d42bd62bed196df7de6830d21b/tensorflow_gpu-2.0.0rc0-cp36-cp36m-manylinux2010_x86_64.whl (380.5MB)\n",
            "\u001b[K     |████████████████████████████████| 380.5MB 82kB/s \n",
            "\u001b[?25hRequirement already satisfied: keras-preprocessing>=1.0.5 in /usr/local/lib/python3.6/dist-packages (from tensorflow-gpu==2.0.0rc) (1.1.0)\n",
            "Requirement already satisfied: keras-applications>=1.0.8 in /usr/local/lib/python3.6/dist-packages (from tensorflow-gpu==2.0.0rc) (1.0.8)\n",
            "Requirement already satisfied: astor>=0.6.0 in /usr/local/lib/python3.6/dist-packages (from tensorflow-gpu==2.0.0rc) (0.8.0)\n",
            "Requirement already satisfied: absl-py>=0.7.0 in /usr/local/lib/python3.6/dist-packages (from tensorflow-gpu==2.0.0rc) (0.8.0)\n",
            "Requirement already satisfied: opt-einsum>=2.3.2 in /usr/local/lib/python3.6/dist-packages (from tensorflow-gpu==2.0.0rc) (3.0.1)\n",
            "Requirement already satisfied: protobuf>=3.6.1 in /usr/local/lib/python3.6/dist-packages (from tensorflow-gpu==2.0.0rc) (3.7.1)\n",
            "Collecting tb-nightly<1.15.0a20190807,>=1.15.0a20190806 (from tensorflow-gpu==2.0.0rc)\n",
            "\u001b[?25l  Downloading https://files.pythonhosted.org/packages/bc/88/24b5fb7280e74c7cf65bde47c171547fd02afb3840cff41bcbe9270650f5/tb_nightly-1.15.0a20190806-py3-none-any.whl (4.3MB)\n",
            "\u001b[K     |████████████████████████████████| 4.3MB 55.3MB/s \n",
            "\u001b[?25hRequirement already satisfied: gast>=0.2.0 in /usr/local/lib/python3.6/dist-packages (from tensorflow-gpu==2.0.0rc) (0.2.2)\n",
            "Requirement already satisfied: termcolor>=1.1.0 in /usr/local/lib/python3.6/dist-packages (from tensorflow-gpu==2.0.0rc) (1.1.0)\n",
            "Collecting tf-estimator-nightly<1.14.0.dev2019080602,>=1.14.0.dev2019080601 (from tensorflow-gpu==2.0.0rc)\n",
            "\u001b[?25l  Downloading https://files.pythonhosted.org/packages/21/28/f2a27a62943d5f041e4a6fd404b2d21cb7c59b2242a4e73b03d9ba166552/tf_estimator_nightly-1.14.0.dev2019080601-py2.py3-none-any.whl (501kB)\n",
            "\u001b[K     |████████████████████████████████| 501kB 59.5MB/s \n",
            "\u001b[?25hRequirement already satisfied: wheel>=0.26 in /usr/local/lib/python3.6/dist-packages (from tensorflow-gpu==2.0.0rc) (0.33.6)\n",
            "Requirement already satisfied: numpy<2.0,>=1.16.0 in /usr/local/lib/python3.6/dist-packages (from tensorflow-gpu==2.0.0rc) (1.16.5)\n",
            "Requirement already satisfied: grpcio>=1.8.6 in /usr/local/lib/python3.6/dist-packages (from tensorflow-gpu==2.0.0rc) (1.15.0)\n",
            "Requirement already satisfied: six>=1.10.0 in /usr/local/lib/python3.6/dist-packages (from tensorflow-gpu==2.0.0rc) (1.12.0)\n",
            "Requirement already satisfied: google-pasta>=0.1.6 in /usr/local/lib/python3.6/dist-packages (from tensorflow-gpu==2.0.0rc) (0.1.7)\n",
            "Requirement already satisfied: wrapt>=1.11.1 in /usr/local/lib/python3.6/dist-packages (from tensorflow-gpu==2.0.0rc) (1.11.2)\n",
            "Requirement already satisfied: h5py in /usr/local/lib/python3.6/dist-packages (from keras-applications>=1.0.8->tensorflow-gpu==2.0.0rc) (2.8.0)\n",
            "Requirement already satisfied: setuptools in /usr/local/lib/python3.6/dist-packages (from protobuf>=3.6.1->tensorflow-gpu==2.0.0rc) (41.2.0)\n",
            "Requirement already satisfied: werkzeug>=0.11.15 in /usr/local/lib/python3.6/dist-packages (from tb-nightly<1.15.0a20190807,>=1.15.0a20190806->tensorflow-gpu==2.0.0rc) (0.15.6)\n",
            "Requirement already satisfied: markdown>=2.6.8 in /usr/local/lib/python3.6/dist-packages (from tb-nightly<1.15.0a20190807,>=1.15.0a20190806->tensorflow-gpu==2.0.0rc) (3.1.1)\n",
            "Installing collected packages: tb-nightly, tf-estimator-nightly, tensorflow-gpu\n",
            "Successfully installed tb-nightly-1.15.0a20190806 tensorflow-gpu-2.0.0rc0 tf-estimator-nightly-1.14.0.dev2019080601\n"
          ],
          "name": "stdout"
        }
      ]
    },
    {
      "cell_type": "code",
      "metadata": {
        "id": "19OM5UIKcGJV",
        "colab_type": "code",
        "outputId": "a85db16b-4956-47b6-bee2-69a270fb8dee",
        "colab": {
          "base_uri": "https://localhost:8080/",
          "height": 1000
        }
      },
      "source": [
        "! python tfv2/train_tf.py -d Cifar10 -dd cifar-10 -e 10"
      ],
      "execution_count": 13,
      "outputs": [
        {
          "output_type": "stream",
          "text": [
            "dataset: Cifar10\n",
            "dataset_dir: cifar-10\n",
            "epochs: 10\n",
            "batch_size: 100\n",
            "validation_split: 0.1\n",
            "check_step: 100\n",
            "resize_shape: [32, 32]\n",
            "crop_shape: None\n",
            "rotate: False\n",
            "flip_left_right: False\n",
            "flip_up_down: False\n",
            "filters: 64\n",
            "learning_rate: 0.001\n",
            "Building a dataset pipeline ...\n",
            "Found 50000 images.\n",
            "2019-09-28 14:59:39.150327: I tensorflow/stream_executor/platform/default/dso_loader.cc:44] Successfully opened dynamic library libcuda.so.1\n",
            "2019-09-28 14:59:39.183603: I tensorflow/stream_executor/cuda/cuda_gpu_executor.cc:1006] successful NUMA node read from SysFS had negative value (-1), but there must be at least one NUMA node, so returning NUMA node zero\n",
            "2019-09-28 14:59:39.184159: I tensorflow/core/common_runtime/gpu/gpu_device.cc:1618] Found device 0 with properties: \n",
            "name: Tesla T4 major: 7 minor: 5 memoryClockRate(GHz): 1.59\n",
            "pciBusID: 0000:00:04.0\n",
            "2019-09-28 14:59:39.184454: I tensorflow/stream_executor/platform/default/dso_loader.cc:44] Successfully opened dynamic library libcudart.so.10.0\n",
            "2019-09-28 14:59:39.185623: I tensorflow/stream_executor/platform/default/dso_loader.cc:44] Successfully opened dynamic library libcublas.so.10.0\n",
            "2019-09-28 14:59:39.186760: I tensorflow/stream_executor/platform/default/dso_loader.cc:44] Successfully opened dynamic library libcufft.so.10.0\n",
            "2019-09-28 14:59:39.187128: I tensorflow/stream_executor/platform/default/dso_loader.cc:44] Successfully opened dynamic library libcurand.so.10.0\n",
            "2019-09-28 14:59:39.188515: I tensorflow/stream_executor/platform/default/dso_loader.cc:44] Successfully opened dynamic library libcusolver.so.10.0\n",
            "2019-09-28 14:59:39.189526: I tensorflow/stream_executor/platform/default/dso_loader.cc:44] Successfully opened dynamic library libcusparse.so.10.0\n",
            "2019-09-28 14:59:39.204190: I tensorflow/stream_executor/platform/default/dso_loader.cc:44] Successfully opened dynamic library libcudnn.so.7\n",
            "2019-09-28 14:59:39.204342: I tensorflow/stream_executor/cuda/cuda_gpu_executor.cc:1006] successful NUMA node read from SysFS had negative value (-1), but there must be at least one NUMA node, so returning NUMA node zero\n",
            "2019-09-28 14:59:39.205047: I tensorflow/stream_executor/cuda/cuda_gpu_executor.cc:1006] successful NUMA node read from SysFS had negative value (-1), but there must be at least one NUMA node, so returning NUMA node zero\n",
            "2019-09-28 14:59:39.205543: I tensorflow/core/common_runtime/gpu/gpu_device.cc:1746] Adding visible gpu devices: 0\n",
            "2019-09-28 14:59:39.206066: I tensorflow/core/platform/cpu_feature_guard.cc:142] Your CPU supports instructions that this TensorFlow binary was not compiled to use: AVX2 AVX512F FMA\n",
            "2019-09-28 14:59:39.211678: I tensorflow/core/platform/profile_utils/cpu_utils.cc:94] CPU Frequency: 2000165000 Hz\n",
            "2019-09-28 14:59:39.211894: I tensorflow/compiler/xla/service/service.cc:168] XLA service 0x1387480 executing computations on platform Host. Devices:\n",
            "2019-09-28 14:59:39.211921: I tensorflow/compiler/xla/service/service.cc:175]   StreamExecutor device (0): Host, Default Version\n",
            "2019-09-28 14:59:39.315171: I tensorflow/stream_executor/cuda/cuda_gpu_executor.cc:1006] successful NUMA node read from SysFS had negative value (-1), but there must be at least one NUMA node, so returning NUMA node zero\n",
            "2019-09-28 14:59:39.315893: I tensorflow/compiler/xla/service/service.cc:168] XLA service 0x1387d40 executing computations on platform CUDA. Devices:\n",
            "2019-09-28 14:59:39.315929: I tensorflow/compiler/xla/service/service.cc:175]   StreamExecutor device (0): Tesla T4, Compute Capability 7.5\n",
            "2019-09-28 14:59:39.316105: I tensorflow/stream_executor/cuda/cuda_gpu_executor.cc:1006] successful NUMA node read from SysFS had negative value (-1), but there must be at least one NUMA node, so returning NUMA node zero\n",
            "2019-09-28 14:59:39.316619: I tensorflow/core/common_runtime/gpu/gpu_device.cc:1618] Found device 0 with properties: \n",
            "name: Tesla T4 major: 7 minor: 5 memoryClockRate(GHz): 1.59\n",
            "pciBusID: 0000:00:04.0\n",
            "2019-09-28 14:59:39.316667: I tensorflow/stream_executor/platform/default/dso_loader.cc:44] Successfully opened dynamic library libcudart.so.10.0\n",
            "2019-09-28 14:59:39.316681: I tensorflow/stream_executor/platform/default/dso_loader.cc:44] Successfully opened dynamic library libcublas.so.10.0\n",
            "2019-09-28 14:59:39.316693: I tensorflow/stream_executor/platform/default/dso_loader.cc:44] Successfully opened dynamic library libcufft.so.10.0\n",
            "2019-09-28 14:59:39.316728: I tensorflow/stream_executor/platform/default/dso_loader.cc:44] Successfully opened dynamic library libcurand.so.10.0\n",
            "2019-09-28 14:59:39.316747: I tensorflow/stream_executor/platform/default/dso_loader.cc:44] Successfully opened dynamic library libcusolver.so.10.0\n",
            "2019-09-28 14:59:39.316781: I tensorflow/stream_executor/platform/default/dso_loader.cc:44] Successfully opened dynamic library libcusparse.so.10.0\n",
            "2019-09-28 14:59:39.316795: I tensorflow/stream_executor/platform/default/dso_loader.cc:44] Successfully opened dynamic library libcudnn.so.7\n",
            "2019-09-28 14:59:39.316854: I tensorflow/stream_executor/cuda/cuda_gpu_executor.cc:1006] successful NUMA node read from SysFS had negative value (-1), but there must be at least one NUMA node, so returning NUMA node zero\n",
            "2019-09-28 14:59:39.317359: I tensorflow/stream_executor/cuda/cuda_gpu_executor.cc:1006] successful NUMA node read from SysFS had negative value (-1), but there must be at least one NUMA node, so returning NUMA node zero\n",
            "2019-09-28 14:59:39.317828: I tensorflow/core/common_runtime/gpu/gpu_device.cc:1746] Adding visible gpu devices: 0\n",
            "2019-09-28 14:59:39.317952: I tensorflow/stream_executor/platform/default/dso_loader.cc:44] Successfully opened dynamic library libcudart.so.10.0\n",
            "2019-09-28 14:59:39.318901: I tensorflow/core/common_runtime/gpu/gpu_device.cc:1159] Device interconnect StreamExecutor with strength 1 edge matrix:\n",
            "2019-09-28 14:59:39.318930: I tensorflow/core/common_runtime/gpu/gpu_device.cc:1165]      0 \n",
            "2019-09-28 14:59:39.318940: I tensorflow/core/common_runtime/gpu/gpu_device.cc:1178] 0:   N \n",
            "2019-09-28 14:59:39.319118: I tensorflow/stream_executor/cuda/cuda_gpu_executor.cc:1006] successful NUMA node read from SysFS had negative value (-1), but there must be at least one NUMA node, so returning NUMA node zero\n",
            "2019-09-28 14:59:39.319648: I tensorflow/stream_executor/cuda/cuda_gpu_executor.cc:1006] successful NUMA node read from SysFS had negative value (-1), but there must be at least one NUMA node, so returning NUMA node zero\n",
            "2019-09-28 14:59:39.320167: W tensorflow/core/common_runtime/gpu/gpu_bfc_allocator.cc:39] Overriding allow_growth setting because the TF_FORCE_GPU_ALLOW_GROWTH environment variable is set. Original config value was 0.\n",
            "2019-09-28 14:59:39.320204: I tensorflow/core/common_runtime/gpu/gpu_device.cc:1304] Created TensorFlow device (/job:localhost/replica:0/task:0/device:GPU:0 with 14221 MB memory) -> physical GPU (device: 0, name: Tesla T4, pci bus id: 0000:00:04.0, compute capability: 7.5)\n",
            "Done.\n",
            "2019-09-28 14:59:42.573167: I tensorflow/stream_executor/platform/default/dso_loader.cc:44] Successfully opened dynamic library libcublas.so.10.0\n",
            "2019-09-28 14:59:42.866927: I tensorflow/stream_executor/platform/default/dso_loader.cc:44] Successfully opened dynamic library libcudnn.so.7\n",
            "1 epoch: [450/450, loss:1.4879487752914429, accuracy:0.49000000953674316, batch_time:0.005702018737792969]\n",
            "Training time: 19.226757764816284.\n",
            "Validation score: loss: 1.979254961013794, accuracy: 0.3242000341415405, time: 1.9649567604064941.\n",
            "Epoch time: 21.191925048828125sec\n",
            "\n",
            "2 epoch: [450/450, loss:1.0693295001983643, accuracy:0.6299999952316284, batch_time:0.0054931640625]\n",
            "Training time: 14.853564023971558.\n",
            "Validation score: loss: 1.1196175813674927, accuracy: 0.6218000054359436, time: 1.7399537563323975.\n",
            "Epoch time: 16.59368324279785sec\n",
            "\n",
            "3 epoch: [450/450, loss:0.7238759398460388, accuracy:0.7400000095367432, batch_time:0.006079673767089844]\n",
            "Training time: 14.507652521133423.\n",
            "Validation score: loss: 1.3198442459106445, accuracy: 0.5619999766349792, time: 1.676147222518921.\n",
            "Epoch time: 16.18396782875061sec\n",
            "\n",
            "4 epoch: [450/450, loss:0.5305235981941223, accuracy:0.8299999833106995, batch_time:0.005802154541015625]\n",
            "Training time: 14.660342454910278.\n",
            "Validation score: loss: 0.8810648918151855, accuracy: 0.6805999279022217, time: 1.7010929584503174.\n",
            "Epoch time: 16.361611366271973sec\n",
            "\n",
            "5 epoch: [450/450, loss:0.5123335123062134, accuracy:0.8100000023841858, batch_time:0.006450653076171875]\n",
            "Training time: 14.663810968399048.\n",
            "Validation score: loss: 0.8538054823875427, accuracy: 0.7073999643325806, time: 1.6877903938293457.\n",
            "Epoch time: 16.351820468902588sec\n",
            "\n",
            "6 epoch: [450/450, loss:0.3994162082672119, accuracy:0.8500000238418579, batch_time:0.011769294738769531]\n",
            "Training time: 14.641874313354492.\n",
            "Validation score: loss: 0.8371208310127258, accuracy: 0.7216000556945801, time: 1.7049109935760498.\n",
            "Epoch time: 16.347021341323853sec\n",
            "\n",
            "7 epoch: [450/450, loss:0.34128424525260925, accuracy:0.8799999952316284, batch_time:0.005918979644775391]\n",
            "Training time: 14.51164197921753.\n",
            "Validation score: loss: 0.6913643479347229, accuracy: 0.7565999627113342, time: 1.6837446689605713.\n",
            "Epoch time: 16.19555163383484sec\n",
            "\n",
            "8 epoch: [450/450, loss:0.47487446665763855, accuracy:0.8399999737739563, batch_time:0.005674839019775391]\n",
            "Training time: 14.456747770309448.\n",
            "Validation score: loss: 0.5320317149162292, accuracy: 0.8104000091552734, time: 1.6378047466278076.\n",
            "Epoch time: 16.094717502593994sec\n",
            "\n",
            "9 epoch: [450/450, loss:0.3371833860874176, accuracy:0.8700000047683716, batch_time:0.006117820739746094]\n",
            "Training time: 14.409308433532715.\n",
            "Validation score: loss: 1.098015308380127, accuracy: 0.6756000518798828, time: 1.655817985534668.\n",
            "Epoch time: 16.065287590026855sec\n",
            "\n",
            "10 epoch: [450/450, loss:0.2925720512866974, accuracy:0.8399999737739563, batch_time:0.004966259002685547]\n",
            "Training time: 14.605934143066406.\n",
            "Validation score: loss: 0.5087268948554993, accuracy: 0.8127999901771545, time: 1.697042465209961.\n",
            "Epoch time: 16.303139686584473sec\n",
            "\n",
            "Total time: 167.68887639045715sec.\n"
          ],
          "name": "stdout"
        }
      ]
    },
    {
      "cell_type": "code",
      "metadata": {
        "id": "HDpL4xlco1cU",
        "colab_type": "code",
        "colab": {}
      },
      "source": [
        "# Relatively slow.\n",
        "# ! python tfv2/train_keras.py -d Cifar10 -dd cifar-10 -e 10"
      ],
      "execution_count": 0,
      "outputs": []
    },
    {
      "cell_type": "code",
      "metadata": {
        "id": "-BUCytKUWEMG",
        "colab_type": "code",
        "outputId": "aedd525d-ec69-4e69-8b3e-3dc5e5537e2b",
        "colab": {
          "base_uri": "https://localhost:8080/",
          "height": 1000
        }
      },
      "source": [
        "! python torch/train.py -d Cifar -dd cifar-10 -e 10"
      ],
      "execution_count": 15,
      "outputs": [
        {
          "output_type": "stream",
          "text": [
            "dataset: Cifar\n",
            "dataset_dir: cifar-10\n",
            "epochs: 10\n",
            "batch_size: 100\n",
            "validation_split: 0.1\n",
            "check_step: 100\n",
            "resize_shape: [32, 32]\n",
            "crop_shape: None\n",
            "rotate: False\n",
            "flip_left_right: False\n",
            "flip_up_down: False\n",
            "filters: 64\n",
            "learning_rate: 0.001\n",
            "Building a dataset pipeline ...\n",
            "Found 50000 images.\n",
            "Done.\n",
            "1 epoch: [450/450, loss:0.9296836853027344, accuracy:0.64, batch_time:0.008803129196166992]\n",
            "Training time: 14.006418466567993.\n",
            "Validation score: loss: 1.37753182888031, accuracy: 0.5128, time: 1.3719046115875244.\n",
            "Epoch time: 15.378594398498535sec\n",
            "\n",
            "2 epoch: [450/450, loss:0.8145493865013123, accuracy:0.72, batch_time:0.009927511215209961]\n",
            "Training time: 13.68932557106018.\n",
            "Validation score: loss: 1.1608903193473816, accuracy: 0.5894, time: 1.4007320404052734.\n",
            "Epoch time: 15.090233325958252sec\n",
            "\n",
            "3 epoch: [450/450, loss:0.844008207321167, accuracy:0.64, batch_time:0.009185075759887695]\n",
            "Training time: 13.703865766525269.\n",
            "Validation score: loss: 1.2898068499565125, accuracy: 0.584, time: 1.4035837650299072.\n",
            "Epoch time: 15.107708930969238sec\n",
            "\n",
            "4 epoch: [450/450, loss:0.7387946248054504, accuracy:0.75, batch_time:0.01003575325012207]\n",
            "Training time: 13.627792596817017.\n",
            "Validation score: loss: 0.9781604075431823, accuracy: 0.6597999999999999, time: 1.4066236019134521.\n",
            "Epoch time: 15.034588813781738sec\n",
            "\n",
            "5 epoch: [450/450, loss:0.614660382270813, accuracy:0.81, batch_time:0.015534162521362305]\n",
            "Training time: 13.721677541732788.\n",
            "Validation score: loss: 0.9303499221801758, accuracy: 0.68, time: 1.3920295238494873.\n",
            "Epoch time: 15.113881826400757sec\n",
            "\n",
            "6 epoch: [450/450, loss:0.6515015363693237, accuracy:0.75, batch_time:0.008943796157836914]\n",
            "Training time: 13.837077617645264.\n",
            "Validation score: loss: 0.8598388016223908, accuracy: 0.713, time: 1.4402382373809814.\n",
            "Epoch time: 15.277526617050171sec\n",
            "\n",
            "7 epoch: [450/450, loss:0.5440641045570374, accuracy:0.82, batch_time:0.009417057037353516]\n",
            "Training time: 14.04092001914978.\n",
            "Validation score: loss: 0.7863734543323517, accuracy: 0.7363999999999998, time: 1.428642749786377.\n",
            "Epoch time: 15.469738006591797sec\n",
            "\n",
            "8 epoch: [450/450, loss:0.4270465075969696, accuracy:0.85, batch_time:0.013060331344604492]\n",
            "Training time: 13.871260166168213.\n",
            "Validation score: loss: 0.782049617767334, accuracy: 0.7338000000000001, time: 1.4693078994750977.\n",
            "Epoch time: 15.34073805809021sec\n",
            "\n",
            "9 epoch: [450/450, loss:0.4311743676662445, accuracy:0.83, batch_time:0.008756875991821289]\n",
            "Training time: 13.944031238555908.\n",
            "Validation score: loss: 0.8438549947738647, accuracy: 0.7274, time: 1.4135398864746094.\n",
            "Epoch time: 15.35775876045227sec\n",
            "\n",
            "10 epoch: [450/450, loss:0.24552030861377716, accuracy:0.92, batch_time:0.009780645370483398]\n",
            "Training time: 13.842763423919678.\n",
            "Validation score: loss: 0.7487756836414338, accuracy: 0.7544, time: 1.4763524532318115.\n",
            "Epoch time: 15.319300651550293sec\n",
            "\n",
            "Total time: 152.49019026756287sec.\n"
          ],
          "name": "stdout"
        }
      ]
    },
    {
      "cell_type": "code",
      "metadata": {
        "id": "PCmUFqUzWMUf",
        "colab_type": "code",
        "outputId": "ab20a4a7-a751-41b7-80df-f60f82bb9b61",
        "colab": {
          "base_uri": "https://localhost:8080/",
          "height": 671
        }
      },
      "source": [
        "! pip install chainer==6.3.0 cupy-cuda100==6.3.0"
      ],
      "execution_count": 16,
      "outputs": [
        {
          "output_type": "stream",
          "text": [
            "Collecting chainer==6.3.0\n",
            "\u001b[?25l  Downloading https://files.pythonhosted.org/packages/32/2e/947315177fb5e569fdff8e614be9737463de777d69f272e1ff19c12d694b/chainer-6.3.0.tar.gz (874kB)\n",
            "\u001b[K     |████████████████████████████████| 880kB 8.6MB/s \n",
            "\u001b[?25hCollecting cupy-cuda100==6.3.0\n",
            "\u001b[?25l  Downloading https://files.pythonhosted.org/packages/20/1a/00adf8ba3bd3f9f0b72cffe67559bd42e8f5bb45247b4d70b59e47ba5c59/cupy_cuda100-6.3.0-cp36-cp36m-manylinux1_x86_64.whl (380.0MB)\n",
            "\u001b[K     |████████████████████████████████| 380.0MB 86kB/s \n",
            "\u001b[?25hRequirement already satisfied: setuptools in /usr/local/lib/python3.6/dist-packages (from chainer==6.3.0) (41.2.0)\n",
            "Collecting typing<=3.6.6 (from chainer==6.3.0)\n",
            "  Downloading https://files.pythonhosted.org/packages/4a/bd/eee1157fc2d8514970b345d69cb9975dcd1e42cd7e61146ed841f6e68309/typing-3.6.6-py3-none-any.whl\n",
            "Collecting typing_extensions<=3.6.6 (from chainer==6.3.0)\n",
            "  Downloading https://files.pythonhosted.org/packages/62/4f/392a1fa2873e646f5990eb6f956e662d8a235ab474450c72487745f67276/typing_extensions-3.6.6-py3-none-any.whl\n",
            "Requirement already satisfied: filelock in /usr/local/lib/python3.6/dist-packages (from chainer==6.3.0) (3.0.12)\n",
            "Requirement already satisfied: numpy>=1.9.0 in /usr/local/lib/python3.6/dist-packages (from chainer==6.3.0) (1.16.5)\n",
            "Requirement already satisfied: protobuf<3.8.0rc1,>=3.0.0 in /usr/local/lib/python3.6/dist-packages (from chainer==6.3.0) (3.7.1)\n",
            "Requirement already satisfied: six>=1.9.0 in /usr/local/lib/python3.6/dist-packages (from chainer==6.3.0) (1.12.0)\n",
            "Requirement already satisfied: fastrlock>=0.3 in /usr/local/lib/python3.6/dist-packages (from cupy-cuda100==6.3.0) (0.4)\n",
            "Building wheels for collected packages: chainer\n",
            "  Building wheel for chainer (setup.py) ... \u001b[?25l\u001b[?25hdone\n",
            "  Created wheel for chainer: filename=chainer-6.3.0-cp36-none-any.whl size=883589 sha256=cbd2e75ac4e87e3977035783150b2532220d5f12dc0ff96f6bb9a689bd4561c7\n",
            "  Stored in directory: /root/.cache/pip/wheels/bf/fb/7d/cda50b99114b987a82c3819bebee7259e20e5a1d6113b3f6ac\n",
            "Successfully built chainer\n",
            "Installing collected packages: typing, typing-extensions, chainer, cupy-cuda100\n",
            "  Found existing installation: typing 3.7.4.1\n",
            "    Uninstalling typing-3.7.4.1:\n",
            "      Successfully uninstalled typing-3.7.4.1\n",
            "  Found existing installation: chainer 5.4.0\n",
            "    Uninstalling chainer-5.4.0:\n",
            "      Successfully uninstalled chainer-5.4.0\n",
            "  Found existing installation: cupy-cuda100 5.4.0\n",
            "    Uninstalling cupy-cuda100-5.4.0:\n",
            "      Successfully uninstalled cupy-cuda100-5.4.0\n",
            "Successfully installed chainer-6.3.0 cupy-cuda100-6.3.0 typing-3.6.6 typing-extensions-3.6.6\n"
          ],
          "name": "stdout"
        },
        {
          "output_type": "display_data",
          "data": {
            "application/vnd.colab-display-data+json": {
              "pip_warning": {
                "packages": [
                  "typing"
                ]
              }
            }
          },
          "metadata": {
            "tags": []
          }
        }
      ]
    },
    {
      "cell_type": "code",
      "metadata": {
        "id": "oSg9JT5lm5_D",
        "colab_type": "code",
        "outputId": "c28ae69d-0959-4b0d-a8f9-d99e2658b2f4",
        "colab": {
          "base_uri": "https://localhost:8080/",
          "height": 1000
        }
      },
      "source": [
        "! python chainer/train.py -d Cifar -dd cifar-10 -e 10 -g 0"
      ],
      "execution_count": 17,
      "outputs": [
        {
          "output_type": "stream",
          "text": [
            "dataset: Cifar\n",
            "dataset_dir: cifar-10\n",
            "epochs: 10\n",
            "batch_size: 100\n",
            "validation_split: 0.1\n",
            "check_step: 100\n",
            "resize_shape: [32, 32]\n",
            "crop_shape: None\n",
            "rotate: False\n",
            "flip_left_right: False\n",
            "flip_up_down: False\n",
            "filters: 64\n",
            "learning_rate: 0.001\n",
            "device: 0\n",
            "Building a dataset pipeline ...\n",
            "Found 50000 images.\n",
            "Done.\n",
            "1 epoch: [450/450, loss:1.4659892320632935, accuracy:0.4300000071525574, batch_time:0.017096281051635742]\n",
            "Training time: 24.496654272079468.\n",
            "Validation score: loss: 1.3718472719192505, accuracy: 0.5025999546051025, time: 1.5374889373779297.\n",
            "Epoch time 26.03432607650757sec\n",
            "\n",
            "2 epoch: [450/450, loss:1.167947769165039, accuracy:0.5899999737739563, batch_time:0.014610528945922852]\n",
            "Training time: 18.269728899002075.\n",
            "Validation score: loss: 1.2658270597457886, accuracy: 0.5501999855041504, time: 1.5128321647644043.\n",
            "Epoch time 19.78270387649536sec\n",
            "\n",
            "3 epoch: [450/450, loss:1.1333975791931152, accuracy:0.6000000238418579, batch_time:0.014407634735107422]\n",
            "Training time: 18.36955952644348.\n",
            "Validation score: loss: 1.0943182706832886, accuracy: 0.6118000149726868, time: 1.5262715816497803.\n",
            "Epoch time 19.8959698677063sec\n",
            "\n",
            "4 epoch: [450/450, loss:1.023165225982666, accuracy:0.6899999976158142, batch_time:0.014790773391723633]\n",
            "Training time: 18.298977375030518.\n",
            "Validation score: loss: 1.069770097732544, accuracy: 0.6204000115394592, time: 1.5038537979125977.\n",
            "Epoch time 19.802976369857788sec\n",
            "\n",
            "5 epoch: [450/450, loss:1.0664479732513428, accuracy:0.6499999761581421, batch_time:0.016728878021240234]\n",
            "Training time: 18.47469973564148.\n",
            "Validation score: loss: 1.004827618598938, accuracy: 0.6452000141143799, time: 1.493129014968872.\n",
            "Epoch time 19.967966318130493sec\n",
            "\n",
            "6 epoch: [450/450, loss:0.6959640383720398, accuracy:0.6899999976158142, batch_time:0.015115022659301758]\n",
            "Training time: 17.88005828857422.\n",
            "Validation score: loss: 0.990084707736969, accuracy: 0.6526000499725342, time: 1.5269436836242676.\n",
            "Epoch time 19.407129049301147sec\n",
            "\n",
            "7 epoch: [450/450, loss:0.843675971031189, accuracy:0.7300000190734863, batch_time:0.014812946319580078]\n",
            "Training time: 17.850801467895508.\n",
            "Validation score: loss: 0.9520164728164673, accuracy: 0.6670000553131104, time: 1.4718148708343506.\n",
            "Epoch time 19.322741746902466sec\n",
            "\n",
            "8 epoch: [450/450, loss:0.7949474453926086, accuracy:0.6899999976158142, batch_time:0.014346122741699219]\n",
            "Training time: 17.729139804840088.\n",
            "Validation score: loss: 0.9683641791343689, accuracy: 0.6760000586509705, time: 1.507859230041504.\n",
            "Epoch time 19.237144947052002sec\n",
            "\n",
            "9 epoch: [450/450, loss:0.42269665002822876, accuracy:0.8700000047683716, batch_time:0.014255046844482422]\n",
            "Training time: 17.671416759490967.\n",
            "Validation score: loss: 1.0276821851730347, accuracy: 0.6579999327659607, time: 1.4842052459716797.\n",
            "Epoch time 19.155747890472412sec\n",
            "\n",
            "10 epoch: [450/450, loss:0.4259277284145355, accuracy:0.8700000047683716, batch_time:0.01468801498413086]\n",
            "Training time: 17.80068302154541.\n",
            "Validation score: loss: 1.0534919500350952, accuracy: 0.6684000492095947, time: 1.4991786479949951.\n",
            "Epoch time 19.299994468688965sec\n",
            "\n",
            "Total time: 201.90685176849365sec.\n"
          ],
          "name": "stdout"
        }
      ]
    }
  ]
}