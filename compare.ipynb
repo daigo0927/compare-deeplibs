{
  "nbformat": 4,
  "nbformat_minor": 0,
  "metadata": {
    "colab": {
      "name": "compare.ipynb",
      "version": "0.3.2",
      "provenance": [],
      "include_colab_link": true
    },
    "kernelspec": {
      "name": "python3",
      "display_name": "Python 3"
    },
    "accelerator": "GPU"
  },
  "cells": [
    {
      "cell_type": "markdown",
      "metadata": {
        "id": "view-in-github",
        "colab_type": "text"
      },
      "source": [
        "<a href=\"https://colab.research.google.com/github/daigo0927/compare-deeplibs/blob/master/compare.ipynb\" target=\"_parent\"><img src=\"https://colab.research.google.com/assets/colab-badge.svg\" alt=\"Open In Colab\"/></a>"
      ]
    },
    {
      "cell_type": "code",
      "metadata": {
        "id": "bsLBAaWaUqw4",
        "colab_type": "code",
        "outputId": "ed388e87-e6f8-451d-935a-fc24e78eb5b4",
        "colab": {
          "base_uri": "https://localhost:8080/",
          "height": 394
        }
      },
      "source": [
        "! nvcc -V\n",
        "! nvidia-smi"
      ],
      "execution_count": 1,
      "outputs": [
        {
          "output_type": "stream",
          "text": [
            "nvcc: NVIDIA (R) Cuda compiler driver\n",
            "Copyright (c) 2005-2018 NVIDIA Corporation\n",
            "Built on Sat_Aug_25_21:08:01_CDT_2018\n",
            "Cuda compilation tools, release 10.0, V10.0.130\n",
            "Sat Sep 14 16:03:52 2019       \n",
            "+-----------------------------------------------------------------------------+\n",
            "| NVIDIA-SMI 430.40       Driver Version: 418.67       CUDA Version: 10.1     |\n",
            "|-------------------------------+----------------------+----------------------+\n",
            "| GPU  Name        Persistence-M| Bus-Id        Disp.A | Volatile Uncorr. ECC |\n",
            "| Fan  Temp  Perf  Pwr:Usage/Cap|         Memory-Usage | GPU-Util  Compute M. |\n",
            "|===============================+======================+======================|\n",
            "|   0  Tesla T4            Off  | 00000000:00:04.0 Off |                    0 |\n",
            "| N/A   67C    P8    11W /  70W |      0MiB / 15079MiB |      0%      Default |\n",
            "+-------------------------------+----------------------+----------------------+\n",
            "                                                                               \n",
            "+-----------------------------------------------------------------------------+\n",
            "| Processes:                                                       GPU Memory |\n",
            "|  GPU       PID   Type   Process name                             Usage      |\n",
            "|=============================================================================|\n",
            "|  No running processes found                                                 |\n",
            "+-----------------------------------------------------------------------------+\n"
          ],
          "name": "stdout"
        }
      ]
    },
    {
      "cell_type": "code",
      "metadata": {
        "id": "rWy0jsD1Uzte",
        "colab_type": "code",
        "outputId": "0a69a668-370e-4912-f2b0-be013f3e10b8",
        "colab": {
          "base_uri": "https://localhost:8080/",
          "height": 136
        }
      },
      "source": [
        "! git clone https://github.com/daigo0927/compare-deeplibs.git"
      ],
      "execution_count": 2,
      "outputs": [
        {
          "output_type": "stream",
          "text": [
            "Cloning into 'compare-deeplibs'...\n",
            "remote: Enumerating objects: 157, done.\u001b[K\n",
            "remote: Counting objects: 100% (157/157), done.\u001b[K\n",
            "remote: Compressing objects: 100% (108/108), done.\u001b[K\n",
            "remote: Total 273 (delta 88), reused 106 (delta 45), pack-reused 116\u001b[K\n",
            "Receiving objects: 100% (273/273), 185.61 KiB | 374.00 KiB/s, done.\n",
            "Resolving deltas: 100% (150/150), done.\n"
          ],
          "name": "stdout"
        }
      ]
    },
    {
      "cell_type": "code",
      "metadata": {
        "id": "TspFY5urVPzt",
        "colab_type": "code",
        "colab": {}
      },
      "source": [
        "! mv compare-deeplibs/* ."
      ],
      "execution_count": 0,
      "outputs": []
    },
    {
      "cell_type": "code",
      "metadata": {
        "id": "9zBYm8N4VYE7",
        "colab_type": "code",
        "outputId": "3260fbb6-07ee-4508-eaa2-5ce484f10fe8",
        "colab": {
          "base_uri": "https://localhost:8080/",
          "height": 391
        }
      },
      "source": [
        "! sh prepare_cifar10.sh"
      ],
      "execution_count": 4,
      "outputs": [
        {
          "output_type": "stream",
          "text": [
            "  % Total    % Received % Xferd  Average Speed   Time    Time     Time  Current\n",
            "                                 Dload  Upload   Total   Spent    Left  Speed\n",
            "100  162M  100  162M    0     0  15.8M      0  0:00:10  0:00:10 --:--:-- 20.0M\n",
            "cifar-10-batches-py/\n",
            "cifar-10-batches-py/data_batch_4\n",
            "cifar-10-batches-py/readme.html\n",
            "cifar-10-batches-py/test_batch\n",
            "cifar-10-batches-py/data_batch_3\n",
            "cifar-10-batches-py/batches.meta\n",
            "cifar-10-batches-py/data_batch_2\n",
            "cifar-10-batches-py/data_batch_5\n",
            "cifar-10-batches-py/data_batch_1\n",
            "Requirement already satisfied: numpy in /usr/local/lib/python3.6/dist-packages (1.16.5)\n",
            "Requirement already satisfied: pillow in /usr/local/lib/python3.6/dist-packages (4.3.0)\n",
            "Requirement already satisfied: olefile in /usr/local/lib/python3.6/dist-packages (from pillow) (0.46)\n",
            "--------- Extracting data_batch_1 -----------\n",
            "--------- Extracting data_batch_2 -----------\n",
            "--------- Extracting data_batch_3 -----------\n",
            "--------- Extracting data_batch_4 -----------\n",
            "--------- Extracting data_batch_5 -----------\n",
            "--------- Extracting test_batch -----------\n",
            "--------- Completed ------------\n"
          ],
          "name": "stdout"
        }
      ]
    },
    {
      "cell_type": "code",
      "metadata": {
        "id": "dj4sGJsNVepV",
        "colab_type": "code",
        "outputId": "cb1c9120-79ce-4936-c06c-e38537cf5459",
        "colab": {
          "base_uri": "https://localhost:8080/",
          "height": 170
        }
      },
      "source": [
        "! pip list | grep tensor"
      ],
      "execution_count": 5,
      "outputs": [
        {
          "output_type": "stream",
          "text": [
            "mesh-tensorflow          0.0.5                \n",
            "tensor2tensor            1.11.0               \n",
            "tensorboard              1.14.0               \n",
            "tensorboardcolab         0.0.22               \n",
            "tensorflow               1.14.0               \n",
            "tensorflow-estimator     1.14.0               \n",
            "tensorflow-hub           0.6.0                \n",
            "tensorflow-metadata      0.14.0               \n",
            "tensorflow-probability   0.7.0                \n"
          ],
          "name": "stdout"
        }
      ]
    },
    {
      "cell_type": "code",
      "metadata": {
        "id": "0sCYEk_tVvdX",
        "colab_type": "code",
        "outputId": "8f654b0b-cd33-4485-9f4b-e752049793b0",
        "colab": {
          "base_uri": "https://localhost:8080/",
          "height": 139
        }
      },
      "source": [
        "! pip install torch torchvision"
      ],
      "execution_count": 6,
      "outputs": [
        {
          "output_type": "stream",
          "text": [
            "Requirement already satisfied: torch in /usr/local/lib/python3.6/dist-packages (1.1.0)\n",
            "Requirement already satisfied: torchvision in /usr/local/lib/python3.6/dist-packages (0.3.0)\n",
            "Requirement already satisfied: numpy in /usr/local/lib/python3.6/dist-packages (from torch) (1.16.5)\n",
            "Requirement already satisfied: six in /usr/local/lib/python3.6/dist-packages (from torchvision) (1.12.0)\n",
            "Requirement already satisfied: pillow>=4.1.1 in /usr/local/lib/python3.6/dist-packages (from torchvision) (4.3.0)\n",
            "Requirement already satisfied: olefile in /usr/local/lib/python3.6/dist-packages (from pillow>=4.1.1->torchvision) (0.46)\n"
          ],
          "name": "stdout"
        }
      ]
    },
    {
      "cell_type": "code",
      "metadata": {
        "id": "AMMaPHcbkj1i",
        "colab_type": "code",
        "colab": {}
      },
      "source": [
        "! cp utils.py tfv1/\n",
        "! cp utils.py tfv2/\n",
        "! cp utils.py torch/\n",
        "! cp utils.py chainer/"
      ],
      "execution_count": 0,
      "outputs": []
    },
    {
      "cell_type": "code",
      "metadata": {
        "id": "1GRiujeKS-uw",
        "colab_type": "code",
        "outputId": "aa046845-dbbb-41d8-a87a-04b3354a4d7d",
        "colab": {
          "base_uri": "https://localhost:8080/",
          "height": 1000
        }
      },
      "source": [
        "! python tfv1/train_tf.py -d Cifar10 -dd cifar-10 -e 10"
      ],
      "execution_count": 8,
      "outputs": [
        {
          "output_type": "stream",
          "text": [
            "WARNING:tensorflow:From tfv1/train_tf.py:11: The name tf.losses.softmax_cross_entropy is deprecated. Please use tf.compat.v1.losses.softmax_cross_entropy instead.\n",
            "\n",
            "dataset: Cifar10\n",
            "dataset_dir: cifar-10\n",
            "epochs: 10\n",
            "batch_size: 64\n",
            "validation_split: 0.1\n",
            "resize_shape: [32, 32]\n",
            "crop_shape: None\n",
            "rotate: False\n",
            "flip_left_right: False\n",
            "flip_up_down: False\n",
            "filters: 64\n",
            "learning_rate: 0.001\n",
            "Building a dataset pipeline ...\n",
            "Found 50000 images.\n",
            "2019-09-14 16:04:49.516279: I tensorflow/stream_executor/platform/default/dso_loader.cc:42] Successfully opened dynamic library libcuda.so.1\n",
            "2019-09-14 16:04:49.579934: I tensorflow/stream_executor/cuda/cuda_gpu_executor.cc:1005] successful NUMA node read from SysFS had negative value (-1), but there must be at least one NUMA node, so returning NUMA node zero\n",
            "2019-09-14 16:04:49.580493: I tensorflow/core/common_runtime/gpu/gpu_device.cc:1640] Found device 0 with properties: \n",
            "name: Tesla T4 major: 7 minor: 5 memoryClockRate(GHz): 1.59\n",
            "pciBusID: 0000:00:04.0\n",
            "2019-09-14 16:04:49.589670: I tensorflow/stream_executor/platform/default/dso_loader.cc:42] Successfully opened dynamic library libcudart.so.10.0\n",
            "2019-09-14 16:04:49.766034: I tensorflow/stream_executor/platform/default/dso_loader.cc:42] Successfully opened dynamic library libcublas.so.10.0\n",
            "2019-09-14 16:04:49.845537: I tensorflow/stream_executor/platform/default/dso_loader.cc:42] Successfully opened dynamic library libcufft.so.10.0\n",
            "2019-09-14 16:04:49.867964: I tensorflow/stream_executor/platform/default/dso_loader.cc:42] Successfully opened dynamic library libcurand.so.10.0\n",
            "2019-09-14 16:04:50.064199: I tensorflow/stream_executor/platform/default/dso_loader.cc:42] Successfully opened dynamic library libcusolver.so.10.0\n",
            "2019-09-14 16:04:50.168391: I tensorflow/stream_executor/platform/default/dso_loader.cc:42] Successfully opened dynamic library libcusparse.so.10.0\n",
            "2019-09-14 16:04:50.489071: I tensorflow/stream_executor/platform/default/dso_loader.cc:42] Successfully opened dynamic library libcudnn.so.7\n",
            "2019-09-14 16:04:50.489284: I tensorflow/stream_executor/cuda/cuda_gpu_executor.cc:1005] successful NUMA node read from SysFS had negative value (-1), but there must be at least one NUMA node, so returning NUMA node zero\n",
            "2019-09-14 16:04:50.489968: I tensorflow/stream_executor/cuda/cuda_gpu_executor.cc:1005] successful NUMA node read from SysFS had negative value (-1), but there must be at least one NUMA node, so returning NUMA node zero\n",
            "2019-09-14 16:04:50.490450: I tensorflow/core/common_runtime/gpu/gpu_device.cc:1763] Adding visible gpu devices: 0\n",
            "WARNING:tensorflow:From /content/tfv1/dataset_tf.py:75: The name tf.image.resize_image_with_pad is deprecated. Please use tf.compat.v1.image.resize_image_with_pad instead.\n",
            "\n",
            "WARNING:tensorflow:From /content/tfv1/dataset_tf.py:109: DatasetV1.make_initializable_iterator (from tensorflow.python.data.ops.dataset_ops) is deprecated and will be removed in a future version.\n",
            "Instructions for updating:\n",
            "Use `for ... in dataset:` to iterate over a dataset. If using `tf.estimator`, return the `Dataset` object directly from your input function. As a last resort, you can use `tf.compat.v1.data.make_initializable_iterator(dataset)`.\n",
            "Done.\n",
            "WARNING:tensorflow:From tfv1/train_tf.py:32: The name tf.Session is deprecated. Please use tf.compat.v1.Session instead.\n",
            "\n",
            "2019-09-14 16:04:50.733394: I tensorflow/core/platform/profile_utils/cpu_utils.cc:94] CPU Frequency: 2200000000 Hz\n",
            "2019-09-14 16:04:50.735209: I tensorflow/compiler/xla/service/service.cc:168] XLA service 0x25e3480 executing computations on platform Host. Devices:\n",
            "2019-09-14 16:04:50.735254: I tensorflow/compiler/xla/service/service.cc:175]   StreamExecutor device (0): <undefined>, <undefined>\n",
            "2019-09-14 16:04:50.901748: I tensorflow/stream_executor/cuda/cuda_gpu_executor.cc:1005] successful NUMA node read from SysFS had negative value (-1), but there must be at least one NUMA node, so returning NUMA node zero\n",
            "2019-09-14 16:04:50.902477: I tensorflow/compiler/xla/service/service.cc:168] XLA service 0x6a5a540 executing computations on platform CUDA. Devices:\n",
            "2019-09-14 16:04:50.902512: I tensorflow/compiler/xla/service/service.cc:175]   StreamExecutor device (0): Tesla T4, Compute Capability 7.5\n",
            "2019-09-14 16:04:50.903774: I tensorflow/stream_executor/cuda/cuda_gpu_executor.cc:1005] successful NUMA node read from SysFS had negative value (-1), but there must be at least one NUMA node, so returning NUMA node zero\n",
            "2019-09-14 16:04:50.904293: I tensorflow/core/common_runtime/gpu/gpu_device.cc:1640] Found device 0 with properties: \n",
            "name: Tesla T4 major: 7 minor: 5 memoryClockRate(GHz): 1.59\n",
            "pciBusID: 0000:00:04.0\n",
            "2019-09-14 16:04:50.904366: I tensorflow/stream_executor/platform/default/dso_loader.cc:42] Successfully opened dynamic library libcudart.so.10.0\n",
            "2019-09-14 16:04:50.904403: I tensorflow/stream_executor/platform/default/dso_loader.cc:42] Successfully opened dynamic library libcublas.so.10.0\n",
            "2019-09-14 16:04:50.904426: I tensorflow/stream_executor/platform/default/dso_loader.cc:42] Successfully opened dynamic library libcufft.so.10.0\n",
            "2019-09-14 16:04:50.904452: I tensorflow/stream_executor/platform/default/dso_loader.cc:42] Successfully opened dynamic library libcurand.so.10.0\n",
            "2019-09-14 16:04:50.904475: I tensorflow/stream_executor/platform/default/dso_loader.cc:42] Successfully opened dynamic library libcusolver.so.10.0\n",
            "2019-09-14 16:04:50.904496: I tensorflow/stream_executor/platform/default/dso_loader.cc:42] Successfully opened dynamic library libcusparse.so.10.0\n",
            "2019-09-14 16:04:50.904519: I tensorflow/stream_executor/platform/default/dso_loader.cc:42] Successfully opened dynamic library libcudnn.so.7\n",
            "2019-09-14 16:04:50.904582: I tensorflow/stream_executor/cuda/cuda_gpu_executor.cc:1005] successful NUMA node read from SysFS had negative value (-1), but there must be at least one NUMA node, so returning NUMA node zero\n",
            "2019-09-14 16:04:50.905161: I tensorflow/stream_executor/cuda/cuda_gpu_executor.cc:1005] successful NUMA node read from SysFS had negative value (-1), but there must be at least one NUMA node, so returning NUMA node zero\n",
            "2019-09-14 16:04:50.905637: I tensorflow/core/common_runtime/gpu/gpu_device.cc:1763] Adding visible gpu devices: 0\n",
            "2019-09-14 16:04:50.909024: I tensorflow/stream_executor/platform/default/dso_loader.cc:42] Successfully opened dynamic library libcudart.so.10.0\n",
            "2019-09-14 16:04:50.910085: I tensorflow/core/common_runtime/gpu/gpu_device.cc:1181] Device interconnect StreamExecutor with strength 1 edge matrix:\n",
            "2019-09-14 16:04:50.910123: I tensorflow/core/common_runtime/gpu/gpu_device.cc:1187]      0 \n",
            "2019-09-14 16:04:50.910136: I tensorflow/core/common_runtime/gpu/gpu_device.cc:1200] 0:   N \n",
            "2019-09-14 16:04:50.911884: I tensorflow/stream_executor/cuda/cuda_gpu_executor.cc:1005] successful NUMA node read from SysFS had negative value (-1), but there must be at least one NUMA node, so returning NUMA node zero\n",
            "2019-09-14 16:04:50.912489: I tensorflow/stream_executor/cuda/cuda_gpu_executor.cc:1005] successful NUMA node read from SysFS had negative value (-1), but there must be at least one NUMA node, so returning NUMA node zero\n",
            "2019-09-14 16:04:50.913016: W tensorflow/core/common_runtime/gpu/gpu_bfc_allocator.cc:40] Overriding allow_growth setting because the TF_FORCE_GPU_ALLOW_GROWTH environment variable is set. Original config value was 0.\n",
            "2019-09-14 16:04:50.913076: I tensorflow/core/common_runtime/gpu/gpu_device.cc:1326] Created TensorFlow device (/job:localhost/replica:0/task:0/device:GPU:0 with 14221 MB memory) -> physical GPU (device: 0, name: Tesla T4, pci bus id: 0000:00:04.0, compute capability: 7.5)\n",
            "WARNING:tensorflow:From /content/tfv1/model_tf.py:53: The name tf.layers.Conv2D is deprecated. Please use tf.compat.v1.layers.Conv2D instead.\n",
            "\n",
            "WARNING:tensorflow:From /content/tfv1/model_tf.py:55: The name tf.layers.BatchNormalization is deprecated. Please use tf.compat.v1.layers.BatchNormalization instead.\n",
            "\n",
            "WARNING:tensorflow:From /content/tfv1/model_tf.py:56: The name tf.layers.MaxPooling2D is deprecated. Please use tf.compat.v1.layers.MaxPooling2D instead.\n",
            "\n",
            "WARNING:tensorflow:From /content/tfv1/model_tf.py:64: The name tf.layers.Dense is deprecated. Please use tf.compat.v1.layers.Dense instead.\n",
            "\n",
            "WARNING:tensorflow:From /content/tfv1/model_tf.py:67: The name tf.variable_scope is deprecated. Please use tf.compat.v1.variable_scope instead.\n",
            "\n",
            "WARNING:tensorflow:From /content/tfv1/model_tf.py:67: The name tf.AUTO_REUSE is deprecated. Please use tf.compat.v1.AUTO_REUSE instead.\n",
            "\n",
            "WARNING:tensorflow:From /usr/local/lib/python3.6/dist-packages/tensorflow/python/ops/init_ops.py:1251: calling VarianceScaling.__init__ (from tensorflow.python.ops.init_ops) with dtype is deprecated and will be removed in a future version.\n",
            "Instructions for updating:\n",
            "Call initializer instance with the dtype argument instead of passing it to the constructor\n",
            "WARNING:tensorflow:From /content/tfv1/model_tf.py:5: max_pooling2d (from tensorflow.python.layers.pooling) is deprecated and will be removed in a future version.\n",
            "Instructions for updating:\n",
            "Use keras.layers.MaxPooling2D instead.\n",
            "WARNING:tensorflow:From /usr/local/lib/python3.6/dist-packages/tensorflow/python/ops/losses/losses_impl.py:121: add_dispatch_support.<locals>.wrapper (from tensorflow.python.ops.array_ops) is deprecated and will be removed in a future version.\n",
            "Instructions for updating:\n",
            "Use tf.where in 2.0, which has the same broadcast rule as np.where\n",
            "WARNING:tensorflow:From tfv1/train_tf.py:52: The name tf.train.AdamOptimizer is deprecated. Please use tf.compat.v1.train.AdamOptimizer instead.\n",
            "\n",
            "WARNING:tensorflow:From /content/tfv1/model_tf.py:91: The name tf.trainable_variables is deprecated. Please use tf.compat.v1.trainable_variables instead.\n",
            "\n",
            "WARNING:tensorflow:From tfv1/train_tf.py:54: The name tf.get_collection is deprecated. Please use tf.compat.v1.get_collection instead.\n",
            "\n",
            "WARNING:tensorflow:From tfv1/train_tf.py:56: The name tf.train.Saver is deprecated. Please use tf.compat.v1.train.Saver instead.\n",
            "\n",
            "2019-09-14 16:04:55.130926: W tensorflow/compiler/jit/mark_for_compilation_pass.cc:1412] (One-time warning): Not using XLA:CPU for cluster because envvar TF_XLA_FLAGS=--tf_xla_cpu_global_jit was not set.  If you want XLA:CPU, either set that envvar, or use experimental_jit_scope to enable XLA:CPU.  To confirm that XLA is active, pass --vmodule=xla_compilation_cache=1 (as a proper command-line flag, not via TF_XLA_FLAGS) or set the envvar XLA_FLAGS=--xla_hlo_profile.\n",
            "2019-09-14 16:04:55.448726: I tensorflow/stream_executor/platform/default/dso_loader.cc:42] Successfully opened dynamic library libcublas.so.10.0\n",
            "2019-09-14 16:04:56.210848: I tensorflow/stream_executor/platform/default/dso_loader.cc:42] Successfully opened dynamic library libcudnn.so.7\n",
            "1 epoch: [703/703, loss:1.0205559730529785, accuracy:0.71875, step_time:0.02807784080505371]\n",
            "Validation score: loss: 1.77395498752594, accuracy: 0.4118589758872986\n",
            "2 epoch: [703/703, loss:1.1831988096237183, accuracy:0.578125, step_time:0.029343843460083008]\n",
            "Validation score: loss: 1.3511533737182617, accuracy: 0.5316506624221802\n",
            "3 epoch: [703/703, loss:0.981264591217041, accuracy:0.65625, step_time:0.03169059753417969]\n",
            "Validation score: loss: 0.9069331288337708, accuracy: 0.6778846383094788\n",
            "4 epoch: [703/703, loss:0.6379576325416565, accuracy:0.765625, step_time:0.028258562088012695]\n",
            "Validation score: loss: 0.7218272686004639, accuracy: 0.7423878312110901\n",
            "5 epoch: [703/703, loss:0.8074941635131836, accuracy:0.75, step_time:0.02760457992553711]\n",
            "Validation score: loss: 0.8073531985282898, accuracy: 0.7323718070983887\n",
            "6 epoch: [703/703, loss:0.46056464314460754, accuracy:0.875, step_time:0.02818775177001953]\n",
            "Validation score: loss: 1.1044809818267822, accuracy: 0.6742788553237915\n",
            "7 epoch: [703/703, loss:0.4015241265296936, accuracy:0.875, step_time:0.02767038345336914]\n",
            "Validation score: loss: 0.5773912072181702, accuracy: 0.7984775900840759\n",
            "8 epoch: [703/703, loss:0.25870051980018616, accuracy:0.90625, step_time:0.02786421775817871]\n",
            "Validation score: loss: 0.4855572581291199, accuracy: 0.8221153616905212\n",
            "9 epoch: [703/703, loss:0.37854570150375366, accuracy:0.859375, step_time:0.029990196228027344]\n",
            "Validation score: loss: 0.5137914419174194, accuracy: 0.8253205418586731\n",
            "10 epoch: [703/703, loss:0.2175620049238205, accuracy:0.953125, step_time:0.029073238372802734]\n",
            "Validation score: loss: 0.5533496141433716, accuracy: 0.8153044581413269\n"
          ],
          "name": "stdout"
        }
      ]
    },
    {
      "cell_type": "code",
      "metadata": {
        "id": "vREbO0cWVygG",
        "colab_type": "code",
        "outputId": "e5d290f7-732a-4ca1-eba4-2924596b1bc9",
        "colab": {
          "base_uri": "https://localhost:8080/",
          "height": 1000
        }
      },
      "source": [
        "! python tfv1/train_keras_gen.py -d Cifar10 -dd cifar-10 -e 10"
      ],
      "execution_count": 9,
      "outputs": [
        {
          "output_type": "stream",
          "text": [
            "dataset: Cifar10\n",
            "dataset_dir: cifar-10\n",
            "epochs: 10\n",
            "batch_size: 64\n",
            "validation_split: 0.1\n",
            "resize_shape: [32, 32]\n",
            "crop_shape: None\n",
            "rotate: False\n",
            "flip_left_right: False\n",
            "flip_up_down: False\n",
            "filters: 64\n",
            "learning_rate: 0.001\n",
            "Found 45000 images belonging to 10 classes.\n",
            "Found 5000 images belonging to 10 classes.\n",
            "WARNING:tensorflow:From /usr/local/lib/python3.6/dist-packages/tensorflow/python/ops/init_ops.py:1251: calling VarianceScaling.__init__ (from tensorflow.python.ops.init_ops) with dtype is deprecated and will be removed in a future version.\n",
            "Instructions for updating:\n",
            "Call initializer instance with the dtype argument instead of passing it to the constructor\n",
            "2019-09-14 16:08:48.908477: I tensorflow/core/platform/profile_utils/cpu_utils.cc:94] CPU Frequency: 2200000000 Hz\n",
            "2019-09-14 16:08:48.908785: I tensorflow/compiler/xla/service/service.cc:168] XLA service 0x51d0000 executing computations on platform Host. Devices:\n",
            "2019-09-14 16:08:48.908823: I tensorflow/compiler/xla/service/service.cc:175]   StreamExecutor device (0): <undefined>, <undefined>\n",
            "2019-09-14 16:08:48.911754: I tensorflow/stream_executor/platform/default/dso_loader.cc:42] Successfully opened dynamic library libcuda.so.1\n",
            "2019-09-14 16:08:49.124553: I tensorflow/stream_executor/cuda/cuda_gpu_executor.cc:1005] successful NUMA node read from SysFS had negative value (-1), but there must be at least one NUMA node, so returning NUMA node zero\n",
            "2019-09-14 16:08:49.125565: I tensorflow/compiler/xla/service/service.cc:168] XLA service 0x51d08c0 executing computations on platform CUDA. Devices:\n",
            "2019-09-14 16:08:49.125606: I tensorflow/compiler/xla/service/service.cc:175]   StreamExecutor device (0): Tesla T4, Compute Capability 7.5\n",
            "2019-09-14 16:08:49.125858: I tensorflow/stream_executor/cuda/cuda_gpu_executor.cc:1005] successful NUMA node read from SysFS had negative value (-1), but there must be at least one NUMA node, so returning NUMA node zero\n",
            "2019-09-14 16:08:49.126604: I tensorflow/core/common_runtime/gpu/gpu_device.cc:1640] Found device 0 with properties: \n",
            "name: Tesla T4 major: 7 minor: 5 memoryClockRate(GHz): 1.59\n",
            "pciBusID: 0000:00:04.0\n",
            "2019-09-14 16:08:49.127083: I tensorflow/stream_executor/platform/default/dso_loader.cc:42] Successfully opened dynamic library libcudart.so.10.0\n",
            "2019-09-14 16:08:49.128654: I tensorflow/stream_executor/platform/default/dso_loader.cc:42] Successfully opened dynamic library libcublas.so.10.0\n",
            "2019-09-14 16:08:49.130212: I tensorflow/stream_executor/platform/default/dso_loader.cc:42] Successfully opened dynamic library libcufft.so.10.0\n",
            "2019-09-14 16:08:49.130652: I tensorflow/stream_executor/platform/default/dso_loader.cc:42] Successfully opened dynamic library libcurand.so.10.0\n",
            "2019-09-14 16:08:49.132675: I tensorflow/stream_executor/platform/default/dso_loader.cc:42] Successfully opened dynamic library libcusolver.so.10.0\n",
            "2019-09-14 16:08:49.134052: I tensorflow/stream_executor/platform/default/dso_loader.cc:42] Successfully opened dynamic library libcusparse.so.10.0\n",
            "2019-09-14 16:08:49.138350: I tensorflow/stream_executor/platform/default/dso_loader.cc:42] Successfully opened dynamic library libcudnn.so.7\n",
            "2019-09-14 16:08:49.138478: I tensorflow/stream_executor/cuda/cuda_gpu_executor.cc:1005] successful NUMA node read from SysFS had negative value (-1), but there must be at least one NUMA node, so returning NUMA node zero\n",
            "2019-09-14 16:08:49.139272: I tensorflow/stream_executor/cuda/cuda_gpu_executor.cc:1005] successful NUMA node read from SysFS had negative value (-1), but there must be at least one NUMA node, so returning NUMA node zero\n",
            "2019-09-14 16:08:49.139990: I tensorflow/core/common_runtime/gpu/gpu_device.cc:1763] Adding visible gpu devices: 0\n",
            "2019-09-14 16:08:49.140062: I tensorflow/stream_executor/platform/default/dso_loader.cc:42] Successfully opened dynamic library libcudart.so.10.0\n",
            "2019-09-14 16:08:49.141313: I tensorflow/core/common_runtime/gpu/gpu_device.cc:1181] Device interconnect StreamExecutor with strength 1 edge matrix:\n",
            "2019-09-14 16:08:49.141348: I tensorflow/core/common_runtime/gpu/gpu_device.cc:1187]      0 \n",
            "2019-09-14 16:08:49.141364: I tensorflow/core/common_runtime/gpu/gpu_device.cc:1200] 0:   N \n",
            "2019-09-14 16:08:49.141494: I tensorflow/stream_executor/cuda/cuda_gpu_executor.cc:1005] successful NUMA node read from SysFS had negative value (-1), but there must be at least one NUMA node, so returning NUMA node zero\n",
            "2019-09-14 16:08:49.142286: I tensorflow/stream_executor/cuda/cuda_gpu_executor.cc:1005] successful NUMA node read from SysFS had negative value (-1), but there must be at least one NUMA node, so returning NUMA node zero\n",
            "2019-09-14 16:08:49.149902: W tensorflow/core/common_runtime/gpu/gpu_bfc_allocator.cc:40] Overriding allow_growth setting because the TF_FORCE_GPU_ALLOW_GROWTH environment variable is set. Original config value was 0.\n",
            "2019-09-14 16:08:49.149979: I tensorflow/core/common_runtime/gpu/gpu_device.cc:1326] Created TensorFlow device (/job:localhost/replica:0/task:0/device:GPU:0 with 14221 MB memory) -> physical GPU (device: 0, name: Tesla T4, pci bus id: 0000:00:04.0, compute capability: 7.5)\n",
            "Epoch 1/10\n",
            "2019-09-14 16:08:51.685989: I tensorflow/stream_executor/platform/default/dso_loader.cc:42] Successfully opened dynamic library libcublas.so.10.0\n",
            "2019-09-14 16:08:52.029553: I tensorflow/stream_executor/platform/default/dso_loader.cc:42] Successfully opened dynamic library libcudnn.so.7\n",
            "704/704 [==============================] - 19s 27ms/step - loss: 1.4861 - categorical_accuracy: 0.4812 - val_loss: 1.7547 - val_categorical_accuracy: 0.4396\n",
            "Epoch 2/10\n",
            "704/704 [==============================] - 15s 21ms/step - loss: 1.0165 - categorical_accuracy: 0.6405 - val_loss: 1.5506 - val_categorical_accuracy: 0.5198\n",
            "Epoch 3/10\n",
            "704/704 [==============================] - 15s 21ms/step - loss: 0.8295 - categorical_accuracy: 0.7069 - val_loss: 1.1321 - val_categorical_accuracy: 0.6090\n",
            "Epoch 4/10\n",
            "704/704 [==============================] - 15s 21ms/step - loss: 0.7142 - categorical_accuracy: 0.7501 - val_loss: 1.7062 - val_categorical_accuracy: 0.5086\n",
            "Epoch 5/10\n",
            "704/704 [==============================] - 15s 21ms/step - loss: 0.6328 - categorical_accuracy: 0.7776 - val_loss: 0.8935 - val_categorical_accuracy: 0.7004\n",
            "Epoch 6/10\n",
            "704/704 [==============================] - 15s 21ms/step - loss: 0.5581 - categorical_accuracy: 0.8057 - val_loss: 1.2627 - val_categorical_accuracy: 0.6056\n",
            "Epoch 7/10\n",
            "704/704 [==============================] - 15s 21ms/step - loss: 0.4971 - categorical_accuracy: 0.8274 - val_loss: 0.9310 - val_categorical_accuracy: 0.7036\n",
            "Epoch 8/10\n",
            "704/704 [==============================] - 15s 21ms/step - loss: 0.4483 - categorical_accuracy: 0.8413 - val_loss: 0.9046 - val_categorical_accuracy: 0.7218\n",
            "Epoch 9/10\n",
            "704/704 [==============================] - 15s 21ms/step - loss: 0.3860 - categorical_accuracy: 0.8627 - val_loss: 0.9864 - val_categorical_accuracy: 0.7172\n",
            "Epoch 10/10\n",
            "704/704 [==============================] - 15s 21ms/step - loss: 0.3292 - categorical_accuracy: 0.8824 - val_loss: 0.9738 - val_categorical_accuracy: 0.7150\n"
          ],
          "name": "stdout"
        }
      ]
    },
    {
      "cell_type": "code",
      "metadata": {
        "id": "-MSYRP1lWT-4",
        "colab_type": "code",
        "outputId": "4f1219bb-ef54-4d2f-f283-fe472c46e527",
        "colab": {
          "base_uri": "https://localhost:8080/",
          "height": 530
        }
      },
      "source": [
        "! pip install tensorflow-gpu==2.0.0rc"
      ],
      "execution_count": 10,
      "outputs": [
        {
          "output_type": "stream",
          "text": [
            "Collecting tensorflow-gpu==2.0.0rc\n",
            "\u001b[?25l  Downloading https://files.pythonhosted.org/packages/6a/12/8c64cc62149cc21c70c55018502831bbf4d42bd62bed196df7de6830d21b/tensorflow_gpu-2.0.0rc0-cp36-cp36m-manylinux2010_x86_64.whl (380.5MB)\n",
            "\u001b[K     |████████████████████████████████| 380.5MB 52kB/s \n",
            "\u001b[?25hRequirement already satisfied: opt-einsum>=2.3.2 in /usr/local/lib/python3.6/dist-packages (from tensorflow-gpu==2.0.0rc) (3.0.1)\n",
            "Requirement already satisfied: gast>=0.2.0 in /usr/local/lib/python3.6/dist-packages (from tensorflow-gpu==2.0.0rc) (0.2.2)\n",
            "Requirement already satisfied: google-pasta>=0.1.6 in /usr/local/lib/python3.6/dist-packages (from tensorflow-gpu==2.0.0rc) (0.1.7)\n",
            "Requirement already satisfied: absl-py>=0.7.0 in /usr/local/lib/python3.6/dist-packages (from tensorflow-gpu==2.0.0rc) (0.8.0)\n",
            "Requirement already satisfied: six>=1.10.0 in /usr/local/lib/python3.6/dist-packages (from tensorflow-gpu==2.0.0rc) (1.12.0)\n",
            "Requirement already satisfied: grpcio>=1.8.6 in /usr/local/lib/python3.6/dist-packages (from tensorflow-gpu==2.0.0rc) (1.15.0)\n",
            "Requirement already satisfied: astor>=0.6.0 in /usr/local/lib/python3.6/dist-packages (from tensorflow-gpu==2.0.0rc) (0.8.0)\n",
            "Requirement already satisfied: keras-applications>=1.0.8 in /usr/local/lib/python3.6/dist-packages (from tensorflow-gpu==2.0.0rc) (1.0.8)\n",
            "Collecting tb-nightly<1.15.0a20190807,>=1.15.0a20190806 (from tensorflow-gpu==2.0.0rc)\n",
            "\u001b[?25l  Downloading https://files.pythonhosted.org/packages/bc/88/24b5fb7280e74c7cf65bde47c171547fd02afb3840cff41bcbe9270650f5/tb_nightly-1.15.0a20190806-py3-none-any.whl (4.3MB)\n",
            "\u001b[K     |████████████████████████████████| 4.3MB 50.7MB/s \n",
            "\u001b[?25hRequirement already satisfied: wheel>=0.26 in /usr/local/lib/python3.6/dist-packages (from tensorflow-gpu==2.0.0rc) (0.33.6)\n",
            "Requirement already satisfied: protobuf>=3.6.1 in /usr/local/lib/python3.6/dist-packages (from tensorflow-gpu==2.0.0rc) (3.7.1)\n",
            "Requirement already satisfied: wrapt>=1.11.1 in /usr/local/lib/python3.6/dist-packages (from tensorflow-gpu==2.0.0rc) (1.11.2)\n",
            "Requirement already satisfied: keras-preprocessing>=1.0.5 in /usr/local/lib/python3.6/dist-packages (from tensorflow-gpu==2.0.0rc) (1.1.0)\n",
            "Collecting tf-estimator-nightly<1.14.0.dev2019080602,>=1.14.0.dev2019080601 (from tensorflow-gpu==2.0.0rc)\n",
            "\u001b[?25l  Downloading https://files.pythonhosted.org/packages/21/28/f2a27a62943d5f041e4a6fd404b2d21cb7c59b2242a4e73b03d9ba166552/tf_estimator_nightly-1.14.0.dev2019080601-py2.py3-none-any.whl (501kB)\n",
            "\u001b[K     |████████████████████████████████| 501kB 47.4MB/s \n",
            "\u001b[?25hRequirement already satisfied: numpy<2.0,>=1.16.0 in /usr/local/lib/python3.6/dist-packages (from tensorflow-gpu==2.0.0rc) (1.16.5)\n",
            "Requirement already satisfied: termcolor>=1.1.0 in /usr/local/lib/python3.6/dist-packages (from tensorflow-gpu==2.0.0rc) (1.1.0)\n",
            "Requirement already satisfied: h5py in /usr/local/lib/python3.6/dist-packages (from keras-applications>=1.0.8->tensorflow-gpu==2.0.0rc) (2.8.0)\n",
            "Requirement already satisfied: setuptools>=41.0.0 in /usr/local/lib/python3.6/dist-packages (from tb-nightly<1.15.0a20190807,>=1.15.0a20190806->tensorflow-gpu==2.0.0rc) (41.2.0)\n",
            "Requirement already satisfied: werkzeug>=0.11.15 in /usr/local/lib/python3.6/dist-packages (from tb-nightly<1.15.0a20190807,>=1.15.0a20190806->tensorflow-gpu==2.0.0rc) (0.15.6)\n",
            "Requirement already satisfied: markdown>=2.6.8 in /usr/local/lib/python3.6/dist-packages (from tb-nightly<1.15.0a20190807,>=1.15.0a20190806->tensorflow-gpu==2.0.0rc) (3.1.1)\n",
            "Installing collected packages: tb-nightly, tf-estimator-nightly, tensorflow-gpu\n",
            "Successfully installed tb-nightly-1.15.0a20190806 tensorflow-gpu-2.0.0rc0 tf-estimator-nightly-1.14.0.dev2019080601\n"
          ],
          "name": "stdout"
        }
      ]
    },
    {
      "cell_type": "code",
      "metadata": {
        "id": "19OM5UIKcGJV",
        "colab_type": "code",
        "outputId": "4b547a3a-35ba-448c-9ded-d26e1040479d",
        "colab": {
          "base_uri": "https://localhost:8080/",
          "height": 1000
        }
      },
      "source": [
        "! python tfv2/train_tf.py -d Cifar10 -dd cifar-10 -e 10"
      ],
      "execution_count": 11,
      "outputs": [
        {
          "output_type": "stream",
          "text": [
            "dataset: Cifar10\n",
            "dataset_dir: cifar-10\n",
            "epochs: 10\n",
            "batch_size: 64\n",
            "validation_split: 0.1\n",
            "resize_shape: [32, 32]\n",
            "crop_shape: None\n",
            "rotate: False\n",
            "flip_left_right: False\n",
            "flip_up_down: False\n",
            "filters: 64\n",
            "learning_rate: 0.001\n",
            "Building a dataset pipeline ...\n",
            "Found 50000 images.\n",
            "2019-09-14 16:12:10.786088: I tensorflow/stream_executor/platform/default/dso_loader.cc:44] Successfully opened dynamic library libcuda.so.1\n",
            "2019-09-14 16:12:10.824240: I tensorflow/stream_executor/cuda/cuda_gpu_executor.cc:1006] successful NUMA node read from SysFS had negative value (-1), but there must be at least one NUMA node, so returning NUMA node zero\n",
            "2019-09-14 16:12:10.825061: I tensorflow/core/common_runtime/gpu/gpu_device.cc:1618] Found device 0 with properties: \n",
            "name: Tesla T4 major: 7 minor: 5 memoryClockRate(GHz): 1.59\n",
            "pciBusID: 0000:00:04.0\n",
            "2019-09-14 16:12:10.825441: I tensorflow/stream_executor/platform/default/dso_loader.cc:44] Successfully opened dynamic library libcudart.so.10.0\n",
            "2019-09-14 16:12:10.826771: I tensorflow/stream_executor/platform/default/dso_loader.cc:44] Successfully opened dynamic library libcublas.so.10.0\n",
            "2019-09-14 16:12:10.828130: I tensorflow/stream_executor/platform/default/dso_loader.cc:44] Successfully opened dynamic library libcufft.so.10.0\n",
            "2019-09-14 16:12:10.828528: I tensorflow/stream_executor/platform/default/dso_loader.cc:44] Successfully opened dynamic library libcurand.so.10.0\n",
            "2019-09-14 16:12:10.830026: I tensorflow/stream_executor/platform/default/dso_loader.cc:44] Successfully opened dynamic library libcusolver.so.10.0\n",
            "2019-09-14 16:12:10.831208: I tensorflow/stream_executor/platform/default/dso_loader.cc:44] Successfully opened dynamic library libcusparse.so.10.0\n",
            "2019-09-14 16:12:10.842062: I tensorflow/stream_executor/platform/default/dso_loader.cc:44] Successfully opened dynamic library libcudnn.so.7\n",
            "2019-09-14 16:12:10.842175: I tensorflow/stream_executor/cuda/cuda_gpu_executor.cc:1006] successful NUMA node read from SysFS had negative value (-1), but there must be at least one NUMA node, so returning NUMA node zero\n",
            "2019-09-14 16:12:10.842725: I tensorflow/stream_executor/cuda/cuda_gpu_executor.cc:1006] successful NUMA node read from SysFS had negative value (-1), but there must be at least one NUMA node, so returning NUMA node zero\n",
            "2019-09-14 16:12:10.843211: I tensorflow/core/common_runtime/gpu/gpu_device.cc:1746] Adding visible gpu devices: 0\n",
            "2019-09-14 16:12:10.843674: I tensorflow/core/platform/cpu_feature_guard.cc:142] Your CPU supports instructions that this TensorFlow binary was not compiled to use: AVX2 FMA\n",
            "2019-09-14 16:12:10.849286: I tensorflow/core/platform/profile_utils/cpu_utils.cc:94] CPU Frequency: 2200000000 Hz\n",
            "2019-09-14 16:12:10.849473: I tensorflow/compiler/xla/service/service.cc:168] XLA service 0x2e09480 executing computations on platform Host. Devices:\n",
            "2019-09-14 16:12:10.849499: I tensorflow/compiler/xla/service/service.cc:175]   StreamExecutor device (0): Host, Default Version\n",
            "2019-09-14 16:12:10.976903: I tensorflow/stream_executor/cuda/cuda_gpu_executor.cc:1006] successful NUMA node read from SysFS had negative value (-1), but there must be at least one NUMA node, so returning NUMA node zero\n",
            "2019-09-14 16:12:10.977558: I tensorflow/compiler/xla/service/service.cc:168] XLA service 0x2e09d40 executing computations on platform CUDA. Devices:\n",
            "2019-09-14 16:12:10.977586: I tensorflow/compiler/xla/service/service.cc:175]   StreamExecutor device (0): Tesla T4, Compute Capability 7.5\n",
            "2019-09-14 16:12:10.977779: I tensorflow/stream_executor/cuda/cuda_gpu_executor.cc:1006] successful NUMA node read from SysFS had negative value (-1), but there must be at least one NUMA node, so returning NUMA node zero\n",
            "2019-09-14 16:12:10.978343: I tensorflow/core/common_runtime/gpu/gpu_device.cc:1618] Found device 0 with properties: \n",
            "name: Tesla T4 major: 7 minor: 5 memoryClockRate(GHz): 1.59\n",
            "pciBusID: 0000:00:04.0\n",
            "2019-09-14 16:12:10.978414: I tensorflow/stream_executor/platform/default/dso_loader.cc:44] Successfully opened dynamic library libcudart.so.10.0\n",
            "2019-09-14 16:12:10.978428: I tensorflow/stream_executor/platform/default/dso_loader.cc:44] Successfully opened dynamic library libcublas.so.10.0\n",
            "2019-09-14 16:12:10.978441: I tensorflow/stream_executor/platform/default/dso_loader.cc:44] Successfully opened dynamic library libcufft.so.10.0\n",
            "2019-09-14 16:12:10.978453: I tensorflow/stream_executor/platform/default/dso_loader.cc:44] Successfully opened dynamic library libcurand.so.10.0\n",
            "2019-09-14 16:12:10.978464: I tensorflow/stream_executor/platform/default/dso_loader.cc:44] Successfully opened dynamic library libcusolver.so.10.0\n",
            "2019-09-14 16:12:10.978476: I tensorflow/stream_executor/platform/default/dso_loader.cc:44] Successfully opened dynamic library libcusparse.so.10.0\n",
            "2019-09-14 16:12:10.978490: I tensorflow/stream_executor/platform/default/dso_loader.cc:44] Successfully opened dynamic library libcudnn.so.7\n",
            "2019-09-14 16:12:10.978555: I tensorflow/stream_executor/cuda/cuda_gpu_executor.cc:1006] successful NUMA node read from SysFS had negative value (-1), but there must be at least one NUMA node, so returning NUMA node zero\n",
            "2019-09-14 16:12:10.979073: I tensorflow/stream_executor/cuda/cuda_gpu_executor.cc:1006] successful NUMA node read from SysFS had negative value (-1), but there must be at least one NUMA node, so returning NUMA node zero\n",
            "2019-09-14 16:12:10.979542: I tensorflow/core/common_runtime/gpu/gpu_device.cc:1746] Adding visible gpu devices: 0\n",
            "2019-09-14 16:12:10.979595: I tensorflow/stream_executor/platform/default/dso_loader.cc:44] Successfully opened dynamic library libcudart.so.10.0\n",
            "2019-09-14 16:12:10.980497: I tensorflow/core/common_runtime/gpu/gpu_device.cc:1159] Device interconnect StreamExecutor with strength 1 edge matrix:\n",
            "2019-09-14 16:12:10.980527: I tensorflow/core/common_runtime/gpu/gpu_device.cc:1165]      0 \n",
            "2019-09-14 16:12:10.980536: I tensorflow/core/common_runtime/gpu/gpu_device.cc:1178] 0:   N \n",
            "2019-09-14 16:12:10.980664: I tensorflow/stream_executor/cuda/cuda_gpu_executor.cc:1006] successful NUMA node read from SysFS had negative value (-1), but there must be at least one NUMA node, so returning NUMA node zero\n",
            "2019-09-14 16:12:10.981166: I tensorflow/stream_executor/cuda/cuda_gpu_executor.cc:1006] successful NUMA node read from SysFS had negative value (-1), but there must be at least one NUMA node, so returning NUMA node zero\n",
            "2019-09-14 16:12:10.981633: W tensorflow/core/common_runtime/gpu/gpu_bfc_allocator.cc:39] Overriding allow_growth setting because the TF_FORCE_GPU_ALLOW_GROWTH environment variable is set. Original config value was 0.\n",
            "2019-09-14 16:12:10.981669: I tensorflow/core/common_runtime/gpu/gpu_device.cc:1304] Created TensorFlow device (/job:localhost/replica:0/task:0/device:GPU:0 with 14221 MB memory) -> physical GPU (device: 0, name: Tesla T4, pci bus id: 0000:00:04.0, compute capability: 7.5)\n",
            "Done.\n",
            "2019-09-14 16:12:14.317141: I tensorflow/stream_executor/platform/default/dso_loader.cc:44] Successfully opened dynamic library libcublas.so.10.0\n",
            "2019-09-14 16:12:14.646641: I tensorflow/stream_executor/platform/default/dso_loader.cc:44] Successfully opened dynamic library libcudnn.so.7\n",
            "1 epoch: [701/704, loss:1.0786223411560059, accuracy:0.65625, step_time:0.007035017013549805]\n",
            "Validation score: loss: 1.3987550735473633, accuracy: 0.4990110695362091\n",
            "2 epoch: [701/704, loss:0.8791044354438782, accuracy:0.71875, step_time:0.00800323486328125]\n",
            "Validation score: loss: 1.3081594705581665, accuracy: 0.5712025165557861\n",
            "3 epoch: [701/704, loss:0.6030704975128174, accuracy:0.75, step_time:0.006979227066040039]\n",
            "Validation score: loss: 0.9212917685508728, accuracy: 0.6748417615890503\n",
            "4 epoch: [701/704, loss:0.6227105259895325, accuracy:0.8125, step_time:0.007931709289550781]\n",
            "Validation score: loss: 0.9188594818115234, accuracy: 0.6821597814559937\n",
            "5 epoch: [701/704, loss:0.6926191449165344, accuracy:0.71875, step_time:0.006353616714477539]\n",
            "Validation score: loss: 0.6457080841064453, accuracy: 0.778085470199585\n",
            "6 epoch: [701/704, loss:0.6713085770606995, accuracy:0.796875, step_time:0.007134675979614258]\n",
            "Validation score: loss: 0.9259777665138245, accuracy: 0.6859177350997925\n",
            "7 epoch: [701/704, loss:0.5625520348548889, accuracy:0.78125, step_time:0.007855892181396484]\n",
            "Validation score: loss: 0.7111393213272095, accuracy: 0.7569224834442139\n",
            "8 epoch: [701/704, loss:0.5641510486602783, accuracy:0.78125, step_time:0.006702423095703125]\n",
            "Validation score: loss: 0.5787670016288757, accuracy: 0.798061728477478\n",
            "9 epoch: [701/704, loss:0.43714892864227295, accuracy:0.828125, step_time:0.006894826889038086]\n",
            "Validation score: loss: 0.6259064078330994, accuracy: 0.7822389006614685\n",
            "10 epoch: [701/704, loss:0.31157875061035156, accuracy:0.9375, step_time:0.006551265716552734]\n",
            "Validation score: loss: 0.4940261244773865, accuracy: 0.8188291192054749\n"
          ],
          "name": "stdout"
        }
      ]
    },
    {
      "cell_type": "code",
      "metadata": {
        "id": "HDpL4xlco1cU",
        "colab_type": "code",
        "outputId": "e029faaf-6b3e-4a14-c950-814132394161",
        "colab": {
          "base_uri": "https://localhost:8080/",
          "height": 1000
        }
      },
      "source": [
        "! python tfv2/train_keras.py -d Cifar10 -dd cifar-10 -e 10"
      ],
      "execution_count": 12,
      "outputs": [
        {
          "output_type": "stream",
          "text": [
            "dataset: Cifar10\n",
            "dataset_dir: cifar-10\n",
            "epochs: 10\n",
            "batch_size: 64\n",
            "validation_split: 0.1\n",
            "resize_shape: [32, 32]\n",
            "crop_shape: None\n",
            "rotate: False\n",
            "flip_left_right: False\n",
            "flip_up_down: False\n",
            "filters: 64\n",
            "learning_rate: 0.001\n",
            "Building a dataset pipeline ...\n",
            "Found 50000 images.\n",
            "2019-09-14 16:16:25.566342: I tensorflow/stream_executor/platform/default/dso_loader.cc:44] Successfully opened dynamic library libcuda.so.1\n",
            "2019-09-14 16:16:25.605643: I tensorflow/stream_executor/cuda/cuda_gpu_executor.cc:1006] successful NUMA node read from SysFS had negative value (-1), but there must be at least one NUMA node, so returning NUMA node zero\n",
            "2019-09-14 16:16:25.606456: I tensorflow/core/common_runtime/gpu/gpu_device.cc:1618] Found device 0 with properties: \n",
            "name: Tesla T4 major: 7 minor: 5 memoryClockRate(GHz): 1.59\n",
            "pciBusID: 0000:00:04.0\n",
            "2019-09-14 16:16:25.606913: I tensorflow/stream_executor/platform/default/dso_loader.cc:44] Successfully opened dynamic library libcudart.so.10.0\n",
            "2019-09-14 16:16:25.608565: I tensorflow/stream_executor/platform/default/dso_loader.cc:44] Successfully opened dynamic library libcublas.so.10.0\n",
            "2019-09-14 16:16:25.611000: I tensorflow/stream_executor/platform/default/dso_loader.cc:44] Successfully opened dynamic library libcufft.so.10.0\n",
            "2019-09-14 16:16:25.611365: I tensorflow/stream_executor/platform/default/dso_loader.cc:44] Successfully opened dynamic library libcurand.so.10.0\n",
            "2019-09-14 16:16:25.613005: I tensorflow/stream_executor/platform/default/dso_loader.cc:44] Successfully opened dynamic library libcusolver.so.10.0\n",
            "2019-09-14 16:16:25.614389: I tensorflow/stream_executor/platform/default/dso_loader.cc:44] Successfully opened dynamic library libcusparse.so.10.0\n",
            "2019-09-14 16:16:25.619057: I tensorflow/stream_executor/platform/default/dso_loader.cc:44] Successfully opened dynamic library libcudnn.so.7\n",
            "2019-09-14 16:16:25.619168: I tensorflow/stream_executor/cuda/cuda_gpu_executor.cc:1006] successful NUMA node read from SysFS had negative value (-1), but there must be at least one NUMA node, so returning NUMA node zero\n",
            "2019-09-14 16:16:25.619697: I tensorflow/stream_executor/cuda/cuda_gpu_executor.cc:1006] successful NUMA node read from SysFS had negative value (-1), but there must be at least one NUMA node, so returning NUMA node zero\n",
            "2019-09-14 16:16:25.620234: I tensorflow/core/common_runtime/gpu/gpu_device.cc:1746] Adding visible gpu devices: 0\n",
            "2019-09-14 16:16:25.620676: I tensorflow/core/platform/cpu_feature_guard.cc:142] Your CPU supports instructions that this TensorFlow binary was not compiled to use: AVX2 FMA\n",
            "2019-09-14 16:16:25.626256: I tensorflow/core/platform/profile_utils/cpu_utils.cc:94] CPU Frequency: 2200000000 Hz\n",
            "2019-09-14 16:16:25.626435: I tensorflow/compiler/xla/service/service.cc:168] XLA service 0x1619480 executing computations on platform Host. Devices:\n",
            "2019-09-14 16:16:25.626459: I tensorflow/compiler/xla/service/service.cc:175]   StreamExecutor device (0): Host, Default Version\n",
            "2019-09-14 16:16:25.752346: I tensorflow/stream_executor/cuda/cuda_gpu_executor.cc:1006] successful NUMA node read from SysFS had negative value (-1), but there must be at least one NUMA node, so returning NUMA node zero\n",
            "2019-09-14 16:16:25.752982: I tensorflow/compiler/xla/service/service.cc:168] XLA service 0x1619d40 executing computations on platform CUDA. Devices:\n",
            "2019-09-14 16:16:25.753009: I tensorflow/compiler/xla/service/service.cc:175]   StreamExecutor device (0): Tesla T4, Compute Capability 7.5\n",
            "2019-09-14 16:16:25.753185: I tensorflow/stream_executor/cuda/cuda_gpu_executor.cc:1006] successful NUMA node read from SysFS had negative value (-1), but there must be at least one NUMA node, so returning NUMA node zero\n",
            "2019-09-14 16:16:25.753672: I tensorflow/core/common_runtime/gpu/gpu_device.cc:1618] Found device 0 with properties: \n",
            "name: Tesla T4 major: 7 minor: 5 memoryClockRate(GHz): 1.59\n",
            "pciBusID: 0000:00:04.0\n",
            "2019-09-14 16:16:25.753725: I tensorflow/stream_executor/platform/default/dso_loader.cc:44] Successfully opened dynamic library libcudart.so.10.0\n",
            "2019-09-14 16:16:25.753769: I tensorflow/stream_executor/platform/default/dso_loader.cc:44] Successfully opened dynamic library libcublas.so.10.0\n",
            "2019-09-14 16:16:25.753789: I tensorflow/stream_executor/platform/default/dso_loader.cc:44] Successfully opened dynamic library libcufft.so.10.0\n",
            "2019-09-14 16:16:25.753805: I tensorflow/stream_executor/platform/default/dso_loader.cc:44] Successfully opened dynamic library libcurand.so.10.0\n",
            "2019-09-14 16:16:25.753816: I tensorflow/stream_executor/platform/default/dso_loader.cc:44] Successfully opened dynamic library libcusolver.so.10.0\n",
            "2019-09-14 16:16:25.753827: I tensorflow/stream_executor/platform/default/dso_loader.cc:44] Successfully opened dynamic library libcusparse.so.10.0\n",
            "2019-09-14 16:16:25.753840: I tensorflow/stream_executor/platform/default/dso_loader.cc:44] Successfully opened dynamic library libcudnn.so.7\n",
            "2019-09-14 16:16:25.753891: I tensorflow/stream_executor/cuda/cuda_gpu_executor.cc:1006] successful NUMA node read from SysFS had negative value (-1), but there must be at least one NUMA node, so returning NUMA node zero\n",
            "2019-09-14 16:16:25.754395: I tensorflow/stream_executor/cuda/cuda_gpu_executor.cc:1006] successful NUMA node read from SysFS had negative value (-1), but there must be at least one NUMA node, so returning NUMA node zero\n",
            "2019-09-14 16:16:25.754877: I tensorflow/core/common_runtime/gpu/gpu_device.cc:1746] Adding visible gpu devices: 0\n",
            "2019-09-14 16:16:25.754931: I tensorflow/stream_executor/platform/default/dso_loader.cc:44] Successfully opened dynamic library libcudart.so.10.0\n",
            "2019-09-14 16:16:25.756019: I tensorflow/core/common_runtime/gpu/gpu_device.cc:1159] Device interconnect StreamExecutor with strength 1 edge matrix:\n",
            "2019-09-14 16:16:25.756057: I tensorflow/core/common_runtime/gpu/gpu_device.cc:1165]      0 \n",
            "2019-09-14 16:16:25.756067: I tensorflow/core/common_runtime/gpu/gpu_device.cc:1178] 0:   N \n",
            "2019-09-14 16:16:25.756173: I tensorflow/stream_executor/cuda/cuda_gpu_executor.cc:1006] successful NUMA node read from SysFS had negative value (-1), but there must be at least one NUMA node, so returning NUMA node zero\n",
            "2019-09-14 16:16:25.756670: I tensorflow/stream_executor/cuda/cuda_gpu_executor.cc:1006] successful NUMA node read from SysFS had negative value (-1), but there must be at least one NUMA node, so returning NUMA node zero\n",
            "2019-09-14 16:16:25.757160: W tensorflow/core/common_runtime/gpu/gpu_bfc_allocator.cc:39] Overriding allow_growth setting because the TF_FORCE_GPU_ALLOW_GROWTH environment variable is set. Original config value was 0.\n",
            "2019-09-14 16:16:25.757203: I tensorflow/core/common_runtime/gpu/gpu_device.cc:1304] Created TensorFlow device (/job:localhost/replica:0/task:0/device:GPU:0 with 14221 MB memory) -> physical GPU (device: 0, name: Tesla T4, pci bus id: 0000:00:04.0, compute capability: 7.5)\n",
            "Done.\n",
            "Epoch 1/10\n",
            "2019-09-14 16:16:28.004462: I tensorflow/stream_executor/platform/default/dso_loader.cc:44] Successfully opened dynamic library libcudnn.so.7\n",
            "2019-09-14 16:16:29.914299: I tensorflow/stream_executor/platform/default/dso_loader.cc:44] Successfully opened dynamic library libcublas.so.10.0\n",
            "WARNING:tensorflow:From /usr/local/lib/python3.6/dist-packages/tensorflow_core/python/ops/math_grad.py:1394: where (from tensorflow.python.ops.array_ops) is deprecated and will be removed in a future version.\n",
            "Instructions for updating:\n",
            "Use tf.where in 2.0, which has the same broadcast rule as np.where\n",
            "704/704 [==============================] - 53s 75ms/step - loss: 1.5031 - categorical_accuracy: 0.3928 - val_loss: 1.3254 - val_categorical_accuracy: 0.5300\n",
            "Epoch 2/10\n",
            "704/704 [==============================] - 50s 70ms/step - loss: 1.0471 - categorical_accuracy: 0.6064 - val_loss: 1.0057 - val_categorical_accuracy: 0.6502\n",
            "Epoch 3/10\n",
            "704/704 [==============================] - 50s 71ms/step - loss: 0.8520 - categorical_accuracy: 0.6918 - val_loss: 0.9423 - val_categorical_accuracy: 0.6654\n",
            "Epoch 4/10\n",
            "704/704 [==============================] - 50s 71ms/step - loss: 0.7354 - categorical_accuracy: 0.7325 - val_loss: 1.2987 - val_categorical_accuracy: 0.5994\n",
            "Epoch 5/10\n",
            "704/704 [==============================] - 50s 71ms/step - loss: 0.6571 - categorical_accuracy: 0.7652 - val_loss: 1.0505 - val_categorical_accuracy: 0.6404\n",
            "Epoch 6/10\n",
            "704/704 [==============================] - 50s 71ms/step - loss: 0.5843 - categorical_accuracy: 0.8009 - val_loss: 0.9208 - val_categorical_accuracy: 0.6966\n",
            "Epoch 7/10\n",
            "704/704 [==============================] - 50s 71ms/step - loss: 0.5283 - categorical_accuracy: 0.8181 - val_loss: 0.8720 - val_categorical_accuracy: 0.7006\n",
            "Epoch 8/10\n",
            "704/704 [==============================] - 50s 71ms/step - loss: 0.4712 - categorical_accuracy: 0.8355 - val_loss: 0.6544 - val_categorical_accuracy: 0.7790\n",
            "Epoch 9/10\n",
            "704/704 [==============================] - 50s 71ms/step - loss: 0.4215 - categorical_accuracy: 0.8527 - val_loss: 0.5268 - val_categorical_accuracy: 0.8136\n",
            "Epoch 10/10\n",
            "704/704 [==============================] - 49s 70ms/step - loss: 0.3724 - categorical_accuracy: 0.8731 - val_loss: 0.5147 - val_categorical_accuracy: 0.8160\n"
          ],
          "name": "stdout"
        }
      ]
    },
    {
      "cell_type": "code",
      "metadata": {
        "id": "-BUCytKUWEMG",
        "colab_type": "code",
        "outputId": "0bc05fb9-ef84-468a-89c3-f18ea27e6b7f",
        "colab": {
          "base_uri": "https://localhost:8080/",
          "height": 632
        }
      },
      "source": [
        "! python torch/train.py -d Cifar -dd cifar-10 -e 10"
      ],
      "execution_count": 13,
      "outputs": [
        {
          "output_type": "stream",
          "text": [
            "dataset: Cifar\n",
            "dataset_dir: cifar-10\n",
            "epochs: 10\n",
            "batch_size: 64\n",
            "validation_split: 0.1\n",
            "resize_shape: [32, 32]\n",
            "crop_shape: None\n",
            "rotate: False\n",
            "flip_left_right: False\n",
            "flip_up_down: False\n",
            "filters: 64\n",
            "learning_rate: 0.001\n",
            "Building a dataset pipeline ...\n",
            "Found 50000 images.\n",
            "Done.\n",
            "1 epoch: [701/704, loss:1.1768388748168945, accuracy:0.65625, step_time:0.01511836051940918]\n",
            "Validation score: loss: 1.992185704315765, accuracy: 0.39220727848101267.\n",
            "2 epoch: [701/704, loss:1.0883532762527466, accuracy:0.65625, step_time:0.014848709106445312]\n",
            "Validation score: loss: 1.7632705290106279, accuracy: 0.4549050632911392.\n",
            "3 epoch: [701/704, loss:0.8017101883888245, accuracy:0.75, step_time:0.014916419982910156]\n",
            "Validation score: loss: 1.8019367735597152, accuracy: 0.4837816455696203.\n",
            "4 epoch: [701/704, loss:0.549239993095398, accuracy:0.796875, step_time:0.023633718490600586]\n",
            "Validation score: loss: 0.904113964189457, accuracy: 0.6784018987341772.\n",
            "5 epoch: [701/704, loss:1.0279672145843506, accuracy:0.65625, step_time:0.01509404182434082]\n",
            "Validation score: loss: 1.113315969328337, accuracy: 0.6265822784810127.\n",
            "6 epoch: [701/704, loss:0.7066624760627747, accuracy:0.765625, step_time:0.017600297927856445]\n",
            "Validation score: loss: 0.8382708468014681, accuracy: 0.7159810126582279.\n",
            "7 epoch: [701/704, loss:0.41672831773757935, accuracy:0.84375, step_time:0.0150604248046875]\n",
            "Validation score: loss: 0.7748413814019554, accuracy: 0.734375.\n",
            "8 epoch: [701/704, loss:0.44406479597091675, accuracy:0.828125, step_time:0.015101194381713867]\n",
            "Validation score: loss: 0.7784254882909074, accuracy: 0.7482199367088608.\n",
            "9 epoch: [701/704, loss:0.278695285320282, accuracy:0.921875, step_time:0.021419286727905273]\n",
            "Validation score: loss: 0.8745459408699712, accuracy: 0.7252768987341772.\n",
            "10 epoch: [701/704, loss:0.40026992559432983, accuracy:0.890625, step_time:0.020224332809448242]\n",
            "Validation score: loss: 0.768733176249492, accuracy: 0.7549446202531646.\n"
          ],
          "name": "stdout"
        }
      ]
    },
    {
      "cell_type": "code",
      "metadata": {
        "id": "PCmUFqUzWMUf",
        "colab_type": "code",
        "colab": {
          "base_uri": "https://localhost:8080/",
          "height": 326
        },
        "outputId": "672e4684-48a9-4c50-b882-86d75e78e82b"
      },
      "source": [
        "! pip install chainer==6.3.0 cupy-cuda100==6.3.0"
      ],
      "execution_count": 20,
      "outputs": [
        {
          "output_type": "stream",
          "text": [
            "Requirement already satisfied: chainer==6.3.0 in /usr/local/lib/python3.6/dist-packages (6.3.0)\n",
            "Collecting cupy-cuda100==6.3.0\n",
            "\u001b[?25l  Downloading https://files.pythonhosted.org/packages/20/1a/00adf8ba3bd3f9f0b72cffe67559bd42e8f5bb45247b4d70b59e47ba5c59/cupy_cuda100-6.3.0-cp36-cp36m-manylinux1_x86_64.whl (380.0MB)\n",
            "\u001b[K     |████████████████████████████████| 380.0MB 51kB/s \n",
            "\u001b[?25hRequirement already satisfied: setuptools in /usr/local/lib/python3.6/dist-packages (from chainer==6.3.0) (41.2.0)\n",
            "Requirement already satisfied: numpy>=1.9.0 in /usr/local/lib/python3.6/dist-packages (from chainer==6.3.0) (1.16.5)\n",
            "Requirement already satisfied: typing<=3.6.6 in /usr/local/lib/python3.6/dist-packages (from chainer==6.3.0) (3.6.6)\n",
            "Requirement already satisfied: filelock in /usr/local/lib/python3.6/dist-packages (from chainer==6.3.0) (3.0.12)\n",
            "Requirement already satisfied: six>=1.9.0 in /usr/local/lib/python3.6/dist-packages (from chainer==6.3.0) (1.12.0)\n",
            "Requirement already satisfied: protobuf<3.8.0rc1,>=3.0.0 in /usr/local/lib/python3.6/dist-packages (from chainer==6.3.0) (3.7.1)\n",
            "Requirement already satisfied: typing-extensions<=3.6.6 in /usr/local/lib/python3.6/dist-packages (from chainer==6.3.0) (3.6.6)\n",
            "Requirement already satisfied: fastrlock>=0.3 in /usr/local/lib/python3.6/dist-packages (from cupy-cuda100==6.3.0) (0.4)\n",
            "Installing collected packages: cupy-cuda100\n",
            "  Found existing installation: cupy-cuda100 5.4.0\n",
            "    Uninstalling cupy-cuda100-5.4.0:\n",
            "      Successfully uninstalled cupy-cuda100-5.4.0\n",
            "Successfully installed cupy-cuda100-6.3.0\n"
          ],
          "name": "stdout"
        }
      ]
    },
    {
      "cell_type": "code",
      "metadata": {
        "id": "oSg9JT5lm5_D",
        "colab_type": "code",
        "colab": {
          "base_uri": "https://localhost:8080/",
          "height": 649
        },
        "outputId": "5e5da7f9-e906-45a4-cd53-38dea88cd750"
      },
      "source": [
        "! python chainer/train.py -d Cifar -dd cifar-10 -e 10 -g 0"
      ],
      "execution_count": 21,
      "outputs": [
        {
          "output_type": "stream",
          "text": [
            "dataset: Cifar\n",
            "dataset_dir: cifar-10\n",
            "epochs: 10\n",
            "batch_size: 64\n",
            "validation_split: 0.1\n",
            "resize_shape: [32, 32]\n",
            "crop_shape: None\n",
            "rotate: False\n",
            "flip_left_right: False\n",
            "flip_up_down: False\n",
            "filters: 64\n",
            "learning_rate: 0.001\n",
            "device: 0\n",
            "Building a dataset pipeline ...\n",
            "Found 50000 images.\n",
            "Done.\n",
            "1 epoch: [701/704, loss:1.3559074401855469, accuracy:0.5, step_time:0.014353275299072266]\n",
            "Validation score: loss: 1.368504285812378, accuracy: 0.4974288046360016.\n",
            "2 epoch: [701/704, loss:1.0627210140228271, accuracy:0.65625, step_time:0.014333248138427734]\n",
            "Validation score: loss: 1.2190589904785156, accuracy: 0.5663061141967773.\n",
            "3 epoch: [701/704, loss:1.302918553352356, accuracy:0.46875, step_time:0.01458287239074707]\n",
            "Validation score: loss: 1.1275485754013062, accuracy: 0.6029647588729858.\n",
            "4 epoch: [701/704, loss:0.7065462470054626, accuracy:0.75, step_time:0.015403270721435547]\n",
            "Validation score: loss: 1.0794669389724731, accuracy: 0.6213942170143127.\n",
            "5 epoch: [701/704, loss:0.9834545254707336, accuracy:0.625, step_time:0.014258384704589844]\n",
            "Validation score: loss: 0.9919270277023315, accuracy: 0.653245210647583.\n",
            "6 epoch: [701/704, loss:0.906265377998352, accuracy:0.6875, step_time:0.014317512512207031]\n",
            "Validation score: loss: 1.0234427452087402, accuracy: 0.6480368375778198.\n",
            "7 epoch: [701/704, loss:0.7923956513404846, accuracy:0.734375, step_time:0.014373779296875]\n",
            "Validation score: loss: 0.9753141403198242, accuracy: 0.6570512652397156.\n",
            "8 epoch: [701/704, loss:0.851747453212738, accuracy:0.671875, step_time:0.01534414291381836]\n",
            "Validation score: loss: 1.0129867792129517, accuracy: 0.6570512652397156.\n",
            "9 epoch: [701/704, loss:0.6933861374855042, accuracy:0.71875, step_time:0.014625072479248047]\n",
            "Validation score: loss: 0.9860195517539978, accuracy: 0.6734572649002075.\n",
            "10 epoch: [701/704, loss:0.5421642065048218, accuracy:0.8125, step_time:0.014426946640014648]\n",
            "Validation score: loss: 1.0188159942626953, accuracy: 0.6796875.\n"
          ],
          "name": "stdout"
        }
      ]
    }
  ]
}