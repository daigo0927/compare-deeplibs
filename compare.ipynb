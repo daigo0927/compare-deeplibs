{
  "nbformat": 4,
  "nbformat_minor": 0,
  "metadata": {
    "colab": {
      "name": "compare.ipynb",
      "provenance": [],
      "collapsed_sections": [],
      "include_colab_link": true
    },
    "kernelspec": {
      "name": "python3",
      "display_name": "Python 3"
    },
    "accelerator": "GPU"
  },
  "cells": [
    {
      "cell_type": "markdown",
      "metadata": {
        "id": "view-in-github",
        "colab_type": "text"
      },
      "source": [
        "<a href=\"https://colab.research.google.com/github/daigo0927/compare-deeplibs/blob/master/compare.ipynb\" target=\"_parent\"><img src=\"https://colab.research.google.com/assets/colab-badge.svg\" alt=\"Open In Colab\"/></a>"
      ]
    },
    {
      "cell_type": "code",
      "metadata": {
        "id": "bsLBAaWaUqw4",
        "colab_type": "code",
        "colab": {
          "base_uri": "https://localhost:8080/",
          "height": 425
        },
        "outputId": "fe78a3b3-a957-4906-a401-ba68059d98e3"
      },
      "source": [
        "! nvcc -V\n",
        "! nvidia-smi"
      ],
      "execution_count": 1,
      "outputs": [
        {
          "output_type": "stream",
          "text": [
            "nvcc: NVIDIA (R) Cuda compiler driver\n",
            "Copyright (c) 2005-2019 NVIDIA Corporation\n",
            "Built on Sun_Jul_28_19:07:16_PDT_2019\n",
            "Cuda compilation tools, release 10.1, V10.1.243\n",
            "Wed Jun 17 14:23:19 2020       \n",
            "+-----------------------------------------------------------------------------+\n",
            "| NVIDIA-SMI 450.36.06    Driver Version: 418.67       CUDA Version: 10.1     |\n",
            "|-------------------------------+----------------------+----------------------+\n",
            "| GPU  Name        Persistence-M| Bus-Id        Disp.A | Volatile Uncorr. ECC |\n",
            "| Fan  Temp  Perf  Pwr:Usage/Cap|         Memory-Usage | GPU-Util  Compute M. |\n",
            "|                               |                      |               MIG M. |\n",
            "|===============================+======================+======================|\n",
            "|   0  Tesla T4            Off  | 00000000:00:04.0 Off |                    0 |\n",
            "| N/A   49C    P8    10W /  70W |      0MiB / 15079MiB |      0%      Default |\n",
            "|                               |                      |                 ERR! |\n",
            "+-------------------------------+----------------------+----------------------+\n",
            "                                                                               \n",
            "+-----------------------------------------------------------------------------+\n",
            "| Processes:                                                                  |\n",
            "|  GPU   GI   CI        PID   Type   Process name                  GPU Memory |\n",
            "|        ID   ID                                                   Usage      |\n",
            "|=============================================================================|\n",
            "|  No running processes found                                                 |\n",
            "+-----------------------------------------------------------------------------+\n"
          ],
          "name": "stdout"
        }
      ]
    },
    {
      "cell_type": "code",
      "metadata": {
        "id": "rWy0jsD1Uzte",
        "colab_type": "code",
        "colab": {
          "base_uri": "https://localhost:8080/",
          "height": 136
        },
        "outputId": "19c4603b-f08c-4869-e1d4-e6c0a017bb5a"
      },
      "source": [
        "! git clone https://github.com/daigo0927/compare-deeplibs.git"
      ],
      "execution_count": 2,
      "outputs": [
        {
          "output_type": "stream",
          "text": [
            "Cloning into 'compare-deeplibs'...\n",
            "remote: Enumerating objects: 269, done.\u001b[K\n",
            "remote: Counting objects: 100% (269/269), done.\u001b[K\n",
            "remote: Compressing objects: 100% (188/188), done.\u001b[K\n",
            "remote: Total 385 (delta 165), reused 166 (delta 77), pack-reused 116\u001b[K\n",
            "Receiving objects: 100% (385/385), 246.77 KiB | 998.00 KiB/s, done.\n",
            "Resolving deltas: 100% (227/227), done.\n"
          ],
          "name": "stdout"
        }
      ]
    },
    {
      "cell_type": "code",
      "metadata": {
        "id": "TspFY5urVPzt",
        "colab_type": "code",
        "colab": {
          "base_uri": "https://localhost:8080/",
          "height": 34
        },
        "outputId": "60c07a3f-67b3-4469-9102-ed3803ee75c2"
      },
      "source": [
        "%cd compare-deeplibs/"
      ],
      "execution_count": 3,
      "outputs": [
        {
          "output_type": "stream",
          "text": [
            "/content/compare-deeplibs\n"
          ],
          "name": "stdout"
        }
      ]
    },
    {
      "cell_type": "code",
      "metadata": {
        "id": "9zBYm8N4VYE7",
        "colab_type": "code",
        "colab": {
          "base_uri": "https://localhost:8080/",
          "height": 374
        },
        "outputId": "7153917e-9969-4a8a-d8de-6466f5e36979"
      },
      "source": [
        "! sh prepare_cifar10.sh"
      ],
      "execution_count": 4,
      "outputs": [
        {
          "output_type": "stream",
          "text": [
            "  % Total    % Received % Xferd  Average Speed   Time    Time     Time  Current\n",
            "                                 Dload  Upload   Total   Spent    Left  Speed\n",
            "100  162M  100  162M    0     0  25.8M      0  0:00:06  0:00:06 --:--:-- 30.7M\n",
            "cifar-10-batches-py/\n",
            "cifar-10-batches-py/data_batch_4\n",
            "cifar-10-batches-py/readme.html\n",
            "cifar-10-batches-py/test_batch\n",
            "cifar-10-batches-py/data_batch_3\n",
            "cifar-10-batches-py/batches.meta\n",
            "cifar-10-batches-py/data_batch_2\n",
            "cifar-10-batches-py/data_batch_5\n",
            "cifar-10-batches-py/data_batch_1\n",
            "Requirement already satisfied: numpy in /usr/local/lib/python3.6/dist-packages (1.18.5)\n",
            "Requirement already satisfied: pillow in /usr/local/lib/python3.6/dist-packages (7.0.0)\n",
            "--------- Extracting data_batch_1 -----------\n",
            "--------- Extracting data_batch_2 -----------\n",
            "--------- Extracting data_batch_3 -----------\n",
            "--------- Extracting data_batch_4 -----------\n",
            "--------- Extracting data_batch_5 -----------\n",
            "--------- Extracting test_batch -----------\n",
            "--------- Completed ------------\n"
          ],
          "name": "stdout"
        }
      ]
    },
    {
      "cell_type": "code",
      "metadata": {
        "id": "dj4sGJsNVepV",
        "colab_type": "code",
        "colab": {
          "base_uri": "https://localhost:8080/",
          "height": 221
        },
        "outputId": "00cba8a7-6316-495c-a2ed-452483c2f0df"
      },
      "source": [
        "! pip list | grep tensor"
      ],
      "execution_count": 5,
      "outputs": [
        {
          "output_type": "stream",
          "text": [
            "tensorboard              2.2.2          \n",
            "tensorboard-plugin-wit   1.6.0.post3    \n",
            "tensorboardcolab         0.0.22         \n",
            "tensorflow               2.2.0          \n",
            "tensorflow-addons        0.8.3          \n",
            "tensorflow-datasets      2.1.0          \n",
            "tensorflow-estimator     2.2.0          \n",
            "tensorflow-gcs-config    2.1.8          \n",
            "tensorflow-hub           0.8.0          \n",
            "tensorflow-metadata      0.22.1         \n",
            "tensorflow-privacy       0.2.2          \n",
            "tensorflow-probability   0.10.0         \n"
          ],
          "name": "stdout"
        }
      ]
    },
    {
      "cell_type": "code",
      "metadata": {
        "id": "0sCYEk_tVvdX",
        "colab_type": "code",
        "colab": {
          "base_uri": "https://localhost:8080/",
          "height": 581
        },
        "outputId": "b4c60dbc-88e8-4877-e7e8-274219e9cd11"
      },
      "source": [
        "! pip install torch torchvision albumentations"
      ],
      "execution_count": 6,
      "outputs": [
        {
          "output_type": "stream",
          "text": [
            "Requirement already satisfied: torch in /usr/local/lib/python3.6/dist-packages (1.5.0+cu101)\n",
            "Requirement already satisfied: torchvision in /usr/local/lib/python3.6/dist-packages (0.6.0+cu101)\n",
            "Requirement already satisfied: albumentations in /usr/local/lib/python3.6/dist-packages (0.1.12)\n",
            "Requirement already satisfied: future in /usr/local/lib/python3.6/dist-packages (from torch) (0.16.0)\n",
            "Requirement already satisfied: numpy in /usr/local/lib/python3.6/dist-packages (from torch) (1.18.5)\n",
            "Requirement already satisfied: pillow>=4.1.1 in /usr/local/lib/python3.6/dist-packages (from torchvision) (7.0.0)\n",
            "Requirement already satisfied: opencv-python in /usr/local/lib/python3.6/dist-packages (from albumentations) (4.1.2.30)\n",
            "Collecting imgaug<0.2.7,>=0.2.5\n",
            "\u001b[?25l  Downloading https://files.pythonhosted.org/packages/ad/2e/748dbb7bb52ec8667098bae9b585f448569ae520031932687761165419a2/imgaug-0.2.6.tar.gz (631kB)\n",
            "\r\u001b[K     |▌                               | 10kB 23.5MB/s eta 0:00:01\r\u001b[K     |█                               | 20kB 6.2MB/s eta 0:00:01\r\u001b[K     |█▋                              | 30kB 7.2MB/s eta 0:00:01\r\u001b[K     |██                              | 40kB 7.8MB/s eta 0:00:01\r\u001b[K     |██▋                             | 51kB 7.3MB/s eta 0:00:01\r\u001b[K     |███▏                            | 61kB 8.2MB/s eta 0:00:01\r\u001b[K     |███▋                            | 71kB 8.0MB/s eta 0:00:01\r\u001b[K     |████▏                           | 81kB 8.9MB/s eta 0:00:01\r\u001b[K     |████▊                           | 92kB 9.4MB/s eta 0:00:01\r\u001b[K     |█████▏                          | 102kB 9.2MB/s eta 0:00:01\r\u001b[K     |█████▊                          | 112kB 9.2MB/s eta 0:00:01\r\u001b[K     |██████▎                         | 122kB 9.2MB/s eta 0:00:01\r\u001b[K     |██████▊                         | 133kB 9.2MB/s eta 0:00:01\r\u001b[K     |███████▎                        | 143kB 9.2MB/s eta 0:00:01\r\u001b[K     |███████▉                        | 153kB 9.2MB/s eta 0:00:01\r\u001b[K     |████████▎                       | 163kB 9.2MB/s eta 0:00:01\r\u001b[K     |████████▉                       | 174kB 9.2MB/s eta 0:00:01\r\u001b[K     |█████████▍                      | 184kB 9.2MB/s eta 0:00:01\r\u001b[K     |█████████▉                      | 194kB 9.2MB/s eta 0:00:01\r\u001b[K     |██████████▍                     | 204kB 9.2MB/s eta 0:00:01\r\u001b[K     |███████████                     | 215kB 9.2MB/s eta 0:00:01\r\u001b[K     |███████████▍                    | 225kB 9.2MB/s eta 0:00:01\r\u001b[K     |████████████                    | 235kB 9.2MB/s eta 0:00:01\r\u001b[K     |████████████▌                   | 245kB 9.2MB/s eta 0:00:01\r\u001b[K     |█████████████                   | 256kB 9.2MB/s eta 0:00:01\r\u001b[K     |█████████████▌                  | 266kB 9.2MB/s eta 0:00:01\r\u001b[K     |██████████████                  | 276kB 9.2MB/s eta 0:00:01\r\u001b[K     |██████████████▌                 | 286kB 9.2MB/s eta 0:00:01\r\u001b[K     |███████████████                 | 296kB 9.2MB/s eta 0:00:01\r\u001b[K     |███████████████▋                | 307kB 9.2MB/s eta 0:00:01\r\u001b[K     |████████████████                | 317kB 9.2MB/s eta 0:00:01\r\u001b[K     |████████████████▋               | 327kB 9.2MB/s eta 0:00:01\r\u001b[K     |█████████████████▏              | 337kB 9.2MB/s eta 0:00:01\r\u001b[K     |█████████████████▋              | 348kB 9.2MB/s eta 0:00:01\r\u001b[K     |██████████████████▏             | 358kB 9.2MB/s eta 0:00:01\r\u001b[K     |██████████████████▊             | 368kB 9.2MB/s eta 0:00:01\r\u001b[K     |███████████████████▏            | 378kB 9.2MB/s eta 0:00:01\r\u001b[K     |███████████████████▊            | 389kB 9.2MB/s eta 0:00:01\r\u001b[K     |████████████████████▎           | 399kB 9.2MB/s eta 0:00:01\r\u001b[K     |████████████████████▊           | 409kB 9.2MB/s eta 0:00:01\r\u001b[K     |█████████████████████▎          | 419kB 9.2MB/s eta 0:00:01\r\u001b[K     |█████████████████████▉          | 430kB 9.2MB/s eta 0:00:01\r\u001b[K     |██████████████████████▎         | 440kB 9.2MB/s eta 0:00:01\r\u001b[K     |██████████████████████▉         | 450kB 9.2MB/s eta 0:00:01\r\u001b[K     |███████████████████████▍        | 460kB 9.2MB/s eta 0:00:01\r\u001b[K     |███████████████████████▉        | 471kB 9.2MB/s eta 0:00:01\r\u001b[K     |████████████████████████▍       | 481kB 9.2MB/s eta 0:00:01\r\u001b[K     |█████████████████████████       | 491kB 9.2MB/s eta 0:00:01\r\u001b[K     |█████████████████████████▍      | 501kB 9.2MB/s eta 0:00:01\r\u001b[K     |██████████████████████████      | 512kB 9.2MB/s eta 0:00:01\r\u001b[K     |██████████████████████████▌     | 522kB 9.2MB/s eta 0:00:01\r\u001b[K     |███████████████████████████     | 532kB 9.2MB/s eta 0:00:01\r\u001b[K     |███████████████████████████▌    | 542kB 9.2MB/s eta 0:00:01\r\u001b[K     |████████████████████████████    | 552kB 9.2MB/s eta 0:00:01\r\u001b[K     |████████████████████████████▌   | 563kB 9.2MB/s eta 0:00:01\r\u001b[K     |█████████████████████████████   | 573kB 9.2MB/s eta 0:00:01\r\u001b[K     |█████████████████████████████▋  | 583kB 9.2MB/s eta 0:00:01\r\u001b[K     |██████████████████████████████  | 593kB 9.2MB/s eta 0:00:01\r\u001b[K     |██████████████████████████████▋ | 604kB 9.2MB/s eta 0:00:01\r\u001b[K     |███████████████████████████████▏| 614kB 9.2MB/s eta 0:00:01\r\u001b[K     |███████████████████████████████▋| 624kB 9.2MB/s eta 0:00:01\r\u001b[K     |████████████████████████████████| 634kB 9.2MB/s \n",
            "\u001b[?25hRequirement already satisfied: scipy in /usr/local/lib/python3.6/dist-packages (from albumentations) (1.4.1)\n",
            "Requirement already satisfied: scikit-image>=0.11.0 in /usr/local/lib/python3.6/dist-packages (from imgaug<0.2.7,>=0.2.5->albumentations) (0.16.2)\n",
            "Requirement already satisfied: six in /usr/local/lib/python3.6/dist-packages (from imgaug<0.2.7,>=0.2.5->albumentations) (1.12.0)\n",
            "Requirement already satisfied: PyWavelets>=0.4.0 in /usr/local/lib/python3.6/dist-packages (from scikit-image>=0.11.0->imgaug<0.2.7,>=0.2.5->albumentations) (1.1.1)\n",
            "Requirement already satisfied: matplotlib!=3.0.0,>=2.0.0 in /usr/local/lib/python3.6/dist-packages (from scikit-image>=0.11.0->imgaug<0.2.7,>=0.2.5->albumentations) (3.2.1)\n",
            "Requirement already satisfied: networkx>=2.0 in /usr/local/lib/python3.6/dist-packages (from scikit-image>=0.11.0->imgaug<0.2.7,>=0.2.5->albumentations) (2.4)\n",
            "Requirement already satisfied: imageio>=2.3.0 in /usr/local/lib/python3.6/dist-packages (from scikit-image>=0.11.0->imgaug<0.2.7,>=0.2.5->albumentations) (2.4.1)\n",
            "Requirement already satisfied: pyparsing!=2.0.4,!=2.1.2,!=2.1.6,>=2.0.1 in /usr/local/lib/python3.6/dist-packages (from matplotlib!=3.0.0,>=2.0.0->scikit-image>=0.11.0->imgaug<0.2.7,>=0.2.5->albumentations) (2.4.7)\n",
            "Requirement already satisfied: cycler>=0.10 in /usr/local/lib/python3.6/dist-packages (from matplotlib!=3.0.0,>=2.0.0->scikit-image>=0.11.0->imgaug<0.2.7,>=0.2.5->albumentations) (0.10.0)\n",
            "Requirement already satisfied: python-dateutil>=2.1 in /usr/local/lib/python3.6/dist-packages (from matplotlib!=3.0.0,>=2.0.0->scikit-image>=0.11.0->imgaug<0.2.7,>=0.2.5->albumentations) (2.8.1)\n",
            "Requirement already satisfied: kiwisolver>=1.0.1 in /usr/local/lib/python3.6/dist-packages (from matplotlib!=3.0.0,>=2.0.0->scikit-image>=0.11.0->imgaug<0.2.7,>=0.2.5->albumentations) (1.2.0)\n",
            "Requirement already satisfied: decorator>=4.3.0 in /usr/local/lib/python3.6/dist-packages (from networkx>=2.0->scikit-image>=0.11.0->imgaug<0.2.7,>=0.2.5->albumentations) (4.4.2)\n",
            "Building wheels for collected packages: imgaug\n",
            "  Building wheel for imgaug (setup.py) ... \u001b[?25l\u001b[?25hdone\n",
            "  Created wheel for imgaug: filename=imgaug-0.2.6-cp36-none-any.whl size=654020 sha256=861fec0cd7fc9ee785a291e45332a924fee1adf82ff5b33d9be0abb205e251a6\n",
            "  Stored in directory: /root/.cache/pip/wheels/97/ec/48/0d25896c417b715af6236dbcef8f0bed136a1a5e52972fc6d0\n",
            "Successfully built imgaug\n",
            "Installing collected packages: imgaug\n",
            "  Found existing installation: imgaug 0.2.9\n",
            "    Uninstalling imgaug-0.2.9:\n",
            "      Successfully uninstalled imgaug-0.2.9\n",
            "Successfully installed imgaug-0.2.6\n"
          ],
          "name": "stdout"
        }
      ]
    },
    {
      "cell_type": "code",
      "metadata": {
        "id": "GOCa7Y68Glp6",
        "colab_type": "code",
        "colab": {}
      },
      "source": [
        "import gc"
      ],
      "execution_count": 7,
      "outputs": []
    },
    {
      "cell_type": "code",
      "metadata": {
        "id": "1GRiujeKS-uw",
        "colab_type": "code",
        "colab": {
          "base_uri": "https://localhost:8080/",
          "height": 1000
        },
        "outputId": "a870d125-cace-4f87-ba17-f29ae7ade253"
      },
      "source": [
        "gc.collect()\n",
        "! python keras/train.py -d cifar-10"
      ],
      "execution_count": 9,
      "outputs": [
        {
          "output_type": "stream",
          "text": [
            "2020-06-17 14:25:15.583379: I tensorflow/stream_executor/platform/default/dso_loader.cc:44] Successfully opened dynamic library libcudart.so.10.1\n",
            "2020-06-17 14:25:17.641192: I tensorflow/stream_executor/platform/default/dso_loader.cc:44] Successfully opened dynamic library libcuda.so.1\n",
            "2020-06-17 14:25:17.673487: I tensorflow/stream_executor/cuda/cuda_gpu_executor.cc:981] successful NUMA node read from SysFS had negative value (-1), but there must be at least one NUMA node, so returning NUMA node zero\n",
            "2020-06-17 14:25:17.674066: I tensorflow/core/common_runtime/gpu/gpu_device.cc:1561] Found device 0 with properties: \n",
            "pciBusID: 0000:00:04.0 name: Tesla T4 computeCapability: 7.5\n",
            "coreClock: 1.59GHz coreCount: 40 deviceMemorySize: 14.73GiB deviceMemoryBandwidth: 298.08GiB/s\n",
            "2020-06-17 14:25:17.674105: I tensorflow/stream_executor/platform/default/dso_loader.cc:44] Successfully opened dynamic library libcudart.so.10.1\n",
            "2020-06-17 14:25:17.675520: I tensorflow/stream_executor/platform/default/dso_loader.cc:44] Successfully opened dynamic library libcublas.so.10\n",
            "2020-06-17 14:25:17.677071: I tensorflow/stream_executor/platform/default/dso_loader.cc:44] Successfully opened dynamic library libcufft.so.10\n",
            "2020-06-17 14:25:17.677403: I tensorflow/stream_executor/platform/default/dso_loader.cc:44] Successfully opened dynamic library libcurand.so.10\n",
            "2020-06-17 14:25:17.678906: I tensorflow/stream_executor/platform/default/dso_loader.cc:44] Successfully opened dynamic library libcusolver.so.10\n",
            "2020-06-17 14:25:17.680221: I tensorflow/stream_executor/platform/default/dso_loader.cc:44] Successfully opened dynamic library libcusparse.so.10\n",
            "2020-06-17 14:25:17.685947: I tensorflow/stream_executor/platform/default/dso_loader.cc:44] Successfully opened dynamic library libcudnn.so.7\n",
            "2020-06-17 14:25:17.686067: I tensorflow/stream_executor/cuda/cuda_gpu_executor.cc:981] successful NUMA node read from SysFS had negative value (-1), but there must be at least one NUMA node, so returning NUMA node zero\n",
            "2020-06-17 14:25:17.686615: I tensorflow/stream_executor/cuda/cuda_gpu_executor.cc:981] successful NUMA node read from SysFS had negative value (-1), but there must be at least one NUMA node, so returning NUMA node zero\n",
            "2020-06-17 14:25:17.687117: I tensorflow/core/common_runtime/gpu/gpu_device.cc:1703] Adding visible gpu devices: 0\n",
            "2020-06-17 14:25:17.687340: I tensorflow/core/platform/cpu_feature_guard.cc:143] Your CPU supports instructions that this TensorFlow binary was not compiled to use: AVX512F\n",
            "2020-06-17 14:25:17.692157: I tensorflow/core/platform/profile_utils/cpu_utils.cc:102] CPU Frequency: 2000175000 Hz\n",
            "2020-06-17 14:25:17.692332: I tensorflow/compiler/xla/service/service.cc:168] XLA service 0x1a7f100 initialized for platform Host (this does not guarantee that XLA will be used). Devices:\n",
            "2020-06-17 14:25:17.692357: I tensorflow/compiler/xla/service/service.cc:176]   StreamExecutor device (0): Host, Default Version\n",
            "2020-06-17 14:25:17.793230: I tensorflow/stream_executor/cuda/cuda_gpu_executor.cc:981] successful NUMA node read from SysFS had negative value (-1), but there must be at least one NUMA node, so returning NUMA node zero\n",
            "2020-06-17 14:25:17.793889: I tensorflow/compiler/xla/service/service.cc:168] XLA service 0x1a7ef40 initialized for platform CUDA (this does not guarantee that XLA will be used). Devices:\n",
            "2020-06-17 14:25:17.793922: I tensorflow/compiler/xla/service/service.cc:176]   StreamExecutor device (0): Tesla T4, Compute Capability 7.5\n",
            "2020-06-17 14:25:17.794157: I tensorflow/stream_executor/cuda/cuda_gpu_executor.cc:981] successful NUMA node read from SysFS had negative value (-1), but there must be at least one NUMA node, so returning NUMA node zero\n",
            "2020-06-17 14:25:17.794664: I tensorflow/core/common_runtime/gpu/gpu_device.cc:1561] Found device 0 with properties: \n",
            "pciBusID: 0000:00:04.0 name: Tesla T4 computeCapability: 7.5\n",
            "coreClock: 1.59GHz coreCount: 40 deviceMemorySize: 14.73GiB deviceMemoryBandwidth: 298.08GiB/s\n",
            "2020-06-17 14:25:17.794720: I tensorflow/stream_executor/platform/default/dso_loader.cc:44] Successfully opened dynamic library libcudart.so.10.1\n",
            "2020-06-17 14:25:17.794814: I tensorflow/stream_executor/platform/default/dso_loader.cc:44] Successfully opened dynamic library libcublas.so.10\n",
            "2020-06-17 14:25:17.794850: I tensorflow/stream_executor/platform/default/dso_loader.cc:44] Successfully opened dynamic library libcufft.so.10\n",
            "2020-06-17 14:25:17.794871: I tensorflow/stream_executor/platform/default/dso_loader.cc:44] Successfully opened dynamic library libcurand.so.10\n",
            "2020-06-17 14:25:17.794895: I tensorflow/stream_executor/platform/default/dso_loader.cc:44] Successfully opened dynamic library libcusolver.so.10\n",
            "2020-06-17 14:25:17.794914: I tensorflow/stream_executor/platform/default/dso_loader.cc:44] Successfully opened dynamic library libcusparse.so.10\n",
            "2020-06-17 14:25:17.794934: I tensorflow/stream_executor/platform/default/dso_loader.cc:44] Successfully opened dynamic library libcudnn.so.7\n",
            "2020-06-17 14:25:17.795014: I tensorflow/stream_executor/cuda/cuda_gpu_executor.cc:981] successful NUMA node read from SysFS had negative value (-1), but there must be at least one NUMA node, so returning NUMA node zero\n",
            "2020-06-17 14:25:17.795544: I tensorflow/stream_executor/cuda/cuda_gpu_executor.cc:981] successful NUMA node read from SysFS had negative value (-1), but there must be at least one NUMA node, so returning NUMA node zero\n",
            "2020-06-17 14:25:17.796039: I tensorflow/core/common_runtime/gpu/gpu_device.cc:1703] Adding visible gpu devices: 0\n",
            "2020-06-17 14:25:17.796089: I tensorflow/stream_executor/platform/default/dso_loader.cc:44] Successfully opened dynamic library libcudart.so.10.1\n",
            "2020-06-17 14:25:18.302175: I tensorflow/core/common_runtime/gpu/gpu_device.cc:1102] Device interconnect StreamExecutor with strength 1 edge matrix:\n",
            "2020-06-17 14:25:18.302250: I tensorflow/core/common_runtime/gpu/gpu_device.cc:1108]      0 \n",
            "2020-06-17 14:25:18.302269: I tensorflow/core/common_runtime/gpu/gpu_device.cc:1121] 0:   N \n",
            "2020-06-17 14:25:18.302523: I tensorflow/stream_executor/cuda/cuda_gpu_executor.cc:981] successful NUMA node read from SysFS had negative value (-1), but there must be at least one NUMA node, so returning NUMA node zero\n",
            "2020-06-17 14:25:18.303160: I tensorflow/stream_executor/cuda/cuda_gpu_executor.cc:981] successful NUMA node read from SysFS had negative value (-1), but there must be at least one NUMA node, so returning NUMA node zero\n",
            "2020-06-17 14:25:18.303659: W tensorflow/core/common_runtime/gpu/gpu_bfc_allocator.cc:39] Overriding allow_growth setting because the TF_FORCE_GPU_ALLOW_GROWTH environment variable is set. Original config value was 0.\n",
            "2020-06-17 14:25:18.303715: I tensorflow/core/common_runtime/gpu/gpu_device.cc:1247] Created TensorFlow device (/job:localhost/replica:0/task:0/device:GPU:0 with 13970 MB memory) -> physical GPU (device: 0, name: Tesla T4, pci bus id: 0000:00:04.0, compute capability: 7.5)\n",
            "Model: \"sequential\"\n",
            "_________________________________________________________________\n",
            "Layer (type)                 Output Shape              Param #   \n",
            "=================================================================\n",
            "conv2d (Conv2D)              (None, 16, 16, 64)        9472      \n",
            "_________________________________________________________________\n",
            "batch_normalization (BatchNo (None, 16, 16, 64)        256       \n",
            "_________________________________________________________________\n",
            "activation (Activation)      (None, 16, 16, 64)        0         \n",
            "_________________________________________________________________\n",
            "max_pooling2d (MaxPooling2D) (None, 8, 8, 64)          0         \n",
            "_________________________________________________________________\n",
            "res_block (ResBlock)         (None, 8, 8, 64)          74368     \n",
            "_________________________________________________________________\n",
            "res_block_1 (ResBlock)       (None, 8, 8, 64)          74368     \n",
            "_________________________________________________________________\n",
            "res_block_2 (ResBlock)       (None, 4, 4, 128)         231296    \n",
            "_________________________________________________________________\n",
            "res_block_3 (ResBlock)       (None, 4, 4, 128)         296192    \n",
            "_________________________________________________________________\n",
            "global_average_pooling2d (Gl (None, 128)               0         \n",
            "_________________________________________________________________\n",
            "dense (Dense)                (None, 10)                1290      \n",
            "=================================================================\n",
            "Total params: 687,242\n",
            "Trainable params: 685,322\n",
            "Non-trainable params: 1,920\n",
            "_________________________________________________________________\n",
            "Epoch 1/10\n",
            "2020-06-17 14:25:20.235561: I tensorflow/stream_executor/platform/default/dso_loader.cc:44] Successfully opened dynamic library libcublas.so.10\n",
            "2020-06-17 14:25:21.699814: I tensorflow/stream_executor/platform/default/dso_loader.cc:44] Successfully opened dynamic library libcudnn.so.7\n",
            "1562/1562 [==============================] - 14s 9ms/step - loss: 1.2683 - sparse_categorical_accuracy: 0.5450\n",
            "Epoch 2/10\n",
            "1562/1562 [==============================] - 15s 9ms/step - loss: 0.8887 - sparse_categorical_accuracy: 0.6877\n",
            "Epoch 3/10\n",
            "1562/1562 [==============================] - 14s 9ms/step - loss: 0.7274 - sparse_categorical_accuracy: 0.7457\n",
            "Epoch 4/10\n",
            "1562/1562 [==============================] - 14s 9ms/step - loss: 0.6195 - sparse_categorical_accuracy: 0.7859\n",
            "Epoch 5/10\n",
            "1562/1562 [==============================] - 14s 9ms/step - loss: 0.5277 - sparse_categorical_accuracy: 0.8158\n",
            "Epoch 6/10\n",
            "1562/1562 [==============================] - 14s 9ms/step - loss: 0.4421 - sparse_categorical_accuracy: 0.8466\n",
            "Epoch 7/10\n",
            "1562/1562 [==============================] - 14s 9ms/step - loss: 0.3737 - sparse_categorical_accuracy: 0.8692\n",
            "Epoch 8/10\n",
            "1562/1562 [==============================] - 14s 9ms/step - loss: 0.3027 - sparse_categorical_accuracy: 0.8958\n",
            "Epoch 9/10\n",
            "1562/1562 [==============================] - 14s 9ms/step - loss: 0.2488 - sparse_categorical_accuracy: 0.9118\n",
            "Epoch 10/10\n",
            "1562/1562 [==============================] - 14s 9ms/step - loss: 0.1987 - sparse_categorical_accuracy: 0.9308\n"
          ],
          "name": "stdout"
        }
      ]
    },
    {
      "cell_type": "code",
      "metadata": {
        "id": "vREbO0cWVygG",
        "colab_type": "code",
        "colab": {
          "base_uri": "https://localhost:8080/",
          "height": 1000
        },
        "outputId": "9e85c65b-6803-47a1-d269-0c4f026d0d17"
      },
      "source": [
        "gc.collect()\n",
        "! python keras/train_tf.py -d cifar-10"
      ],
      "execution_count": 10,
      "outputs": [
        {
          "output_type": "stream",
          "text": [
            "2020-06-17 14:28:02.278250: I tensorflow/stream_executor/platform/default/dso_loader.cc:44] Successfully opened dynamic library libcudart.so.10.1\n",
            "2020-06-17 14:28:04.338526: I tensorflow/stream_executor/platform/default/dso_loader.cc:44] Successfully opened dynamic library libcuda.so.1\n",
            "2020-06-17 14:28:04.371686: I tensorflow/stream_executor/cuda/cuda_gpu_executor.cc:981] successful NUMA node read from SysFS had negative value (-1), but there must be at least one NUMA node, so returning NUMA node zero\n",
            "2020-06-17 14:28:04.372296: I tensorflow/core/common_runtime/gpu/gpu_device.cc:1561] Found device 0 with properties: \n",
            "pciBusID: 0000:00:04.0 name: Tesla T4 computeCapability: 7.5\n",
            "coreClock: 1.59GHz coreCount: 40 deviceMemorySize: 14.73GiB deviceMemoryBandwidth: 298.08GiB/s\n",
            "2020-06-17 14:28:04.372348: I tensorflow/stream_executor/platform/default/dso_loader.cc:44] Successfully opened dynamic library libcudart.so.10.1\n",
            "2020-06-17 14:28:04.373860: I tensorflow/stream_executor/platform/default/dso_loader.cc:44] Successfully opened dynamic library libcublas.so.10\n",
            "2020-06-17 14:28:04.382417: I tensorflow/stream_executor/platform/default/dso_loader.cc:44] Successfully opened dynamic library libcufft.so.10\n",
            "2020-06-17 14:28:04.382822: I tensorflow/stream_executor/platform/default/dso_loader.cc:44] Successfully opened dynamic library libcurand.so.10\n",
            "2020-06-17 14:28:04.384673: I tensorflow/stream_executor/platform/default/dso_loader.cc:44] Successfully opened dynamic library libcusolver.so.10\n",
            "2020-06-17 14:28:04.388153: I tensorflow/stream_executor/platform/default/dso_loader.cc:44] Successfully opened dynamic library libcusparse.so.10\n",
            "2020-06-17 14:28:04.392267: I tensorflow/stream_executor/platform/default/dso_loader.cc:44] Successfully opened dynamic library libcudnn.so.7\n",
            "2020-06-17 14:28:04.392400: I tensorflow/stream_executor/cuda/cuda_gpu_executor.cc:981] successful NUMA node read from SysFS had negative value (-1), but there must be at least one NUMA node, so returning NUMA node zero\n",
            "2020-06-17 14:28:04.392992: I tensorflow/stream_executor/cuda/cuda_gpu_executor.cc:981] successful NUMA node read from SysFS had negative value (-1), but there must be at least one NUMA node, so returning NUMA node zero\n",
            "2020-06-17 14:28:04.393504: I tensorflow/core/common_runtime/gpu/gpu_device.cc:1703] Adding visible gpu devices: 0\n",
            "2020-06-17 14:28:04.393840: I tensorflow/core/platform/cpu_feature_guard.cc:143] Your CPU supports instructions that this TensorFlow binary was not compiled to use: AVX512F\n",
            "2020-06-17 14:28:04.399310: I tensorflow/core/platform/profile_utils/cpu_utils.cc:102] CPU Frequency: 2000175000 Hz\n",
            "2020-06-17 14:28:04.399495: I tensorflow/compiler/xla/service/service.cc:168] XLA service 0x2b63100 initialized for platform Host (this does not guarantee that XLA will be used). Devices:\n",
            "2020-06-17 14:28:04.399526: I tensorflow/compiler/xla/service/service.cc:176]   StreamExecutor device (0): Host, Default Version\n",
            "2020-06-17 14:28:04.505450: I tensorflow/stream_executor/cuda/cuda_gpu_executor.cc:981] successful NUMA node read from SysFS had negative value (-1), but there must be at least one NUMA node, so returning NUMA node zero\n",
            "2020-06-17 14:28:04.506175: I tensorflow/compiler/xla/service/service.cc:168] XLA service 0x2b62f40 initialized for platform CUDA (this does not guarantee that XLA will be used). Devices:\n",
            "2020-06-17 14:28:04.506212: I tensorflow/compiler/xla/service/service.cc:176]   StreamExecutor device (0): Tesla T4, Compute Capability 7.5\n",
            "2020-06-17 14:28:04.506424: I tensorflow/stream_executor/cuda/cuda_gpu_executor.cc:981] successful NUMA node read from SysFS had negative value (-1), but there must be at least one NUMA node, so returning NUMA node zero\n",
            "2020-06-17 14:28:04.507019: I tensorflow/core/common_runtime/gpu/gpu_device.cc:1561] Found device 0 with properties: \n",
            "pciBusID: 0000:00:04.0 name: Tesla T4 computeCapability: 7.5\n",
            "coreClock: 1.59GHz coreCount: 40 deviceMemorySize: 14.73GiB deviceMemoryBandwidth: 298.08GiB/s\n",
            "2020-06-17 14:28:04.507067: I tensorflow/stream_executor/platform/default/dso_loader.cc:44] Successfully opened dynamic library libcudart.so.10.1\n",
            "2020-06-17 14:28:04.507126: I tensorflow/stream_executor/platform/default/dso_loader.cc:44] Successfully opened dynamic library libcublas.so.10\n",
            "2020-06-17 14:28:04.507150: I tensorflow/stream_executor/platform/default/dso_loader.cc:44] Successfully opened dynamic library libcufft.so.10\n",
            "2020-06-17 14:28:04.507173: I tensorflow/stream_executor/platform/default/dso_loader.cc:44] Successfully opened dynamic library libcurand.so.10\n",
            "2020-06-17 14:28:04.507193: I tensorflow/stream_executor/platform/default/dso_loader.cc:44] Successfully opened dynamic library libcusolver.so.10\n",
            "2020-06-17 14:28:04.507212: I tensorflow/stream_executor/platform/default/dso_loader.cc:44] Successfully opened dynamic library libcusparse.so.10\n",
            "2020-06-17 14:28:04.507232: I tensorflow/stream_executor/platform/default/dso_loader.cc:44] Successfully opened dynamic library libcudnn.so.7\n",
            "2020-06-17 14:28:04.507317: I tensorflow/stream_executor/cuda/cuda_gpu_executor.cc:981] successful NUMA node read from SysFS had negative value (-1), but there must be at least one NUMA node, so returning NUMA node zero\n",
            "2020-06-17 14:28:04.507910: I tensorflow/stream_executor/cuda/cuda_gpu_executor.cc:981] successful NUMA node read from SysFS had negative value (-1), but there must be at least one NUMA node, so returning NUMA node zero\n",
            "2020-06-17 14:28:04.508420: I tensorflow/core/common_runtime/gpu/gpu_device.cc:1703] Adding visible gpu devices: 0\n",
            "2020-06-17 14:28:04.508480: I tensorflow/stream_executor/platform/default/dso_loader.cc:44] Successfully opened dynamic library libcudart.so.10.1\n",
            "2020-06-17 14:28:05.030693: I tensorflow/core/common_runtime/gpu/gpu_device.cc:1102] Device interconnect StreamExecutor with strength 1 edge matrix:\n",
            "2020-06-17 14:28:05.030770: I tensorflow/core/common_runtime/gpu/gpu_device.cc:1108]      0 \n",
            "2020-06-17 14:28:05.030795: I tensorflow/core/common_runtime/gpu/gpu_device.cc:1121] 0:   N \n",
            "2020-06-17 14:28:05.031046: I tensorflow/stream_executor/cuda/cuda_gpu_executor.cc:981] successful NUMA node read from SysFS had negative value (-1), but there must be at least one NUMA node, so returning NUMA node zero\n",
            "2020-06-17 14:28:05.031694: I tensorflow/stream_executor/cuda/cuda_gpu_executor.cc:981] successful NUMA node read from SysFS had negative value (-1), but there must be at least one NUMA node, so returning NUMA node zero\n",
            "2020-06-17 14:28:05.032275: W tensorflow/core/common_runtime/gpu/gpu_bfc_allocator.cc:39] Overriding allow_growth setting because the TF_FORCE_GPU_ALLOW_GROWTH environment variable is set. Original config value was 0.\n",
            "2020-06-17 14:28:05.032336: I tensorflow/core/common_runtime/gpu/gpu_device.cc:1247] Created TensorFlow device (/job:localhost/replica:0/task:0/device:GPU:0 with 13970 MB memory) -> physical GPU (device: 0, name: Tesla T4, pci bus id: 0000:00:04.0, compute capability: 7.5)\n",
            "Model: \"sequential\"\n",
            "_________________________________________________________________\n",
            "Layer (type)                 Output Shape              Param #   \n",
            "=================================================================\n",
            "conv2d (Conv2D)              (None, 16, 16, 64)        9472      \n",
            "_________________________________________________________________\n",
            "batch_normalization (BatchNo (None, 16, 16, 64)        256       \n",
            "_________________________________________________________________\n",
            "activation (Activation)      (None, 16, 16, 64)        0         \n",
            "_________________________________________________________________\n",
            "max_pooling2d (MaxPooling2D) (None, 8, 8, 64)          0         \n",
            "_________________________________________________________________\n",
            "res_block (ResBlock)         (None, 8, 8, 64)          74368     \n",
            "_________________________________________________________________\n",
            "res_block_1 (ResBlock)       (None, 8, 8, 64)          74368     \n",
            "_________________________________________________________________\n",
            "res_block_2 (ResBlock)       (None, 4, 4, 128)         231296    \n",
            "_________________________________________________________________\n",
            "res_block_3 (ResBlock)       (None, 4, 4, 128)         296192    \n",
            "_________________________________________________________________\n",
            "global_average_pooling2d (Gl (None, 128)               0         \n",
            "_________________________________________________________________\n",
            "dense (Dense)                (None, 10)                1290      \n",
            "=================================================================\n",
            "Total params: 687,242\n",
            "Trainable params: 685,322\n",
            "Non-trainable params: 1,920\n",
            "_________________________________________________________________\n",
            "  0% 0/1562 [00:00<?, ?it/s]2020-06-17 14:28:06.761067: I tensorflow/stream_executor/platform/default/dso_loader.cc:44] Successfully opened dynamic library libcublas.so.10\n",
            "2020-06-17 14:28:07.094389: I tensorflow/stream_executor/platform/default/dso_loader.cc:44] Successfully opened dynamic library libcudnn.so.7\n",
            "100% 1562/1562 [00:16<00:00, 97.56it/s] \n",
            "Epoch: 1/10, accuracy: 0.5475752353668213\n",
            "100% 1562/1562 [00:13<00:00, 119.03it/s]\n",
            "Epoch: 2/10, accuracy: 0.6901808381080627\n",
            "100% 1562/1562 [00:12<00:00, 120.87it/s]\n",
            "Epoch: 3/10, accuracy: 0.7523807883262634\n",
            "100% 1562/1562 [00:12<00:00, 124.69it/s]\n",
            "Epoch: 4/10, accuracy: 0.8006162047386169\n",
            "100% 1562/1562 [00:12<00:00, 123.99it/s]\n",
            "Epoch: 5/10, accuracy: 0.8407290577888489\n",
            "100% 1562/1562 [00:12<00:00, 121.75it/s]\n",
            "Epoch: 6/10, accuracy: 0.8721991181373596\n",
            "100% 1562/1562 [00:12<00:00, 123.96it/s]\n",
            "Epoch: 7/10, accuracy: 0.9012283682823181\n",
            "100% 1562/1562 [00:12<00:00, 122.51it/s]\n",
            "Epoch: 8/10, accuracy: 0.9221150875091553\n",
            "100% 1562/1562 [00:12<00:00, 122.53it/s]\n",
            "Epoch: 9/10, accuracy: 0.9336788058280945\n",
            "100% 1562/1562 [00:12<00:00, 122.00it/s]\n",
            "Epoch: 10/10, accuracy: 0.9449023604393005\n"
          ],
          "name": "stdout"
        }
      ]
    },
    {
      "cell_type": "code",
      "metadata": {
        "id": "-BUCytKUWEMG",
        "colab_type": "code",
        "colab": {
          "base_uri": "https://localhost:8080/",
          "height": 357
        },
        "outputId": "140505a9-8a37-442a-9e6f-0919447419ab"
      },
      "source": [
        "gc.collect()\n",
        "! python torch/train.py -d cifar-10"
      ],
      "execution_count": 11,
      "outputs": [
        {
          "output_type": "stream",
          "text": [
            "100% 1563/1563 [00:25<00:00, 62.27it/s]\n",
            "Epoch: 1/10, accuracy: 0.5185940499040307\n",
            "100% 1563/1563 [00:23<00:00, 65.27it/s]\n",
            "Epoch: 2/10, accuracy: 0.6693458093410108\n",
            "100% 1563/1563 [00:24<00:00, 64.90it/s]\n",
            "Epoch: 3/10, accuracy: 0.7316858605246321\n",
            "100% 1563/1563 [00:23<00:00, 65.26it/s]\n",
            "Epoch: 4/10, accuracy: 0.7699936020473449\n",
            "100% 1563/1563 [00:24<00:00, 64.98it/s]\n",
            "Epoch: 5/10, accuracy: 0.8001639475367882\n",
            "100% 1563/1563 [00:24<00:00, 63.10it/s]\n",
            "Epoch: 6/10, accuracy: 0.8259157069737684\n",
            "100% 1563/1563 [00:23<00:00, 66.02it/s]\n",
            "Epoch: 7/10, accuracy: 0.8521273192578375\n",
            "100% 1563/1563 [00:24<00:00, 63.80it/s]\n",
            "Epoch: 8/10, accuracy: 0.8729006717850288\n",
            "100% 1563/1563 [00:23<00:00, 66.00it/s]\n",
            "Epoch: 9/10, accuracy: 0.8964131477927063\n",
            "100% 1563/1563 [00:24<00:00, 64.23it/s]\n",
            "Epoch: 10/10, accuracy: 0.9122280870121561\n"
          ],
          "name": "stdout"
        }
      ]
    }
  ]
}