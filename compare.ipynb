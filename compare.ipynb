{
  "nbformat": 4,
  "nbformat_minor": 0,
  "metadata": {
    "colab": {
      "name": "compare.ipynb",
      "version": "0.3.2",
      "provenance": [],
      "include_colab_link": true
    },
    "kernelspec": {
      "name": "python3",
      "display_name": "Python 3"
    },
    "accelerator": "GPU"
  },
  "cells": [
    {
      "cell_type": "markdown",
      "metadata": {
        "id": "view-in-github",
        "colab_type": "text"
      },
      "source": [
        "<a href=\"https://colab.research.google.com/github/daigo0927/compare-deeplibs/blob/master/compare.ipynb\" target=\"_parent\"><img src=\"https://colab.research.google.com/assets/colab-badge.svg\" alt=\"Open In Colab\"/></a>"
      ]
    },
    {
      "cell_type": "code",
      "metadata": {
        "id": "bsLBAaWaUqw4",
        "colab_type": "code",
        "outputId": "f5c1cce4-fe43-4a17-e255-5dd82fc9b20c",
        "colab": {
          "base_uri": "https://localhost:8080/",
          "height": 374
        }
      },
      "source": [
        "! nvcc -V\n",
        "! nvidia-smi"
      ],
      "execution_count": 1,
      "outputs": [
        {
          "output_type": "stream",
          "text": [
            "nvcc: NVIDIA (R) Cuda compiler driver\n",
            "Copyright (c) 2005-2018 NVIDIA Corporation\n",
            "Built on Sat_Aug_25_21:08:01_CDT_2018\n",
            "Cuda compilation tools, release 10.0, V10.0.130\n",
            "Mon Sep  9 10:16:15 2019       \n",
            "+-----------------------------------------------------------------------------+\n",
            "| NVIDIA-SMI 430.40       Driver Version: 418.67       CUDA Version: 10.1     |\n",
            "|-------------------------------+----------------------+----------------------+\n",
            "| GPU  Name        Persistence-M| Bus-Id        Disp.A | Volatile Uncorr. ECC |\n",
            "| Fan  Temp  Perf  Pwr:Usage/Cap|         Memory-Usage | GPU-Util  Compute M. |\n",
            "|===============================+======================+======================|\n",
            "|   0  Tesla K80           Off  | 00000000:00:04.0 Off |                    0 |\n",
            "| N/A   40C    P8    26W / 149W |      0MiB / 11441MiB |      0%      Default |\n",
            "+-------------------------------+----------------------+----------------------+\n",
            "                                                                               \n",
            "+-----------------------------------------------------------------------------+\n",
            "| Processes:                                                       GPU Memory |\n",
            "|  GPU       PID   Type   Process name                             Usage      |\n",
            "|=============================================================================|\n",
            "|  No running processes found                                                 |\n",
            "+-----------------------------------------------------------------------------+\n"
          ],
          "name": "stdout"
        }
      ]
    },
    {
      "cell_type": "code",
      "metadata": {
        "id": "rWy0jsD1Uzte",
        "colab_type": "code",
        "outputId": "302c437c-3fd0-4aa7-fb19-beece9083b43",
        "colab": {
          "base_uri": "https://localhost:8080/",
          "height": 136
        }
      },
      "source": [
        "! git clone https://github.com/daigo0927/compare-deeplibs.git"
      ],
      "execution_count": 2,
      "outputs": [
        {
          "output_type": "stream",
          "text": [
            "Cloning into 'compare-deeplibs'...\n",
            "remote: Enumerating objects: 130, done.\u001b[K\n",
            "remote: Counting objects: 100% (130/130), done.\u001b[K\n",
            "remote: Compressing objects: 100% (92/92), done.\u001b[K\n",
            "remote: Total 246 (delta 71), reused 86 (delta 34), pack-reused 116\u001b[K\n",
            "Receiving objects: 100% (246/246), 175.47 KiB | 485.00 KiB/s, done.\n",
            "Resolving deltas: 100% (133/133), done.\n"
          ],
          "name": "stdout"
        }
      ]
    },
    {
      "cell_type": "code",
      "metadata": {
        "id": "TspFY5urVPzt",
        "colab_type": "code",
        "colab": {}
      },
      "source": [
        "! mv compare-deeplibs/* ."
      ],
      "execution_count": 0,
      "outputs": []
    },
    {
      "cell_type": "code",
      "metadata": {
        "id": "9zBYm8N4VYE7",
        "colab_type": "code",
        "outputId": "6ff977b4-78d7-4713-ab95-a16425eec2bd",
        "colab": {
          "base_uri": "https://localhost:8080/",
          "height": 391
        }
      },
      "source": [
        "! sh prepare_cifar10.sh"
      ],
      "execution_count": 4,
      "outputs": [
        {
          "output_type": "stream",
          "text": [
            "  % Total    % Received % Xferd  Average Speed   Time    Time     Time  Current\n",
            "                                 Dload  Upload   Total   Spent    Left  Speed\n",
            "100  162M  100  162M    0     0  13.4M      0  0:00:12  0:00:12 --:--:-- 16.8M\n",
            "cifar-10-batches-py/\n",
            "cifar-10-batches-py/data_batch_4\n",
            "cifar-10-batches-py/readme.html\n",
            "cifar-10-batches-py/test_batch\n",
            "cifar-10-batches-py/data_batch_3\n",
            "cifar-10-batches-py/batches.meta\n",
            "cifar-10-batches-py/data_batch_2\n",
            "cifar-10-batches-py/data_batch_5\n",
            "cifar-10-batches-py/data_batch_1\n",
            "Requirement already satisfied: numpy in /usr/local/lib/python3.6/dist-packages (1.16.5)\n",
            "Requirement already satisfied: pillow in /usr/local/lib/python3.6/dist-packages (4.3.0)\n",
            "Requirement already satisfied: olefile in /usr/local/lib/python3.6/dist-packages (from pillow) (0.46)\n",
            "--------- Extracting data_batch_1 -----------\n",
            "--------- Extracting data_batch_2 -----------\n",
            "--------- Extracting data_batch_3 -----------\n",
            "--------- Extracting data_batch_4 -----------\n",
            "--------- Extracting data_batch_5 -----------\n",
            "--------- Extracting test_batch -----------\n",
            "--------- Completed ------------\n"
          ],
          "name": "stdout"
        }
      ]
    },
    {
      "cell_type": "code",
      "metadata": {
        "id": "dj4sGJsNVepV",
        "colab_type": "code",
        "outputId": "30a97e6a-cc7d-4738-90c9-b4799d837662",
        "colab": {
          "base_uri": "https://localhost:8080/",
          "height": 170
        }
      },
      "source": [
        "! pip list | grep tensor"
      ],
      "execution_count": 5,
      "outputs": [
        {
          "output_type": "stream",
          "text": [
            "mesh-tensorflow          0.0.5                \n",
            "tensor2tensor            1.11.0               \n",
            "tensorboard              1.14.0               \n",
            "tensorboardcolab         0.0.22               \n",
            "tensorflow               1.14.0               \n",
            "tensorflow-estimator     1.14.0               \n",
            "tensorflow-hub           0.6.0                \n",
            "tensorflow-metadata      0.14.0               \n",
            "tensorflow-probability   0.7.0                \n"
          ],
          "name": "stdout"
        }
      ]
    },
    {
      "cell_type": "code",
      "metadata": {
        "id": "0sCYEk_tVvdX",
        "colab_type": "code",
        "outputId": "e65965a0-5b3c-49cd-a9ac-57cd5f251816",
        "colab": {
          "base_uri": "https://localhost:8080/",
          "height": 119
        }
      },
      "source": [
        "! pip install torch torchvision"
      ],
      "execution_count": 6,
      "outputs": [
        {
          "output_type": "stream",
          "text": [
            "Requirement already satisfied: torch in /usr/local/lib/python3.6/dist-packages (1.1.0)\n",
            "Requirement already satisfied: torchvision in /usr/local/lib/python3.6/dist-packages (0.3.0)\n",
            "Requirement already satisfied: numpy in /usr/local/lib/python3.6/dist-packages (from torch) (1.16.5)\n",
            "Requirement already satisfied: pillow>=4.1.1 in /usr/local/lib/python3.6/dist-packages (from torchvision) (4.3.0)\n",
            "Requirement already satisfied: six in /usr/local/lib/python3.6/dist-packages (from torchvision) (1.12.0)\n",
            "Requirement already satisfied: olefile in /usr/local/lib/python3.6/dist-packages (from pillow>=4.1.1->torchvision) (0.46)\n"
          ],
          "name": "stdout"
        }
      ]
    },
    {
      "cell_type": "code",
      "metadata": {
        "id": "AMMaPHcbkj1i",
        "colab_type": "code",
        "colab": {}
      },
      "source": [
        "! cp utils.py tfv1/\n",
        "! cp utils.py tfv2/\n",
        "! cp utils.py torch/"
      ],
      "execution_count": 0,
      "outputs": []
    },
    {
      "cell_type": "code",
      "metadata": {
        "id": "1GRiujeKS-uw",
        "colab_type": "code",
        "colab": {
          "base_uri": "https://localhost:8080/",
          "height": 1000
        },
        "outputId": "a33f5875-4315-475d-ac4d-7f919a0a9218"
      },
      "source": [
        "! python tfv1/train_tf.py -d Cifar10 -dd cifar-10 -e 10"
      ],
      "execution_count": 8,
      "outputs": [
        {
          "output_type": "stream",
          "text": [
            "WARNING:tensorflow:From tfv1/train_tf.py:11: The name tf.losses.softmax_cross_entropy is deprecated. Please use tf.compat.v1.losses.softmax_cross_entropy instead.\n",
            "\n",
            "dataset: Cifar10\n",
            "dataset_dir: cifar-10\n",
            "epochs: 10\n",
            "batch_size: 64\n",
            "validation_split: 0.1\n",
            "resize_shape: [32, 32]\n",
            "crop_shape: None\n",
            "rotate: False\n",
            "flip_left_right: False\n",
            "flip_up_down: False\n",
            "filters: 64\n",
            "learning_rate: 0.001\n",
            "Building a dataset pipeline ...\n",
            "Found 50000 images.\n",
            "2019-09-09 10:17:53.076087: I tensorflow/stream_executor/platform/default/dso_loader.cc:42] Successfully opened dynamic library libcuda.so.1\n",
            "2019-09-09 10:17:53.124971: I tensorflow/stream_executor/cuda/cuda_gpu_executor.cc:1005] successful NUMA node read from SysFS had negative value (-1), but there must be at least one NUMA node, so returning NUMA node zero\n",
            "2019-09-09 10:17:53.125774: I tensorflow/core/common_runtime/gpu/gpu_device.cc:1640] Found device 0 with properties: \n",
            "name: Tesla K80 major: 3 minor: 7 memoryClockRate(GHz): 0.8235\n",
            "pciBusID: 0000:00:04.0\n",
            "2019-09-09 10:17:53.137188: I tensorflow/stream_executor/platform/default/dso_loader.cc:42] Successfully opened dynamic library libcudart.so.10.0\n",
            "2019-09-09 10:17:53.324847: I tensorflow/stream_executor/platform/default/dso_loader.cc:42] Successfully opened dynamic library libcublas.so.10.0\n",
            "2019-09-09 10:17:53.409687: I tensorflow/stream_executor/platform/default/dso_loader.cc:42] Successfully opened dynamic library libcufft.so.10.0\n",
            "2019-09-09 10:17:53.431327: I tensorflow/stream_executor/platform/default/dso_loader.cc:42] Successfully opened dynamic library libcurand.so.10.0\n",
            "2019-09-09 10:17:53.646438: I tensorflow/stream_executor/platform/default/dso_loader.cc:42] Successfully opened dynamic library libcusolver.so.10.0\n",
            "2019-09-09 10:17:53.760282: I tensorflow/stream_executor/platform/default/dso_loader.cc:42] Successfully opened dynamic library libcusparse.so.10.0\n",
            "2019-09-09 10:17:54.149177: I tensorflow/stream_executor/platform/default/dso_loader.cc:42] Successfully opened dynamic library libcudnn.so.7\n",
            "2019-09-09 10:17:54.149402: I tensorflow/stream_executor/cuda/cuda_gpu_executor.cc:1005] successful NUMA node read from SysFS had negative value (-1), but there must be at least one NUMA node, so returning NUMA node zero\n",
            "2019-09-09 10:17:54.150273: I tensorflow/stream_executor/cuda/cuda_gpu_executor.cc:1005] successful NUMA node read from SysFS had negative value (-1), but there must be at least one NUMA node, so returning NUMA node zero\n",
            "2019-09-09 10:17:54.151076: I tensorflow/core/common_runtime/gpu/gpu_device.cc:1763] Adding visible gpu devices: 0\n",
            "WARNING:tensorflow:From /content/tfv1/dataset_tf.py:75: The name tf.image.resize_image_with_pad is deprecated. Please use tf.compat.v1.image.resize_image_with_pad instead.\n",
            "\n",
            "WARNING:tensorflow:From /content/tfv1/dataset_tf.py:109: DatasetV1.make_initializable_iterator (from tensorflow.python.data.ops.dataset_ops) is deprecated and will be removed in a future version.\n",
            "Instructions for updating:\n",
            "Use `for ... in dataset:` to iterate over a dataset. If using `tf.estimator`, return the `Dataset` object directly from your input function. As a last resort, you can use `tf.compat.v1.data.make_initializable_iterator(dataset)`.\n",
            "Done.\n",
            "WARNING:tensorflow:From tfv1/train_tf.py:32: The name tf.Session is deprecated. Please use tf.compat.v1.Session instead.\n",
            "\n",
            "2019-09-09 10:17:54.482749: I tensorflow/core/platform/profile_utils/cpu_utils.cc:94] CPU Frequency: 2200000000 Hz\n",
            "2019-09-09 10:17:54.484987: I tensorflow/compiler/xla/service/service.cc:168] XLA service 0x28ed480 executing computations on platform Host. Devices:\n",
            "2019-09-09 10:17:54.485028: I tensorflow/compiler/xla/service/service.cc:175]   StreamExecutor device (0): <undefined>, <undefined>\n",
            "2019-09-09 10:17:54.585914: I tensorflow/stream_executor/cuda/cuda_gpu_executor.cc:1005] successful NUMA node read from SysFS had negative value (-1), but there must be at least one NUMA node, so returning NUMA node zero\n",
            "2019-09-09 10:17:54.586830: I tensorflow/compiler/xla/service/service.cc:168] XLA service 0x6d6a140 executing computations on platform CUDA. Devices:\n",
            "2019-09-09 10:17:54.586862: I tensorflow/compiler/xla/service/service.cc:175]   StreamExecutor device (0): Tesla K80, Compute Capability 3.7\n",
            "2019-09-09 10:17:54.588180: I tensorflow/stream_executor/cuda/cuda_gpu_executor.cc:1005] successful NUMA node read from SysFS had negative value (-1), but there must be at least one NUMA node, so returning NUMA node zero\n",
            "2019-09-09 10:17:54.588898: I tensorflow/core/common_runtime/gpu/gpu_device.cc:1640] Found device 0 with properties: \n",
            "name: Tesla K80 major: 3 minor: 7 memoryClockRate(GHz): 0.8235\n",
            "pciBusID: 0000:00:04.0\n",
            "2019-09-09 10:17:54.588969: I tensorflow/stream_executor/platform/default/dso_loader.cc:42] Successfully opened dynamic library libcudart.so.10.0\n",
            "2019-09-09 10:17:54.589003: I tensorflow/stream_executor/platform/default/dso_loader.cc:42] Successfully opened dynamic library libcublas.so.10.0\n",
            "2019-09-09 10:17:54.589038: I tensorflow/stream_executor/platform/default/dso_loader.cc:42] Successfully opened dynamic library libcufft.so.10.0\n",
            "2019-09-09 10:17:54.589070: I tensorflow/stream_executor/platform/default/dso_loader.cc:42] Successfully opened dynamic library libcurand.so.10.0\n",
            "2019-09-09 10:17:54.589104: I tensorflow/stream_executor/platform/default/dso_loader.cc:42] Successfully opened dynamic library libcusolver.so.10.0\n",
            "2019-09-09 10:17:54.589135: I tensorflow/stream_executor/platform/default/dso_loader.cc:42] Successfully opened dynamic library libcusparse.so.10.0\n",
            "2019-09-09 10:17:54.589166: I tensorflow/stream_executor/platform/default/dso_loader.cc:42] Successfully opened dynamic library libcudnn.so.7\n",
            "2019-09-09 10:17:54.589243: I tensorflow/stream_executor/cuda/cuda_gpu_executor.cc:1005] successful NUMA node read from SysFS had negative value (-1), but there must be at least one NUMA node, so returning NUMA node zero\n",
            "2019-09-09 10:17:54.589997: I tensorflow/stream_executor/cuda/cuda_gpu_executor.cc:1005] successful NUMA node read from SysFS had negative value (-1), but there must be at least one NUMA node, so returning NUMA node zero\n",
            "2019-09-09 10:17:54.590675: I tensorflow/core/common_runtime/gpu/gpu_device.cc:1763] Adding visible gpu devices: 0\n",
            "2019-09-09 10:17:54.717297: I tensorflow/stream_executor/platform/default/dso_loader.cc:42] Successfully opened dynamic library libcudart.so.10.0\n",
            "2019-09-09 10:17:54.720221: I tensorflow/core/common_runtime/gpu/gpu_device.cc:1181] Device interconnect StreamExecutor with strength 1 edge matrix:\n",
            "2019-09-09 10:17:54.720268: I tensorflow/core/common_runtime/gpu/gpu_device.cc:1187]      0 \n",
            "2019-09-09 10:17:54.720286: I tensorflow/core/common_runtime/gpu/gpu_device.cc:1200] 0:   N \n",
            "2019-09-09 10:17:54.722207: I tensorflow/stream_executor/cuda/cuda_gpu_executor.cc:1005] successful NUMA node read from SysFS had negative value (-1), but there must be at least one NUMA node, so returning NUMA node zero\n",
            "2019-09-09 10:17:54.723016: I tensorflow/stream_executor/cuda/cuda_gpu_executor.cc:1005] successful NUMA node read from SysFS had negative value (-1), but there must be at least one NUMA node, so returning NUMA node zero\n",
            "2019-09-09 10:17:54.723717: W tensorflow/core/common_runtime/gpu/gpu_bfc_allocator.cc:40] Overriding allow_growth setting because the TF_FORCE_GPU_ALLOW_GROWTH environment variable is set. Original config value was 0.\n",
            "2019-09-09 10:17:54.723780: I tensorflow/core/common_runtime/gpu/gpu_device.cc:1326] Created TensorFlow device (/job:localhost/replica:0/task:0/device:GPU:0 with 10805 MB memory) -> physical GPU (device: 0, name: Tesla K80, pci bus id: 0000:00:04.0, compute capability: 3.7)\n",
            "WARNING:tensorflow:From /content/tfv1/model_tf.py:53: The name tf.layers.Conv2D is deprecated. Please use tf.compat.v1.layers.Conv2D instead.\n",
            "\n",
            "WARNING:tensorflow:From /content/tfv1/model_tf.py:55: The name tf.layers.BatchNormalization is deprecated. Please use tf.compat.v1.layers.BatchNormalization instead.\n",
            "\n",
            "WARNING:tensorflow:From /content/tfv1/model_tf.py:56: The name tf.layers.MaxPooling2D is deprecated. Please use tf.compat.v1.layers.MaxPooling2D instead.\n",
            "\n",
            "WARNING:tensorflow:From /content/tfv1/model_tf.py:64: The name tf.layers.Dense is deprecated. Please use tf.compat.v1.layers.Dense instead.\n",
            "\n",
            "WARNING:tensorflow:From /content/tfv1/model_tf.py:67: The name tf.variable_scope is deprecated. Please use tf.compat.v1.variable_scope instead.\n",
            "\n",
            "WARNING:tensorflow:From /content/tfv1/model_tf.py:67: The name tf.AUTO_REUSE is deprecated. Please use tf.compat.v1.AUTO_REUSE instead.\n",
            "\n",
            "WARNING:tensorflow:From /usr/local/lib/python3.6/dist-packages/tensorflow/python/ops/init_ops.py:1251: calling VarianceScaling.__init__ (from tensorflow.python.ops.init_ops) with dtype is deprecated and will be removed in a future version.\n",
            "Instructions for updating:\n",
            "Call initializer instance with the dtype argument instead of passing it to the constructor\n",
            "WARNING:tensorflow:From /content/tfv1/model_tf.py:5: max_pooling2d (from tensorflow.python.layers.pooling) is deprecated and will be removed in a future version.\n",
            "Instructions for updating:\n",
            "Use keras.layers.MaxPooling2D instead.\n",
            "WARNING:tensorflow:From /usr/local/lib/python3.6/dist-packages/tensorflow/python/ops/losses/losses_impl.py:121: add_dispatch_support.<locals>.wrapper (from tensorflow.python.ops.array_ops) is deprecated and will be removed in a future version.\n",
            "Instructions for updating:\n",
            "Use tf.where in 2.0, which has the same broadcast rule as np.where\n",
            "WARNING:tensorflow:From tfv1/train_tf.py:52: The name tf.train.AdamOptimizer is deprecated. Please use tf.compat.v1.train.AdamOptimizer instead.\n",
            "\n",
            "WARNING:tensorflow:From /content/tfv1/model_tf.py:91: The name tf.trainable_variables is deprecated. Please use tf.compat.v1.trainable_variables instead.\n",
            "\n",
            "WARNING:tensorflow:From tfv1/train_tf.py:54: The name tf.get_collection is deprecated. Please use tf.compat.v1.get_collection instead.\n",
            "\n",
            "WARNING:tensorflow:From tfv1/train_tf.py:56: The name tf.train.Saver is deprecated. Please use tf.compat.v1.train.Saver instead.\n",
            "\n",
            "2019-09-09 10:18:00.101546: W tensorflow/compiler/jit/mark_for_compilation_pass.cc:1412] (One-time warning): Not using XLA:CPU for cluster because envvar TF_XLA_FLAGS=--tf_xla_cpu_global_jit was not set.  If you want XLA:CPU, either set that envvar, or use experimental_jit_scope to enable XLA:CPU.  To confirm that XLA is active, pass --vmodule=xla_compilation_cache=1 (as a proper command-line flag, not via TF_XLA_FLAGS) or set the envvar XLA_FLAGS=--xla_hlo_profile.\n",
            "2019-09-09 10:18:00.521704: I tensorflow/stream_executor/platform/default/dso_loader.cc:42] Successfully opened dynamic library libcublas.so.10.0\n",
            "2019-09-09 10:18:01.314138: I tensorflow/stream_executor/platform/default/dso_loader.cc:42] Successfully opened dynamic library libcudnn.so.7\n",
            "1 epoch: [703/703, loss:1.0542305707931519, accuracy:0.65625, step_time:0.04049324989318848]\n",
            "Validation score: loss: 1.4902032613754272, accuracy: 0.49879807233810425\n",
            "2 epoch: [703/703, loss:0.8184086680412292, accuracy:0.703125, step_time:0.04537034034729004]\n",
            "Validation score: loss: 1.0834366083145142, accuracy: 0.6199919581413269\n",
            "3 epoch: [703/703, loss:0.8479853868484497, accuracy:0.703125, step_time:0.04188799858093262]\n",
            "Validation score: loss: 1.6210020780563354, accuracy: 0.5258413553237915\n",
            "4 epoch: [703/703, loss:0.5601400136947632, accuracy:0.8125, step_time:0.048216819763183594]\n",
            "Validation score: loss: 1.344911813735962, accuracy: 0.5809294581413269\n",
            "5 epoch: [703/703, loss:0.45699501037597656, accuracy:0.875, step_time:0.04076051712036133]\n",
            "Validation score: loss: 0.721441924571991, accuracy: 0.7564102411270142\n",
            "6 epoch: [703/703, loss:0.3883228003978729, accuracy:0.875, step_time:0.046156883239746094]\n",
            "Validation score: loss: 0.6210306286811829, accuracy: 0.7716346383094788\n",
            "7 epoch: [703/703, loss:0.5534349679946899, accuracy:0.828125, step_time:0.045696258544921875]\n",
            "Validation score: loss: 0.45200103521347046, accuracy: 0.8369390964508057\n",
            "8 epoch: [703/703, loss:0.4178711175918579, accuracy:0.84375, step_time:0.043892860412597656]\n",
            "Validation score: loss: 0.4000774621963501, accuracy: 0.8549679517745972\n",
            "9 epoch: [703/703, loss:0.37808579206466675, accuracy:0.890625, step_time:0.04658675193786621]\n",
            "Validation score: loss: 0.4323272705078125, accuracy: 0.8497596383094788\n",
            "10 epoch: [703/703, loss:0.23712098598480225, accuracy:0.90625, step_time:0.04267477989196777]\n",
            "Validation score: loss: 0.44419509172439575, accuracy: 0.8509615659713745\n"
          ],
          "name": "stdout"
        }
      ]
    },
    {
      "cell_type": "code",
      "metadata": {
        "id": "vREbO0cWVygG",
        "colab_type": "code",
        "outputId": "5ece88ae-fb2d-4091-9cfc-ed832b9c0d62",
        "colab": {
          "base_uri": "https://localhost:8080/",
          "height": 1000
        }
      },
      "source": [
        "! python tfv1/train_keras_gen.py -d Cifar10 -dd cifar-10 -e 10"
      ],
      "execution_count": 9,
      "outputs": [
        {
          "output_type": "stream",
          "text": [
            "dataset: Cifar10\n",
            "dataset_dir: cifar-10\n",
            "epochs: 10\n",
            "batch_size: 64\n",
            "validation_split: 0.1\n",
            "resize_shape: [32, 32]\n",
            "crop_shape: None\n",
            "rotate: False\n",
            "flip_left_right: False\n",
            "flip_up_down: False\n",
            "filters: 64\n",
            "learning_rate: 0.001\n",
            "Found 45000 images belonging to 10 classes.\n",
            "Found 5000 images belonging to 10 classes.\n",
            "WARNING:tensorflow:From /usr/local/lib/python3.6/dist-packages/tensorflow/python/ops/init_ops.py:1251: calling VarianceScaling.__init__ (from tensorflow.python.ops.init_ops) with dtype is deprecated and will be removed in a future version.\n",
            "Instructions for updating:\n",
            "Call initializer instance with the dtype argument instead of passing it to the constructor\n",
            "2019-09-09 10:26:14.788288: I tensorflow/core/platform/profile_utils/cpu_utils.cc:94] CPU Frequency: 2200000000 Hz\n",
            "2019-09-09 10:26:14.788703: I tensorflow/compiler/xla/service/service.cc:168] XLA service 0x5718000 executing computations on platform Host. Devices:\n",
            "2019-09-09 10:26:14.788756: I tensorflow/compiler/xla/service/service.cc:175]   StreamExecutor device (0): <undefined>, <undefined>\n",
            "2019-09-09 10:26:14.791961: I tensorflow/stream_executor/platform/default/dso_loader.cc:42] Successfully opened dynamic library libcuda.so.1\n",
            "2019-09-09 10:26:14.897744: I tensorflow/stream_executor/cuda/cuda_gpu_executor.cc:1005] successful NUMA node read from SysFS had negative value (-1), but there must be at least one NUMA node, so returning NUMA node zero\n",
            "2019-09-09 10:26:14.898745: I tensorflow/compiler/xla/service/service.cc:168] XLA service 0x57188c0 executing computations on platform CUDA. Devices:\n",
            "2019-09-09 10:26:14.898788: I tensorflow/compiler/xla/service/service.cc:175]   StreamExecutor device (0): Tesla K80, Compute Capability 3.7\n",
            "2019-09-09 10:26:14.899030: I tensorflow/stream_executor/cuda/cuda_gpu_executor.cc:1005] successful NUMA node read from SysFS had negative value (-1), but there must be at least one NUMA node, so returning NUMA node zero\n",
            "2019-09-09 10:26:14.899970: I tensorflow/core/common_runtime/gpu/gpu_device.cc:1640] Found device 0 with properties: \n",
            "name: Tesla K80 major: 3 minor: 7 memoryClockRate(GHz): 0.8235\n",
            "pciBusID: 0000:00:04.0\n",
            "2019-09-09 10:26:14.900472: I tensorflow/stream_executor/platform/default/dso_loader.cc:42] Successfully opened dynamic library libcudart.so.10.0\n",
            "2019-09-09 10:26:14.902611: I tensorflow/stream_executor/platform/default/dso_loader.cc:42] Successfully opened dynamic library libcublas.so.10.0\n",
            "2019-09-09 10:26:14.904436: I tensorflow/stream_executor/platform/default/dso_loader.cc:42] Successfully opened dynamic library libcufft.so.10.0\n",
            "2019-09-09 10:26:14.904957: I tensorflow/stream_executor/platform/default/dso_loader.cc:42] Successfully opened dynamic library libcurand.so.10.0\n",
            "2019-09-09 10:26:14.915157: I tensorflow/stream_executor/platform/default/dso_loader.cc:42] Successfully opened dynamic library libcusolver.so.10.0\n",
            "2019-09-09 10:26:14.921081: I tensorflow/stream_executor/platform/default/dso_loader.cc:42] Successfully opened dynamic library libcusparse.so.10.0\n",
            "2019-09-09 10:26:14.933638: I tensorflow/stream_executor/platform/default/dso_loader.cc:42] Successfully opened dynamic library libcudnn.so.7\n",
            "2019-09-09 10:26:14.933819: I tensorflow/stream_executor/cuda/cuda_gpu_executor.cc:1005] successful NUMA node read from SysFS had negative value (-1), but there must be at least one NUMA node, so returning NUMA node zero\n",
            "2019-09-09 10:26:14.934750: I tensorflow/stream_executor/cuda/cuda_gpu_executor.cc:1005] successful NUMA node read from SysFS had negative value (-1), but there must be at least one NUMA node, so returning NUMA node zero\n",
            "2019-09-09 10:26:14.935804: I tensorflow/core/common_runtime/gpu/gpu_device.cc:1763] Adding visible gpu devices: 0\n",
            "2019-09-09 10:26:14.935909: I tensorflow/stream_executor/platform/default/dso_loader.cc:42] Successfully opened dynamic library libcudart.so.10.0\n",
            "2019-09-09 10:26:14.937722: I tensorflow/core/common_runtime/gpu/gpu_device.cc:1181] Device interconnect StreamExecutor with strength 1 edge matrix:\n",
            "2019-09-09 10:26:14.937765: I tensorflow/core/common_runtime/gpu/gpu_device.cc:1187]      0 \n",
            "2019-09-09 10:26:14.937785: I tensorflow/core/common_runtime/gpu/gpu_device.cc:1200] 0:   N \n",
            "2019-09-09 10:26:14.937954: I tensorflow/stream_executor/cuda/cuda_gpu_executor.cc:1005] successful NUMA node read from SysFS had negative value (-1), but there must be at least one NUMA node, so returning NUMA node zero\n",
            "2019-09-09 10:26:14.938900: I tensorflow/stream_executor/cuda/cuda_gpu_executor.cc:1005] successful NUMA node read from SysFS had negative value (-1), but there must be at least one NUMA node, so returning NUMA node zero\n",
            "2019-09-09 10:26:14.940419: W tensorflow/core/common_runtime/gpu/gpu_bfc_allocator.cc:40] Overriding allow_growth setting because the TF_FORCE_GPU_ALLOW_GROWTH environment variable is set. Original config value was 0.\n",
            "2019-09-09 10:26:14.940587: I tensorflow/core/common_runtime/gpu/gpu_device.cc:1326] Created TensorFlow device (/job:localhost/replica:0/task:0/device:GPU:0 with 10805 MB memory) -> physical GPU (device: 0, name: Tesla K80, pci bus id: 0000:00:04.0, compute capability: 3.7)\n",
            "Epoch 1/10\n",
            "2019-09-09 10:26:17.990644: I tensorflow/stream_executor/platform/default/dso_loader.cc:42] Successfully opened dynamic library libcublas.so.10.0\n",
            "2019-09-09 10:26:18.164921: I tensorflow/stream_executor/platform/default/dso_loader.cc:42] Successfully opened dynamic library libcudnn.so.7\n",
            "704/704 [==============================] - 28s 40ms/step - loss: 1.4665 - categorical_accuracy: 0.4899 - val_loss: 1.9240 - val_categorical_accuracy: 0.4322\n",
            "Epoch 2/10\n",
            "704/704 [==============================] - 24s 34ms/step - loss: 0.9963 - categorical_accuracy: 0.6461 - val_loss: 2.0387 - val_categorical_accuracy: 0.4442\n",
            "Epoch 3/10\n",
            "704/704 [==============================] - 25s 35ms/step - loss: 0.8188 - categorical_accuracy: 0.7141 - val_loss: 1.1262 - val_categorical_accuracy: 0.6062\n",
            "Epoch 4/10\n",
            "704/704 [==============================] - 24s 34ms/step - loss: 0.7142 - categorical_accuracy: 0.7471 - val_loss: 1.1712 - val_categorical_accuracy: 0.6072\n",
            "Epoch 5/10\n",
            "704/704 [==============================] - 24s 35ms/step - loss: 0.6262 - categorical_accuracy: 0.7795 - val_loss: 0.9425 - val_categorical_accuracy: 0.6848\n",
            "Epoch 6/10\n",
            "704/704 [==============================] - 24s 35ms/step - loss: 0.5549 - categorical_accuracy: 0.8051 - val_loss: 1.3322 - val_categorical_accuracy: 0.6184\n",
            "Epoch 7/10\n",
            "704/704 [==============================] - 24s 34ms/step - loss: 0.4877 - categorical_accuracy: 0.8278 - val_loss: 0.8430 - val_categorical_accuracy: 0.7288\n",
            "Epoch 8/10\n",
            "704/704 [==============================] - 24s 34ms/step - loss: 0.4411 - categorical_accuracy: 0.8446 - val_loss: 0.9820 - val_categorical_accuracy: 0.7004\n",
            "Epoch 9/10\n",
            "704/704 [==============================] - 24s 34ms/step - loss: 0.3906 - categorical_accuracy: 0.8616 - val_loss: 0.9677 - val_categorical_accuracy: 0.7052\n",
            "Epoch 10/10\n",
            "704/704 [==============================] - 24s 34ms/step - loss: 0.3326 - categorical_accuracy: 0.8823 - val_loss: 0.8844 - val_categorical_accuracy: 0.7324\n"
          ],
          "name": "stdout"
        }
      ]
    },
    {
      "cell_type": "code",
      "metadata": {
        "id": "-MSYRP1lWT-4",
        "colab_type": "code",
        "outputId": "b2a66399-8cf3-4aae-fdfb-7b754346f76b",
        "colab": {
          "base_uri": "https://localhost:8080/",
          "height": 530
        }
      },
      "source": [
        "! pip install tensorflow-gpu==2.0.0rc"
      ],
      "execution_count": 10,
      "outputs": [
        {
          "output_type": "stream",
          "text": [
            "Collecting tensorflow-gpu==2.0.0rc\n",
            "\u001b[?25l  Downloading https://files.pythonhosted.org/packages/6a/12/8c64cc62149cc21c70c55018502831bbf4d42bd62bed196df7de6830d21b/tensorflow_gpu-2.0.0rc0-cp36-cp36m-manylinux2010_x86_64.whl (380.5MB)\n",
            "\u001b[K     |████████████████████████████████| 380.5MB 41kB/s \n",
            "\u001b[?25hRequirement already satisfied: gast>=0.2.0 in /usr/local/lib/python3.6/dist-packages (from tensorflow-gpu==2.0.0rc) (0.2.2)\n",
            "Collecting tb-nightly<1.15.0a20190807,>=1.15.0a20190806 (from tensorflow-gpu==2.0.0rc)\n",
            "\u001b[?25l  Downloading https://files.pythonhosted.org/packages/bc/88/24b5fb7280e74c7cf65bde47c171547fd02afb3840cff41bcbe9270650f5/tb_nightly-1.15.0a20190806-py3-none-any.whl (4.3MB)\n",
            "\u001b[K     |████████████████████████████████| 4.3MB 26.9MB/s \n",
            "\u001b[?25hRequirement already satisfied: protobuf>=3.6.1 in /usr/local/lib/python3.6/dist-packages (from tensorflow-gpu==2.0.0rc) (3.7.1)\n",
            "Requirement already satisfied: termcolor>=1.1.0 in /usr/local/lib/python3.6/dist-packages (from tensorflow-gpu==2.0.0rc) (1.1.0)\n",
            "Requirement already satisfied: keras-applications>=1.0.8 in /usr/local/lib/python3.6/dist-packages (from tensorflow-gpu==2.0.0rc) (1.0.8)\n",
            "Requirement already satisfied: wrapt>=1.11.1 in /usr/local/lib/python3.6/dist-packages (from tensorflow-gpu==2.0.0rc) (1.11.2)\n",
            "Requirement already satisfied: grpcio>=1.8.6 in /usr/local/lib/python3.6/dist-packages (from tensorflow-gpu==2.0.0rc) (1.15.0)\n",
            "Requirement already satisfied: absl-py>=0.7.0 in /usr/local/lib/python3.6/dist-packages (from tensorflow-gpu==2.0.0rc) (0.8.0)\n",
            "Requirement already satisfied: google-pasta>=0.1.6 in /usr/local/lib/python3.6/dist-packages (from tensorflow-gpu==2.0.0rc) (0.1.7)\n",
            "Requirement already satisfied: numpy<2.0,>=1.16.0 in /usr/local/lib/python3.6/dist-packages (from tensorflow-gpu==2.0.0rc) (1.16.5)\n",
            "Requirement already satisfied: keras-preprocessing>=1.0.5 in /usr/local/lib/python3.6/dist-packages (from tensorflow-gpu==2.0.0rc) (1.1.0)\n",
            "Collecting tf-estimator-nightly<1.14.0.dev2019080602,>=1.14.0.dev2019080601 (from tensorflow-gpu==2.0.0rc)\n",
            "\u001b[?25l  Downloading https://files.pythonhosted.org/packages/21/28/f2a27a62943d5f041e4a6fd404b2d21cb7c59b2242a4e73b03d9ba166552/tf_estimator_nightly-1.14.0.dev2019080601-py2.py3-none-any.whl (501kB)\n",
            "\u001b[K     |████████████████████████████████| 501kB 49.3MB/s \n",
            "\u001b[?25hRequirement already satisfied: opt-einsum>=2.3.2 in /usr/local/lib/python3.6/dist-packages (from tensorflow-gpu==2.0.0rc) (3.0.1)\n",
            "Requirement already satisfied: astor>=0.6.0 in /usr/local/lib/python3.6/dist-packages (from tensorflow-gpu==2.0.0rc) (0.8.0)\n",
            "Requirement already satisfied: six>=1.10.0 in /usr/local/lib/python3.6/dist-packages (from tensorflow-gpu==2.0.0rc) (1.12.0)\n",
            "Requirement already satisfied: wheel>=0.26 in /usr/local/lib/python3.6/dist-packages (from tensorflow-gpu==2.0.0rc) (0.33.6)\n",
            "Requirement already satisfied: werkzeug>=0.11.15 in /usr/local/lib/python3.6/dist-packages (from tb-nightly<1.15.0a20190807,>=1.15.0a20190806->tensorflow-gpu==2.0.0rc) (0.15.5)\n",
            "Requirement already satisfied: markdown>=2.6.8 in /usr/local/lib/python3.6/dist-packages (from tb-nightly<1.15.0a20190807,>=1.15.0a20190806->tensorflow-gpu==2.0.0rc) (3.1.1)\n",
            "Requirement already satisfied: setuptools>=41.0.0 in /usr/local/lib/python3.6/dist-packages (from tb-nightly<1.15.0a20190807,>=1.15.0a20190806->tensorflow-gpu==2.0.0rc) (41.2.0)\n",
            "Requirement already satisfied: h5py in /usr/local/lib/python3.6/dist-packages (from keras-applications>=1.0.8->tensorflow-gpu==2.0.0rc) (2.8.0)\n",
            "Installing collected packages: tb-nightly, tf-estimator-nightly, tensorflow-gpu\n",
            "Successfully installed tb-nightly-1.15.0a20190806 tensorflow-gpu-2.0.0rc0 tf-estimator-nightly-1.14.0.dev2019080601\n"
          ],
          "name": "stdout"
        }
      ]
    },
    {
      "cell_type": "code",
      "metadata": {
        "id": "19OM5UIKcGJV",
        "colab_type": "code",
        "outputId": "c2cfea64-deb3-4e7b-a193-1a324c580ab4",
        "colab": {
          "base_uri": "https://localhost:8080/",
          "height": 1000
        }
      },
      "source": [
        "! python tfv2/train_tf.py -d Cifar10 -dd cifar-10 -e 10"
      ],
      "execution_count": 11,
      "outputs": [
        {
          "output_type": "stream",
          "text": [
            "dataset: Cifar10\n",
            "dataset_dir: cifar-10\n",
            "epochs: 10\n",
            "batch_size: 64\n",
            "validation_split: 0.1\n",
            "resize_shape: [32, 32]\n",
            "crop_shape: None\n",
            "rotate: False\n",
            "flip_left_right: False\n",
            "flip_up_down: False\n",
            "filters: 64\n",
            "learning_rate: 0.001\n",
            "Building a dataset pipeline ...\n",
            "Found 50000 images.\n",
            "2019-09-09 10:31:18.278686: I tensorflow/stream_executor/platform/default/dso_loader.cc:44] Successfully opened dynamic library libcuda.so.1\n",
            "2019-09-09 10:31:18.299329: I tensorflow/stream_executor/cuda/cuda_gpu_executor.cc:1006] successful NUMA node read from SysFS had negative value (-1), but there must be at least one NUMA node, so returning NUMA node zero\n",
            "2019-09-09 10:31:18.300190: I tensorflow/core/common_runtime/gpu/gpu_device.cc:1618] Found device 0 with properties: \n",
            "name: Tesla K80 major: 3 minor: 7 memoryClockRate(GHz): 0.8235\n",
            "pciBusID: 0000:00:04.0\n",
            "2019-09-09 10:31:18.300577: I tensorflow/stream_executor/platform/default/dso_loader.cc:44] Successfully opened dynamic library libcudart.so.10.0\n",
            "2019-09-09 10:31:18.301968: I tensorflow/stream_executor/platform/default/dso_loader.cc:44] Successfully opened dynamic library libcublas.so.10.0\n",
            "2019-09-09 10:31:18.303268: I tensorflow/stream_executor/platform/default/dso_loader.cc:44] Successfully opened dynamic library libcufft.so.10.0\n",
            "2019-09-09 10:31:18.303671: I tensorflow/stream_executor/platform/default/dso_loader.cc:44] Successfully opened dynamic library libcurand.so.10.0\n",
            "2019-09-09 10:31:18.305229: I tensorflow/stream_executor/platform/default/dso_loader.cc:44] Successfully opened dynamic library libcusolver.so.10.0\n",
            "2019-09-09 10:31:18.306350: I tensorflow/stream_executor/platform/default/dso_loader.cc:44] Successfully opened dynamic library libcusparse.so.10.0\n",
            "2019-09-09 10:31:18.310831: I tensorflow/stream_executor/platform/default/dso_loader.cc:44] Successfully opened dynamic library libcudnn.so.7\n",
            "2019-09-09 10:31:18.310943: I tensorflow/stream_executor/cuda/cuda_gpu_executor.cc:1006] successful NUMA node read from SysFS had negative value (-1), but there must be at least one NUMA node, so returning NUMA node zero\n",
            "2019-09-09 10:31:18.311832: I tensorflow/stream_executor/cuda/cuda_gpu_executor.cc:1006] successful NUMA node read from SysFS had negative value (-1), but there must be at least one NUMA node, so returning NUMA node zero\n",
            "2019-09-09 10:31:18.312540: I tensorflow/core/common_runtime/gpu/gpu_device.cc:1746] Adding visible gpu devices: 0\n",
            "2019-09-09 10:31:18.313052: I tensorflow/core/platform/cpu_feature_guard.cc:142] Your CPU supports instructions that this TensorFlow binary was not compiled to use: AVX2 FMA\n",
            "2019-09-09 10:31:18.319211: I tensorflow/core/platform/profile_utils/cpu_utils.cc:94] CPU Frequency: 2200000000 Hz\n",
            "2019-09-09 10:31:18.319460: I tensorflow/compiler/xla/service/service.cc:168] XLA service 0x2725480 executing computations on platform Host. Devices:\n",
            "2019-09-09 10:31:18.319537: I tensorflow/compiler/xla/service/service.cc:175]   StreamExecutor device (0): Host, Default Version\n",
            "2019-09-09 10:31:18.380762: I tensorflow/stream_executor/cuda/cuda_gpu_executor.cc:1006] successful NUMA node read from SysFS had negative value (-1), but there must be at least one NUMA node, so returning NUMA node zero\n",
            "2019-09-09 10:31:18.381606: I tensorflow/compiler/xla/service/service.cc:168] XLA service 0x2725d40 executing computations on platform CUDA. Devices:\n",
            "2019-09-09 10:31:18.381641: I tensorflow/compiler/xla/service/service.cc:175]   StreamExecutor device (0): Tesla K80, Compute Capability 3.7\n",
            "2019-09-09 10:31:18.381812: I tensorflow/stream_executor/cuda/cuda_gpu_executor.cc:1006] successful NUMA node read from SysFS had negative value (-1), but there must be at least one NUMA node, so returning NUMA node zero\n",
            "2019-09-09 10:31:18.382537: I tensorflow/core/common_runtime/gpu/gpu_device.cc:1618] Found device 0 with properties: \n",
            "name: Tesla K80 major: 3 minor: 7 memoryClockRate(GHz): 0.8235\n",
            "pciBusID: 0000:00:04.0\n",
            "2019-09-09 10:31:18.382641: I tensorflow/stream_executor/platform/default/dso_loader.cc:44] Successfully opened dynamic library libcudart.so.10.0\n",
            "2019-09-09 10:31:18.382675: I tensorflow/stream_executor/platform/default/dso_loader.cc:44] Successfully opened dynamic library libcublas.so.10.0\n",
            "2019-09-09 10:31:18.382708: I tensorflow/stream_executor/platform/default/dso_loader.cc:44] Successfully opened dynamic library libcufft.so.10.0\n",
            "2019-09-09 10:31:18.382742: I tensorflow/stream_executor/platform/default/dso_loader.cc:44] Successfully opened dynamic library libcurand.so.10.0\n",
            "2019-09-09 10:31:18.382787: I tensorflow/stream_executor/platform/default/dso_loader.cc:44] Successfully opened dynamic library libcusolver.so.10.0\n",
            "2019-09-09 10:31:18.382816: I tensorflow/stream_executor/platform/default/dso_loader.cc:44] Successfully opened dynamic library libcusparse.so.10.0\n",
            "2019-09-09 10:31:18.382846: I tensorflow/stream_executor/platform/default/dso_loader.cc:44] Successfully opened dynamic library libcudnn.so.7\n",
            "2019-09-09 10:31:18.382936: I tensorflow/stream_executor/cuda/cuda_gpu_executor.cc:1006] successful NUMA node read from SysFS had negative value (-1), but there must be at least one NUMA node, so returning NUMA node zero\n",
            "2019-09-09 10:31:18.383696: I tensorflow/stream_executor/cuda/cuda_gpu_executor.cc:1006] successful NUMA node read from SysFS had negative value (-1), but there must be at least one NUMA node, so returning NUMA node zero\n",
            "2019-09-09 10:31:18.385894: I tensorflow/core/common_runtime/gpu/gpu_device.cc:1746] Adding visible gpu devices: 0\n",
            "2019-09-09 10:31:18.385970: I tensorflow/stream_executor/platform/default/dso_loader.cc:44] Successfully opened dynamic library libcudart.so.10.0\n",
            "2019-09-09 10:31:18.387295: I tensorflow/core/common_runtime/gpu/gpu_device.cc:1159] Device interconnect StreamExecutor with strength 1 edge matrix:\n",
            "2019-09-09 10:31:18.387347: I tensorflow/core/common_runtime/gpu/gpu_device.cc:1165]      0 \n",
            "2019-09-09 10:31:18.387362: I tensorflow/core/common_runtime/gpu/gpu_device.cc:1178] 0:   N \n",
            "2019-09-09 10:31:18.387515: I tensorflow/stream_executor/cuda/cuda_gpu_executor.cc:1006] successful NUMA node read from SysFS had negative value (-1), but there must be at least one NUMA node, so returning NUMA node zero\n",
            "2019-09-09 10:31:18.388261: I tensorflow/stream_executor/cuda/cuda_gpu_executor.cc:1006] successful NUMA node read from SysFS had negative value (-1), but there must be at least one NUMA node, so returning NUMA node zero\n",
            "2019-09-09 10:31:18.388988: W tensorflow/core/common_runtime/gpu/gpu_bfc_allocator.cc:39] Overriding allow_growth setting because the TF_FORCE_GPU_ALLOW_GROWTH environment variable is set. Original config value was 0.\n",
            "2019-09-09 10:31:18.389040: I tensorflow/core/common_runtime/gpu/gpu_device.cc:1304] Created TensorFlow device (/job:localhost/replica:0/task:0/device:GPU:0 with 10805 MB memory) -> physical GPU (device: 0, name: Tesla K80, pci bus id: 0000:00:04.0, compute capability: 3.7)\n",
            "Done.\n",
            "2019-09-09 10:31:22.618801: I tensorflow/stream_executor/platform/default/dso_loader.cc:44] Successfully opened dynamic library libcublas.so.10.0\n",
            "2019-09-09 10:31:22.791974: I tensorflow/stream_executor/platform/default/dso_loader.cc:44] Successfully opened dynamic library libcudnn.so.7\n",
            "1 epoch: [701/704, loss:1.1707923412322998, accuracy:0.59375, step_time:0.014449119567871094]\n",
            "Validation score: loss: 1.8113447427749634, accuracy: 0.4048655033111572\n",
            "2 epoch: [701/704, loss:0.8927839994430542, accuracy:0.65625, step_time:0.012360572814941406]\n",
            "Validation score: loss: 1.4621578454971313, accuracy: 0.530656635761261\n",
            "3 epoch: [701/704, loss:0.8406783938407898, accuracy:0.734375, step_time:0.012949943542480469]\n",
            "Validation score: loss: 1.230841875076294, accuracy: 0.5761471390724182\n",
            "4 epoch: [701/704, loss:0.7578101754188538, accuracy:0.703125, step_time:0.018982887268066406]\n",
            "Validation score: loss: 0.8180798888206482, accuracy: 0.7185522317886353\n",
            "5 epoch: [701/704, loss:0.6577109694480896, accuracy:0.75, step_time:0.012078046798706055]\n",
            "Validation score: loss: 0.9829044342041016, accuracy: 0.6542721390724182\n",
            "6 epoch: [701/704, loss:0.6504601240158081, accuracy:0.75, step_time:0.014690876007080078]\n",
            "Validation score: loss: 0.7631441354751587, accuracy: 0.7379351258277893\n",
            "7 epoch: [701/704, loss:0.5340815782546997, accuracy:0.78125, step_time:0.013524532318115234]\n",
            "Validation score: loss: 0.6807752847671509, accuracy: 0.749406635761261\n",
            "8 epoch: [701/704, loss:0.5673044919967651, accuracy:0.796875, step_time:0.01259303092956543]\n",
            "Validation score: loss: 0.6418079733848572, accuracy: 0.7804588675498962\n",
            "9 epoch: [701/704, loss:0.4608059525489807, accuracy:0.8125, step_time:0.012158393859863281]\n",
            "Validation score: loss: 0.5777766704559326, accuracy: 0.7960838675498962\n",
            "10 epoch: [701/704, loss:0.35569700598716736, accuracy:0.890625, step_time:0.012268781661987305]\n",
            "Validation score: loss: 0.5871918797492981, accuracy: 0.798655092716217\n"
          ],
          "name": "stdout"
        }
      ]
    },
    {
      "cell_type": "code",
      "metadata": {
        "id": "HDpL4xlco1cU",
        "colab_type": "code",
        "colab": {
          "base_uri": "https://localhost:8080/",
          "height": 1000
        },
        "outputId": "dd0c60c9-3e72-46ec-d8f8-d0e7a94f3dea"
      },
      "source": [
        "! python tfv2/train_keras.py -d Cifar10 -dd cifar-10 -e 10"
      ],
      "execution_count": 13,
      "outputs": [
        {
          "output_type": "stream",
          "text": [
            "dataset: Cifar10\n",
            "dataset_dir: cifar-10\n",
            "epochs: 10\n",
            "batch_size: 64\n",
            "validation_split: 0.1\n",
            "resize_shape: [32, 32]\n",
            "crop_shape: None\n",
            "rotate: False\n",
            "flip_left_right: False\n",
            "flip_up_down: False\n",
            "filters: 64\n",
            "learning_rate: 0.001\n",
            "Building a dataset pipeline ...\n",
            "Found 50000 images.\n",
            "2019-09-09 10:48:41.864425: I tensorflow/stream_executor/platform/default/dso_loader.cc:44] Successfully opened dynamic library libcuda.so.1\n",
            "2019-09-09 10:48:41.883595: I tensorflow/stream_executor/cuda/cuda_gpu_executor.cc:1006] successful NUMA node read from SysFS had negative value (-1), but there must be at least one NUMA node, so returning NUMA node zero\n",
            "2019-09-09 10:48:41.884444: I tensorflow/core/common_runtime/gpu/gpu_device.cc:1618] Found device 0 with properties: \n",
            "name: Tesla K80 major: 3 minor: 7 memoryClockRate(GHz): 0.8235\n",
            "pciBusID: 0000:00:04.0\n",
            "2019-09-09 10:48:41.884749: I tensorflow/stream_executor/platform/default/dso_loader.cc:44] Successfully opened dynamic library libcudart.so.10.0\n",
            "2019-09-09 10:48:41.886288: I tensorflow/stream_executor/platform/default/dso_loader.cc:44] Successfully opened dynamic library libcublas.so.10.0\n",
            "2019-09-09 10:48:41.887692: I tensorflow/stream_executor/platform/default/dso_loader.cc:44] Successfully opened dynamic library libcufft.so.10.0\n",
            "2019-09-09 10:48:41.888055: I tensorflow/stream_executor/platform/default/dso_loader.cc:44] Successfully opened dynamic library libcurand.so.10.0\n",
            "2019-09-09 10:48:41.889749: I tensorflow/stream_executor/platform/default/dso_loader.cc:44] Successfully opened dynamic library libcusolver.so.10.0\n",
            "2019-09-09 10:48:41.891024: I tensorflow/stream_executor/platform/default/dso_loader.cc:44] Successfully opened dynamic library libcusparse.so.10.0\n",
            "2019-09-09 10:48:41.895535: I tensorflow/stream_executor/platform/default/dso_loader.cc:44] Successfully opened dynamic library libcudnn.so.7\n",
            "2019-09-09 10:48:41.895641: I tensorflow/stream_executor/cuda/cuda_gpu_executor.cc:1006] successful NUMA node read from SysFS had negative value (-1), but there must be at least one NUMA node, so returning NUMA node zero\n",
            "2019-09-09 10:48:41.896384: I tensorflow/stream_executor/cuda/cuda_gpu_executor.cc:1006] successful NUMA node read from SysFS had negative value (-1), but there must be at least one NUMA node, so returning NUMA node zero\n",
            "2019-09-09 10:48:41.897098: I tensorflow/core/common_runtime/gpu/gpu_device.cc:1746] Adding visible gpu devices: 0\n",
            "2019-09-09 10:48:41.897618: I tensorflow/core/platform/cpu_feature_guard.cc:142] Your CPU supports instructions that this TensorFlow binary was not compiled to use: AVX2 FMA\n",
            "2019-09-09 10:48:41.903515: I tensorflow/core/platform/profile_utils/cpu_utils.cc:94] CPU Frequency: 2200000000 Hz\n",
            "2019-09-09 10:48:41.903781: I tensorflow/compiler/xla/service/service.cc:168] XLA service 0x1e9d480 executing computations on platform Host. Devices:\n",
            "2019-09-09 10:48:41.903818: I tensorflow/compiler/xla/service/service.cc:175]   StreamExecutor device (0): Host, Default Version\n",
            "2019-09-09 10:48:41.964129: I tensorflow/stream_executor/cuda/cuda_gpu_executor.cc:1006] successful NUMA node read from SysFS had negative value (-1), but there must be at least one NUMA node, so returning NUMA node zero\n",
            "2019-09-09 10:48:41.964993: I tensorflow/compiler/xla/service/service.cc:168] XLA service 0x1e9dd40 executing computations on platform CUDA. Devices:\n",
            "2019-09-09 10:48:41.965028: I tensorflow/compiler/xla/service/service.cc:175]   StreamExecutor device (0): Tesla K80, Compute Capability 3.7\n",
            "2019-09-09 10:48:41.965184: I tensorflow/stream_executor/cuda/cuda_gpu_executor.cc:1006] successful NUMA node read from SysFS had negative value (-1), but there must be at least one NUMA node, so returning NUMA node zero\n",
            "2019-09-09 10:48:41.965971: I tensorflow/core/common_runtime/gpu/gpu_device.cc:1618] Found device 0 with properties: \n",
            "name: Tesla K80 major: 3 minor: 7 memoryClockRate(GHz): 0.8235\n",
            "pciBusID: 0000:00:04.0\n",
            "2019-09-09 10:48:41.966033: I tensorflow/stream_executor/platform/default/dso_loader.cc:44] Successfully opened dynamic library libcudart.so.10.0\n",
            "2019-09-09 10:48:41.966085: I tensorflow/stream_executor/platform/default/dso_loader.cc:44] Successfully opened dynamic library libcublas.so.10.0\n",
            "2019-09-09 10:48:41.966105: I tensorflow/stream_executor/platform/default/dso_loader.cc:44] Successfully opened dynamic library libcufft.so.10.0\n",
            "2019-09-09 10:48:41.966140: I tensorflow/stream_executor/platform/default/dso_loader.cc:44] Successfully opened dynamic library libcurand.so.10.0\n",
            "2019-09-09 10:48:41.966162: I tensorflow/stream_executor/platform/default/dso_loader.cc:44] Successfully opened dynamic library libcusolver.so.10.0\n",
            "2019-09-09 10:48:41.966181: I tensorflow/stream_executor/platform/default/dso_loader.cc:44] Successfully opened dynamic library libcusparse.so.10.0\n",
            "2019-09-09 10:48:41.966201: I tensorflow/stream_executor/platform/default/dso_loader.cc:44] Successfully opened dynamic library libcudnn.so.7\n",
            "2019-09-09 10:48:41.966256: I tensorflow/stream_executor/cuda/cuda_gpu_executor.cc:1006] successful NUMA node read from SysFS had negative value (-1), but there must be at least one NUMA node, so returning NUMA node zero\n",
            "2019-09-09 10:48:41.966988: I tensorflow/stream_executor/cuda/cuda_gpu_executor.cc:1006] successful NUMA node read from SysFS had negative value (-1), but there must be at least one NUMA node, so returning NUMA node zero\n",
            "2019-09-09 10:48:41.967704: I tensorflow/core/common_runtime/gpu/gpu_device.cc:1746] Adding visible gpu devices: 0\n",
            "2019-09-09 10:48:41.967760: I tensorflow/stream_executor/platform/default/dso_loader.cc:44] Successfully opened dynamic library libcudart.so.10.0\n",
            "2019-09-09 10:48:41.969050: I tensorflow/core/common_runtime/gpu/gpu_device.cc:1159] Device interconnect StreamExecutor with strength 1 edge matrix:\n",
            "2019-09-09 10:48:41.969085: I tensorflow/core/common_runtime/gpu/gpu_device.cc:1165]      0 \n",
            "2019-09-09 10:48:41.969099: I tensorflow/core/common_runtime/gpu/gpu_device.cc:1178] 0:   N \n",
            "2019-09-09 10:48:41.969213: I tensorflow/stream_executor/cuda/cuda_gpu_executor.cc:1006] successful NUMA node read from SysFS had negative value (-1), but there must be at least one NUMA node, so returning NUMA node zero\n",
            "2019-09-09 10:48:41.969944: I tensorflow/stream_executor/cuda/cuda_gpu_executor.cc:1006] successful NUMA node read from SysFS had negative value (-1), but there must be at least one NUMA node, so returning NUMA node zero\n",
            "2019-09-09 10:48:41.970657: W tensorflow/core/common_runtime/gpu/gpu_bfc_allocator.cc:39] Overriding allow_growth setting because the TF_FORCE_GPU_ALLOW_GROWTH environment variable is set. Original config value was 0.\n",
            "2019-09-09 10:48:41.970706: I tensorflow/core/common_runtime/gpu/gpu_device.cc:1304] Created TensorFlow device (/job:localhost/replica:0/task:0/device:GPU:0 with 10805 MB memory) -> physical GPU (device: 0, name: Tesla K80, pci bus id: 0000:00:04.0, compute capability: 3.7)\n",
            "Done.\n",
            "Epoch 1/10\n",
            "2019-09-09 10:48:44.632833: I tensorflow/stream_executor/platform/default/dso_loader.cc:44] Successfully opened dynamic library libcudnn.so.7\n",
            "2019-09-09 10:48:45.487591: I tensorflow/stream_executor/platform/default/dso_loader.cc:44] Successfully opened dynamic library libcublas.so.10.0\n",
            "WARNING:tensorflow:From /usr/local/lib/python3.6/dist-packages/tensorflow_core/python/ops/math_grad.py:1394: where (from tensorflow.python.ops.array_ops) is deprecated and will be removed in a future version.\n",
            "Instructions for updating:\n",
            "Use tf.where in 2.0, which has the same broadcast rule as np.where\n",
            "704/704 [==============================] - 83s 118ms/step - loss: 1.4869 - categorical_accuracy: 0.3951 - val_loss: 2.1130 - val_categorical_accuracy: 0.3520\n",
            "Epoch 2/10\n",
            "704/704 [==============================] - 80s 114ms/step - loss: 1.0367 - categorical_accuracy: 0.6104 - val_loss: 1.2171 - val_categorical_accuracy: 0.5840\n",
            "Epoch 3/10\n",
            "704/704 [==============================] - 81s 114ms/step - loss: 0.8537 - categorical_accuracy: 0.6870 - val_loss: 1.0736 - val_categorical_accuracy: 0.6172\n",
            "Epoch 4/10\n",
            "704/704 [==============================] - 80s 113ms/step - loss: 0.7391 - categorical_accuracy: 0.7359 - val_loss: 1.0896 - val_categorical_accuracy: 0.6372\n",
            "Epoch 5/10\n",
            "704/704 [==============================] - 80s 114ms/step - loss: 0.6493 - categorical_accuracy: 0.7715 - val_loss: 0.8932 - val_categorical_accuracy: 0.6870\n",
            "Epoch 6/10\n",
            "704/704 [==============================] - 81s 114ms/step - loss: 0.5859 - categorical_accuracy: 0.7957 - val_loss: 0.8292 - val_categorical_accuracy: 0.7170\n",
            "Epoch 7/10\n",
            "704/704 [==============================] - 80s 113ms/step - loss: 0.5264 - categorical_accuracy: 0.8201 - val_loss: 0.5959 - val_categorical_accuracy: 0.7908\n",
            "Epoch 8/10\n",
            "704/704 [==============================] - 80s 114ms/step - loss: 0.4678 - categorical_accuracy: 0.8393 - val_loss: 0.8583 - val_categorical_accuracy: 0.7116\n",
            "Epoch 9/10\n",
            "704/704 [==============================] - 80s 114ms/step - loss: 0.4212 - categorical_accuracy: 0.8554 - val_loss: 0.5636 - val_categorical_accuracy: 0.7908\n",
            "Epoch 10/10\n",
            "704/704 [==============================] - 80s 114ms/step - loss: 0.3657 - categorical_accuracy: 0.8761 - val_loss: 0.4260 - val_categorical_accuracy: 0.8456\n"
          ],
          "name": "stdout"
        }
      ]
    },
    {
      "cell_type": "code",
      "metadata": {
        "id": "-BUCytKUWEMG",
        "colab_type": "code",
        "outputId": "9edf8108-9381-4e7b-f577-bdc212b78579",
        "colab": {
          "base_uri": "https://localhost:8080/",
          "height": 612
        }
      },
      "source": [
        "! python torch/train.py -d Cifar -dd cifar-10 -e 10"
      ],
      "execution_count": 12,
      "outputs": [
        {
          "output_type": "stream",
          "text": [
            "dataset: Cifar\n",
            "dataset_dir: cifar-10\n",
            "epochs: 10\n",
            "batch_size: 64\n",
            "validation_split: 0.1\n",
            "resize_shape: [32, 32]\n",
            "crop_shape: None\n",
            "rotate: False\n",
            "flip_left_right: False\n",
            "flip_up_down: False\n",
            "filters: 64\n",
            "learning_rate: 0.001\n",
            "Building a dataset pipeline ...\n",
            "Found 50000 images.\n",
            "Done.\n",
            "1 epoch: [701/704, loss:1.1743308305740356, accuracy:0.59375, step_time:0.03242802619934082]\n",
            "Validation score: loss: 2.026881104783167, accuracy: 0.3981408227848101.\n",
            "2 epoch: [701/704, loss:0.9372830986976624, accuracy:0.640625, step_time:0.0318140983581543]\n",
            "Validation score: loss: 1.2778455841390393, accuracy: 0.5591376582278481.\n",
            "3 epoch: [701/704, loss:0.8531656861305237, accuracy:0.703125, step_time:0.027617454528808594]\n",
            "Validation score: loss: 1.1842010405999195, accuracy: 0.6006724683544303.\n",
            "4 epoch: [701/704, loss:0.823340117931366, accuracy:0.71875, step_time:0.028853178024291992]\n",
            "Validation score: loss: 0.9454607541048075, accuracy: 0.681368670886076.\n",
            "5 epoch: [701/704, loss:0.5161786079406738, accuracy:0.78125, step_time:0.029400348663330078]\n",
            "Validation score: loss: 0.9315911418274988, accuracy: 0.6801819620253164.\n",
            "6 epoch: [701/704, loss:0.5657028555870056, accuracy:0.796875, step_time:0.029901504516601562]\n",
            "Validation score: loss: 0.7220371508900123, accuracy: 0.7519778481012658.\n",
            "7 epoch: [701/704, loss:0.2976803481578827, accuracy:0.90625, step_time:0.029721736907958984]\n",
            "Validation score: loss: 0.8217487508737589, accuracy: 0.7284414556962026.\n",
            "8 epoch: [701/704, loss:0.4412083029747009, accuracy:0.890625, step_time:0.0316309928894043]\n",
            "Validation score: loss: 0.9940077888814709, accuracy: 0.6892800632911392.\n",
            "9 epoch: [701/704, loss:0.4397116005420685, accuracy:0.859375, step_time:0.03008294105529785]\n",
            "Validation score: loss: 0.7194842262358605, accuracy: 0.7581091772151899.\n",
            "10 epoch: [701/704, loss:0.34506070613861084, accuracy:0.875, step_time:0.029916763305664062]\n",
            "Validation score: loss: 0.744713103469414, accuracy: 0.7652294303797469.\n"
          ],
          "name": "stdout"
        }
      ]
    },
    {
      "cell_type": "code",
      "metadata": {
        "id": "PCmUFqUzWMUf",
        "colab_type": "code",
        "colab": {}
      },
      "source": [
        ""
      ],
      "execution_count": 0,
      "outputs": []
    }
  ]
}